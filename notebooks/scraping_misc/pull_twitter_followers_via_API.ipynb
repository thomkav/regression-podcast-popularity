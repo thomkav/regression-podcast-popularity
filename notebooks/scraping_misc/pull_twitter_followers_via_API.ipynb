{
 "cells": [
  {
   "cell_type": "markdown",
   "metadata": {
    "toc": true
   },
   "source": [
    "<h1>Table of Contents<span class=\"tocSkip\"></span></h1>\n",
    "<div class=\"toc\"><ul class=\"toc-item\"><li><span><a href=\"#Gather-Follower-&amp;-Statuses-Counts-for-Podcasts-with-Twitter-Accounts\" data-toc-modified-id=\"Gather-Follower-&amp;-Statuses-Counts-for-Podcasts-with-Twitter-Accounts-1\">Gather Follower &amp; Statuses Counts for Podcasts with Twitter Accounts</a></span><ul class=\"toc-item\"><li><span><a href=\"#Goal-is-to-use-these-to-enrich-our-understanding-of-podcast-social-activity.\" data-toc-modified-id=\"Goal-is-to-use-these-to-enrich-our-understanding-of-podcast-social-activity.-1.1\">Goal is to use these to enrich our understanding of podcast social activity.</a></span></li></ul></li></ul></div>"
   ]
  },
  {
   "cell_type": "code",
   "execution_count": 3,
   "metadata": {
    "ExecuteTime": {
     "end_time": "2019-10-08T18:12:22.732588Z",
     "start_time": "2019-10-08T18:12:22.728624Z"
    }
   },
   "outputs": [],
   "source": [
    "import pickle\n",
    "\n",
    "import features\n",
    "\n",
    "import time\n",
    "import re\n",
    "\n",
    "import twitter\n",
    "api = twitter.Api(consumer_key='')"
   ]
  },
  {
   "cell_type": "code",
   "execution_count": 4,
   "metadata": {
    "ExecuteTime": {
     "end_time": "2019-10-08T18:12:23.858632Z",
     "start_time": "2019-10-08T18:12:23.367794Z"
    },
    "scrolled": false
   },
   "outputs": [
    {
     "name": "stdout",
     "output_type": "stream",
     "text": [
      "{\"created_at\": \"Mon Aug 26 16:59:13 +0000 2019\", \"default_profile\": true, \"description\": \"data scientist | meditator | Coloradan in BK/NYC\", \"favourites_count\": 1, \"followers_count\": 4, \"friends_count\": 20, \"id\": 1166032070667202565, \"id_str\": \"1166032070667202565\", \"name\": \"Thomas Kavanagh\", \"profile_background_color\": \"F5F8FA\", \"profile_image_url\": \"http://pbs.twimg.com/profile_images/1166032951932403714/lkQcnMwS_normal.jpg\", \"profile_image_url_https\": \"https://pbs.twimg.com/profile_images/1166032951932403714/lkQcnMwS_normal.jpg\", \"profile_link_color\": \"1DA1F2\", \"profile_sidebar_border_color\": \"C0DEED\", \"profile_sidebar_fill_color\": \"DDEEF6\", \"profile_text_color\": \"333333\", \"profile_use_background_image\": true, \"screen_name\": \"ThomasK26635081\"}\n"
     ]
    }
   ],
   "source": [
    "print(api.VerifyCredentials())"
   ]
  },
  {
   "cell_type": "markdown",
   "metadata": {},
   "source": [
    "## Gather Follower & Statuses Counts for Podcasts with Twitter Accounts\n",
    "\n",
    "### Goal is to use these to enrich our understanding of podcast social activity.\n",
    "\n",
    "Tutorial found here:\n",
    "\n",
    "https://www.alexkras.com/how-to-get-user-feed-with-twitter-api-and-python/"
   ]
  },
  {
   "cell_type": "markdown",
   "metadata": {},
   "source": [
    "We will unload (any) version of the sanitized dataframe, in order to gather a list of channels in order to create a dictionary."
   ]
  },
  {
   "cell_type": "code",
   "execution_count": 6,
   "metadata": {
    "ExecuteTime": {
     "end_time": "2019-10-08T19:05:23.987397Z",
     "start_time": "2019-10-08T19:05:23.650200Z"
    }
   },
   "outputs": [],
   "source": [
    "df_version = 'merged_10-08_13-54.pickle'\n",
    "import_path = '../scraped/merged/' + df_version\n",
    "with open(import_path, 'rb') as file:\n",
    "    raw_df = pickle.load(file)\n",
    "\n",
    "raw_df['twitter'] = raw_df['ch_feed-socials'].apply(lambda row: features.has_domain(row, 'twitter'))"
   ]
  },
  {
   "cell_type": "code",
   "execution_count": 7,
   "metadata": {
    "ExecuteTime": {
     "end_time": "2019-10-08T19:05:24.545447Z",
     "start_time": "2019-10-08T19:05:24.542403Z"
    }
   },
   "outputs": [],
   "source": [
    "t_cols = ['title','chan_url','ch_feed-socials','twitter']"
   ]
  },
  {
   "cell_type": "code",
   "execution_count": 8,
   "metadata": {
    "ExecuteTime": {
     "end_time": "2019-10-08T19:05:25.804338Z",
     "start_time": "2019-10-08T19:05:25.775957Z"
    }
   },
   "outputs": [
    {
     "data": {
      "text/html": [
       "<div>\n",
       "<style scoped>\n",
       "    .dataframe tbody tr th:only-of-type {\n",
       "        vertical-align: middle;\n",
       "    }\n",
       "\n",
       "    .dataframe tbody tr th {\n",
       "        vertical-align: top;\n",
       "    }\n",
       "\n",
       "    .dataframe thead th {\n",
       "        text-align: right;\n",
       "    }\n",
       "</style>\n",
       "<table border=\"1\" class=\"dataframe\">\n",
       "  <thead>\n",
       "    <tr style=\"text-align: right;\">\n",
       "      <th></th>\n",
       "      <th>title</th>\n",
       "      <th>chan_url</th>\n",
       "      <th>ch_feed-socials</th>\n",
       "      <th>twitter</th>\n",
       "    </tr>\n",
       "  </thead>\n",
       "  <tbody>\n",
       "    <tr>\n",
       "      <td>13</td>\n",
       "      <td>Asian, Not Asian</td>\n",
       "      <td>https://castbox.fm/channel/Asian%2C-Not-Asian-...</td>\n",
       "      <td>[https://art19.com/shows/asian-not-asian]</td>\n",
       "      <td>0</td>\n",
       "    </tr>\n",
       "    <tr>\n",
       "      <td>156</td>\n",
       "      <td>Psychology of Eating</td>\n",
       "      <td>https://castbox.fm/channel/Psychology-of-Eatin...</td>\n",
       "      <td>[https://twitter.com/Psych_of_Eating, http://w...</td>\n",
       "      <td>1</td>\n",
       "    </tr>\n",
       "    <tr>\n",
       "      <td>25</td>\n",
       "      <td>Atomic Moms</td>\n",
       "      <td>https://castbox.fm/channel/Atomic-Moms-id125492</td>\n",
       "      <td>[https://art19.com/shows/atomic-moms]</td>\n",
       "      <td>0</td>\n",
       "    </tr>\n",
       "  </tbody>\n",
       "</table>\n",
       "</div>"
      ],
      "text/plain": [
       "                    title                                           chan_url  \\\n",
       "13       Asian, Not Asian  https://castbox.fm/channel/Asian%2C-Not-Asian-...   \n",
       "156  Psychology of Eating  https://castbox.fm/channel/Psychology-of-Eatin...   \n",
       "25            Atomic Moms    https://castbox.fm/channel/Atomic-Moms-id125492   \n",
       "\n",
       "                                       ch_feed-socials  twitter  \n",
       "13           [https://art19.com/shows/asian-not-asian]        0  \n",
       "156  [https://twitter.com/Psych_of_Eating, http://w...        1  \n",
       "25               [https://art19.com/shows/atomic-moms]        0  "
      ]
     },
     "execution_count": 8,
     "metadata": {},
     "output_type": "execute_result"
    }
   ],
   "source": [
    "raw_df.sample(3)[t_cols]"
   ]
  },
  {
   "cell_type": "code",
   "execution_count": 9,
   "metadata": {
    "ExecuteTime": {
     "end_time": "2019-10-08T19:05:44.075008Z",
     "start_time": "2019-10-08T19:05:44.062473Z"
    },
    "scrolled": false
   },
   "outputs": [
    {
     "data": {
      "text/html": [
       "<div>\n",
       "<style scoped>\n",
       "    .dataframe tbody tr th:only-of-type {\n",
       "        vertical-align: middle;\n",
       "    }\n",
       "\n",
       "    .dataframe tbody tr th {\n",
       "        vertical-align: top;\n",
       "    }\n",
       "\n",
       "    .dataframe thead th {\n",
       "        text-align: right;\n",
       "    }\n",
       "</style>\n",
       "<table border=\"1\" class=\"dataframe\">\n",
       "  <thead>\n",
       "    <tr style=\"text-align: right;\">\n",
       "      <th></th>\n",
       "      <th>title</th>\n",
       "      <th>chan_url</th>\n",
       "      <th>ch_feed-socials</th>\n",
       "      <th>twitter</th>\n",
       "    </tr>\n",
       "  </thead>\n",
       "  <tbody>\n",
       "    <tr>\n",
       "      <td>183</td>\n",
       "      <td>The Brutal Truth About Sales &amp; Selling - B2B S...</td>\n",
       "      <td>https://castbox.fm/channel/The-Brutal-Truth-Ab...</td>\n",
       "      <td>[https://twitter.com/BriangBurns, https://www....</td>\n",
       "      <td>1</td>\n",
       "    </tr>\n",
       "    <tr>\n",
       "      <td>118</td>\n",
       "      <td>The Robin Sharma Mastery Sessions</td>\n",
       "      <td>https://castbox.fm/channel/The-Robin-Sharma-Ma...</td>\n",
       "      <td>[https://twitter.com/RobinSharma, https://www....</td>\n",
       "      <td>1</td>\n",
       "    </tr>\n",
       "    <tr>\n",
       "      <td>26</td>\n",
       "      <td>Focus on the Family Parenting Podcast</td>\n",
       "      <td>https://castbox.fm/channel/Focus-on-the-Family...</td>\n",
       "      <td>[https://twitter.com/FocusFamily, https://www....</td>\n",
       "      <td>1</td>\n",
       "    </tr>\n",
       "  </tbody>\n",
       "</table>\n",
       "</div>"
      ],
      "text/plain": [
       "                                                 title  \\\n",
       "183  The Brutal Truth About Sales & Selling - B2B S...   \n",
       "118                  The Robin Sharma Mastery Sessions   \n",
       "26               Focus on the Family Parenting Podcast   \n",
       "\n",
       "                                              chan_url  \\\n",
       "183  https://castbox.fm/channel/The-Brutal-Truth-Ab...   \n",
       "118  https://castbox.fm/channel/The-Robin-Sharma-Ma...   \n",
       "26   https://castbox.fm/channel/Focus-on-the-Family...   \n",
       "\n",
       "                                       ch_feed-socials  twitter  \n",
       "183  [https://twitter.com/BriangBurns, https://www....        1  \n",
       "118  [https://twitter.com/RobinSharma, https://www....        1  \n",
       "26   [https://twitter.com/FocusFamily, https://www....        1  "
      ]
     },
     "execution_count": 9,
     "metadata": {},
     "output_type": "execute_result"
    }
   ],
   "source": [
    "raw_df[raw_df.twitter == 1].sample(3)[t_cols]"
   ]
  },
  {
   "cell_type": "code",
   "execution_count": 10,
   "metadata": {
    "ExecuteTime": {
     "end_time": "2019-10-08T19:05:45.226380Z",
     "start_time": "2019-10-08T19:05:45.212766Z"
    },
    "scrolled": false
   },
   "outputs": [],
   "source": [
    "twitter_chans = raw_df[raw_df.twitter == 1][['title','chan_url','ch_feed-socials']].to_dict(orient='records')"
   ]
  },
  {
   "cell_type": "code",
   "execution_count": 11,
   "metadata": {
    "ExecuteTime": {
     "end_time": "2019-10-08T19:05:50.713299Z",
     "start_time": "2019-10-08T19:05:50.709406Z"
    }
   },
   "outputs": [],
   "source": [
    "def extract_twitter_screen_name(ch_feed_socials):\n",
    "\n",
    "    if len(ch_feed_socials) == 0:\n",
    "        return ''\n",
    "    else:\n",
    "        pattern = '.+(twitter.com/)(?P<screen_name>.+)'\n",
    "        for url in ch_feed_socials:\n",
    "#             print(url)\n",
    "            try:\n",
    "                screen_name = re.match(pattern, url).group('screen_name')\n",
    "                if screen_name:\n",
    "                    return screen_name\n",
    "            except:\n",
    "                oass\n",
    "        return ''"
   ]
  },
  {
   "cell_type": "code",
   "execution_count": 12,
   "metadata": {
    "ExecuteTime": {
     "end_time": "2019-10-08T19:05:51.431623Z",
     "start_time": "2019-10-08T19:05:51.424819Z"
    }
   },
   "outputs": [],
   "source": [
    "with open('../social_metrics/twitter/channel_stats_by_name_oct7_9p.pickle', 'rb') as file:\n",
    "    twitter_dict = pickle.load(file)"
   ]
  },
  {
   "cell_type": "code",
   "execution_count": 13,
   "metadata": {
    "ExecuteTime": {
     "end_time": "2019-10-08T19:05:53.532831Z",
     "start_time": "2019-10-08T19:05:53.529121Z"
    }
   },
   "outputs": [],
   "source": [
    "for chan in twitter_dict.keys():\n",
    "    if twitter_dict[chan]['screen_name']:\n",
    "        continue\n",
    "    else:\n",
    "        twitter_dict[chan]['screen_name'] = extract_twitter_screen_name(twitter_dict[chan]['ch_feed-socials'])"
   ]
  },
  {
   "cell_type": "code",
   "execution_count": 14,
   "metadata": {
    "ExecuteTime": {
     "end_time": "2019-10-08T19:05:53.935277Z",
     "start_time": "2019-10-08T19:05:53.931649Z"
    },
    "scrolled": true
   },
   "outputs": [
    {
     "data": {
      "text/plain": [
       "1054"
      ]
     },
     "execution_count": 14,
     "metadata": {},
     "output_type": "execute_result"
    }
   ],
   "source": [
    "len(twitter_dict)"
   ]
  },
  {
   "cell_type": "markdown",
   "metadata": {},
   "source": [
    "Let's create a set of unique twitter handles, as its own dataframe, which we will use as a reference."
   ]
  },
  {
   "cell_type": "code",
   "execution_count": 15,
   "metadata": {
    "ExecuteTime": {
     "end_time": "2019-10-08T19:05:56.770656Z",
     "start_time": "2019-10-08T19:05:56.768652Z"
    }
   },
   "outputs": [],
   "source": [
    "# with open('../social_metrics/twitter/channel_stats_by_name.pickle', 'rb') as file:\n",
    "#     twitter_follower_dict = pickle.load(file)"
   ]
  },
  {
   "cell_type": "code",
   "execution_count": 16,
   "metadata": {
    "ExecuteTime": {
     "end_time": "2019-10-08T19:06:07.362633Z",
     "start_time": "2019-10-08T19:06:07.358838Z"
    }
   },
   "outputs": [],
   "source": [
    "def add_channels_to_twitter_dictionary(channnels, output_dict):\n",
    "    for chan in channnels:\n",
    "        key = chan['title']\n",
    "        try:\n",
    "            output_dict[key].update(chan)\n",
    "        except:\n",
    "            output_dict[key] = chan\n",
    "    return True"
   ]
  },
  {
   "cell_type": "code",
   "execution_count": 18,
   "metadata": {
    "ExecuteTime": {
     "end_time": "2019-10-08T19:06:11.755288Z",
     "start_time": "2019-10-08T19:06:11.749726Z"
    }
   },
   "outputs": [
    {
     "data": {
      "text/plain": [
       "True"
      ]
     },
     "execution_count": 18,
     "metadata": {},
     "output_type": "execute_result"
    }
   ],
   "source": [
    "add_channels_to_twitter_dictionary(twitter_chans, twitter_dict)"
   ]
  },
  {
   "cell_type": "code",
   "execution_count": 19,
   "metadata": {
    "ExecuteTime": {
     "end_time": "2019-10-08T19:06:26.256596Z",
     "start_time": "2019-10-08T19:06:26.252818Z"
    }
   },
   "outputs": [
    {
     "data": {
      "text/plain": [
       "1612"
      ]
     },
     "execution_count": 19,
     "metadata": {},
     "output_type": "execute_result"
    }
   ],
   "source": [
    "len(twitter_chans)"
   ]
  },
  {
   "cell_type": "code",
   "execution_count": 20,
   "metadata": {
    "ExecuteTime": {
     "end_time": "2019-10-08T19:06:34.196281Z",
     "start_time": "2019-10-08T19:06:34.190612Z"
    }
   },
   "outputs": [
    {
     "data": {
      "text/plain": [
       "[('Small Town Horror',\n",
       "  {'title': 'Small Town Horror',\n",
       "   'chan_url': 'https://castbox.fm/channel/Small-Town-Horror-id1266396',\n",
       "   'ch_feed-socials': ['https://twitter.com/SmallTwnHorror',\n",
       "    'https://www.facebook.com/smalltownhorrorpodcast',\n",
       "    'https://play.acast.com/s/smalltownhorror'],\n",
       "   'screen_name': 'SmallTwnHorror',\n",
       "   'follower_count': 0}),\n",
       " ('I Should Be Writing',\n",
       "  {'title': 'I Should Be Writing',\n",
       "   'chan_url': 'https://castbox.fm/channel/I-Should-Be-Writing-id210',\n",
       "   'ch_feed-socials': ['https://twitter.com/mightymur',\n",
       "    'http://murverse.com/tag/isbw/'],\n",
       "   'screen_name': 'mightymur',\n",
       "   'follower_count': 14970}),\n",
       " ('Book Riot - The Podcast',\n",
       "  {'title': 'Book Riot - The Podcast',\n",
       "   'chan_url': 'https://castbox.fm/channel/Book-Riot-The-Podcast-id1207097',\n",
       "   'ch_feed-socials': ['https://twitter.com/BookRiot',\n",
       "    'https://bookriot.com/listen/shows/thepodcast/'],\n",
       "   'screen_name': 'BookRiot',\n",
       "   'follower_count': 214860}),\n",
       " ('The Disney Story Origins Podcast',\n",
       "  {'title': 'The Disney Story Origins Podcast',\n",
       "   'chan_url': 'https://castbox.fm/channel/The-Disney-Story-Origins-Podcast-id7837',\n",
       "   'ch_feed-socials': ['https://twitter.com/pauljhaleauthor',\n",
       "    'http://www.disneystoryoriginspodcast.com/category/podcast/'],\n",
       "   'screen_name': 'pauljhaleauthor',\n",
       "   'follower_count': 230}),\n",
       " ('Saga',\n",
       "  {'title': 'Saga',\n",
       "   'chan_url': 'https://castbox.fm/channel/Saga-id1415827',\n",
       "   'ch_feed-socials': ['https://twitter.com/PodcastSaga',\n",
       "    'https://www.instagram.com/saga.podcast',\n",
       "    'https://sagapodcast.ir'],\n",
       "   'screen_name': 'PodcastSaga',\n",
       "   'follower_count': 1715})]"
      ]
     },
     "execution_count": 20,
     "metadata": {},
     "output_type": "execute_result"
    }
   ],
   "source": [
    "[(k, twitter_dict[k]) for k in list(twitter_dict.keys())[:5]]"
   ]
  },
  {
   "cell_type": "code",
   "execution_count": 21,
   "metadata": {
    "ExecuteTime": {
     "end_time": "2019-10-08T19:06:37.428125Z",
     "start_time": "2019-10-08T19:06:37.423704Z"
    }
   },
   "outputs": [],
   "source": [
    "def update_screen_names(t_dict):\n",
    "    \n",
    "    chan_list = t_dict.keys()\n",
    "    \n",
    "    for chan in chan_list:\n",
    "        if 'screen_name' in t_dict[chan].keys():\n",
    "            pass\n",
    "        else:\n",
    "            socials = t_dict[chan]['ch_feed-socials']\n",
    "            t_dict[chan]['screen_name'] = extract_twitter_screen_name(socials)\n",
    "    \n",
    "    return True"
   ]
  },
  {
   "cell_type": "code",
   "execution_count": 22,
   "metadata": {
    "ExecuteTime": {
     "end_time": "2019-10-08T19:06:39.059588Z",
     "start_time": "2019-10-08T19:06:39.053938Z"
    },
    "scrolled": true
   },
   "outputs": [
    {
     "data": {
      "text/plain": [
       "True"
      ]
     },
     "execution_count": 22,
     "metadata": {},
     "output_type": "execute_result"
    }
   ],
   "source": [
    "update_screen_names(twitter_dict)"
   ]
  },
  {
   "cell_type": "code",
   "execution_count": 23,
   "metadata": {
    "ExecuteTime": {
     "end_time": "2019-10-08T19:06:49.667708Z",
     "start_time": "2019-10-08T19:06:49.661742Z"
    }
   },
   "outputs": [
    {
     "data": {
      "text/plain": [
       "[('Ram Dass Here And Now',\n",
       "  {'title': 'Ram Dass Here And Now',\n",
       "   'chan_url': 'https://castbox.fm/channel/Ram-Dass-Here-And-Now-id463741',\n",
       "   'ch_feed-socials': ['https://twitter.com/BabaRamDass',\n",
       "    'https://www.facebook.com/babaramdass',\n",
       "    'https://art19.com/shows/ram-dass-here-and-now'],\n",
       "   'screen_name': 'BabaRamDass'}),\n",
       " ('Gita For Daily Living',\n",
       "  {'title': 'Gita For Daily Living',\n",
       "   'chan_url': 'https://castbox.fm/channel/Gita-For-Daily-Living-id1329884',\n",
       "   'ch_feed-socials': ['https://twitter.com/NeilRBhatt',\n",
       "    'https://www.facebook.com/Gitafordailyliving',\n",
       "    'https://neilbhatt.podbean.com'],\n",
       "   'screen_name': 'NeilRBhatt'}),\n",
       " ('Bhagavad Gita Hindi',\n",
       "  {'title': 'Bhagavad Gita Hindi',\n",
       "   'chan_url': 'https://castbox.fm/channel/Bhagavad-Gita-Hindi-id464044',\n",
       "   'ch_feed-socials': ['https://twitter.com/YatharthGeeta52',\n",
       "    'https://www.facebook.com/bhagavadgitaclass',\n",
       "    'https://audioboom.com/channel/bhagavad-gita-hindi'],\n",
       "   'screen_name': 'YatharthGeeta52'})]"
      ]
     },
     "execution_count": 23,
     "metadata": {},
     "output_type": "execute_result"
    }
   ],
   "source": [
    "[(k, twitter_dict[k]) for k in list(twitter_dict.keys())[-3:]]"
   ]
  },
  {
   "cell_type": "code",
   "execution_count": 24,
   "metadata": {
    "ExecuteTime": {
     "end_time": "2019-10-08T19:06:55.651664Z",
     "start_time": "2019-10-08T19:06:55.645107Z"
    }
   },
   "outputs": [],
   "source": [
    "def get_follower_counts(t_dict, api_calls=1):\n",
    "    \n",
    "    chan_list = t_dict.keys()\n",
    "    \n",
    "    for chan in chan_list:\n",
    "        \n",
    "#         time.sleep(3)\n",
    "\n",
    "        if api_calls < 1:\n",
    "            return 'local API limit reached'\n",
    "        if 'screen_name' in t_dict[chan].keys():\n",
    "            sn = t_dict[chan]['screen_name']\n",
    "#             print(f'about to scan {chan} with sn {sn}')\n",
    "            if 'follower_count' in t_dict[chan].keys():\n",
    "#                 print('already calculated follower count for ',chan)\n",
    "                continue\n",
    "            else:\n",
    "                try:\n",
    "                    user = api.GetUser(screen_name=sn)\n",
    "                    follower_count = user.followers_count\n",
    "\n",
    "                    print(f'user {sn} has {follower_count} followers')\n",
    "                    t_dict[chan]['follower_count'] = follower_count\n",
    "\n",
    "                    api_calls = api_calls - 1\n",
    "\n",
    "                except:\n",
    "                    t_dict[chan]['follower_count'] = 0\n",
    "                    print(f'failed to pull follower count for {chan}')\n",
    "                    continue\n",
    "        else:\n",
    "            continue"
   ]
  },
  {
   "cell_type": "code",
   "execution_count": 25,
   "metadata": {
    "ExecuteTime": {
     "end_time": "2019-10-08T19:08:12.002739Z",
     "start_time": "2019-10-08T19:06:59.605462Z"
    },
    "scrolled": true
   },
   "outputs": [
    {
     "name": "stdout",
     "output_type": "stream",
     "text": [
      "user TOSPOfficial has 14 followers\n",
      "user geekgamertv has 4237 followers\n",
      "user PGoRadio has 273 followers\n",
      "user GeeklyInc has 7489 followers\n",
      "user DMs_Block has 12616 followers\n",
      "user AdvInQuesting has 919 followers\n",
      "user TheCritshow has 554 followers\n",
      "user theindep has 2210 followers\n",
      "user GuardiansofD has 45868 followers\n",
      "user BloodonThames has 839 followers\n",
      "user soundsofcrowes has 363 followers\n",
      "user JoelOsteen has 9094213 followers\n",
      "failed to pull follower count for Exploring My Strange Bible\n",
      "user NancyDeMoss has 31908 followers\n",
      "user lifechurch has 59828 followers\n",
      "user frbekomson has 3742 followers\n",
      "user AbidingPodcast has 1278 followers\n",
      "user FierceMarriage has 18425 followers\n",
      "user freshlife has 9291 followers\n",
      "user tgc has 265490 followers\n",
      "failed to pull follower count for Comments by Celebs\n",
      "failed to pull follower count for The Bellas Podcast\n",
      "user TalkIsJericho has 61942 followers\n",
      "user GrossesTetesRTL has 56239 followers\n",
      "user BGNPodcast has 6572 followers\n",
      "failed to pull follower count for Laurent Gerra\n",
      "user voxdotcom has 869566 followers\n",
      "user didyouredditpod has 9 followers\n",
      "user binge_watchers has 3748 followers\n",
      "user LaughLifeAdam has 9925 followers\n",
      "failed to pull follower count for Dorkside News\n",
      "failed to pull follower count for The Doctor's Farmacy with Mark Hyman, M.D.\n",
      "user 2DocsTalk has 4 followers\n",
      "user TimKennedyMMA has 234605 followers\n",
      "user FOAMpodcast has 10395 followers\n",
      "user PedsCases has 1315 followers\n",
      "user Julie_Foucher has 104612 followers\n",
      "user surgery_101 has 3427 followers\n",
      "user nrsngcom has 6314 followers\n",
      "user EMtogether has 5202 followers\n",
      "user BBCGQT has 27497 followers\n",
      "user MacmillanUSA has 17508 followers\n",
      "user empressofdirt has 3597 followers\n",
      "user CaitandKara has 556 followers\n",
      "failed to pull follower count for Dream Big Podcast\n",
      "user funkids has 7709 followers\n",
      "user StartHereABC has 2143 followers\n",
      "user EconomistRadio has 42222 followers\n",
      "user SlateGist has 11042 followers\n",
      "user TheTakeaway has 33653 followers\n",
      "user TIME has 16314437 followers\n",
      "user Europe1 has 1445976 followers\n",
      "user time has 16314437 followers\n",
      "user skynews has 5179440 followers\n",
      "user jornaloglobo has 5987852 followers\n",
      "user today_explained has 15199 followers\n",
      "user marklevinshow has 1778773 followers\n",
      "user @22HoursPod has 774 followers\n",
      "user bbcnews has 10228340 followers\n",
      "user NPRNewsNow has 1178 followers\n",
      "user michaeljknowles has 195902 followers\n",
      "user washingtonpost has 14246723 followers\n",
      "user Morning_Joe has 615903 followers\n",
      "user andrewklavan has 151679 followers\n",
      "user PTI has 1213396 followers\n",
      "user NBCNewsTHINK has 15843 followers\n",
      "user glennbeck has 1237606 followers\n",
      "user RealTimers has 164801 followers\n",
      "user allinwithchris has 311134 followers\n",
      "user jonlovett has 695745 followers\n",
      "user crimetown has 9462 followers\n",
      "user democracynow has 698223 followers\n",
      "user benhiggi has 416856 followers\n",
      "user deadlinewh has 170931 followers\n",
      "user CHAPOTRAPHOUSE has 110284 followers\n",
      "user TheLastWord has 1029693 followers\n",
      "user katiecouric has 1743002 followers\n",
      "user ProPublica has 815667 followers\n",
      "user scrowder has 928095 followers\n",
      "user LRCkcrw has 6486 followers\n",
      "user ASavageNation has 194451 followers\n",
      "user theskimm has 248828 followers\n",
      "user seanhannity has 4283432 followers\n",
      "user AC360 has 1327582 followers\n",
      "user nprcodeswitch has 126144 followers\n",
      "user EconomistRadio has 42222 followers\n",
      "user alfranken has 724578 followers\n",
      "user lawfarepodcast has 5921 followers\n",
      "user australian has 686761 followers\n",
      "user Roughly has 3525 followers\n",
      "user nbcnightlynews has 987191 followers\n",
      "user Undisclosedpod has 73605 followers\n",
      "user BWilliams has 231255 followers\n",
      "user BillOReilly has 3101087 followers\n",
      "user voxdotcom has 869566 followers\n",
      "user leadsingersyn has 4873 followers\n",
      "user sodajerker has 6177 followers\n",
      "user ELovesGuitar has 222 followers\n",
      "user theTapesArchive has 137 followers\n",
      "user nosimpleroad has 359 followers\n",
      "user FrenchWithAlexa has 3578 followers\n",
      "user spanishobsessed has 321 followers\n",
      "user KoreanClass101 has 29029 followers\n",
      "user Culips has 4367 followers\n",
      "user TopLevelPodcast has 2109 followers\n",
      "user dndndpod has 2719 followers\n",
      "user TheHistoryOfFun has 1387 followers\n",
      "user GardenForkTV has 5326 followers\n",
      "user DjChiamaItalia has 619190 followers\n",
      "user AskWomenPodcast has 3066 followers\n",
      "user TrippAdvice has 4981 followers\n",
      "user marthadebayle has 2437492 followers\n",
      "user theheartradio has 9550 followers\n",
      "user JayGaddis has 3508 followers\n",
      "user TristanTaormino has 52084 followers\n",
      "user SexGetsReal has 3011 followers\n",
      "user ThisLifePodcast has 2665 followers\n",
      "user innerhoeuprisin has 2811 followers\n",
      "user SwingsetFM has 5639 followers\n",
      "user varmintspodcast has 2150 followers\n",
      "user Ask_DogGuru has 206 followers\n",
      "user album_podcast has 3108 followers\n",
      "user alancross has 62272 followers\n",
      "failed to pull follower count for Rock N Roll Pantheon\n",
      "user amusicArash has 882 followers\n",
      "user rockcandypod has 1549 followers\n",
      "user washingtonpost has 14246723 followers\n",
      "user TrumpConLaw has 4255 followers\n",
      "user Radiolab has 275062 followers\n",
      "failed to pull follower count for Zero Blog Thirty\n",
      "user ChrisMasonBBC has 108511 followers\n",
      "user fieldcrafttweet has 1570 followers\n",
      "user UN_Radio has 71625 followers\n",
      "user Marketplace has 122607 followers\n",
      "user SOFREPRadio has 6887 followers\n",
      "user oyez has 9071 followers\n",
      "user SenSanders has 8683828 followers\n",
      "user CSIS has 290651 followers\n",
      "user BBC_Analysis has 7057 followers\n",
      "user joangarry has 4939 followers\n",
      "user IgRecon has 699 followers\n",
      "user HealthcareIssue has 654 followers\n",
      "user NSLpodcast has 5383 followers\n",
      "user PolicyCast has 1392 followers\n",
      "user allison_barrie has 44005 followers\n",
      "user InAppalachia has 6233 followers\n",
      "user learnoutloud has 2899 followers\n",
      "user FBI has 2569346 followers\n",
      "user IntersectionFM has 336 followers\n",
      "user USGAO has 46816 followers\n",
      "user SlateGabfest has 30846 followers\n",
      "user PoliceOne has 62232 followers\n",
      "user IntelUnclass has 361 followers\n",
      "user mass_podcast has 426 followers\n",
      "user prn_radio has 7617 followers\n",
      "user bbcworldservice has 378237 followers\n",
      "user CFR_org has 414074 followers\n",
      "user WorldBank has 3099464 followers\n",
      "user SpartanUpPod has 4490 followers\n",
      "user YogaDownload has 6050 followers\n",
      "user shape_scale has 13359 followers\n",
      "user SCResource has 13 followers\n",
      "failed to pull follower count for Legendary Life Podcast: Lose Weight, Fight Disease & Live A Longer, Healthier Life\n",
      "user mimibouchard has 15151 followers\n",
      "user fitwhat has 0 followers\n",
      "user DrRuscio has 2042 followers\n",
      "user mel_ambrosini has 9333 followers\n",
      "user katiedalebout has 3372 followers\n",
      "user AvivaRomm has 7095 followers\n",
      "user drchatterjeeuk has 36222 followers\n",
      "failed to pull follower count for The Mindful Kind\n",
      "user PeoplesPharmacy has 12773 followers\n",
      "user PaulaSweetUK has 366 followers\n",
      "user LearnTrueHealth has 2518 followers\n",
      "user livinlowcarbman has 43874 followers\n",
      "user hayhouse has 133034 followers\n",
      "user autoimmunepaleo has 4057 followers\n",
      "failed to pull follower count for That Sober Guy Podcast\n",
      "failed to pull follower count for Move Your DNA with Katy Bowman\n",
      "user livinlowcarbman has 43874 followers\n",
      "user kevinHMFB has 1912 followers\n",
      "user TheMarcyStop has 1165 followers\n",
      "user AlanKlima has 511 followers\n",
      "user CandiceND has 5384 followers\n",
      "user happinessspells has 105 followers\n",
      "user 40plusFitnessP has 2067 followers\n",
      "user fertilitypoddy has 2711 followers\n",
      "user LifeBySamWright has 100 followers\n",
      "user GolicAndWingo has 1590740 followers\n",
      "user BoomerandCarton has 18 followers\n",
      "user ConnorTapp247 has 1800 followers\n",
      "user Pack_Daddy has 1896 followers\n",
      "user ElLarguero has 206382 followers\n",
      "user OTLonESPN has 65617 followers\n",
      "user ralulla has 550 followers\n",
      "user MommyDrinksShow has 615 followers\n",
      "user simplefamilies has 670 followers\n",
      "user DrKathyKoch has 1328 followers\n",
      "user birthful has 407 followers\n",
      "user ShamelessMom has 133 followers\n",
      "user MightyMommy has 693 followers\n",
      "user caroltuttle has 5086 followers\n",
      "user zenparenting has 2085 followers\n",
      "user @integratedschls has 2074 followers\n",
      "user NewYorker has 8738968 followers\n",
      "user ezraklein has 2526660 followers\n",
      "user MeetThePress has 603676 followers\n",
      "user talkingfedspod has 7706 followers\n",
      "user thebeatwithari has 201048 followers\n",
      "user MeetThePress has 603676 followers\n",
      "user @MuellerSheWrote has 78290 followers\n",
      "user HardballChris has 920962 followers\n",
      "user realTrumpcast has 19890 followers\n",
      "user AmerConU has 59 followers\n",
      "user FDRLST has 197492 followers\n"
     ]
    },
    {
     "name": "stdout",
     "output_type": "stream",
     "text": [
      "user SamSeder has 120377 followers\n",
      "user dccommonsense has 113338 followers\n",
      "user amjoyshow has 457771 followers\n",
      "user intercepted has 17712 followers\n",
      "user BrianLehrer has 62026 followers\n",
      "user DLoesch has 1148999 followers\n",
      "user theintercept has 723372 followers\n",
      "user voxdotcom has 869566 followers\n",
      "user abcradio has 2 followers\n",
      "user ElectionPodcast has 389 followers\n",
      "user InTheThickShow has 6806 followers\n",
      "user jjvirgin has 22402 followers\n",
      "user EatThisNotThat has 633795 followers\n",
      "user FoodHeavenShow has 4240 followers\n",
      "user ATPScience1 has 669 followers\n",
      "user Healthy_Couples has 832 followers\n",
      "user TherapyChatPod has 1887 followers\n",
      "user EricTivers has 3917 followers\n",
      "user lavendaire has 11855 followers\n",
      "user Fearnecotton has 7100045 followers\n",
      "user Phil_Larson has 1808 followers\n",
      "user brookemcalary has 3361 followers\n",
      "user TheBubbleHour has 1427 followers\n",
      "user HappinesPodcast has 14504 followers\n",
      "user snoozecast has 28 followers\n",
      "user 21fivepodcast has 7 followers\n",
      "failed to pull follower count for Bedtime Stories Podcast Fairytales and Folk Tales from the Lilypad for kids\n",
      "user drfloyd has 382 followers\n",
      "user StoryCub has 2323 followers\n",
      "user Gaathastory has 3104 followers\n",
      "user leoncrawl has 17053 followers\n",
      "user lindsayagraham has 2388 followers\n",
      "user Throughline has 46 followers\n",
      "user bastardspod has 22440 followers\n",
      "user mikeduncan has 43006 followers\n",
      "user thememorypalace has 16867 followers\n",
      "user mikeduncan has 43006 followers\n",
      "user curiositiespod has 7031 followers\n",
      "failed to pull follower count for The Ballad of Billy Balls / The RFK Tapes\n",
      "user Thehistorychix has 8655 followers\n",
      "user ParcastNetwork has 8073 followers\n",
      "user maddow has 9710596 followers\n",
      "user RidiculousHSW has 2707 followers\n",
      "user WW2Podcaster has 2954 followers\n",
      "user BBCInOurTime has 33215 followers\n",
      "user clmazin has 185353 followers\n",
      "user HardcoreHistory has 239338 followers\n",
      "user ParcastNetwork has 8073 followers\n",
      "user bbcworldservice has 378235 followers\n",
      "user BritishPodcast has 13412 followers\n",
      "user TidesHistory has 2765 followers\n",
      "user presidential_wp has 4798 followers\n",
      "user historyengland has 4401 followers\n",
      "user BBCInOurTime has 33215 followers\n",
      "user historyextra has 323161 followers\n",
      "user BackStoryRadio has 12404 followers\n",
      "user englishhistpod has 6154 followers\n",
      "user tylermahancoe has 13842 followers\n",
      "failed to pull follower count for Most Notorious! A True Crime History Podcast\n",
      "user DBolelli has 57316 followers\n",
      "user people has 7568663 followers\n",
      "user lizcovart has 11520 followers\n",
      "user BoweryBoys has 13746 followers\n",
      "user ourfakehistory has 3477 followers\n",
      "user byzantiumcast has 7474 followers\n",
      "user ParcastNetwork has 8073 followers\n",
      "user AndrewJenks has 90698 followers\n",
      "user uncivilshow has 5846 followers\n",
      "user bbcworldservice has 378237 followers\n",
      "user heavensgateshow has 855 followers\n",
      "user the_wing has 35346 followers\n",
      "user washingtonpost has 14246723 followers\n",
      "user Navcast1 has 4224 followers\n",
      "user BBCInOurTime has 33215 followers\n",
      "user Slate has 1787262 followers\n",
      "user historycrusades has 2496 followers\n",
      "user BBCRadio4 has 485119 followers\n",
      "user 1001Podcast has 1069 followers\n",
      "user BBCRadio4 has 485119 followers\n",
      "user paragraphcast has 3432 followers\n",
      "user Alyson_Horrocks has 311 followers\n",
      "user tconspiracyguys has 12377 followers\n",
      "user Slate has 1787262 followers\n",
      "user ParcastNetwork has 8073 followers\n",
      "user strangematters_ has 462 followers\n",
      "user EgyptianPodcast has 3450 followers\n",
      "user INTLSpyCast has 3007 followers\n",
      "user surrealtalkshow has 1318 followers\n",
      "user HistoryHit has 74431 followers\n",
      "user HistoryGoesBump has 2657 followers\n",
      "user SpiritsPodcast has 8449 followers\n",
      "user bbcworldservice has 378237 followers\n",
      "user Slate has 1787262 followers\n",
      "user thocpodcast has 1636 followers\n",
      "user History_Pod has 7262 followers\n",
      "user JapanPod has 283 followers\n",
      "user _FutilityCloset has 3053 followers\n",
      "user BBCInOurTime has 33215 followers\n",
      "user LaszloCHP has 2892 followers\n",
      "user bbcworldservice has 378237 followers\n",
      "failed to pull follower count for Giants of History\n",
      "user JeffersonHour has 501 followers\n",
      "user HistoryEuropeKB has 650 followers\n",
      "user realDailyWire has 332846 followers\n",
      "user HotWorldpodcast has 295 followers\n",
      "user PodcastRussia has 188 followers\n",
      "user britannicapax has 1556 followers\n",
      "user bbcww1 has 23439 followers\n",
      "user histoindicast has 298 followers\n",
      "user 15MinuteHistory has 1442 followers\n",
      "user SlatePodcasts has 2659 followers\n",
      "user blubrry has 6038 followers\n",
      "user podgoats has 841 followers\n",
      "user BBCRadio4 has 485119 followers\n",
      "user samuraiarchives has 3305 followers\n",
      "user profcjdotorg has 2044 followers\n",
      "user BBCRadio4 has 485119 followers\n",
      "user VikingAgePod has 2102 followers\n",
      "user newhistorybooks has 9651 followers\n",
      "user germanypodcast has 1173 followers\n",
      "user t_tarikh has 1064 followers\n",
      "user hvostreads has 33 followers\n",
      "user ParcastNetwork has 8073 followers\n",
      "user BeHereNowNet has 7682 followers\n",
      "user noahrasheta has 2900 followers\n",
      "user thichnhathanh has 445035 followers\n",
      "user BuddhismGuide has 455 followers\n",
      "user DhammaTalks has 12767 followers\n",
      "user ZenCastFM has 11988 followers\n",
      "user oneminddharma has 56189 followers\n",
      "failed to pull follower count for Being Unlimited\n",
      "user BuddhistGeeks has 71835 followers\n",
      "user SecularBuddhist has 3600 followers\n",
      "user pomnyunsunim has 2326 followers\n",
      "user lisadalemiller has 149 followers\n",
      "user WisdomPubs has 18619 followers\n",
      "user againststream has 17430 followers\n",
      "user MercedesBenz has 3420746 followers\n",
      "user JimBeaver15 has 4872 followers\n",
      "user MarketFoolery has 12396 followers\n",
      "user TheEconomist has 24078065 followers\n",
      "user SeekingAlpha has 119550 followers\n",
      "user Slate has 1787262 followers\n",
      "user IQ2US has 22685 followers\n",
      "user ThomasEWoods has 71666 followers\n",
      "user laurashin has 115261 followers\n",
      "user financialtimes has 6357193 followers\n",
      "user CFR_org has 414074 followers\n",
      "user dearestscooter has 12365 followers\n",
      "user danbharris has 192347 followers\n",
      "user phitnphat has 1879 followers\n",
      "user RedesignYrMind has 964 followers\n",
      "user LewisHowes has 163476 followers\n",
      "failed to pull follower count for TEDTalks Health\n",
      "user peterattiamd has 93315 followers\n",
      "user laurynevarts has 26459 followers\n",
      "user sleep_triggers has 199 followers\n",
      "user fakedansavage has 355685 followers\n",
      "user bulletproofexec has 324959 followers\n",
      "user SexWithEmily has 156620 followers\n",
      "user TheMinimalists has 155560 followers\n",
      "user therapy4bgirls has 13878 followers\n",
      "user Mindpump has 5176 followers\n",
      "user trackstorelax has 512 followers\n",
      "user thecurbsiders has 16928 followers\n",
      "user Ericthomasbtc has 425033 followers\n",
      "user bengreenfield has 75003 followers\n",
      "user foundmyfitness has 267759 followers\n",
      "user drmarkhyman has 174777 followers\n",
      "user MeditationOasis has 4164 followers\n",
      "user brendonburchard has 83416 followers\n",
      "user OLDPodcast has 5201 followers\n",
      "user jordanleedooley has 7 followers\n",
      "user ShawnModel has 10400 followers\n",
      "user LoriHarder has 16263 followers\n",
      "user WellnessMama has 33562 followers\n",
      "user NutritionDiva has 16801 followers\n",
      "user idopodcast has 237 followers\n",
      "user chr1styharrison has 7643 followers\n",
      "user MedicalMedium has 122589 followers\n",
      "user SipandOm has 1247 followers\n",
      "user ChaleneJohnson has 102990 followers\n",
      "user AubreyMarcus has 96406 followers\n",
      "user BadGirlsBible has 2747 followers\n",
      "user DrDrewPodcast has 12195 followers\n",
      "user mindbodygreen has 307251 followers\n",
      "user NPRCodeSwitch has 126144 followers\n",
      "user AskLaurieWatson has 2868 followers\n",
      "user starlightlife has 11741 followers\n",
      "user drericbergdc has 18786 followers\n",
      "user quickdirtytips has 11931 followers\n",
      "user CrossFitNE has 3521 followers\n",
      "user be_healthful has 22093 followers\n",
      "failed to pull follower count for The Ultimate Health Podcast\n",
      "user dranthonygustin has 7094 followers\n",
      "user nutrition_facts has 104317 followers\n",
      "user JillianMichaels has 1718772 followers\n",
      "user ADDitudeMag has 37448 followers\n",
      "user emcrit has 50463 followers\n",
      "user mentalpod has 16589 followers\n",
      "user UnbeatableLife has 11658 followers\n",
      "user aafp has 41411 followers\n",
      "user ChampagneDiet has 9381 followers\n",
      "user organize365 has 6285 followers\n",
      "user greggclunis has 1961 followers\n",
      "failed to pull follower count for The Purpose Show\n",
      "user Slate has 1787287 followers\n",
      "user stinhansen has 2426 followers\n",
      "user drdeathwondery has 3586 followers\n",
      "user michaelgervais has 23678 followers\n",
      "failed to pull follower count for Recovery Elevator\n",
      "user matthewhussey has 91643 followers\n"
     ]
    },
    {
     "name": "stdout",
     "output_type": "stream",
     "text": [
      "failed to pull follower count for House Call With Dr. Hyman\n",
      "user chriskresser has 98810 followers\n",
      "user OLDPodcast has 5201 followers\n",
      "user groundupshow has 632 followers\n",
      "user tmppodcast has 336 followers\n",
      "user CTFPodcast has 2210 followers\n",
      "user AffirmationPod has 786 followers\n",
      "user KetoConnect has 24449 followers\n",
      "user fatburnman has 32526 followers\n",
      "user anxietyslayer has 593 followers\n",
      "user BrockSky has 1457 followers\n",
      "user LondonRealTV has 116681 followers\n",
      "user Kingsbu has 37881 followers\n",
      "user meghanrienks has 565630 followers\n",
      "user EMCases has 8812 followers\n",
      "user Psych_of_Eating has 19123 followers\n",
      "user MarathonAcademy has 2597 followers\n",
      "user TBBCoach411 has 82610 followers\n",
      "user blackgirlinom has 23826 followers\n",
      "user BalancedBlondie has 5208 followers\n",
      "user DishUpNutrition has 105 followers\n",
      "user BarbellShrugged has 32829 followers\n",
      "user alisakeeton has 1629 followers\n",
      "user _elleruss has 957 followers\n",
      "user Dopeypodcast has 2296 followers\n",
      "user NEJM has 612910 followers\n",
      "user VinnieTortorich has 30733 followers\n",
      "user The_Anxiety_Guy has 4027 followers\n",
      "user mysevenchakras has 592 followers\n",
      "user LiveHappyMag has 7357 followers\n",
      "user personalityhack has 4786 followers\n",
      "user robbwolf has 127556 followers\n",
      "user CNMTweets has 845 followers\n",
      "user BehindTheKnife has 7150 followers\n",
      "user ConverttoRaid has 12838 followers\n",
      "user TForceNetwork has 2734 followers\n",
      "user 5by5 has 13518 followers\n",
      "user polygonshow has 4388 followers\n",
      "user IGN has 7191992 followers\n",
      "user Internet_Box has 32339 followers\n",
      "user puclpodcast has 1554 followers\n",
      "user DestinyReset has 4702 followers\n",
      "user OmnicLab has 1395 followers\n",
      "user IGN has 7191992 followers\n",
      "user fchadfallout76 has 420 followers\n",
      "user theIGNshow has 1415 followers\n",
      "user xonebros has 1536 followers\n",
      "user 84play has 12113 followers\n",
      "user futweeklypod has 7735 followers\n",
      "user p1podcast has 2730 followers\n",
      "user LoreseekersCast has 3249 followers\n",
      "user jeffgerstmann has 166047 followers\n",
      "user tandemlegends has 282 followers\n",
      "user PlayStation has 17145003 followers\n",
      "failed to pull follower count for IGN Game Reviews – Spoken Edition\n",
      "failed to pull follower count for Elder Scrolls off the Record: An Elder Scrolls Online Podcast\n",
      "user majornelson has 1140471 followers\n",
      "user podcastroyale has 4857 followers\n",
      "user JustinMcElroy has 296387 followers\n",
      "user intothecast has 116 followers\n",
      "user PokemonGOPod has 1419 followers\n",
      "user IGN has 7191992 followers\n",
      "failed to pull follower count for Fallout Off the Record - A Fallout Podcast\n",
      "user hagensalley has 962 followers\n",
      "user gwjcc has 2354 followers\n",
      "user Polygon has 879356 followers\n",
      "user PodcastEvolved has 642 followers\n",
      "user kumailn has 2874440 followers\n",
      "user idlethumbs has 62550 followers\n",
      "failed to pull follower count for Loose Screws - The Elite Dangerous Podcast\n",
      "user Recode has 372092 followers\n",
      "user NewYorkerRadio has 18806 followers\n",
      "user onthemedia has 85320 followers\n",
      "user RubinReport has 630400 followers\n",
      "user Dahlialithwick has 45319 followers\n",
      "user conservmillen has 240599 followers\n",
      "user NPREmbedded has 5223 followers\n",
      "user voxdotcom has 869566 followers\n",
      "user FT has 3705099 followers\n",
      "user TrendsLikeThese has 8003 followers\n",
      "user richardsyrett has 6196 followers\n",
      "user DoubleXMag has 17663 followers\n",
      "user CatoInstitute has 361944 followers\n",
      "user shannonpareil has 5365 followers\n",
      "user ConstitutionCtr has 34854 followers\n",
      "user ftpodcasts has 18351 followers\n",
      "user letsknowthings has 526 followers\n",
      "user CANADALAND has 37083 followers\n",
      "user mediaindigena has 27646 followers\n",
      "user TWiT has 83270 followers\n",
      "user thecyberwire has 23466 followers\n",
      "user recode has 372092 followers\n",
      "user business has 5621044 followers\n",
      "user stevegibson2000 has 191 followers\n",
      "user sans_isc has 81967 followers\n",
      "user spacenewspod has 4029 followers\n",
      "user kimkomando has 59072 followers\n",
      "user WIRED has 10403829 followers\n",
      "user gigastacey has 43074 followers\n",
      "user LinusTech has 871582 followers\n",
      "user software_daily has 10680 followers\n",
      "user macbreakweekly has 1311 followers\n",
      "user InsideTWiT has 10463 followers\n",
      "user InsideTWiT has 10463 followers\n",
      "user TWiT has 83270 followers\n",
      "user FullyChargedShw has 23361 followers\n",
      "user TWiT has 83270 followers\n",
      "user koronpodcast has 1902 followers\n",
      "user thegreatalbums has 3799 followers\n",
      "user digginjazz has 526 followers\n",
      "user MusicMagazine has 60491 followers\n",
      "user MeettheComposer has 2846 followers\n",
      "user dochickstv has 2441 followers\n",
      "user pulpvoices has 1975 followers\n",
      "user blink155pod has 2242 followers\n",
      "user artghostpod has 211 followers\n",
      "user BabaRamDass has 193462 followers\n",
      "user NeilRBhatt has 186 followers\n",
      "user YatharthGeeta52 has 691 followers\n"
     ]
    }
   ],
   "source": [
    "get_follower_counts(twitter_dict, api_calls=4000)"
   ]
  },
  {
   "cell_type": "code",
   "execution_count": 26,
   "metadata": {
    "ExecuteTime": {
     "end_time": "2019-10-08T19:08:12.116718Z",
     "start_time": "2019-10-08T19:08:12.110152Z"
    },
    "scrolled": true
   },
   "outputs": [
    {
     "data": {
      "text/plain": [
       "['The WAN Show Podcast',\n",
       " 'Machine Learning – Software Engineering Daily',\n",
       " 'MacBreak Weekly (MP3)',\n",
       " 'This Week in Google (MP3)',\n",
       " 'Windows Weekly (MP3)',\n",
       " 'All TWiT.tv Shows (MP3)',\n",
       " 'The Fully Charged Show Podcast',\n",
       " 'This Week in Tech (Video HI)',\n",
       " 'Koron',\n",
       " 'The Great Albums',\n",
       " 'In the Groove, Jazz and Beyond',\n",
       " 'BBC Music Magazine',\n",
       " 'Meet the Composer',\n",
       " 'The Doc Hicks Podcast',\n",
       " 'Pulp Voices Podcast - پادکست صداهای عامه\\u200cپسند',\n",
       " 'Blink-155',\n",
       " 'ARTIFICIAL GHOST RADIO',\n",
       " 'Ram Dass Here And Now',\n",
       " 'Gita For Daily Living',\n",
       " 'Bhagavad Gita Hindi']"
      ]
     },
     "execution_count": 26,
     "metadata": {},
     "output_type": "execute_result"
    }
   ],
   "source": [
    "list(twitter_dict.keys())[-20:]"
   ]
  },
  {
   "cell_type": "code",
   "execution_count": 27,
   "metadata": {
    "ExecuteTime": {
     "end_time": "2019-10-08T19:08:16.889263Z",
     "start_time": "2019-10-08T19:08:16.881699Z"
    }
   },
   "outputs": [],
   "source": [
    "with open('../social_metrics/twitter/channel_stats_by_name_oct8_2p.pickle', 'wb') as file:\n",
    "    pickle.dump(twitter_dict, file)"
   ]
  }
 ],
 "metadata": {
  "kernelspec": {
   "display_name": "Python 3",
   "language": "python",
   "name": "python3"
  },
  "language_info": {
   "codemirror_mode": {
    "name": "ipython",
    "version": 3
   },
   "file_extension": ".py",
   "mimetype": "text/x-python",
   "name": "python",
   "nbconvert_exporter": "python",
   "pygments_lexer": "ipython3",
   "version": "3.7.4"
  },
  "toc": {
   "base_numbering": 1,
   "nav_menu": {},
   "number_sections": false,
   "sideBar": true,
   "skip_h1_title": false,
   "title_cell": "Table of Contents",
   "title_sidebar": "Contents",
   "toc_cell": true,
   "toc_position": {},
   "toc_section_display": true,
   "toc_window_display": false
  },
  "varInspector": {
   "cols": {
    "lenName": 16,
    "lenType": 16,
    "lenVar": 40
   },
   "kernels_config": {
    "python": {
     "delete_cmd_postfix": "",
     "delete_cmd_prefix": "del ",
     "library": "var_list.py",
     "varRefreshCmd": "print(var_dic_list())"
    },
    "r": {
     "delete_cmd_postfix": ") ",
     "delete_cmd_prefix": "rm(",
     "library": "var_list.r",
     "varRefreshCmd": "cat(var_dic_list()) "
    }
   },
   "types_to_exclude": [
    "module",
    "function",
    "builtin_function_or_method",
    "instance",
    "_Feature"
   ],
   "window_display": false
  }
 },
 "nbformat": 4,
 "nbformat_minor": 2
}
