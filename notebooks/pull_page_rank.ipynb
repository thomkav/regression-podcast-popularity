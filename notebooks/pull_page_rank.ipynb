{
 "cells": [
  {
   "cell_type": "markdown",
   "metadata": {
    "toc": true
   },
   "source": [
    "<h1>Table of Contents<span class=\"tocSkip\"></span></h1>\n",
    "<div class=\"toc\"><ul class=\"toc-item\"><li><span><a href=\"#Gather-Page-Rank-of-Non-Social-Media-External-Site\" data-toc-modified-id=\"Gather-Page-Rank-of-Non-Social-Media-External-Site-1\">Gather Page Rank of Non-Social Media External Site</a></span></li></ul></div>"
   ]
  },
  {
   "cell_type": "code",
   "execution_count": 3,
   "metadata": {
    "ExecuteTime": {
     "end_time": "2019-10-10T19:07:47.501992Z",
     "start_time": "2019-10-10T19:07:46.941936Z"
    }
   },
   "outputs": [],
   "source": [
    "import pickle\n",
    "\n",
    "import features\n",
    "\n",
    "import time\n",
    "import json\n",
    "import re\n",
    "\n",
    "import requests\n",
    "import json\n",
    "\n",
    "api_key = '4gk44osw4cw84gcwkk8kkogw0okoc0g4o4c8kcww '"
   ]
  },
  {
   "cell_type": "code",
   "execution_count": 4,
   "metadata": {
    "ExecuteTime": {
     "end_time": "2019-10-10T19:07:47.977571Z",
     "start_time": "2019-10-10T19:07:47.975019Z"
    }
   },
   "outputs": [],
   "source": [
    "import tldextract\n",
    "import pickle"
   ]
  },
  {
   "cell_type": "code",
   "execution_count": 5,
   "metadata": {
    "ExecuteTime": {
     "end_time": "2019-10-10T19:07:48.327214Z",
     "start_time": "2019-10-10T19:07:48.323581Z"
    }
   },
   "outputs": [
    {
     "data": {
      "text/plain": [
       "'[\"my_list\", \"google.com\"]'"
      ]
     },
     "execution_count": 5,
     "metadata": {},
     "output_type": "execute_result"
    }
   ],
   "source": [
    "json.dumps(['my_list','google.com'])"
   ]
  },
  {
   "cell_type": "code",
   "execution_count": 11,
   "metadata": {
    "ExecuteTime": {
     "end_time": "2019-10-10T19:08:06.254276Z",
     "start_time": "2019-10-10T19:08:06.251574Z"
    }
   },
   "outputs": [],
   "source": [
    "# query = {'domains':{0:'facebook.com'},'API-OPR':api_key}\n",
    "\n",
    "query = {\n",
    "    'domains[]': ['thomasmkavanagh.com'],\n",
    "    'API-OPR':api_key\n",
    "}"
   ]
  },
  {
   "cell_type": "code",
   "execution_count": 12,
   "metadata": {
    "ExecuteTime": {
     "end_time": "2019-10-10T19:08:07.249215Z",
     "start_time": "2019-10-10T19:08:06.487709Z"
    }
   },
   "outputs": [],
   "source": [
    "pr = requests.get(url='https://openpagerank.com/api/v1.0/getPageRank',params=query)"
   ]
  },
  {
   "cell_type": "code",
   "execution_count": 13,
   "metadata": {
    "ExecuteTime": {
     "end_time": "2019-10-10T19:08:07.279267Z",
     "start_time": "2019-10-10T19:08:07.273893Z"
    }
   },
   "outputs": [
    {
     "data": {
      "text/plain": [
       "200"
      ]
     },
     "execution_count": 13,
     "metadata": {},
     "output_type": "execute_result"
    }
   ],
   "source": [
    "pr.status_code"
   ]
  },
  {
   "cell_type": "code",
   "execution_count": 14,
   "metadata": {
    "ExecuteTime": {
     "end_time": "2019-10-10T19:08:07.304537Z",
     "start_time": "2019-10-10T19:08:07.300348Z"
    }
   },
   "outputs": [
    {
     "data": {
      "text/plain": [
       "'{\"status_code\":200,\"response\":[{\"status_code\":200,\"error\":\"\",\"page_rank_integer\":0,\"page_rank_decimal\":0.26,\"rank\":\"153096046\",\"domain\":\"thomasmkavanagh.com\"}],\"last_updated\":\"16th Aug 2019\"}'"
      ]
     },
     "execution_count": 14,
     "metadata": {},
     "output_type": "execute_result"
    }
   ],
   "source": [
    "pr.text"
   ]
  },
  {
   "cell_type": "code",
   "execution_count": null,
   "metadata": {
    "ExecuteTime": {
     "end_time": "2019-10-09T21:05:23.683781Z",
     "start_time": "2019-10-09T21:05:23.255095Z"
    }
   },
   "outputs": [],
   "source": [
    "pr = requests.get(url='https://openpagerank.com/api/v1.0/getPageRank?API-OPR=4gk44osw4cw84gcwkk8kkogw0okoc0g4o4c8kcww&domains[]=google.com')"
   ]
  },
  {
   "cell_type": "code",
   "execution_count": null,
   "metadata": {
    "ExecuteTime": {
     "end_time": "2019-10-09T21:27:50.855119Z",
     "start_time": "2019-10-09T21:27:50.352556Z"
    }
   },
   "outputs": [],
   "source": [
    "\n",
    "pr = requests.get(url='https://openpagerank.com/api/v1.0/getPageRank?API-OPR=4gk44osw4cw84gcwkk8kkogw0okoc0g4o4c8kcww&domains[]=http://www.winemag.com')"
   ]
  },
  {
   "cell_type": "code",
   "execution_count": null,
   "metadata": {
    "ExecuteTime": {
     "end_time": "2019-10-09T21:27:51.261472Z",
     "start_time": "2019-10-09T21:27:51.257447Z"
    }
   },
   "outputs": [],
   "source": [
    "pr.status_code"
   ]
  },
  {
   "cell_type": "code",
   "execution_count": null,
   "metadata": {
    "ExecuteTime": {
     "end_time": "2019-10-09T21:27:51.453608Z",
     "start_time": "2019-10-09T21:27:51.449669Z"
    }
   },
   "outputs": [],
   "source": [
    "pr.text"
   ]
  },
  {
   "cell_type": "code",
   "execution_count": null,
   "metadata": {
    "ExecuteTime": {
     "end_time": "2019-10-09T21:27:26.238911Z",
     "start_time": "2019-10-09T21:27:26.233142Z"
    },
    "scrolled": true
   },
   "outputs": [],
   "source": [
    "json.loads(pr.text)['response'][0]['page_rank_decimal']"
   ]
  },
  {
   "cell_type": "markdown",
   "metadata": {},
   "source": [
    "## Gather Page Rank of Non-Social Media External Site\n",
    "\n",
    "Podcasts can optionally include one external site for their channel that isn't Facebook, Twitter, Instagram, Youtube, etc.\n",
    "\n",
    "We can grab the Google PageRank of this external site, if it exists, by sending a GET request to the Open Page Rank API. This can give us a measure of the reputability and relative exposure of a podcasts\n",
    "\n",
    "The Open Page Rank all of the Google PageRank "
   ]
  },
  {
   "cell_type": "markdown",
   "metadata": {},
   "source": [
    "We will unload (any) version of the sanitized dataframe, in order to gather a list of channels in order to create a dictionary."
   ]
  },
  {
   "cell_type": "code",
   "execution_count": null,
   "metadata": {
    "ExecuteTime": {
     "end_time": "2019-10-10T02:04:33.447782Z",
     "start_time": "2019-10-10T02:04:33.217192Z"
    }
   },
   "outputs": [],
   "source": [
    "df_version = 'merged_10-08_13-54.pickle'\n",
    "import_path = '../scraped/merged/' + df_version\n",
    "with open(import_path, 'rb') as file:\n",
    "    raw_df = pickle.load(file)"
   ]
  },
  {
   "cell_type": "code",
   "execution_count": null,
   "metadata": {
    "ExecuteTime": {
     "end_time": "2019-10-10T02:04:33.996638Z",
     "start_time": "2019-10-10T02:04:33.991952Z"
    },
    "scrolled": false
   },
   "outputs": [],
   "source": [
    "raw_df['ch_feed-socials'].sample(10).values"
   ]
  },
  {
   "cell_type": "code",
   "execution_count": null,
   "metadata": {
    "ExecuteTime": {
     "end_time": "2019-10-10T02:04:36.686166Z",
     "start_time": "2019-10-10T02:04:36.681324Z"
    },
    "scrolled": true
   },
   "outputs": [],
   "source": [
    "sample = raw_df['ch_feed-socials'].sample(10).values[0]\n",
    "sample"
   ]
  },
  {
   "cell_type": "code",
   "execution_count": null,
   "metadata": {
    "ExecuteTime": {
     "end_time": "2019-10-09T21:19:54.908902Z",
     "start_time": "2019-10-09T21:19:54.904218Z"
    }
   },
   "outputs": [],
   "source": [
    "for link in sample:\n",
    "    social_domains = ['twitter', 'facebook', 'youtube', 'instagram']\n",
    "    for domain in social_domains:\n",
    "        pattern = '.*' + domain + '.*'\n",
    "#         print(pattern, link)\n",
    "#         print(re.match(pattern, link))\n",
    "        if re.match(pattern, link):\n",
    "            break\n",
    "        else:\n",
    "            print(link)\n",
    "            break"
   ]
  },
  {
   "cell_type": "code",
   "execution_count": null,
   "metadata": {
    "ExecuteTime": {
     "end_time": "2019-10-09T22:01:58.626726Z",
     "start_time": "2019-10-09T22:01:58.619694Z"
    },
    "scrolled": true
   },
   "outputs": [],
   "source": [
    "ch_feed = ['https://twitter.com/bulletproofexec',\n",
    " 'https://www.facebook.com/bulletproofexecutive',\n",
    " 'https://blog.daveasprey.com/category/podcasts/']\n",
    "\n",
    "for link in ch_feed:\n",
    "    external = link\n",
    "    print('testing ', link)\n",
    "    social_domains = ['twitter', 'facebook', 'youtube', 'instagram']\n",
    "    for domain in social_domains:\n",
    "        pattern = '.*' + domain + '.*'\n",
    "#         print(pattern, link)\n",
    "#         print(re.match(pattern, link))\n",
    "        if re.match(pattern, link):\n",
    "            print('matches ',domain)\n",
    "            external = False\n",
    "\n",
    "print('match: ', external)"
   ]
  },
  {
   "cell_type": "code",
   "execution_count": null,
   "metadata": {
    "ExecuteTime": {
     "end_time": "2019-10-10T02:05:14.484674Z",
     "start_time": "2019-10-10T02:05:14.479496Z"
    }
   },
   "outputs": [],
   "source": [
    "def return_external_site_domain(ch_feed_socials):\n",
    "    '''\n",
    "    \n",
    "    Return a non-social external domain from a list of domains.abs\n",
    "    \n",
    "    If one does not exist, return False\n",
    "    \n",
    "    \n",
    "    '''\n",
    "    \n",
    "#     print(ch_feed_socials)\n",
    "    \n",
    "    if not ch_feed_socials:\n",
    "        return False\n",
    "    \n",
    "    for link in ch_feed_socials:\n",
    "        external = link\n",
    "#         print('testing ', link)\n",
    "        social_domains = ['twitter', 'facebook', 'youtube', 'instagram']\n",
    "        for domain in social_domains:\n",
    "            pattern = '.*' + domain + '.*'\n",
    "    #         print(pattern, link)\n",
    "    #         print(re.match(pattern, link))\n",
    "            if re.match(pattern, link):\n",
    "#                 print('matches ',domain)\n",
    "                external = False\n",
    "\n",
    "    return external"
   ]
  },
  {
   "cell_type": "code",
   "execution_count": null,
   "metadata": {
    "ExecuteTime": {
     "end_time": "2019-10-10T02:05:20.971669Z",
     "start_time": "2019-10-10T02:05:20.902695Z"
    }
   },
   "outputs": [],
   "source": [
    "raw_df['external_site'] = raw_df['ch_feed-socials'].apply(return_external_site_domain)"
   ]
  },
  {
   "cell_type": "code",
   "execution_count": null,
   "metadata": {
    "ExecuteTime": {
     "end_time": "2019-10-10T02:05:36.690863Z",
     "start_time": "2019-10-10T02:05:36.685892Z"
    }
   },
   "outputs": [],
   "source": [
    "def get_page_rank(domain_name):\n",
    "    \n",
    "    print('getting OPR for: ',domain_name)\n",
    "    \n",
    "#     print(domain_name)\n",
    "    \n",
    "    query = {\n",
    "        'domains[]': domain_name,\n",
    "        'API-OPR':api_key\n",
    "    }\n",
    "    \n",
    "    response = json.loads(\n",
    "        requests.get(url='https://openpagerank.com/api/v1.0/getPageRank',params=query).text\n",
    "    )['response'][0]\n",
    "    \n",
    "#     print(response)\n",
    "    \n",
    "    page_rank_dec = response['page_rank_decimal']\n",
    "    \n",
    "#     print(page_rank_dec)\n",
    "    \n",
    "    if page_rank_dec == '':\n",
    "        print('no rank')\n",
    "        return 0\n",
    "    else:\n",
    "        print(page_rank_dec)\n",
    "        return page_rank_dec"
   ]
  },
  {
   "cell_type": "code",
   "execution_count": null,
   "metadata": {
    "ExecuteTime": {
     "end_time": "2019-10-10T02:05:46.928468Z",
     "start_time": "2019-10-10T02:05:46.925127Z"
    }
   },
   "outputs": [],
   "source": [
    "def extract_domain(site):\n",
    "    try:\n",
    "        domain_name = tldextract.extract(site).domain + '.' + tldextract.extract(site).suffix\n",
    "        return domain_name\n",
    "    except:\n",
    "        return ''"
   ]
  },
  {
   "cell_type": "code",
   "execution_count": null,
   "metadata": {
    "ExecuteTime": {
     "end_time": "2019-10-10T02:05:48.780597Z",
     "start_time": "2019-10-10T02:05:48.653308Z"
    }
   },
   "outputs": [],
   "source": [
    "raw_df['domain'] = raw_df.external_site.apply(extract_domain)"
   ]
  },
  {
   "cell_type": "code",
   "execution_count": null,
   "metadata": {
    "ExecuteTime": {
     "end_time": "2019-10-10T02:06:51.648000Z",
     "start_time": "2019-10-10T02:06:51.644281Z"
    }
   },
   "outputs": [],
   "source": [
    "raw_df.shape"
   ]
  },
  {
   "cell_type": "code",
   "execution_count": null,
   "metadata": {
    "ExecuteTime": {
     "end_time": "2019-10-10T02:07:02.450363Z",
     "start_time": "2019-10-10T02:07:02.444913Z"
    },
    "scrolled": true
   },
   "outputs": [],
   "source": [
    "raw_df.domain.nunique()"
   ]
  },
  {
   "cell_type": "code",
   "execution_count": null,
   "metadata": {
    "ExecuteTime": {
     "end_time": "2019-10-10T02:08:10.312545Z",
     "start_time": "2019-10-10T02:08:10.308695Z"
    }
   },
   "outputs": [],
   "source": [
    "domains_list = list(raw_df.domain.unique())"
   ]
  },
  {
   "cell_type": "code",
   "execution_count": null,
   "metadata": {
    "ExecuteTime": {
     "end_time": "2019-10-10T02:09:35.828357Z",
     "start_time": "2019-10-10T02:09:35.824553Z"
    }
   },
   "outputs": [],
   "source": [
    "domains_list_sample = domains_list[:100]\n",
    "domains_list_sample[:5]"
   ]
  },
  {
   "cell_type": "code",
   "execution_count": null,
   "metadata": {
    "ExecuteTime": {
     "end_time": "2019-10-10T02:13:32.459385Z",
     "start_time": "2019-10-10T02:13:32.001302Z"
    }
   },
   "outputs": [],
   "source": [
    "# test on batch domains\n",
    "# query = {'domains':{0:'facebook.com'},'API-OPR':api_key}\n",
    "\n",
    "query = {\n",
    "    'domains[]': domains_list_sample,\n",
    "    'API-OPR':api_key\n",
    "}\n",
    "\n",
    "pr = requests.get(url='https://openpagerank.com/api/v1.0/getPageRank',params=query)\n",
    "\n",
    "r = json.loads(pr.text)['response']"
   ]
  },
  {
   "cell_type": "code",
   "execution_count": null,
   "metadata": {
    "ExecuteTime": {
     "end_time": "2019-10-10T02:13:56.997837Z",
     "start_time": "2019-10-10T02:13:56.993513Z"
    },
    "scrolled": true
   },
   "outputs": [],
   "source": [
    "r[:5]"
   ]
  },
  {
   "cell_type": "code",
   "execution_count": null,
   "metadata": {
    "ExecuteTime": {
     "end_time": "2019-10-10T02:17:00.354551Z",
     "start_time": "2019-10-10T02:17:00.349147Z"
    }
   },
   "outputs": [],
   "source": [
    "def get_page_rank_batch(domains):\n",
    "    \n",
    "    print(f'getting {len(domains)} domains via OPR: ', domains[0], '....', domains[-1])\n",
    "    \n",
    "    query = {\n",
    "        'domains[]': domains,\n",
    "        'API-OPR':api_key\n",
    "    }\n",
    "\n",
    "    pr = requests.get(url='https://openpagerank.com/api/v1.0/getPageRank',params=query)\n",
    "\n",
    "    multi_response = json.loads(pr.text)['response']\n",
    "    \n",
    "    return multi_response"
   ]
  },
  {
   "cell_type": "code",
   "execution_count": null,
   "metadata": {
    "ExecuteTime": {
     "end_time": "2019-10-10T02:35:12.930400Z",
     "start_time": "2019-10-10T02:35:12.925149Z"
    }
   },
   "outputs": [],
   "source": [
    "len(domains_list)"
   ]
  },
  {
   "cell_type": "code",
   "execution_count": null,
   "metadata": {
    "ExecuteTime": {
     "end_time": "2019-10-10T02:37:58.340345Z",
     "start_time": "2019-10-10T02:37:58.330601Z"
    }
   },
   "outputs": [],
   "source": [
    "for i in range(0,len(domains_list)//100 + 1):\n",
    "    domain_list_batch = domains_list[i*100:i*100+100]\n",
    "    print(domain_list_batch)"
   ]
  },
  {
   "cell_type": "code",
   "execution_count": null,
   "metadata": {
    "ExecuteTime": {
     "end_time": "2019-10-10T02:49:20.216361Z",
     "start_time": "2019-10-10T02:48:59.358478Z"
    }
   },
   "outputs": [],
   "source": [
    "all_domains_dict = {}\n",
    "for i in range(0, len(domains_list), 99):\n",
    "    domain_list_batch = domains_list[i:i + 99]\n",
    "#     print(domain_list_batch)\n",
    "    response_batch = get_page_rank_batch(domain_list_batch)\n",
    "    batch_dict = {}\n",
    "    for r in response_batch:\n",
    "        domain = r['domain']\n",
    "        prd = r['page_rank_decimal']\n",
    "        rank = r['rank']\n",
    "        batch_dict[domain] = {'page_rank_dict': prd, 'rank': rank}\n",
    "    all_domains_dict.update(batch_dict)\n",
    "\n",
    "all_domains_dict"
   ]
  },
  {
   "cell_type": "code",
   "execution_count": null,
   "metadata": {
    "ExecuteTime": {
     "end_time": "2019-10-10T02:51:43.087096Z",
     "start_time": "2019-10-10T02:51:43.079410Z"
    }
   },
   "outputs": [],
   "source": [
    "with open('../social_metrics/external_domains/external_domain_dicts.pickle','wb') as file:\n",
    "    pickle.dump(all_domains_dict,file)"
   ]
  },
  {
   "cell_type": "code",
   "execution_count": 2,
   "metadata": {
    "ExecuteTime": {
     "end_time": "2019-10-10T02:52:48.654326Z",
     "start_time": "2019-10-10T02:52:48.637407Z"
    }
   },
   "outputs": [
    {
     "data": {
      "text/plain": [
       "dict_keys(['tablegroup.com', 'learningleadershow.com', 'johnmaxwellteam.com', 'spreaker.com', 'rework.fm', 'askamanager.org', 'kitces.com', 'doseofleadership.com', 'labcoatagents.com', 'ecommercefuel.com', 'katenorthrup.com', '15five.com', 'leecockerell.com', 'eatsleepworkrepeat.com', 'podbean.com', 'readtoleadpodcast.com', 'indiehackers.com', 'lawyerist.com', 'wmleadership.com', 'strategicpodcasts.com', 'libsyn.com', 'aba.com', 'villageglobal.vc', 'fitnessbusinesspodcast.com', 'pmmasterprep.com', 'becomingyourbest.com', 'thesaleswhisperer.com', 'tammylenski.com', 'laurieruettimann.com', 'l3leadership.org', 'drdannymatta.com', 'letgoandlead.com', 'privatepracticeworkshop.com', 'btgvoice.com', 'krisplachy.com', 'killerinnovations.com', 'nationalpropertymanagement.com', 'jasonswenk.com', 'podomatic.com', 'photobizx.com', 'businessbootcamppodcast.com', 'hubspot.com', 'whooshkaa.com', 'cuinsight.com', 'legaltalknetwork.com', 'paolaelizaga.com', 'harmonbrothers.com', 'myhrfuture.com', 'rocketship.fm', 'thesuccessfulbookkeeper.com', 'volkovlaw.com', 'kenblanchard.com', 'saraharcher.co.uk', 'conveniencematters.com', 'productcraft.com', 'woodard.com', 'thecxcast.com', 'easton.online', 'rcmleadersforum.com', 'davitaway.com', 'spanthechasm.com', 'leanblog.org', 'crazyshitinrealestate.com', 'xvoyant.com', 'leadwithastory.com', 'management30.com', 'chieflearningofficer.com', 'capitalfactory.com', 'difficulthappens.com', 'theopsauthority.com', 'schmidt-list.com', 'xm.solutions', 'passionsquared.net', 'thedailyartofleading.com', 'charlestonschoolofprotocol.com', 'xceptionaled.com', 'insuranceagencyintelligence.com', 'thechrisvossshow.com', 'soundpracticepodcast.com', 'makingchips.com', 'mpgadv.com', 'shoeinshow.com', 'goodpractice.com', 'eliterealestatesystems.com', 'drrussellkirk.com', '2bobs.com', 'dentistfreedomblueprint.com', 'customerbliss.com', '1kmom.com', 'liongrouprecruiting.com', 'productinnovationeducators.com', 'peopleleaders.com.au', 'mastermind.show', 'kdawsonco.com', 'remarkablepodcast.com', 'trivinia.com', 'leadertribe.com', 'restaurant.org', 'exabeam.com', 'thriveinc.com', 'tanveernaseer.com', 'b2brevealed.com', 'dancockerell.com', 'caitscudder.com', 'expresswriters.com', 'chertoffgroup.com', 'bizwomenrock.com', 'teamcoachingzone.com', 'brandonnaber.com', 'thebluecollarbusinessman.com', 'driveninc.com', 'trulyhumanleadership.com', 'engageyourhealthcareleadership.com', 'fearlesscreativeleadership.com', 'iupui.edu', 'localiq.com', 'therestaurantbusinesspodcast.com', 'deming.org', 'thetimfallershow.com', 'skipprichard.com', 'talentculture.com', 'miles-group.com', 'projectmanagementparadise.com', 'allstardentalacademy.com', 'talkingaboutorganizations.com', 'summitclubpodcast.com', 'virtualnotdistant.com', 'inspiringchange.ie', 'shiftshapersonline.com', 'alfaframtak.is', 'rebeccatdickson.com', 'markbidwell.com', 'anchor.fm', 'podetize.com', 'artofprocurement.com', 'sallywilliamson.com', 'aserversjourney.com', 'portigal.com', 'globallyspeakingradio.com', 'badassagile.com', 'gordon.edu', 'bettermanager.us', 'paulklein.net', 'workminus.com', 'investtalk.com', 'gimletmedia.com', 'art19.com', 'rogerwhitney.com', 'kevinbupp.com', 'morningstar.com', 'thefishow.com', 'paychecksandbalances.com', 'cannainsider.com', 'optionalpha.com', 'fool.com', 'edelmanfinancialengines.com', 'morrisinvest.com', 'bitcoin.kn', 'rentalincomepodcast.com', 'bloomberg.com', 'lindapjones.com', 'doughroller.net', 'davidbach.com', 'passiverealestateinvesting.com', 'frugalfriendspodcast.com', 'realestatedisruptors.com', 'millionairesunveiled.com', 'themoneynerds.com', 'retirementstartstodayradio.com', 'realwealthnetwork.com', 'thedisciplinedinvestor.com', 'whatbitcoindid.com', 'kiplinger.com', 'journeytolaunch.com', 'grantspub.com', 'jakeandgino.com', 'realvision.com', 'wealthability.com', 'realwealthshow.com', 'stephanlivera.com', 'hiddenforces.io', 'oldcapitalpodcast.com', 'schoolofhouseflipping.com', 'barrons.com', 'hoyes.com', 'soundretirementplanning.com', 'investors.com', 'ml.com', 'aqr.com', 'flip2freedom.com', 'inpennystock.com', 'financialfreedombook.com', 'moneytreepodcast.com', 'rpoaonline.org', 'claytrader.com', 'masterpassiveincome.com', 'saastr.com', 'schwab.com', 'linktr.ee', 'ft.com', 'lifebridgecapital.com', 'incomehacker.com', 'coachcarson.com', 'multifamilyinvestornation.com', 'thebahnsengroup.com', 'firedrillpodcast.com', 'thealternativeinvestorshow.com', 'eventualmillionaire.com', 'pefuncast.com', 'theretirementandirashow.com', 'paulmerriman.com', 'popcornfinance.com', 'gsdmode.com', 'fidelity.com', 'investornews.vanguard', 'acquirersmultiple.com', 'iamashcash.com', 'yourmoneyyourwealth.com', 'theforextradingcoach.com', 'tulsarealestatefund.com', 'financialresidency.com', 'pippa.io', 'powertradingradio.com', 'investlikeaboss.com', 'trendfollowing.com', 'paypal.me', 'thecapitalideas.com', 'realestateinvestingmastery.com', 'jasonhartman.com', 'youstaywealthy.com', 'curzioresearch.com', 'rentalrookie.com', 'millennialmoney.com', 'valueinvestingwithlegends.com', 'mobilehomeparkacademy.com', 'thecollegeinvestor.com', 'soundcloud.com', 'nerdwallet.com', 'houseflippinghq.com', 'blackstone.com', 'doubleline.com', 'commercialpropertyadvisors.com', 'seekingalpha.com', 'financially-blonde.com', 'fullratchet.net', 'tradersfly.com', 'hisandhermoney.com', 'jpmorgan.com', 'followthemoney.com', 'acast.com', 'simplyscarypodcast.com', 'horrortalespodcast.com', 'theprancingponypodcast.com', 'mustafahaij.com', 'murverse.com', 'bookriot.com', 'nypl.org', 'disneystoryoriginspodcast.com', 'bookpodcast.com', 'consequenceofsound.net', 'sagapodcast.ir', 'thedarkverse.com', 'historyofliterature.com', 'loyalbooks.com', 'beautifulwriterspodcast.com', 'maximumfun.org', 'sarahwerner.com', 'writingexcuses.com', 'loudlit.org', '1001storiesfortheroad.com', 'weaponizedlanguage.com', 'megaphone.fm', 'kowabana.net', 'poetryfoundation.org', 'talestoterrify.com', 'classicalstuff.net', 'realweirdsisters.com', 'theliterary.life', 'wotspoilers.com', 'blogs.com', 'barnesandnoble.com', 'literatureandhistory.com', 'somanydamnbooks.com', 'bigthink.com', 'geeksguideshow.com', 'macmillan.com', 'alohomorapodcast.com', '88cupsoftea.com', 'writeordiepodcast.com', 'annkroeker.com', 'rein-online.org', 'blogspot.com', 'seanofthesouthshow.com', 'underrealm.net', 'professionalbooknerds.com', 'creativewritingcareer.com', 'returnhomepodcast.com', 'tinhouse.com', 'audioboom.com', 'diymfa.com', 'booksandboba.com', 'writeaboutnowmedia.com', 'poetrysociety.org.uk', 'unwantedchildren.ca', 'miettecast.com', 'beneath-ceaseless-skies.com', 'thewickedlibrary.com', 'shadowpublications.com', 'planetbroadcasting.com', 'fatedmates.net', 'feedburner.com', 'firstdraftpod.com', 'storynory.com', 'apple.com', 'thedragonreread.com', 'medievaldeathtrip.com', 'alexcespedes.com', 'thethingaboutfrance.com', 'mobydickbigread.com', 'fireside.fm', 'theunderdogsports.com', 'heavenfield.com', 'frowl.org', 'hpmorpodcast.com', 'slate.com', 'jenniferlaughran.com', 'lareviewofbooks.org', 'scribl.com', 'bl.uk', 'podiobooks.com', 'secretworldchronicle.com', 'sellmorebooksshow.com', 'ohwitchplease.ca', 'celticmythpodshow.com', 'interestingpeoplereadingpoetry.com', 'learnoutloud.com', 'tripira.com', 'printrunpodcast.com', 'odysseyworkshop.org', 'shewrites.com', 'booksoftitans.com', 'lithub.com', 'rustyquill.com', 'whitetowerpodcast.com', 'mostly-lit.com', 'ffodpod.com', 'chatterdc.com', 'shadowsatthedoor.com', 'writingforchildren.com', 'yaumyatyah.com', 'hairbrained.me', 'girlboss.com', 'loricrete.com', 'hairdustry.com', 'blamopod.com', 'gq.com', 'boohoo.com', 'dermaglowdigital.com', 'pureskinoc.com', 'brumedaisy.com', 'allure.com', 'vice.com', 'fullcoveragepodcast.com', 'vogue.com', 'vogueknitting.com', 'themustards.co', 'nastygal.com', 'uk.com', 'popfashionpodcast.com', 'beautybydrkay.com', 'highsnobiety.com', 'bigmoneystylistnow.com', 'formulabotanica.com', 'consciouschatter.com', 'americanfashionpodcast.com', 'preachersnsneakers.online', 'ogpodcastnetwork.com', 'youngnails.com', 'trichologyproject.com', 'fashionisyourbusiness.com', 'fashionrevolution.org', 'startafashiontruck.com', 'borboletabeauty.com', 'radio.com', 'shop-capitol.com', 'themakeupshow.com', 'clarepress.com', 'kellyannaesthetics.com', 'laradevganmd.com', 'beautyisyourbusiness.com', 'thebeautyeffect.com', 'myshopify.com', '1nagency.com', 'wordpress.com', 'freesaloneducation.com', 'hereforherpodcast.com', 'blubrry.com', 'theweddingbiz.com', 'thrifttherapypod.com', 'howtocut.it', 'manrepeller.com', 'chicityfashion.com', 'cassandramcclure.com', 'successfulfashiondesigner.com', 'handcutradio.com', 'thegreenbelle.com', 'thenailhub.com', 'madeleineloves.com', 'lisapotterdixon.com', 'dinasdays.com', 'scandalousbeautyonline.com', 'blogtalkradio.com', 'themostcurls.com', 'wildandwanderful.com', 'ingopodcast.com', 'growmysalonbusiness.com', 'visteconsciente.com', 'artbeautypodcast.com', 'yasmany.com', 'studio71.com', 'http.', 'pageantplanet.com', 'entale.com', 'btseventmanagement.com', 'broomstickwed.com', 'rodial.co.uk', 'unravelpodcast.com', 'mixedgems.co.uk', 'apsaraskincare.com', 'hannaschumi.com', 'harrods.com', 'lipglossandaftershave.com', 'gennshaughnessy.com', 'mamamia.com.au', 'podcastone.com', 'onefabday.com', 'thebeautybusiness.com.au', 'weddingpodcastnetwork.com', 'instyle.com', 'b100.com', 'bubblelounge.club', 'thejewelryjourney.com', 'ebooks4fashion.com', 'makeupslay.com', 'adorebeauty.com.au', 'celestialbodiez.com', 'model-lite.com', 'laurenengelke.com', 'beautyandthesurgeonpodcast.com', 'thatsnotmyage.com', 'realbeautybosses.com', 'alittletoomuch.com', 'gimletcreative.com', 'wearecampfire.media', 'nicolejboutique.com', 'eandsources.com', 'elpais.com', 'looselyconnectedpod.com', 'mod-tv.com', 'enlightenmyloafers.com', 'wizards.com', 'geekgamer.tv', 'pokemongoradio.com', 'geeklyinc.com', 'flyfishfood.com', 'smartpokerstudy.com', 'boardgamedesignlab.com', 'thebettorlife.us', 'redmoonroleplaying.com', 'caffeine.tv', 'crushlivepoker.com', 'thebattlehosts.com', 'therewillbedungeons.', 'thelovecrafttapes.com', 'adventurednd.com', 'thedivedown.com', 'spellburn.com', 'thisweekinpinball.com', 'tournamentpokeredge.com', 'stuffineverknew.com', 'blasphemoustomes.com', 'adventuresinquesting.com', 'unwinnable.com', 'vectorcastpodcast.com', 'brainstormbrewery.com', 'blubrry.net', 'escapethispodcast.com', 'pokercentral.com', 'gamebrainpod.com', 'rezd.tv', 'kenandrobintalkaboutstuff.com', 'backpationetwork.com', 'critacademy.com', 'candleorthenight.com', 'arcdream.com', 'pokerstars.com', 'queensofadventure.com', 'alliedstrats.com', 'partialarc.com', 'launchpaddm.com', 'canhammer.ca', 'totalpartythrillcast.com', 'boardgameblitz.com', 'magicandsteele.com', 'shadowcasters.network', 'bbc.co.uk', 'gamingandbs.com', 'redemptionpodcast.com', 'partyrollpodcast.com', 'thetitanpod.com', 'theindependentcharacters.com', 'azerothroundtable.com', 'diceforbrains.com', 'utilitymuffinlabs.com', 'boardgamebarrage.com', 'rollforcombat.com', 'orpheusprotocol.com', 'garagehammer.net', 'studioloot.com', 'thornvalepodcast.com', 'justhandspoker.com', 'mayacast.com', 'legionofrenob.com', 'theincomparable.com', 'eternalcentral.com', 'thisgameisbrokenpodcast.com', 'gmwordoftheweek.com', 'meeplenation.com', 'realm-maintenance.com', 'fivegamesfordoomsday.com', 'mindfog.com', 'neo-anarchist.com', 'quizbangpod.com', 'thechimaera.com', 'mcdmproductions.com', 'pokermindcoach.com', 'simplecast.fm', 'themortalrealms.com', 'thevideoshop.com.au', 'jankitupfuzzball.com', 'boardgamesinsider.com', 'soundslikecrowes.com', 'coinconcede.com', 'hideouslaughterpodcast.com', 'thevillainsdemand.com', 'dlgaming.net', 'teamcovenant.com', 'head2headpinball.com', 'thepokergrid.com', 'teachmeteacherpodcast.com', 'aquinas101.com', 'teachingwhilewhite.org', 'ox.ac.uk', 'collegeinfogeek.com', 'buildmathminds.com', 'archive.org', 'bamradionetwork.com', 'teachcreatemotivate.com', 'dudegrows.com', 'quickanddirtytips.com', 'powerscore.com', 'tolerance.org', 'waldorfy.com', 'learnpsychpodcast.com', 'dianauribe.fm', 'iew.com', 'css.edu', 'teach12.com', 'harvard.edu', 'pambarnhill.com', 'scholesisters.com', 'spencerauthor.com', 'hippoeducation.com', 'notsowimpyteacher.com', 'speechandlanguagekids.com', 'positivediscipline.com', 'speechuncensored.com', 'raisinglifelonglearners.com', 'adelectableeducation.com', 'teachingautism.co.uk', 'vanfidel.com', 'aviaryplatform.com', 'talkswithteachers.com', 'wholechildeducation.org', 'mathbeforebreakfast.com', 'speechtherapypd.com', 'theartofed.com', 'coronertalk.com', 'eduducttape.com', 'medium.com', 'teach4theheart.com', 'speakingofjung.com', 'lawtofact.com', 'studentloanplanner.com', 'ebacademics.com', 'davidharvey.org', 'coachweston.com', 'endinghumantrafficking.org', 'economicrockstar.com', 'remarkablechatter.com', 'chrmbook.com', 'ohio-state.edu', 'lizhi.fm', 'switchpod.com', 'collegeadmissionstoolbox.com', 'learningscientists.org', 'cwu.edu', 'insocialwork.org', 'blogspot.co.uk', 'readingteacherslounge.com', 'studentpride.co.uk', 'akilahsrichards.com', 'ollielovell.com', 'ervineducationalconsulting.com', 'triallawyerconfidential.com', 'veteccsmalltalk.com', 'burnedinteacher.com', 'deskfree.org', 'apologia.com', 'jareddillianmoney.com', 'publicbroadcasting.net', 'easystoriesinenglish.com', 'heterodoxacademy.org', 'homeschoolon.com', 'understood.org', 'accountingplay.com', 'strengthsnotstrikes.com', 'adayinourshoes.com', 'calledtohome.com', 'collegepreppodcast.com', 'teachertactics.com', 'mariannetalbot.co.uk', 'periodiceffects.com', 'pltw.org', 'evidenceinmotion.com', 'nowsparkcreativity.com', 'carrickinstitute.com', 'vetschoolunleashed.com', 'whimsicalteaching.com', 'counsellingtutor.com', 'zoo-phonics.com', 'thepalife.com', 'velocitylsat.com', 'jillianstarrteaching.com', 'writinguniversity.org', 'smarttutor.com', 'growingleaders.com', 'northwestern.edu', 'eslpod.com', 'thehomegrownhelpers.com', 'rvc.ac.uk', 'mstdfr.com', 'stanford.edu', 'michaelrank.net', 'educatorsforsocialjustice.org', '101homeschoolideas.com', 'anesthesiapodcast.com', 'tvo.org', 'libsynpro.com', 'kingsandgenerals.net', 'doescollegematter.org', 'booksbetween.com', 'smallactbigimpact.com', 'grinnell.edu', 'anacrusic.com', 'juliekimconsulting.com', 'lww.com', 'schoolleadershipreimagined.com', 'cornell.edu', 'eslteachertalk.com', 'invisiblenotbroken.com', 'circenstitute.org', 'civiced.org', 'notyourteacherpodcast.com', 'zizekpodcast.com', 'leighbortins.com', 'acadamespodcast.com', 'teachbetter.co', 'coffeebreakchinese.com', 'elevationchurch.org', 'disgracelandpod.com', 'cadence13.com', 'brokenrecordpodcast.com', 'globalcitizen.org', 'dissectpodcast.com', 'wnycstudios.org', 'npr.org', 'mworthofgame.com', 'endeavoraudio.com', 'drinkchamps.com', 'songexploder.net', '20k.org', 'hot97.com', 'switchedonpop.com', 'aboveandbeyond.nu', 'rollingstone.com', 'nytimes.com', 'andymineo.com', 'los40.com.mx', 'tiesto.com', 'andthewriteris.com', 'omny.fm', 'soundopinions.org', 'headgum.com', 'power106.com', 'yfbspod.com', 'kexp.org', 'anjunadeep.com', 'walkingthefloor.com', 'andyhedges.com', 'mvsnoticias.com', 'watchingthethrone.com', 'soundtrackpodcast.com', 'andyfrasco.com', 'joelosteen.com', 'theplacewefindourselves.com', 'wordonfireshow.com', 'thebibleproject.com', 'reviveourhearts.com', 'life.church', 'lightsource.com', 'fiercemarriage.com', 'journeywomenpodcast.com', 'freshlifechurch.com', 'radical.net', 'thegospelcoalition.org', 'desiringgod.org', 'barbellsforboobs.org', 'shrm.org', 'strongtowns.org', 'mpoweredstrategies.com', 'greenbiz.com', 'courtinnovation.org', 'csiaexchange.com', 'eli.org', 'iise.org', 'edenhousing.org', 'hilandconsulting.org', 'nonprofitstorytellingconference.com', 'appianmedia.org', 'constructionprogress.org', 'cindymaymarketing.com', 'valleybaptist.org', 'whyservicedesignthinking.com', 'mcgarvey.net', 'volunteerplaintalk.com', 'bigducknyc.com', 'theimmigrationcoalition.com', 'ruffalonl.com', 'fullyfundedpodcast.com', 'nonprofitjenni.com', 'inspiredsm.com', 'amazonaws.com', 'frontrowfoundation.org', 'majorgiftsfundraiser.com', 'pixelspoke.com', 'eesi.org', 'studiocchicago.com', 'homelessworldcup.org', 'evoluerhouse.org', 'gbta.org', 'believersconnection.org', 'equalrightsinstititute.com', 'ladieschitchatclub.com', 'paralanaturaleza.org', 'ipa.org', 'timeandtalentpod.com', 'findingimpact.com', 'twilatv.org', 'mjsorority.com', 'collateralrepairproject.org', 'betterfundraising.com', 'peopleprocesses.com', 'advocacyhelpdesk.com', 'themacfarlangroup.com', 'ageofoe.com', 'svahsolutions.com', 'sspnet.org', 'marybyers.com', 'christianapp.org', 'womenvetsrock.org', 'namic.org', 'whathopelookslike.org', 'inam.berlin', 'buzzsprout.com', 'amcham-shanghai.org', 'acikradyo.com.tr', 'theconsumergoodsforum.com', 'drgenevaspeaks.com', '7figurefundraising.com', 'raps.org', 'thecausecafe.com', 'aidforaidworkers.com', 'cam.ac.uk', 'lidji.org', 'aspeninstitute.org', 'citycurrent.com', 'moerycompany.com', 'rpcra.org', 'conversationsincloseprotection.com', 'ushcc.com', 'primedia.co.za', 'seizethegood.org', 'vitreogroup.ca', 'nonprofitluminaries.com', 'rss.com', 'thesmallnonprofit.com', 'foundationsource.com', 'smith-dale.com', 'chamberchatpodcast.com', 'healingbrokenheartsproject.com', 'scottgress.com', 'girishshivakumar.com', 'kingdomsports.online', 'defeatthedrama.com', 'inspirefm.org', 'onecountryproject.org', 'socialorigin.net', 'harfordcountyliving.com', 'interactcom.com', 'coworkingaccelerator.network', 'txenergylab.com', 'cast.rocks', '.', 'conference-board.org', 'nonprofitpotential.com', 'aist.asn.au', 'nielsenconsults.com', 'virtualexecutivedirector.com', 'sowt.com', 'ximalaya.com', 'lisc.org', 'fadedred.com', 'givingpodcast.org', 'raisingwithlisaclark.com', 'missionadvancement.com', 'downtodonate.com', 'ruffriders.org', 'maggiesplace.org', 'rachellerosegold.com', 'novacommunities.com', 'conimby.org', 'teaminfaith.com', 'motherearthsheroes.show', 'njja.org', 'texasmasonrycouncil.org', 'socialimpactadvisors.ca', 'amaeya.media', 'giftplanningdevelopment.com', 'urbanyouthimpact.com', 'jennakimjones.com', 'cowboyboys.rodeo', 'nerdswithwordspodcast.com', 'growndadbusiness.com', 'thehistoryofstandup.com', 'threeguyson.com', 'abc.net.au', 'justangi.com', 'podigee.io', 'jordanraybould.com', 'kevinryancomedy.com', 'jokesbyjo.com', 'columtyrrell.com', 'robcomedy.co.uk', 'bandcamp.com', 'patoates.com', 'roginkim.com', 'normaugustinus.com', 'livefromthedutchhall.com', 'howsyourrobot.com', 'rtl.fr', 'theblacktapespodcast.com', 'rabbitspodcast.com', 'nycballet.com', 'truecrimehistorian.com', 'todaytix.com', 'wnyc.org', 'spokemedia.io', 'firstmrsclaus.com', 'stoopstorytelling.com', 'tm2cpodcast.com', 'gayfuturepodcast.com', 'spinespodcast.com', 'otrwesterns.com', 'howtobeamazingshow.com', 'greatdetectives.net', 'congeriapodcast.com', 'behindthecurtainpodcast.blog', 'littleknownfactspodcast.com', 'thetheatrepodcast.com', 'thefarmeridian.com', 'metguild.org', 'radaronline.com', 'otrpodcasts.com', 'theatreoftomorrow.com', '702.co.za', 'theaterppl.com', 'hamibash.com', 'theensemblist.com', 'cbc.ca', 'musicbusinesshacks.com', 'americantheatre.org', 'soapoperadigest.com', 'speakupstorytelling.com', 'nynjbengali.com', 'mabelpodcast.com', 'originsthepodcast.com', 'relicradio.com', 'broadwayradio.com', 'truestorytime.org', 'arcstories.com', 'danabowling.com', 'livewireradio.org', 'broadwaypodcastnetwork.com', 'broadwayblack.com', 'hollywoodboundactor.com', 'kinjazpodkast.com', 'professorprince.com', 'kakosindustries.com', 'chopbard.com', 'latw.org', 'botar.us', 'thebellydancebundle.com', 'cryptonaturalist.com', 'thetrapset.net', 'kaleidotropepodcast.com', 'kristenzaza.com', 'wormwoodshow.com', 'tendusunderapalmtree.com', 'emilyschultz.com', 'thespaceward.com', 'crossroadstations.com', 'jimandtomic.com', 'dancebosspodcast.com', 'wgnradio.com', 'earepic.com', 'broadway.com', 'theirishdancepodcast.com', 'lucydpodcast.com', 'abalancingact.biz', 'symphonyspace.org', 'timebomb.show', 'singbetterfast.com', 'jessemcanally.com', 'thedancepodcast.com', 'consenses.org', 'starsinger.co', 'misfitsaudio.com', 'julianorton.com', 'midnightdisease.net', 'chasersofthelight.com', 'moonlightaudiotheatre.ca', 'ericbusbypresents.com', 'wikipedia.org', 'thelapse.org', 'beyondthemusiclesson.com', 'starshipexcelsior.com', 'vobuzzweekly.com', 'masteryourvoice.tv', 'rockpaperpodcast.com', 'johnhenny.com', 'theproducersperspective.com', 'talkshoe.com', 'nowickimedia.com', 'redcircle.com', 'newsounds.org', 'thewrongcatdied.com', 'danceandstuff.com', 'bobreeves.com', 'brettybang.com', 'y100fm.com', 'whoweekly.us', 'pagesix.com', 'simplecast.com', 'thepodglomerate.com', 'blackgirlnerds.com', 'vox.com', 'sussexsquad.com', 'thecloutcloud.com', 'bunnyranch.com', 'dizneycoasttocoast.com', 'cadenaser.com', 'bluedevilhub.com', 'cosmopolitan.com', 'popculture.com', 'didyoureddit.com', 'hijosdelaweb.com', 'mediamonarchy.com', 'podiumpodcast.com', 'alphamagazines.com', 'dorksidecookies.net', 'wradio.com.co', 'pizzacasts.com', 'theb-easypodcast.com', 'thelostogle.com', 'drhyman.com', 'drmariza.com', 'paulsaladinomd.com', 'theqwordpodcast.com', 'emclerkship.com', '2docstalk.com', 'straightanursingstudent.com', 'drchristianson.com', 'nrsng.com', 'medsurgmoments.com', 'bedside-rounds.org', 'rebelem.com', 'foamcast.org', 'ardensday.com', 'pedscases.com', 'ernursepro.com', 'juliefoucher.com', 'surgery101.org', 'becomebraveenough.com', 'emergencymedicalminute.com', 'hippoed.com', 'aptacasts.com', 'apexanesthesia.com', 'resusnurse.com', 'pemplaybook.org', 'emedhome.com', 'hpdarch.com', 'dustyhegge.com', '985thesportshub.com', 'homeschooldpodcast.com', 'thedailygardener.org', 'plantrama.com', 'passthepistil.com', 'neverskipbrunch.com', 'declutterhub.com', 'sodshow.com', 'gardenorganic.org.uk', 'amongthejungle.com', 'empressofdirt.net', 'easylivingyards.com', 'talkingconstruction.com', 'thisoldhouse.com', 'housesmartstv.com', 'laurenkeenan.com.au', 'skinnyjeangardener.co.uk', 'gardensweedsandwords.com', 'degreeofgreen.com', 'theplantbasedpodcast.net', 'themarblegroup.co.uk', 'heritageacresmarket.com', 'rootsandall.co.uk', 'kslnewsradio.com', 'trayerwilderness.com', 'kiwimana.co.nz', 'worldorganicnews.com', 'nadinestay.com', 'moneypit.com', 'joffelphick.co.uk', 'theveggrowerpodcast.co.uk', 'radioplay.se', 'handymanprosradioshow.com', 'juliannerobertson.com', 'growmilkweedplants.com', 'spokengarden.com', 'papemachinery.com', 'deckergetsitdone.com', 'yourhealthyhouse.ca', 'teajaysgarden.com', ' webstarts.com', 'bolius.dk', 'askthecontractors.com', 'simplescrapper.com', 'seworganisedstylepodcast.com', 'hiptobeasquarepodcast.com', 'creativequeso.com', 'yarnspinnerstales.com', 'stephaniesochadesign.com', 'desperatehousehackers.net', 'thebuildguildpodcast.com', 'spincontrolpodcast.com', 'amhsoycandles.com', 'veryseriouscrafts.com', 'sneisun.com', 'transistor.fm', 'nbcnews.com', 'headsofsierrablanca.com', 'passengerlist.org', 'dailywire.com', 'crooked.com', 'serialpodcast.org', 'msnbc.com', 'barstoolsports.com', 'upandvanished.com', 'qcodemedia.com', 'revisionisthistory.com', 'wondery.com', 'mikerowe.com', 'thefantasyfootballers.com', 'lorepodcast.com', 'livediela.com', 'historyunobscured.com', 'thisiscriminal.com', 'espn.com', 'swordandscale.com', 'tntdrama.com', 'missedinhistory.com', 'freakonomics.com', 'casefilepodcast.com', 'bongino.com', 'abcaudio.com', 'dancarlin.com', 'highlightshangout.com', 'thehomeschoolsisters.com', 'dreambigpodcast.com', 'drrobynsilverman.com', 'funkidslive.com', 'noodleloafshow.com', 'lizs-early-learning-spot.com', 'simplycharlottemason.com', 'livingjoyfully.ca', 'ultimateradioshow.com', 'homeschoolunrefined.com', 'alwaysalesson.com', 'principalcenter.com', 'charlottemasonpoetry.org', 'tutorted.com', 'voiceamerica.com', 'musicboxpod.org', 'familyroadtriptriviapodcast.com', 'aftersectionals.com', 'teachstarter.com', 'higherscorestestprep.com', 'letsteachhistory.com', 'thewiredhomeschool.com', 'curiouskidspodcast.com', 'dadspotlight.com', 'edtrust.org', 'booksthatspeak.com', 'sageparnassus.com', 'pleasantridgewaldorf.org', 'ourmuslimhomeschool.com', 'wildwoodcurriculum.org', 'edeclipse.com', 'albasalix.com', 'auraltraditions.org', 'jupitersaloon.com', 'dumbdragons.com', 'saffronandperi.com', 'ghostpuncher.net', 'terribleadventurers.com', 'swordandstoner.com', 'definitelyhuman.co.uk', 'talkingfishpodcasts.com', 'tumblr.com', 'dockingpod.com', 'inspectre.', '1994podcast.com', 'riggstories.com', 'sexyhackers.com', 'darkagesshow.com', 'serendipitypod.com', 'curdleholler.com', 'pendantaudio.com', 'squibpod.com', 'disasterleague.com', 'wallacesprague.com', 'backwaterbastards.com', 'roommatefromhell.rip', 'nobodyaskedpod.com', 'dungeonsanddoritos.com', 'evilkittenproductions.com', 'brokenalaskapodcast.com', 'carlottapodcast.com', 'morebananaproductions.com', 'ttrpg-voices.com', 'am1066radio.com', 'patreon.com', 'dearmurderstreet.com', 'multiversetheatre.com', 'tailsfromthedarkdragonsinn.co.uk', 'newtonsdarkroom.com', 'horrorcityradio.com', 'flippingdatable.com', 'eftersidning.dk', 'russianforcats.com', 'overcast.com.br', 'projectwoowoo.com', 'stitcher.com', 'woodsqueer.xyz', 'facebook.com', 'necropodicon.com', 'beardedgentlemenmusic.com', 'dreamstorypodcast.com', 'tripletwenty.net', 'justpressplayhouse.com', 'noco.fm', 'abtspodcast.com', 'arcadeaudio.net', 'wenig-originell.de', 'joerogan.com', 'earwolf.com', '2bears1cave.com', 'adamcarolla.com', 'mydadwroteaporno.com', 'himalaya.com', 'theovon.com', 'thehollisco.com', 'mbmbam.com', 'wtfpod.com', 'thisistheread.com', 'iheart.com', 'morbidpodcast.com', 'andthatswhywedrink.com', 'itunes.com', 'congratulationspod.com', 'rambleofficial.com', 'arishaffir.com', 'heathermcdonald.net', 'spitballerspod.com', 'thebitchbible.com', 'wineandcrimepodcast.com', '85southshow.com', 'storypirates.com', 'thisisramble.com', 'insideofyoupodcast.com', 'samtripoli.com', 'russellbrand.com', 'h3h3productions.com', 'gasdigitalnetwork.com', 'tryguys.com', 'roosterteeth.com', 'beachtoosandy.com', 'hilariousworld.org', 'theplatform.com', 'twogirlsoneghostpodcast.com', 'thehoneydewpodcast.com', 'sorryaboutlastnightcomedy.com', 'wbez.org', 'kevinandbean.com', 'starburnsaudio.com', 'dolloppodcast.com', 'drewandmikepodcast.com', 'wheremymomsat.com', 'tinyurl.com', 'rickandbubba.com', 'thewoodyshow.com', 'callieandjeff.com', 'foreverdogpodcasts.com', 'potterlesspodcast.com', 'sinisterhood.com', 'riotcast.com', 'westwoodonepodcasts.com', 'duncantrussell.com', 'iliza.com', 'tidal.com', 'elerazno.com', 'wmmr.com', 'makingthebreastofitpod.com', 'andrewsantino.com', 'starburns.audio', 'fakeclothingco.com', 'smosh.com', 'hillbillyhorrorstories.com', 'instagram.com', 'jokoy.com', 'selfhelplesspodcast.com', 'studio71us.com', 'timdilloncomedy.com', 'rachelballingercomedy.com', 'lgtcpodcast.com', 'bobandsheri.com', 'chenteydrach.com', 'betches.com', 'nealbrennan.com', 'dearmedia.com', 'opieradio.com', 'circlingbackpodcast.com', 'kikisaidso.com', 'pineapple.fm', 'teamcoco.com', 'cc.com', 'knit.audio', 'economist.com', 'dallasnews.com', 'thenewsworthy.com', 'washingtonpost.com', 'politico.com', 'catandnat.ca', 'kqed.org', 'dailysignal.com', 'gisthealthcare.com', 'time.com', 'europe1.fr', 'ozy.com', 'understandingwar.org', 'dailydetroit.com', 'ny1.com', 'rte.ie', '7ampodcast.com.au', 'latimes.com', 'houstonpublicmedia.org', 'thedailybeast.com', 'bipartisanpolicy.org', 'washingtontimes.com', 'pennlive.com', 'globo.com', 'kutpodcasts.org', 'curiouscast.ca', 'thedeependdesign.com', 'userdefenders.com', 'bigdesignsmallbudget.com', 'adventuresin.design', 'kcrw.com', 'honestdesigners.com', 'decor8blog.com', 'thevinepodcast.com', 'outdoorpainter.com', 'design.google', 'schoolofmotion.com', 'prooftoproduct.com', 'thequickiepodcast.com', 'seattleurbanfarmco.com', 'thecrazy1.com', 'entrearchitect.com', 'archinect.com', 'uxpodcast.com', 'majomolfino.com', 'monocle.com', 'betterbranddesigner.com', 'curbed.com', 'highresolution.design', 'fluidhive.com', 'modernsewciety.com', 'threadsmagazine.com', 'designobserver.com', 'failedarchitecture.com', 'archispeakpodcast.com', 'dribbble.com', 'columbia.edu', 'midnightcharette.com', 'lifeofanarchitect.com', 'kaleidoscopeliving.com', 'bhg.com', 'fundamentalprocess.com', 'gistyarn.com', 'tedwells.com', 'thisishcd.com', 'artcenter.edu', 'kandrac-kole.com', 'mayesh.com', 'htm.', 'redlotusletter.com', 'mimodes.com', 'positiveenergy.pro', 'woodworkingfunhour.com', 'aid.network', 'workingwithoutpants.com', 'thecreativerising.com', 'botanicalbrouhaha.com', 'uxcake.co', 'godowntownbaltimore.com', 'hortoccult.com', 'agencytrailblazer.com', 'indigenousurbanism.net', 'designsponge.com', 'businesshomies.com', 'obsessedshow.com', 'wereallcreative.com', 'visioncity.biz', 'theuxintern.com', 'thegamedesignroundtable.com', 'podiant.co', 'stagg-design.com', 'toginet.com', 'seanlally.net', 'gensler.com', 'urbanize.la', 'kdunn.info', 'nevernotknitting.com', 'shape.co', 'themedattraction.com', 'creativemornings.com', 'vastnoodle.com', 'justynagreen.com', 'porcelanosa-usa.com', 'designbizsurvivalguide.com', 'peachandpinehome.com', 'resourcefuldesigner.com', 'schooloftextiles.com', 'radandhappy.com', 'workingfile.co', 'thepodcastdude.com', 'urbannous.org.uk', 'tfm.co.jp', 'fbiradio.com', 'spd.org', 'snakeriverforge.com', 'yarn.com', 'takenote.space', 'elleandcompanydesign.com', 'thezibrablog.com', 'blacksmither.com', 'creativebizrebellion.com', 'sewtaco.com', 'countryandtownhouse.co.uk', 'parcast.com', 'welcometonightvale.com', 'thenosleeppodcast.com', 'limetown.com', 'paypal.com', 'bestrobotever.com', 'thebrightsessions.com', 'thetruthpodcast.com', 'aliceisntdead.com', 'wolf359.fm', 'hawkandcleaver.com', 'stilllivespodcast.com', 'skylarkmedia.com', 'withinthewires.com', 'lif-e.af', 'scareyoutosleep.com', 'sundancenow.com', 'scparchives.com', 'theleviathanchronicles.com', 'archive81.com', 'thebestaudiobooks.com', 'hiddenpeoplepodcast.com', 'controlgroup.show', 'clarkesworldmagazine.com', 'dreamboypodcast.com', 'libertyendures.com', 'firesidemysterytheatre.com', 'thebiglooppodcast.com', 'jointhepartypod.com', 'arsparadoxica.com', 'twoupproductions.com', 'westsidefairytales.com', 'ameliapodcast.com', 'girlinspacepodcast.com', 'woodenovercoats.com', 'thedarktome.com', 'scottsigler.com', 'whisperforge.org', 'angelofvine.com', 'planetm.io', 'rosedrivepodcast.com', 'thebunkerpodcast.com', 'victoriocity.com', 'decoderringtheatre.com', 'howidiedpodcast.com', 'phenomenonpod.com', 'ardenpodcast.com', 'orphanspod.com', 'attentionhellmartshoppers.com', 'derelictpodcast.com', 'tigtorres.com', 'radiodramarevival.com', 'thebridgepod.com', 'victoriaslift.com', 'oz-9.com', 'thepalimpsestpodcast.com', 'poundedinthebuttbymyownpodcast.com', 'cryptaseries.com', 'tunnelspodcast.com', 'starcalled.space', 'knightfallsmedia.com', 'cthulhumystery.com', 'monsterpornpodcast.com', 'theatomiclibrary.com', 'scarystorytime.com', 'tidespodcast.com', 'makeshiftstories.com', 'morgangivens.com', 'constantspodcast.com', 'arolivieri.com', 'iamineskew.com', 'ostiumpodcast.com', 'pointmystic.org', 'abscondermedia.com', 'marscorppodcast.com', 'thedecatapes.com', 'storiesfablesghostlytales.com', 'smokeandmirrorsaudio.com', 'unplacedpodcast.com', 'rudealchemy.com', 'shoutengine.com', 'amongthestarsandbones.com', 'sageandsavant.com', 'jimheskett.com', 'nightlightpod.com', 'castofwonders.org', 'theveiledmonarch.com', 'scottishpodcast.com', 'monkeymanproductions.com', 'sixdisappearancespodcast.com', 'teamjavras.fr', 'marklevinshow.com', 'glennbeck.com', 'hbo.com', 'worstyearpod.com', 'democracynow.org', 'lawfareblog.com', 'couricpodcast.com', 'louderwithcrowder.com', 'theskimm.com', 'hannity.com', 'muellershewrote.com', 'robinhood.com', 'theaustralian.com.au', 'billoreilly.com', 'leadsingersyndrome.com', 'washedupemo.com', 'sodajerker.com', 'jabberjawmedia.com', 'fretboardjournal.com', 'smipodcast.com', 'everyonelovesguitar.com', 'workingclassaudio.com', 'thetapesarchive.com', 'josepharthur.com', 'standpartnersforlife.com', 'talkhouse.com', 'nosimpleroad.', 'otherrecordlabels.com', 'thesoundmedia.com', 'threesidesofthecoin.com', 'pedalnotemedia.com', 'fuzzlordeffects.com', 'rocknrollarchaeology.com', 'workingdrummer.net', 'pastemagazine.com', 'tonemob.com', 'contrabassconversations.com', 'drummersresource.com', 'lambgoat.com', 'theguitarhour.com', 'vishkhanna.com', 'tinocochinoradio.com', 'cindyhowes.net', 'learnfrenchwithalexa.com', 'reallifelanguage.com', 'spanishobsessed.com', 'koreanclass101.com', 'culips.com', 'talktomeinkorean.com', 'newsinslowfrench.com', 'frenchyourway.com.au', 'slowgerman.com', 'apmreports.org', 'makingitpodcast.com', 'sportscardinvestor.com', 'sewdaily.com', 'collected.company', 'birdwatchersdigest.com', 'whoapodcast.com', 'modelaircraft.org', 'rhs.org.uk', '\\u202a\\u202ahttps.', 'forgethenarrative.net', 'voxcastpodcast.com', 'breakerculture.com', 'bkcorner.org', 'castjunkie.com', 'knittingpipeline.com', 'horseracingradio.net', 'thesucculentfaq.com', 'wetalkfiber.com', 'polygon.com', 'squarespace.com', 'markofthemaker.com', 'glasscannonpodcast.com', 'modernwoodworkersassociation.com', 'coinworld.com', 'pipeandtamper.com', 'fermentationnation.net', 'stormcastpodcast.com', '12treasures.com', 'bhookedcrochet.com', 'pipesmagazine.com', 'anteupmagazine.com', 'beersmith.com', 'iliketomakestuff.com', 'fuckthisknit.com', 'trivialwarfare.com', 'eamonart.com', 'tennandtwo.com', 'asapodcasting.com', 'bassfishingdads.com', 'gardenfork.tv', 'homebrewhappyhour.com', 'theatgpodcast.com', 'newsoutherngarden.com', 'brfinewoodworking.com', 'thegardenpathpodcast.com', 'hortmag.com', 'norfolk-honey.co.uk', 'korda.co.uk', 'twit.tv', 'onboardgames.net', 'knitbritish.net', 'stashandburn.com', 'deckcelsior.com', 'reefnewsnetwork.com', 'unravelingpodcast.com', 'xmenpodcast.com', 'sewingtheory.com', 'homeofhouseplants.com.au', 'thewoodwhisperer.com', 'knerdgirlknits.com', 'plannergirlchatter.com', 'sewhere.com', 'makeorbreakshop.com', 'historicalsewing.com', 'saltwateraquariumradio.com', 'ancestry.com.au', 'powerpurlspodcast.com', 'amodelerslife.com', 'birdbanter.com', 'bmw-motorrad.com', 'gorillaairsoftradio.com', 'scottishwatches.co.uk', 'ditdit.fm', 'podcastgarden.com', 'shinybees.com', 'scalemodelpodcast.com', 'deejay.it', 'quiltmoxie.com', 'relentlessknitting.com', 'thehivejive.com', 'erasable.us', 'thecornercutterpodcast.com', 'stitchersbrewpodcast.co.uk', 'bishybarnababes.co.uk', 'cottagenotebook.ie', 'theknifejunkie.com', 'vgbstudios.com', 'geekandsundry.com', 'winggirlmethod.com', 'trippadvice.com', 'justbreakuppod.com', 'pleasuremechanics.com', 'ivoox.com', 'multiamory.com', 'theheartradio.org', 'relationshipschool.com', 'datingwithdignity.com', 'dawnserra.com', 'sexuallyliberatedwoman.com', 'datingadviceguru.com', 'juliet-allen.com', 'drdrew.com', 'nicolabeer.com', 'kaylalords.com', 'whyarepeopleintothat.com', 'thesexed.com', 'sexandrelationshiphealing.com', 'iditsharoni.com', 'talkaboutgaysex.com', 'lovelink.co', 'slutsandscholars.com', 'sexwithstrangersshow.com', 'lifeontheswingset.com', 'normalizingnonmonogamy.com', 'delightyourmarriage.com', 'insideeyespodcast.com', 'sexstoriespodcast.com', 'myfavoritemurder.com', 'cafe.com', 'playtimepaws.com', 'thedogsway.com', 'wonderpupstraining.com', 'robertcabral.com', 'enlightenedbydogs.com', 'springhillequine.com', 'trainthroughplay.com', 'non-stopdogwear.com', 'pinecast.co', 'makingsenseofpets.com', 'blazingcariboustudios.com', 'theblaze.com', 'abirdhuntersthoughts.com', 'mindfulmuttmama.com', 'dogworksradio.com', 'makeupandmalinois.com', 'dajglospodcast.pl', 'olijustedogtrainer.co.uk', 'pawsomeuniversity.com', 'thrivingdog.co', 'barknwag.com', 'dogsavethepeople.com', 'tripawds.com', 'whatisdog.com', 'thefamilydog.com', 'thankdogitsfridaypodcast.com', 'thedogsavant.com', 'twovetstalkpets.com.au', 'positivegroomer.com', 'animalsathome.ca', 'wienerdoglover.com', 'talkingwiththedogs.com', 'inflowradio.com', 'thepawdlife.com', 'allabouttrainingdogs.com', 'pvactx.org', 'pushkin.fm', 'tonyrobbins.com', 'gretchenrubin.com', 'rachelcruze.com', 'duolingo.com', 'goop.com', 'thelifecoachschool.com', 'marieforleo.com', 'radiolingua.com', 'richroll.com', 'kwikbrain.com', 'johnmaxwellleadershippodcast.com', 'tiffanyspeaks.com', 'coffeebreakfrench.com', 'jodymoore.com', 'zipcodeeconomies.org', 'bpluspodcast.com', 'myspanishconnection.com', 'theoverwhelmedbrain.com', 'jordanharbinger.com', 'thelazygeniuscollective.com', 'finlayson-fife.com', 'ted.com', 'qdnow.com', 'cultofpedagogy.com', 'mindvalley.com', 'truthforteachers.com', 'motivationtomove.com', 'beforebreakfastpodcast.com', 'halelrod.com', 'jamesaltucher.com', 'econtalk.org', 'coffeebreakitalian.com', 'languagetreks.com', 'thefuckitdiet.com', 'rachelhart.com', 'prageru.com', 'abeautifulanarchy.com', 'livinghour.org', 'allearsenglish.com', 'learnfrenchbypodcast.com', 'letsspeakitalian.net', 'hellointernet.fm', 'tiffanybonilla.co', 'clevergirlfinance.com', 'therecoveryshow.com', 'thehighersidechats.com', 'spanishpod101.com', 'doctoroz.com', 'coffeebreakgerman.com', 'youneedabudget.com', 'realweightlossrealwomen.com', 'thepillarlife.com', 'daniellelaporte.com', 'dailystoic.com', 'theadultchair.com', 'victorprep.com', 'notesinspanish.com', 'slaygrlslay.com', 'learningspanishforbeginners.com', 'dailyfrenchpod.com', 'mindlove.com', 'jennburton.com', 'spanishinonemonth.com', 'voanews.com', 'coolcatteacher.com', 'lse.ac.uk', 'newsinslowspanish.com', '7goodminutes.com', 'jeffsanders.com', 'conversationswithtyler.com', 'japanesepod101.com', 'cnn.com', 'strengthsphoenix.com', 'blackgirlsheal.org', 'frenchpod101.com', 'lewishowes.com', 'kuow.org', 'nodumbquestions.fm', 'masterysessions.com', 'christinehassler.com', 'thrive.how', 'englishclass101.com', 'civics101podcast.org', 'frenchkisslife.com', 'learngermanbypodcast.com', 'clinicalproblemsolving.com', 'patrickbetdavid.com', 'dummies.com', 'unlimitedspanish.com', 'effortlessenglishclub.com', 'docmolly.com', 'germanpod101.com', 'jenriday.com', 'jimfortin.com', 'buddhistbootcamp.com', 'hillsdale.edu', 'italianpod101.com', 'thesimplyluxuriouslife.com', 'crystalpaine.com', 'jennifer365.com', 'mysticmichaela.com', 'theproductivewoman.com', 'nataliejillfitness.com', 'allceus.com', 'theautismhelper.com', 'melnyks.com', 'newsinslowitalian.com', 'aboutprogress.com', 'rachelsenglish.com', 'inkwellpress.com', 'glspodcast.com', 'yourkickasslife.com', 'thetoxicpeopledetox.com', 'lawschooltoolbox.com', 'melissaknorris.com', 'nhk.or.jp', 'thesimpleshow.com', 'learnjapanesepod.com', 'amyandjordan.com', 'teaandintimacy.com', 'simplicityparenting.com', 'pronuncian.com', 'georgethepoet.com', 'vetgirlontherun.com', 'bizarrealbums.com', 'oasisinet.com', 'edge.ca', 'nationalreview.com', 'cathousehollywood.com', 'holdingthingstogether.com', 't.me', 'warhornmedia.com', 'drumhistorypodcast.com', 'pantheonpodcasts.com', 'chrisgainespodcast.com', 'robertgreenbergmusic.com', 'letitrollpodcast.com', 'imbalancedhistory.com', 'ftr70.com', 'thebandpodcast.com', 'tinseltunes.com', 'rockcandypodcast.com', 'liverpoolecho.co.uk', 'root of hip hop.', 'rareandscratchy.com', 'vinylmeplease.com', 'neilratnerrockdoc.com', 'arzamas.academy', 'woodstocknationmovie.com', 'wcwp.org', 'ptbopodcasters.ca', 'satanandrainbows.com', 'hearthis.at', 'trumpconlaw.com', 'aclj.org', 'fieldcraftsurvival.com', 'micspod.com', 'nih.gov', 'un.org', 'marketplace.org', 'armedamericanradio.org', 'mentorsformilitary.com', 'oyez.org', 'senate.gov', 'csis.org', 'joangarry.com', 'globalrecon.net', 'wjcu.org', 'skillsetmag.com', 'usni.org', 'thehealthcarepolicypodcast.com', 'nationalsecuritylawpodcast.com', 'workingdogradio.com', 'sc.org', 'charlieswenson.com', 'fbi.gov', 'fema.gov', 'hkspolicycast.org', 'cityofmadison.com', 'scbwi.org', 'congressionaldish.com', 'contractingofficerpodcast.com', 'wvpublic.org', 'scholarsstrategynetwork.org', 'goodwaysinc.com', 'armywarcollege.edu', 'nhpr.org', 'nonprofitoptimist.com', 'ems1.com', 'twihl.com', 'constitutionstudy.com', 'ausa.org', 'nonprofitleadershippodcast.org', '70westpress.com', 'upenn.edu', 'quiverfulladoptions.com', 'pilotsloungepodcast.com', 'chds.us', 'elgl.org', 'ca.gov', 'dvidshub.net', 'onlinefundraisingstrategy.com', 'trashybeauty.com', 'aei.org', 'brookings.edu', 'wordsonwaterwef.com', 'ncsl.org', 'asmdc.org', 'nbpd.org', 'mattersofstate.org', 'dermcast.tv', 'gao.gov', 'cms.gov', 'econclub.org', 'policeone.com', 'firstmondays.fm', 'rff.org', 'forcepoint.com', 'thadforester.com', 'politicsinquestion.com', 'iccsafe.org', 'wwno.org', 'ourcuriousamalgam.com', 'warontherocks.com', 'myajc.com', 'exoduscry.com', 'aecf.org', 'goodpeopledoinggood.org', 'alpa.org', 'nfb.org', 'veritusgroup.com', 'plantwithpurpose.org', 'noaa.gov', 'nonprofitally.com', 'animalrescueprofessionals.org', 'eji.org', 'mainepublic.org', 'communitycatspodcast.com', 'pewtrusts.org', 'nps.gov', 'cfr.org', 'michigan.gov', 'specialoperations.com', 'alzheimers.org.uk', 'thecompliancetimes.com', 'tpwf.org', 'wxxinews.org', 'pslstrive.org', 'statematters.org', 'casaforchildren.org', 'nebraska.gov', 'grantthornton.com', 'ginsburgtapes.com', 'monumental.ly', 'wbgl.org', 'globalgoalscast.org', 'theyhadtogoout.com', 'houseontherock.org.ng', 'bjconline.org', 'tonyloyd.com', 'cii.org', 'local10.com', 'cnas.org', 'cfyj.org', 'worldbank.org', 'accordnetwork.org', 'citizentacoma.com', 'themilitaryleader.com', 'splinteredcaravan.com', 'cybernauticapod.com', 'serialbox.com', 'observeandreportpodcast.com', 'icynewyear.com', 'pastbedtimestudio.com', 'theendoftheirworlds.co.uk', 'thomastellsastory.com', 'evergreenskypod.com', 'servingworlds.com', 'arkcity.us', 'dream-podcast.com', 'scp.cafe', 'podmanifest.com', 'masseffectadventum.com', 'wixsite.com', 'mortalenemybook.com', 'harrypotterpodcast.ir', 'sector0pod.com', 'ladiesofthefright.com', 'superordinarypod.com', 'journeybeyondtheskies.com', 'transmissionsfromatlantis.com', 'quantumqueen.studio', 'fireonthemound.com', 'theveiledwest.com', 'neverrad.com', 'studiocandc.com', 'scifitalk.com', 'battlegroundproductions.org', 'stppodcast.com', 'ninthworldjournal.com', 'crossovers.org', 'toplessrobot.com', 'eulypsaprotocol.com', 'zshanma.com', 'dudesinhyperspace.com', 'talesofnowhere.com', 'gallerycurious.com', '600secondsaga.com', 'yesterdaysscifi.com', 'onuniverse.com', 'robotechnovels.com', 'jackmonkeygames.com', 'geekygirl.uk', 'sicsemperserpent.com', 'drabblecast.org', 'mcginty.live', 'jeeperscreeperspodcast.com', 'distantfuturejosh.com', 'thechimera.space', 'damonsbravenewworld.com', 'ambitgroup.com', 'imanadventurer.com', 'coffeecontrails.com', 'oldtimeraidodvd.com', 'listentothesignal.com', 'jessemercury.com', 'spartan.com', 'yogadownload.com', 'jasonferruggia.com', 'mobilitywod.com', 'shapescale.com', 'strengthcoachpodcast.com', 'barbell-logic.com', 'shopemilyhayden.com', 'fitpantsthepodcast.com', 'purplepatchfitness.com', 'artofcoaching.com', 'just-fly-sports.com', 'fasterwaytofatloss.com', 'masteryourhealth.net', 'questionabledepth.com', 'criticalbench.com', 'foodforfitness.co.uk', 'celestial.fit', 'legendarylifepodcast.com', 'liftednaturals.com', 'robertsontrainingsystems.com', 'babbittville.com', 'ptonice.com', 'veganfitness.com', 'completesportsperformancepodcast.com', 'dialedhealth.com', 'grindandbegratefulpodcast.com', 'strengthandscotch.com', 'theptdc.com', 'gmail.com', 'garagegymathlete.com', 'ironparadisefitness.com', 'swimbikemom.com', 'rdellatraining.com', 'thestackedpodcast.com', 'powerathletehq.com', 'geroshealth.com', 'logicalloss.com', 'informfitness.com', 'katiemillerfitness.com', 'drrhonda.com', 'krisgethin.com', 'overcomingms.org', 'steroidspodcast.com', 'epicprovisions.com', 'kathysmith.com', 'runeatrepeat.com', 'bodyscience.com.au', 'beyondbariatricsurgery.com', 'wilfleming.com', 'ftfwarrior.com', 'fitnessmarketingalliance.com', 'everforwardradio.com', 'lisekuecker.com', 'massenomics.com', 'starklife.us', 'telosrunning.com', 'reddeltaproject.com', 'barbend.com', 'kronic.fit', 'choreographytogo.com', 'ironcompany.com', 'reinforcedrunning.com', 'jasonglasslab.com', 'ericaziel.com', 'c60purplepower.com', 'kopn.org', 'abcfinancial.com', 'djschoeny.com', 'woddity.com', 'liveforthisfitness.com', 'hmmrmedia.com', 'alldayruckoff.com', 'northfriscocrossfit.com', 'lpages.co', 'yogapedia.com', 'adapnation.io', 'territoryrun.co', 'pendolatraining.com', 'lostandlifting.com', 'flintcrossfit.com', 'coachterrywilson.com', 'flowwithme.yoga', 'holistictherapiesdirectory.com', 'keeppulling.com', 'healthytipsafter50.com', 'engineeredperformance.ca', 'jsagym.com', 'fit2love.tv', 'operationmove.com.au', 'addictedtofitnesspodcast.com', 'jaxfitacademy.com', 'liftheavyrunlong.com', 'dadbodhealth.com', 'rugby-muscle.com', 'strengthmatters.com', 'performanceptri.com', 'innatefitness.com', 'truefitbalance.com', 'drruscio.com', 'melissaambrosini.com', 'letitouttt.com', 'muscleintelligence.com', 'asobergirlsguide.com', 'avivaromm.com', 'drchatterjee.com', 'peoplespharmacy.com', 'stephgaudreau.com', 'absolutemind.co.uk', 'bettershow.co', 'learntruehealth.com', 'coconutsandkettlebells.com', 'loveoveraddiction.com', 'mercola.com', 'noble-works.net', 'holisticwellness.ca', 'partyinmyplants.com', 'evolutionaryherbalism.com', 'snoreexperts.com', 'fertilityfriday.com', 'thelivinlowcarbshow.com', 'hayhouse.com', 'autoimmunewellness.com', 'notanotheranxietyshow.com', 'dryoun.com', 'biddytarot.com', 'theenergyblueprint.com', 'thatsoberguy.com', 'drummerandthegreatmountain.com', 'meditation.org.au', 'ordinaryvegan.net', 'mountainroseherbs.com', 'themindfulmovement.com', 'hyptalk.com', 'fastingtalk.com', 'chrisbeatcancer.com', 'adriennewei.com', 'foodhealsnation.com', 'therapyreimagined.com', 'fastinglane.com', 'igntd.com', 'drlovely.expert', 'jbrownyoga.com', 'healthymindfitbody.com', 'mindfulnessmode.com', 'boreyoutosleep.com', 'nourishingmindsnutrition.com', 'jannyorganically.com', 'hol-fit.com', 'oalaig.org', 'nutritionfacts.org', 'youngliving.com', 'thepcosnutritionist.com', 'nicolejardim.com', 'thechakragirlco.com', 'dranh.com', 'ishouldbemeditating.com', 'ketokamp.com', 'stressfreenaturally.com', 'spiralingpodcast.com', 'sustainabledish.com', 'zestyginger.com', 'sleepwithsilk.com', 'theasmrpodcast.com', 'calmlivingblueprint.com', 'mythoughtcoach.com', 'commonwealthherbs.com', 'myersdetox.com', 'matthewbivens.com', 'masteringdiabetes.org', 'hayleyhobson.com', 'aromaculture.com', 'drcarri.com', 'selfhelpforlife.com', 'drstuspodcast.com', 'thecureforchronicpain.com', 'elementshealingandwellbeing.com', 'victoriaalbina.com', '40plusfitnesspodcast.com', 'bigfatnegative.com', 'cleaneatingkitchen.com', 'fitnessista.com', 'livesimply.me', 'theadultingpodcast.com', 'joettecalabrese.com', 'simpleayurveda.com', 'helpmesleep.audio', 'amymyersmd.com', 'hippiehavenpodcast.com', 'brightervision.com', 'serenasystem.com', 'foodmatters.com', 'motherearthnews.com', 'joyoushealth.com', 'thehealthymaven.com', 'naturalpath.net', 'sharibroder.com', 'lifespa.com', 'venetiafalconer.com', 'creatingfromtheinsideout.com', 'themovementfix.com', 'womensmeditationnetwork.com', 'feedmephoebe.com', 'ronnie-landis.com', 'olgasway.com', 'hypnotizemepodcast.com', 'theresetbutton.co.uk', 'tonywrighton.com', 'robynbirkin.com', 'cyberears.com', 'sarahkeen.com', 'mariamarlowe.com', 'drhoffman.com', 'tinyfeet.co', 'naturopathicearth.com', 'laurenfitz.com', 'natchatproductionsltd.', 'drpompa.com', 'francescacervero.com', 'mindfulnessandgrief.com', 'theprehabguys.com', 'revolutionoilspodcast.com', '247sports.com', 'miamiherald.com', 'spielmanandhooley.com', 'charlotteobserver.com', 'kingsofthepodcast.us', 'gogamecocks.com', 'overtime.media', 'packernet.com', 'si.com', 'centexsportsfan.com', 'swingmanmedia.com', 'saythedamnscore.com', 'thefantasychampions.com', 'radicards.com', 'bearcatssportsradio.com', 'ravilullaradio.com', '1035thearrow.', 'rsn.net.au', 'garnetmedia.org', 'thebigkidproblems.com', 'youaremadeofmagic.com', 'natalieclay.com', 'kellydawn.co', 'mikaylajai.com', 'paconferenceforwomen.org', 'goodtobehomepodcast.com', 'exboyfriendrecovery.com', 'halepule.com', 'lifeingraceblog.com', 'realfoodwholelife.com', 'ptbpodcast.com', 'kateanthony.com', 'sparkjoypodcast.com', 'narcissistapocalypse.com', '75hard.biz', 'addictionunlimited.com', 'josephrodrigues.com', 'masterofmemory.com', 'josephclough.com', 'brotherbenx.com', 'womeninthemiddlepodcast.com', 'brilliantlivinghq.com', 'shakeuplearning.com', 'cathymazak.com', 'wheretheressmoke.co', 'kellitennant.com', 'thesquadroom.net', 'ashcebulka.com', 'eqevolution.co.za', 'otschoolhouse.com', 'motherrecovering.com', 'sedonachristina.com', 'mikedillard.com', 'themanamongstmen.com', 'persianschooloflife.com', 'markmetry.com', 'weatherford5.com', 'thejoyjunkie.com', 'maddymoon.com', 'innergoddesshealth.com', 'shrinkrapradio.com', 'characterstrong.com', 'jessemogle.com', 'kaysemorris.com', 'recoveredman.com', 'whatyouwilllearn.com', 'breakthetwitch.com', 'loatoday.net', 'howdoesshedoitpodcast.com', 'dynamisalliance.com', 'earlytorise.com', 'damonahoffman.com', 'bryanreeves.com', 'greensmoothiegirl.com', 'alcoholmastery.com', 'leaderofthepax.com', 'theconfusedmillennial.com', 'eliotmarshall.com', 'thelearnerlab.com', 'abbeysmiley.com', 'simplyborganized.com', 'aitapod.com', 'expectationtherapy.com', 'thepracticalherbalist.com', 'positive mindset.', 'michaelneeley.com', 'beabetterpersonpodcast.com', 'diahpodcast.com', 'dramyjohnson.com', 'williamdparker.com', 'lifeisamarathon.com', 'doclove.com', 'masterselflove.com', 'changemavie.com', 'educalme.com', 'kelseyvankirk.com', 'allegrasinclair.com', 'rorroechavez.com', 'thenittygrittypodcast.com', 'dirtylazyketo.com', 'angelagallo.com', 'mindfulproductivityblog.com', 'flawedfemales.com', 'monicaswanson.com', 'momstrugglingwell.com', 'anxioustoddlers.com', 'courageousparenting.com', 'simplefamilies.com', 'celebratekids.com', 'birthful.com', 'informedpregnancy.com', 'rachel-bailey.com', 'shamelessmomacademy.com', 'gozen.com', 'mightyparenting.com', 'messyfamilyproject.org', 'wholemamasclub.com', 'zenparentingradio.com', 'montessorieducation.com', 'theparentingjunkie.com', 'sageparenting.com', 'weturnedoutokay.com', 'adultconversationpodcast.com', 'mikeandkimcoaching.com', 'childoftheredwoods.com', 'thevbaclink.com', 'integratedschools.org', 'authenticparenting.com', 'blendedfamilypodcast.com', 'ncrcoaching.com', 'talkingfeds.com', 'pantsuitpoliticsshow.com', 'meetthepress.com', 'strangleholdpodcast.org', 'openargs.com', 'theintercept.com', 'reason.com', 'theatlantic.com', 'schoolcolorspodcast.com', 'abcradio.com', 'judicialwatch.org', 'radicalimagination.us', 'ridehome.info', 'lionsofliberty.com', 'inthethick.org', 'beingboss.club', 'miarene.com', 'hibandigital.com', 'essence.com', 'radicalcandor.com', 'happierinhollywood.com', 'trezno.com', 'networkmarketingpro.com', 'hvacrschool.com', '10000nos.com', 'pmi.org', 'accidentalcreative.com', 'blackentrepreneurblueprint.com', '100mba.net', 'abbeycappa.com', 'theglowuppodcast.com', 'reboot.io', 'sandler.com', 'theleaderspanel.com', 'bizchix.com', 'yesmasters.com', 'project-management-podcast.com', 'staceyboehman.com', 'lindsaytm.com', 'macslist.org', 'careercontessa.com', 'danlokshow.com', 'colleenogrady.com', 'americannegotiationinstitute.com', 'jbarrows.com', 'mikemichalowicz.com', 'pivotmethod.com', 'salesman.org', 'rainmaker.fm', 'productivity-podcast.com', 'thefairercents.com', 'emmagannon.co.uk', 'artoflikability.com', 'attagirlpodcast.com', 'socialstar.com.au', 'firmsconsulting.com', 'anamelikian.com', 'bethkirby.com', 'thefutureorganization.com', 'andyandrews.com', 'madeforprofit.com', 'saleshacker.com', 'practiceofthepractice.com', 'foodbloggerpro.com', 'macymcneely.com', 'aviationcareerspodcast.com', 'iapp.org', 'stephdennis13.com', 'brandingoutsidethebox.com', 'whitneyjohnson.com', 'youpreneur.com', 'joshcoats.com', 'communicationguys.com', 'buildingchampions.com', 'ideasu.com', 'latishascott.com', 'happentoyourcareer.com', 'iandaley.com', 'hannahashton.com', 'wallstreetoasis.com', 'youturnpodcast.com', 'pmforthemasses.com', 'gallup.com', 'retailgetsreal.com', 'amyjomartin.com', 'selfpublishingformula.com', 'betterthansuccess.com', 'engineeringmanagementinstitute.org', '48days.com', 'siepodcast.com', 'hrdleaders.com', 'therideshareguy.com', 'startupsfortherestofus.com', 'selltermlife.com', 'top1.fm', 'velociteach.com', 'careercloud.com', 'thisishermovement.com', 'thestrategyhour.com', 'warrioronfire.com', 'code3podcast.com', 'sap.com', 'challengerstrength.com', 'entrepreneur.com', 'sellingthecouch.com', 'shampooandbooze.com', 'ellevatenetwork.com', 'beautybusinesspodcast.com', 'classycareergirl.com', 'crdpodcast.com', 'jeffshore.com', 'deloitte.com', 'lstradio.com', 'landscapebusinesscourse.com', 'askahousecleaner.com', 'chicagobusiness.com', 'addicted2success.com', 'productivityist.com', 'b2blauncher.com', 'nextlevelagents.com', 'stealtheshow.com', 'dcpofficial.com', 'fulltimefba.com', 'rfpodcast.com', 'foodtruckr.com', 'morganstanley.com', 'manager-tools.com', 'respectthegrindpodcast.com', 'plantstrongpodcast.com', 'melanieavalon.com', 'flexibledietinglifestyle.com', 'ketogenicgirl.com', 'jjvirgin.com', 'aligntherapy.com', 'eatthis.com', 'bodykindnessbook.com', 'foodheavenmadeeasy.com', 'workingagainstgravity.com', 'lizmoody.com', 'hvmn.com', 'eatconfident.co', 'bicepsafterbabies.com', 'realfoodwithdana.com', 'peak-human.com', 'laurathomasphd.co.uk', 'fit2fat2fit.com', 'keynutrition.com', 'sigmanutrition.com', 'nutritionloft.com', 'leanneward.com.au', 'soundbitesrd.com', 'chatthefat.com', 'stephaniedodier.com', 'meaganfitzgerald.com', 'switch4good.org', 'heathercaplan.com', 'corinnedobbas.com', 'nourishmeorganics.com.au', 'weonlylookthin.com', 'nobullshitvegan.com', 'consummateathlete.com', 'alisonrosen.com', 'bobandtom.com', 'felipesworld.com', 'siempreeslunes.com', 'keithandthegirl.com', 'toripiskin.com', 'offmenupodcast.co.uk', 'rachaelobriencomedy.com', 'kevinbrennancomedian.com', 'screwedupstories.com', 'bigfootterrorinthewoods.com', 'frankpods.com', 'p3show.com', 'fakemustache.com', 'jamesdcreviston.com', 'stakhanov.studio', 'bobrivers.com', 'gettherealness.com', 'dailydot.com', 'sexactuallypodcast.com', 'brentpope.com', 'storyworthypodcast.com', 'hotbreathpodcast.com', 'restauranttalespodcast.com', 'personplacething.org', 'thisisnotapodcastthepodcast.com', 'witchcastpodcast.com', 'whotaughtyouhow2drive.com', 'letstalkaboutcats.com', 'dahl.com', 'thefullcharge.com', 'themodernwaiter.com', 'europaplus.ru', 'noblikeshowb.com', 'channel511.com', 'cuptocuplife.com', 'shutupiloveitpod.com', 'twitter.com', 'yeahnopodcast.com', 'comicallyanxious.com', 'peoplewelovepodcast.com', 'brocast.cz', '1075kzl.com', 'penanghokkien.com', 'liamgordes.com', 'chowder.jp', 'mikecarlon.com', 'officialsuckr.com', 'uniteuk1.com', 'worstfirstdatespodcast.com', 'monstrositypodcast.com', 'pugapower.com', 't1podcast.com', 'geeksandgoons.com', 'pod.co', 'getrory.com', 'blockedt.com', 'thelibralounge.net', 'yallneedthispodcast.com', 'wowintheworld.com', 'janetlansbury.com', 'brainson.org', 'drlaura.com', 'butwhykids.org', 'wbur.org', 'focusonthefamily.com', 'coffeeandcrumbs.net', 'whatifworldpodcast.com', 'bedtime.fm', 'littlestoriestinypeople.com', 'megmeekermd.com', 'biglifejournal.com', 'finncaspian.com', 'sciencepodcastforkids.com', 'thebirthhour.com', 'longestshortesttime.com', 'dontmomalone.com', 'pregnancypodcast.com', '3in30podcast.com', 'yourvillageonline.com', 'sallyclarkson.com', 'jockopodcast.com', 'familylife.com', 'raisingboysandgirls.com', 'whitsend.org', 'brookewilkerson.com', 'readaloudrevival.com', 'pantsonfire.pizza', 'themomhour.com', 'marriagemore.com', 'desiraeendres.com', 'aslobcomesclean.com', 'granitystudios.com', 'pruittprep.com', 'bewildandfree.org', 'feelinggood.com', 'abistumvoll.com', 'healingbrokentrust.com', 'rickhanson.net', 'therapychatpodcast.com', 'theaddictedmind.com', 'adhdrewired.com', 'lavendaire.com', 'officialfearnecotton.com', 'terricole.com', 'thestoryshop.tv', 'slowyourhome.com', 'drdebbutler.com', 'happinesspodcast.org', 'loveandabuse.com', 'snoozecast.com', 'nataliebacon.com', 'jakewoodard.com', 'thisjungianlife.com', 'savethemarriage.com', 'offtheclockpsych.com', 'thedroneu.com', 'eaa.org', 'stuckmicavcast.com', 'flightradar24.com', 'instrumentpilotpodcast.com', 'uncontrolledairspace.com', 'bettyinthesky.com', 'opposingbases.com', 'airplaneprebuy.com', 'cfipodcast.com', '21fivepodcast.com', 'ainonline.com', 'commercialpilotpodcast.com', 'rotarywingshow.com', 'commercialdrones.fm', 'aopa.org', 'acceleratedflightschoolpodcast.com', 'simpleflight.net', 'inspiredpilot.com', 'airforceassoc.org', 'layovers.to', 'studentpilotjournal.com', 'thedronetrainer.com', 'flitetest.com', 'skydiveradio.com', 'aviationlodown.com', 'flightcast.audio', 'atccommunication.com', 'aircrewinterview.tv', 'pilotsjourneypodcast.com', 'flyingwithgary.com', 'rcroundtable.com', 'whywefly.org', 'airlinepilotguy.com', 'honeywell.com', 'thehangardeck.com', 'sonexflight.com', 'cirrusapproach.com', 'inspireaviationpodcast.com', 'studentpilotcast.com', 'planespokenpodcast.com', 'flightreview.tv', 'planetalkinguk.com', 'spreadaviation.com', 'theuavdigest.com', 'yawspin.com', 'airplane-owner.com', 'rcafterhours.com', 'loft.aero', 'justplaneradio.com', 'ifrflightradio.com', 'avstry.com', 'fpv.fm', 'asianskymedia.com', 'parkflyerpodcast.com', 'privatejetpodcast.com', 'vrflightworld.com', 'avfacts.org', 'flightsimcommunitypodcast.com', 'aviationdevelop.com', 'flywithjoe.com', 'fromtherunwayup.com', 'aviation-xtended.co.uk', 'nebonutye-audio.ru', 'safedroningaustralia.com.au', 'iwc.com', 'aerocast.com.br', 'parlonsaviation.com', 'preflight.tv', 'cambridgeairforce.org.nz', 'auntymonkey.com', 'preferredaltitude.com', 'flycasey.com', 'aviationpro.nl', 'webtalkradio.net', 'pcflight.net', 'aircargonews.com', 'galleycast.com', 'julianstorey.co.uk', 'mattwarren.co', 'canalpiloto.com.br', 'thelogbookpodcast.com', 'hangar49.info', 'womenanddrones.com', 'albertaviation.com', 'on.net', 'planehunters.com', 'planefaith.com', 'und.edu', 'ontheflightline.live', 'planecrazydownunder.com', 'deadstickradio.com', 'plane-talk.com', 'nspireaviation.com', 'otherpeoplesairplanes.com', 'defenceaviation.com', 'okbeast.com', 'gottawatchemall.com', 'pixarpost.com', 'staytogetherpodcast.com', 'nerdsloth.com', 'transformationsequencepod.com', 'mangamachinations.com', 'bodysnatchersmedia.com', 'gafiltha.com', 'gamingilluminaughty.com', 'probablywork.com', 'moonkitty.net', 'popculturebento.com', 'geekcastradio.com', 'myanimepodcast.com', 'celmatespodcast.com', 'longballstudios.com', 'lostintranslationmon.com', 'thegeekshow.co.uk', 'nerdyshow.com', 'fandompost.com', 'nightswithwaifu.com', 'acecomicals.com', 'band.link', 'toyflavor.com', 'mollyofdenalipodcast.org', 'ahwayisland.com', 'doctorfloyd.com', 'thereadingbug.com', 'wonkybot.com', 'discoverymountain.com', 'thecricketpodcast.com', 'aprileight.com', 'nugget.travel', 'timestormseries.com', 'prx.org', 'purplerocketpodcast.com', 'missionhills.org', 'sleeptightstories.org', 'buddypegs.com', 'storycub.com', 'sophieandsebastian.com', 'storyberries.com', 'readastorus.com', 'deputyguppy.com', 'gigigirlstories.com', 'supersleuths.net', 'icecreamusical.com', 'smileyforlife.com', 'justusweirdos.com', 'paizinhovirgula.com', 'taleming.com', 'gaathastory.com', 'kelirondukatheya.org', 'catchcade.com', 'daveramsey.com', 'thisamericanlife.org', 'howstuffworks.com', 'culpablepodcast.com', 'noblebloodtales.com', 'blackbarrelmedia.com', 'behindthebastards.com', 'revolutionspodcast.com', 'thememorypalace.us', 'typepad.com', 'curiositiespodcast.com', 'ridiculoushistoryshow.com', 'worldwariipodcast.net', 'civilwarpodcast.org', 'thehistoryofengland.com', 'historyextra.com', 'backstoryradio.org', 'historyofenglishpodcast.com', 'cocaineandrhinestones.com', 'mostnotorious.com', 'historyonfirepodcast.com', 'people.com', 'benfranklinsworld.com', 'ourfakehistory.com', 'thehistoryofbyzantium.com', 'jenkspod.com', 'uncivil.show', 'historythatdoesntsuck.com', 'heavensgate.show', 'omnibusproject.com', 'the-wing.com', 'thmanyah.com', 'uselessinformation.org', '1001storiespodcast.com', 'thestrangeandunusualpodcast.com', 'thoseconspiracyguys.com', 'ephemeral.show', 'sharethesamesky.com', 'strangematterspodcast.com', 'bradharris.com', 'surrealtalkpodcast.com', 'historyhit.com', 'footnotinghistory.com', 'greatmomentsinweedhistory.com', 'unpopularpodcast.com', 'thehistoryofancientgreece.com', 'spiritspodcast.com', 'podcasthistoryofourworld.com', 'makinggayhistory.com', 'darkhistories.com', 'historypod.net', 'futilitycloset.com', 'latrobe.edu.au', 'historyinthebible.com', 'historyofthegreatwar.com', 'teacup.media', 'theamericanhistorypodcast.com', 'panoply.fm', 'recordedhistory.net', 'jeffersonhour.com', 'explorerspodcast.com', 'historycolorado.org', 'thehistoryofvikings.com', 'ww2podcast.com', 'thehistorynetwork.org', 'historyeurope.net', 'southernmysteries.com', 'yearofpolygamy.com', 'historyoftheworldpodcast.com', 'podhoster.com', 'ourstrangeskies.com', 'ateachershistory.com', 'twilighthistories.com', 'theroadtonow.com', 'paxbritannica.info', 'englandcast.com', 'murder.ly', 'historyofindiapodcast.com', '15minutehistory.org', 'greecepodcast.com', 'weirdhistorypodcast.com', 'democracyatwork.info', 'maritimehistorypodcast.com', 'podgoats.com', 'historicalblindness.com', 'theamericanstorypodcast.org', 'nationalreview.media', 'firstworldwarpodcast.com', 'samuraipodcast.com', 'profcj.org', 'howitbegan.com', '5minutebiographies.com', 'vikingagepodcast.com', 'ageofvictoriapodcast.com', 'familylocket.com', 'whatshernamepodcast.com', 'atozhistorypage.com', 'newbooksnetwork.com', 'hauntedpod.com', 'brothersinbattlellc.com', 'podcastnik.com', 'thehistoryofwitchcraft.co.uk', 'moodyradio.org', 'thestorybehindpodcast.com', 'someveryfamouspeople.com', 'shenoto.com', 'ohiomysteries.com', 'becausegamesmatter.com', 'secularbuddhism.com', 'sgi-usa.org', 'tnhaudio.org', 'buddhismguide.org', 'audiodharma.org', 'tricycle.org', 'everyday-buddhism.com', 'dharmaseed.org', 'oneminddharma.com', 'adyashanti.org', 'zmm.org', 'upaya.org', 'joannfox.net', 'the12stepbuddhist.com', 'zenstudiespodcast.com', 'wonbuddhismnyc.org', 'deconstructingyourself.com', 'secularbuddhism.org', 'jungto.org', 'urbandharma.org', 'abuddhistpodcast.com', 'unfetteredmind.org', 'lisadalemiller.com', 'dharmaocean.org', 'bswa.org', 'sfzc.org', 'wisdomexperience.org', 'mettagroup.org', 'michaelstoneteaching.com', 'whatsthistao.com', 'white-conch.org', 'phuntsok.org', 'kagyuoffice.org', 'jonathanfoust.com', 'judithragir.org', 'brooklynzen.org', 'amaravati.org', 'freebuddhistaudio.com', 'everydayzen.org', 'againstthestream.org', 'shin-ibs.edu', 'dhamma.com', 'adventureriderradio.com', 'caranddriverpodcast.com', 'underthehoodshow.com', 'motorweek.org', 'dangerdanstalkshop.com', 'obsessedgarage.com', 'carprousa.com', 'truckingpodcast.com', 'humblemechanic.com', 'consumerreports.org', 'snailtrail4x4.com', 'the4x4podcast.com', 'jeeptalkshow.com', 'keepitsimpleoffroad.com', 'doitforaliving.net', 'autoblog.com', 'drivencarreviews.com', 'rapidfeeds.com', 'thisisbracketracing.com', 'chasingthehorizon.us', 'themusclecarplace.com', 'mustangology.com', 'highsierra4x4.com', 'realtuners.com', 'trailchasers.net', 'revzilla.com', 'betweentwowheels.com', 'revivalmotoring.com', 'boxofneutrals.com', 'teslatidbits.com', 'newlegend4x4.com', 'wheelingwineandwhiskey.com', 'throttledpodcast.com', 'wheelbearings.media', 'agcoauto.com', 'flat12gallery.com', 'shiftandsteer.com', 'letstalkdubs.com', 'caradvice.com.au', 'engineandframe.com', 'wrenchnation.tv', 'toyotatrucksandtrails.com', 'sponsoredriderclubpodcast.com', 'onthetrailpodcast.com', 'pcartalk.com', 'wforadio.com', 'tbucketpodcast.com', 'nwjeepcast.com', 'cmautohaus.com', 'racershq.com', 'lego.com', 'fishersoffroad.com', 'bsquadhotrod.com', 'bmwmoa.org', 'overcrestproductions.com', 'mrn.com', 'mercedes-benz.com', 'unnamedautomotivepodcast.com', 'autorepairshop.guru', 'caferacerpodcast.com', 'drivingsports.com', 'roundsixpod.com', 'racecityrc.com', 'nstaracing.com', 'studiorhoad.com', 'radioinfluence.com', 'carsandcaffeinepodcast.com', 'whio.com', 'autoshopconnection.com', 'thepacepodcast.com', 'motortrend.com', 'mahdavimotorsports.com', 'camaroshow.com', 'downanddirtyshow.com', 'greategretmoto.com', 'driveusca.com', 'thestraightshift.com', '4ever2wheels.com', 'thedrivewithalantaylor.com', 'motorcyclementor.com', 'guildclassiccars.com', 'wisconsinhotrodradio.com', 'v8tvshow.com', 'aftermarketinsights.com', '4x4earth.com', 'crossthreaded.us', 'drivetribe.com', 'thecollectorcarpodcast.com', 'streetrodandcustom.com', 'edition29.com', 'ctreamer.com', 'turbosandtuning.com', 'hemmings.com', 'curbsidepodcast.com', 'alcastro.com', 'modernjeeper.com', 'tombarnardpodcast.com', 'lamborghini.com', 'rustisgoldracing.com', 'themusclecarguy.net', 'garageheroesintraining.com', 'audi.com', 'motorcyclelife.com.au', 'corvettechief.com', 'wrif.com', 'evpodcast.com', 'thecorvettemechanic.com', 'loudpipes.net', 'drivenwithskipbarber.com', 'guideautoweb.com', 'elusiveautoco.com', 'porsche.com', 'nissannationpodcast.com', 'totalcar.hu', 'supercartribe.com', 'motoringpodcast.com', 'missmanual.com', 'conecoach.com', 'intelligencesquared.com', 'contrakrugman.com', 'unchainedpodcast.com', 'law360.com', 'adage.com', 'pharmacypodcast.com', 'accountingtoday.com', 'yahoo.com', 'cloudaccountingpodcast.com', 'bloombergtax.com', 'americanbanker.com', 'chinaafricaproject.com', 'freightwaves.com', 'bloomberglaw.com', 'thelogisticsoflogistics.com', 'greenrushpodcast.net', 'ballardspahr.com', 'forrester.com', 'soa.org', 'spokenedition.com', 'bibrainz.com', 'besler.com', 'bankingthefuture.com', 'capabilityamplifier.com', 'pivottothefuture.com', 'fortune.com', 'kpmg.us', 'mjbizdaily.com', 'sleepwithmepodcast.com', 'phit-n-phat.com', 'unfckyourbrain.com', 'peterattiamd.com', 'tscpodcast.com', 'mommylabornurse.com', 'savagelovecast.com', 'daveasprey.com', 'sexwithemily.com', 'theminimalists.com', 'helloclue.com', 'therapyforblackgirls.com', 'mindpumpmedia.com', 'trackstorelax.com', 'thecurbsiders.com', 'nothingmuchhappens.com', 'bengreenfieldfitness.com', 'foundmyfitness.com', 'meditationoasis.com', 'brendon.com', 'jordanleedooley.com', 'themodelhealthshow.com', 'loriharder.com', 'wellnessmama.com', 'thebirdspapaya.com', 'idopodcast.com', 'christyharrison.com', 'medicalmedium.com', 'sipandom.com', 'chalenejohnson.com', 'badgirlsbible.com', 'intermittentfastingstories.com', 'github.io', 'mindbodygreen.com', 'freeandnative.com', 'whole30.com', 'foreplayrst.com', 'theanxietycoachespodcast.com', 'shauntfitness.com', 'benbergeron.com', 'shamelesssex.com', 'ketodietpodcast.com', 'maxlugavere.com', 'ultimatehealthpodcast.com', 'thisnakedmind.com', 'dranthonygustin.com', 'emotionalbadass.com', 'shawnmynar.com', 'sobercast.com', 'emcrit.org', 'unbeatablemind.com', 'duffthepsych.com', 'aafp.org', 'tinyleaps.fm', 'alliecasazza.com', 'motivationalmornings.co', 'lindsaymack.com', 'drwaynedyer.com', 'plantproof.com', 'findingmastery.net', 'recoveryelevator.com', 'meditationstudioapp.com', 'howtogettheguy.com', 'pcrm.org', 'housecallwithdrhyman.com', 'medgeeks.co', 'katrinaubellmd.com', 'halfsizeme.com', 'legionathletics.com', 'chriskresser.com', 'herspacepodcast.com', 'lowcarbmd.com', 'groundupshow.com', 'sleepwhispers.com', 'themeditationpodcast.com', 'healthychristianwomen.com', 'mindspeakpodcast.com', 'amandafrances.com', 'thatssoretrograde.com', 'immunityeducationgroup.org', 'justinlmft.com', 'cutthefatpodcast.com', 'affirmationpod.com', 'lukestorey.com', 'fatburningman.com', 'yogagirl.com', 'teachable.com', 'sfinnercircle.com', 'nike.com', 'liveawakeproject.com', 'londonreal.tv', 'sexologypodcast.com', 'sleepyradio.com', 'thebalancedlifeonline.com', 'latinxtherapy.com', 'brainoverbinge.com', 'brainwarriorswaypodcast.com', 'emergencymedicinecases.com', 'psychologyofeating.com', 'whoop.com', 'aliontherunblog.com', 'drmargaretrutherford.com', 'recoveringfromreality.com', 'smrnation.com', 'fitnessdisrupted.com', 'marathontrainingacademy.com', 'brookesnow.com', 'markbellslingshot.com', 'coreimpodcast.com', 'theenergyhealingpodcast.com', 'kimanami.com', 'blackgirlinom.com', 'weightandwellness.com', 'wifeotp.com', 'shruggedcollective.com', 'revelationwellness.org', 'ashlynnandcoby.com', 'primalblueprint.com', 'nejm.org', 'vinnietortorich.com', 'anxietyexit.com', 'yaywithme.com', 'mysevenchakras.com', 'livehappynow.com', 'shethrivesblog.com', 'personalityhacker.com', 'highintensityhealth.com', 'podrunner.com', 'accrac.com', 'robbwolf.com', 'codependencynomore.com', 'drgundry.com', 'darknetdiaries.com', 'wsj.com', 'recode.net', 'a16z.com', 'lexfridman.com', 'axios.com', 'theverge.com', 'exponent.fm', 'tested.com', 'syntax.fm', 'codenewbie.org', 'acquired.fm', 'futurethinkers.org', 'amazon.com', 'talkpython.fm', 'cto.ai', 'twimlai.com', 'techcastdaily.com', 'nvidia.com', 'dailytechnewsshow.com', 'ycombinator.com', 'risky.biz', 'sleepwalkerspodcast.com', 'lineardigressions.com', 'developertea.com', 'ocdevel.com', 'nori.com', 'learntocodewith.me', 'liketoknowit.com', 'malicious.life', 'ourludicrousfuture.com', 'codingblocks.net', 'giantbomb.com', 'converttoraid.com', 'trinityforcenetwork.com', '5by5.tv', 'watchoutforfireballs.com', 'ign.com', 'internetboxpodcast.com', 'puclpodcast.com', 'cheapassgamer.com', 'omniclab.com', 'getgoodgames.com', 'fallout76podcast.com', 'xonebros.com', '8-4.jp', 'blizzardwatch.com', 'playeronepodcast.com', 'runjumpstomp.com', 'loreseekerspodcast.com', 'idlethumbs.net', 'robotsradio.net', 'loreparty.com', 'tandemlegends.com', 'gocastpodcast.com', 'videogamenews.com', 'retrowarriors.net', 'joceplays.com', 'playstation.com', 'heroesforyou.com', 'geekbox.net', 'classicwowpodcast.com', 'abjectsuffering.com', 'questgamingnetwork.com', 'twitch.tv', 'beyondthemetagame.com', 'dungeoncrawlernetwork.com', 'thelorenetwork.com', 'nintendoforcemagazine.com', 'planetdestiny.com', 'anotherzeldapodcast.com', 'discord.gg', 'allthingsazeroth.com', 'gamertagradio.com', 'castroyalepodcast.com', 'gutfoxx.com', 'lasertimepodcast.com', '4playernetwork.com', 'thesonicshow.org', 'videogameoutsiders.com', 'theretrohour.com', 'retrozap.com', 'factory-sealed.com', 'pixelsshow.com', 'backinmyplay.com', 'eat-sleep-game.com', 'interactive.org', 'penny-arcade.com', 'giantsizeteamup.com', 'nintendoworldreport.com', 'nesdudes.com', 'siftd.net', 'thenintendovillage.com', 'tangsuanradio.com', 'ultimafinalfantasy.com', 'hagensalley.com', 'everythingtoguppy.cat', 'bungie.net', 'gamerswithjobs.com', 'halopodcast.com', 'lolapodcast.com', 'hardcoregaming101.net', 'radiofreetatooine.com', 'talkinginstations.com', 'podtacular.com', 'zeldadungeon.net', 'megadads.org', 'hearthcoach.net', 'sanspantsradio.com', 'skyrimbookclub.ca', 'savvypainter.com', 'manpodcast.com', 'sixfigurephotography.com', 'svslearn.com', 'masterphotographypodcast.com', 'si.edu', 'modernmakerpodcast.com', 'aboutbuildingsandcities.org', 'beginnerphotographypodcast.com', 'datastori.es', 'wanderingdp.com', 'bit.ly', 'matttommeymentoring.com', 'nga.gov', 'artagencypartners.com', 'mattpaynephotography.com', 'therenaissancepodcast.com', 'schulmanart.com', 'ifanboy.com', 'laurahornart.com', 'thecandidframe.com', 'chrismarquardt.com', 'ilikeyourworkpodcast.com', 'moma.org', 'artandlaborpodcast.com', 'badatsports.com', 'artbizsuccess.com', 'arthistory.today', 'artsideoflife.com', 'creativityschoolpodcast.com', 'teamflower.org', 'illustrationdept.com', 'lenswork.com', 'womenofillustration.com', 'alicesheridan.com', 'ginamilicia.com', 'beyondthe.studio', 'booksclosedpodcast.com', 'whcc.fm', 'arthistoryforall.com', 'artlawpodcast.com', 'moosepeterson.com', 'comicgeekspeak.com', 'petapixel.com', 'jeffcurto.com', 'outofchicago.com', 'suzanneredmond.com', 'frogpants.com', 'clarkhulingsfund.org', 'johndalton.me', 'arttactic.com', 'firesidetattoo.com', 'phototacopodcast.com', 'pencilkings.com', 'artistmotherpodcast.com', 'soundandvisionpodcast.com', 'zionartsociety.org', 'studioc41.net', 'artstorefronts.com', 'portraitsessionpodcast.com', 'photogadventures.com', '11oclockcomics.com', 'chrisoatley.com', 'thesimpsonsshow.com', 'thecollectivepodcast.com', 'improvephotography.com', 'latitudephotographypodcast.com', 'gaddisvisuals.com', 'learntopaintpodcast.com', 'thatmightbecool.com', 'opb.org', 'warrocketajax.com', 'majorspoilers.com', 'e-flux.com', 'sfmoma.org', 'gocreativeshow.com', 'smartartbiz.com', 'processarts.com', 'fujilove.com', 'pipelinecomics.com', 'hellostoryteller.com', 'picturemethods.com', 'artgrindpodcast.com', 'photographymatterspodcast.com', 'perceivedvaluepodcast.com', 'histogrampodcast.com', 'thepublicbroadcast.com', 'sitandsewradio.com', 'craftwillneverdiepodcast.com', 'craftsmanshippodcast.com', 'weekinfilmtech.com', 'tix-n-roo.com', 'comicbookclublive.com', 'xavierfiles.com', 'martinbaileyphotography.com', 'theartfulpainter.com', 'wildandexposed.com', 'firstmanphotography.com', 'theartistnextlevel.com', 'yourcreativepush.com', 'photopodcasts.com', 'the-ottoman.com', 'studionoizepodcast.com', 'talkingoutyourglass.com', 'contemporaryartreview.la', 'thephotoreport.com', 'sharpenedartist.com', 'polarprofilters.com', 'mrskinpodcast.com', 'dawnlewis.com.au', 'photobombpodcast.com', 'jimhillmedia.com', 'rayhennessy.com', 'expertclay.com', 'fujicast.co.uk', 'thedigitalstory.com', 'visualrevolutionary.com', 'vantagepointradio.com', 'artandcocktails.com', 'thirstyforart.com', 'artfund.org', 'stitcherystories.com', 'glasstire.com', 'adam-dillon.com', 'whatartistslistento.com', 'artclasscurator.com', 'theunraveledacademy.com', 'cameraposition.com', 'bryanthegirl.com', 'austinarttalk.com', 'sirenicide.com', 'theluckydie.com', 'allhaildom.com', 'loveandluckpodcast.com', 'dugganhill.com', 'hauntedgriffin.com', 'allinmyheadpod.com', 'thegoblinshead.com', 'hunterhoose.co.uk', 'dreamlandaudio.com', 'firewhiskyandhoney.com', 'unresolvedshow.co.uk', 'ochentastudio.com', 'pixieshow.com', 'moyapodcast.com', 'makebelieve.fm', 'pirational.com', 'fictionforadults.com', 'jarnsaxarising.com', 'projectleappodcast.com', 'daffadillies.co.uk', 'howitendspodcast.com', 'theordinaryepic.com', 'larkspurunderground.com', 'waylandproductions.com', 'thebeaconpodcast.com', 'ghostlythistle.com', 'alternativestories.com', 'notiuno.com', 'anansistorytime.com', 'trilunis.com', 'stalwarttheatre.org', 'indiannoir.com', 'legendsmithproductions.com', 'blazetv.com', 'rubinreport.com', 'stevedeace.com', 'zoomerradio.ca', 'crisisgroup.org', 'cato.org', 'constitutioncenter.org', 'conservativereview.com', 'slightlyoffensive.com', 'heritage.org', 'letsknowthings.com', 'globaldispatchespodcast.com', 'canadalandshow.com', 'alandfranktrytobeserious.com', 'okc-span.com', 'ausha.co', 'kpcg.fm', 'voyagetothestars.net', 'larrymillershow.com', 'gosuperego.com', 'hellodysfunction.com', 'scottalanturner.com', 'tomanddan.com', 'fanaticalfics.com', 'distortedview.com', 'deathatabakesale.com', 'pretendingpod.com', 'highspeeddining.com', 'worstfootforwardpodcast.com', 'optophobia.org', 'illusionoid.com', 'fishstickscomedy.com', '20sidedstories.com', 'nozonelayer.com', 'hyperbrolepodcast.com', 'boardwalkaudio.com', 'bigboysandbeer.com', 'sketchcompod.', 'gadzookspod.com', 'blackgirltea.com', 'podcastoneaustralia.com.au', 'google.com', 'mustacherangers.com', 'htnos.com', 'sarahjhalstead.com', 'badproducerproductions.com', 'sakuratsushin.com', 'thedapperdads.com', 'lombardres.com', 'elfcenteredshow.com', 'dbdmedia.co', 'onewordgoshow.com', 'baileyandwise.com', 'modelrobrobinson.com', 'theeverydayjoeshow.com', 'talkingwithoutthinking.com', 'note.mu', 'chroniclesoftheunstable.com', 'wcword.club', 'thenandnowproductions.com', 'thegameofrassilon.com', 'stepbystapp.com', 'soundedheart.com', 'cointelbro.net', 'explicitgeek.com', 'taconightaudio.com', 'coolparents.co', 'spanthevoid.com', 'simplygonepodcast.com', 'dominicgabriel.com', 'dispatches.fm', 'welcometopatchwork.com.au', 'chocolaad.com', 'greythoughts.info', 'willkiser.com', 'tbkmagazine.com', 'wastingallthetime.com', 'talkbomb.com', 'crudecharacters.com', 'tocinmash.com', 'planetantpodcasts.com', 'mosqueteiros.net', 'thefakist.com', 'petshopcast.com', 'adventuresinirrationality.com', 'kadenthompson.com', 'thehowofbusiness.com', 'marketingsecrets.com', 'millionairemindcast.com', 'workparty.com', 'constructionleadingedge.com', 'savvyshopkeeper.com', 'librosparaemprendedores.net', 'thedecode.tv', 'fit4mom.com', 'sellordiepodcast.com', 'barcodestartup.com', 'businessandbiceps.com', 'everydayissaturday.com', 'nicolewalters.com', 'theproductboss.com', 'rodsantomassimo.com', 'nathanlatka.com', 'theboutiquehub.com', 'jessicaherrin.com', 'bee-downtown.com', 'startuphustle.xyz', 'thefashionpreneuracademy.com', 'motherhoodignited.com', 'allinwholesaling.com', 'kerwinrae.com', 'dailyrefinement.com', 'alejandrocremades.com', 'nobodytoldmeshow.com', 'elizabethhartke.com', 'monicaandandy.blog', 'innovatorsontap.com', 'smallbusinesswarstories.com', 'snacknation.com', 'micalaquinn.com', 'gritpodcast.co', 'thesalesevangelist.com', 'theflowerpodcast.com', 'helium10.com', 'juliacwells.com', 'unofficialshopifypodcast.com', 'hacktheentrepreneur.com', 'tobifairley.com', 'consultingsuccess.com', 'myelinmedia.com', 'dreamsindrive.com', 'ecommercemarketinglab.com', 'alibrown.com', 'superhabitos.com', 'rusticcuff.com', 'explorewhatworks.com', 'thrivetimeshow.com', 'tropicalmba.com', 'bulletproofdentalpractice.com', 'capitalism.com', 'shyatt.com', 'momentumpodcast.com', 'danielgefen.com', 'weddingsforreal.com', 'tbpod.com', 'travischappell.com', 'thenewmanpodcast.com', '2000books.com', 'ratracedestroyer.com', 'therealdirt.com', 'revrealestateschool.com', 'consciousmillionaireshow.com', 'businesslunchpodcast.com', 'mindyourotbusiness.com', 'wellpreneuronline.com', 'hippocratichustle.com', 'themembershipguys.com', 'wearwagrepeat.com', 'escapethenewbiezone.com', 'diamandis.com', 'ifimade.com', 'rebeltherapist.me', 'thebjjmentalcoachpodcast.com', 'handymanstartup.com', 'stillbeingmolly.com', 'vincedelmontefitness.com', 'kelseysmithfitness.com', 'underdogempowerment.com', 'localsmallbusinesscoach.com', 'fizzleshow.co', 'workyourinnerwisdom.com', 'thebeautybrainsandbusiness.com', 'thekrissychin.com', 'ingoodhands.us', 'techmoneytalks.com', 'qsrmagazine.com', 'thepanelpod.com', 'consciousmillionaire.com', 'blogforprofitpodcast.com', 'cerealempresarial.com', 'beaucrabill.com', 'davidihillblog.com', 'blairbadenhop.com', 'c-suitenetwork.com', 'tetranoodle.com', 'sweatystartup.com', 'startuptostorefront.com', 'govcongiants.com', 'thestartupstory.co', 'uniquemarkets.com', 'hiscox.com', 'hyperfastagent.com', 'thomsinger.com', 'adelanteconcarlos.com', 'franchisesecrets.com', 'trace3.com', 'daveyandkrista.com', 'advanceyourreach.com', 'morethanmommypodcast.com', 'pursuingprivatepractice.com', 'elaynefluker.com', 'hirepowerradio.com', 'streamsofincomeradio.com', 'guildpodcast.com', 'livinghomegrown.com', 'didntijustfeedyou.com', 'eatmyglobe.com', 'food52.com', 'kitchencounterpodcast.com', 'joyfulvegan.com', 'startcooking.com', 'thebeerists.com', 'motherjones.com', 'plantpoweredpodcast.com', 'southernfoodways.org', 'thebrewingnetwork.com', 'altonbrown.com', 'heavenhilldistillery.com', 'mynorthwest.com', 'dadsdrinkingbourbon.com', 'cookingbyearpodcast.com', 'vinepair.com', 'mixologytalk.com', 'insidewinemaking.com', 'winemag.com', 'goodbeerhunting.com', 'certifiedangusbeef.com', 'thecoffeepodcast.com', 'bartenderatlarge.com', 'bestbbqshow.com', 'farmtotaber.com', 'stellaculinary.com', 'yummytoddlerfood.com', 'keystotheshop.com', 'foodnonfiction.com', 'unwastedpodcast.com', 'compassmedianetworks.com', 'whiskycast.com', 'heritageradionetwork.org', 'thebbqcentralshow.com', 'austinbeeman.com', 'jordanokun.com', 'foodandwine.com', 'thebakingpodcast.com', 'artinstitutes.edu', 'openbellypodcast.com', 'winespectator.com', 'bartenderjourney.net', 'radiomisfits.com', 'tastecooking.com', 'crupodcast.com', 'kiroradio.com', 'localmouthful.com', 'eatnewenglandpod.com', 'graperadio.com', 'chefordeath.com', 'bartenderhq.com', 'napavalleywineacademy.com', 'thepodcask.com', 'shafervineyards.com', 'thesourdoughpodcast.com', 'foodschmooze.org', 'freecookiespodcast.com', 'anthrochef.blog', 'chefchriscosentino.com', 'bakefromscratch.com', 'thesouthernfork.com', 'pizzanerds.co', 'sourceresshq.com', 'vicsmeat.com.au', 'livefromprincestreet.com', 'cooksmarts.com', 'beyondtheplatepodcast.com', 'carbfacepod.com', 'theheritagecookbookproject.com', 'chewing.xyz', 'ibrewmyowncoffee.com', 'julskitchen.com', 'peddlerjournal.com', 'roadtowineexpert.com', 'weeklywineshow.com', 'nomnompaleo.net', 'basicbrewingradio.com', 'acouplecookspodcast.com', 'heirloomgardener.com', 'itsneworleans.com', 'karysroux.com', 'jackdaniels.com', 'cooking-outdoors.com', 'lizshealthytable.com', 'culinarybroadcastnetwork.com', 'parispaysanne.com', 'roadsandkingdoms.com', 'expdet.com', 'theruminant.ca', 'seriouseats.com', 'fooddialogues.com', 'kmuw.org', 'manmeatbbq.com', 'franceinter.fr', 'publicradio.org', 'bbqbeat.com', 'shiftdrinkpodcast.com', 'talkingcraftbeer.com', 'designateddrinker.show', 'ottolenghi.co.uk', 'iowabeer.org', 'ciderchat.com', 'bnipodcast.com', 'digitalmarketer.com', 'theamazingseller.com', 'alexbeadon.com', 'foundr.com', 'fleursociety.com', 'ducttapemarketing.com', 'rickmulready.com', 'doterra.com', 'socialmediaexaminer.com', 'bradleyjohnson.com', 'mywifequitherjob.com', 'evergreenprofits.com', 'privatelabelershow.com', 'agencyvault.com', 'onlineboutiquesource.com', 'geniusnetwork.com', 'sellerroundtable.com', 'flourishthriveacademy.com', 'shesbuildingherempire.com', 'ilovemarketing.com', 'paidsearchpodcast.com', 'drift.com', 'kristamashore.com', 'thecopywriterclub.com', 'erikavieira.net', 'marketinggeekspodcast.com', 'itsatribething.com', 'kellyroachcoaching.com', 'mortgagemarketingradio.com', 'referralspodcast.com', 'marketing4restaurants.com', 'schoolofpodcasting.com', 'bossgirlcreative.com', 'authorityhacker.com', 'thesaaspodcast.com', 'kernbranding.com', 'ecommercelifestyle.com', 'listingagentlifestyle.com', 'trafficandfunnels.com', 'thepodcasthost.com', 'breeandstephen.com', 'kindlepreneur.com', 'thisoldmarketing.com', 'philgrahamdigital.com', 'thebrainybusiness.com', '10xtalk.com', 'earnworthy.com', 'agorapulse.com', 'simplybeagency.com', 'ecommercefastlane.com', 'alissamcdonald.com', 'ecommercemasterplan.com', 'businessesgrow.com', 'jeffwalker.com', 'rogerdooley.com', 'thedealerplaybook.com', 'sixpixels.com', 'modernagentpodcast.com', 'angietrueblood.com', 'everyonehatesmarketers.com', 'thewoodshedshow.com', 'rachelluna.biz', 'theartofsales.com', 'podcastperformancecoach.com', 'theagentsofchange.com', 'doyouconvert.com', 'pitchanything.com', 'lochhead.com', 'chuhai.co', 'theice.com', 'manlypinteresttips.com', 'askdennisbrown.com', 'communityinfluencershow.com', 'approvedpodcast.com', 'helpmybusiness.com', 'itscreativelabel.com', 'alignedentrepreneurs.com', 'simonegraceseol.com', 'bisforbonniedesign.com', 'resumocast.com.br', 'furbodm.com', 'savvysocialpodcast.com', 'taylorschulte.com', 'analyticshour.io', 'courageandclarity.com', 'lajevadelmarketing.com', 'thegsdshow.com', 'sellersessions.com', 'karenyankovich.com', 'agencyunfiltered.com', 'mattmcwilliams.com', 'evolvingseo.com', 'fletchermarketingpr.com', 'doitmarketing.com', 'zencast.website', 'hirshmarketingunderground.com', 'growthtldr.com', 'doug.show', 'wistia.com', 'janetmurray.co.uk', 'sotellustime.com', 'coveragebook.com', '5minutesuccess.com', 'speakingyourbrand.com', 'jillianbowen.com', 'growthtoday.fm', 'visualvybzstudios.com', 'aaronkwittken.com', 'marketinggenius.tv', 'kantar.com', 'wherewebuy.show', 'trustinsights.ai', 'retaildetailspodcast.com', 'villeohome.com', 'goldfayn.com', 'socialzoomfactor.com', 'joyofprocrastination.com', 'steviesayssocial.com', 'adbadger.com', 'julieroehm.com', 'madalynsklar.com', 'sigrun.com', 'thethoughtleaderrevolution.com', 'profitwell.com', 'psychotactics.com', 'boluda.com', 'nealschaffer.com', 'rhapodcast.com', 'britneygardner.com', 'marketingyogawithconfidence.com', 'trovebusiness.com', 'innovatemap.com', 'marcguberti.com', 'diggingforinsights.com', 'sassysuite.com', 'biggestsmallthings.com', 'rubiconins.com', 'contentchampion.com', 'joshpeak.com', 'intrycks.com', 'theblogmillionaire.com', 'salesartillery.com', 'tailwindapp.com', 'cartalk.com', 'thedieselpodcast.com', 'guntalk.com', 'flightsafetydetectives.com', 'joegardener.com', 'lovetosewpodcast.com', 'mtggoldfish.com', 'decoratingtipsandtricks.com', 'everydaydriver.com', 'collectingcars.com', 'bloomandgrowradio.com', 'gameinformer.com', 'reawakenyourbrilliance.com', 'carcastshow.com', 'thetalenttank.com', 'finewoodworking.com', 'countdowntoclassic.com', 'whatsgoodgames.com', 'nintendo.com', 'acq-inc.com', 'janeperrone.com', 'amytangerine.com', 'friendsatthetable.net', 'mamaminimalist.com', 'learnthefinerpoints.com', 'journeywithjill.net', 'angleofattack.com', 'theinstance.net', 'frontlinegaming.org', 'brulosophy.com', 'aviationnewstalk.com', 'woodtalkshow.com', 'dirtbikechannel.com', 'shutupandsitdown.com', 'goodjobbrain.com', 'genealogyguys.com', 'tabletopchampions.com', 'fastlifegarage.com', 'jonathanlittlepoker.com', 'thesecretcabal.com', 'airplanegeeks.com', 'pilottopilothq.com', 'sneakpodcast.com', 'thinkingpoker.net', 'worldofwarcast.com', 'quiltingcompany.com', 'motorcyclesandmisfits.com', 'youcanbetonthat.com', 'beekeepingtodaypodcast.com', 'rivalsofwaterdeep.com', 'thespawnchunks.com', 'thestartingzone.com', 'damesanddragons.com', 'redchippoker.com', 'smallfarmnation.com', 'enginenoisepodcast.com', 'guitarnerds.net', 'eligiblemonster.com', 'dieselpowerproducts.com', 'thejimquisition.com', 'luredup.com', 'richardmunchkin.com', 'knitpicks.com', 'godsfall.com', 'spaceandreason.com', 'howwerollpodcast.com', 'amove.tv', 'gardenerd.com', 'systemmasterypodcast.com', 'bonfireside.chat', 'evanandkatelyn.com', 'perpetualchesspod.com', 'lawfulstupid.org', 'verypink.com', 'd20dames.com', 'dandrpodcast.com', 'autodetailingpodcast.com', 'experimentalbrew.com', 'airsafetyinstitute.org', 'yarniacs.com', 'cosmiccrit.com', 'theprairiehomestead.com', 'survivalistprepper.net', 'weddingplanningpodcast.co', 'teachinginhighered.com', 'betterleadersbetterschools.com', 'makemathmoments.com', 'churchphotographers.com', 'teachersneedteachers.com', 'sheldoneakins.com', 'masteringbusinessanalysis.com', 'javascriptjabber.com', 'py4e.com', 'wedrinkandwefarmthings.com', 'devchat.tv', 'shecreatesbusinesspodcast.com', 'artofdecluttering.com.au', 'triumphantlearning.com', 'oregonstate.edu', 'tarheelcanine.com', 'becomingadatascientist.com', 'latinxintelligentsia.com', 'forfolxsake.com', 'fromringtoveil.com', 'woodshoplifepodcast.com', 'horsechats.com', 'startingsustainability.com', 'betterpodcasting.com', 'transom.org', 'smead.com', 'theboatgalley.com', 'angelakellycoaching.com', 'growenrollments.com', 'laurasheneman.com', 'familytreemagazine.com', 'bretfisher.com', 'iescertified.com', 'onlinecoursecoach.com', 'barexamtoolbox.com', 'vidiq.com', 'krystalproffitt.com', 'packetpushers.net', 'myadventuresinesl.com', 'homeedvoices.co.uk', 'thesafetypropodcast.com', 'afarmishkindoflife.com', 'policyviz.com', 'lifeadminlifehacks.com', 'iexplorescience.com', 'podcastinsights.com', 'elrodfirm.com', 'randyellefson.com', 'furniturefliplab.com', 'truthinlearning.com', 'pages.services', 'practicaledtech.com', 'thechangeleader.com', 'joyfullyhomeschooling.com', 'beforethebigday.co', 'teachsciencewithfergy.com', 'uxwritinghub.com', 'homeprosradio.com', 'homeschoolcounselor.com', 'hswotrainingwheels.com', 'talentedlearning.com', 'enuffwiththestuff.com', 'collegehoodadvice.com', 'ancestorsalivegenealogy.com', 'mnibschools.org', 'freightbrokertv.com', 'legendarycloserradio.com', 'breedersacademy.com', 'blogaid.net', 'teamhelium.co', 'remodelyourlifepodcast.com', 'launchfixgrow.com', 'chicocats.com', 'implementingelm.com', 'studenttelevision.org', 'learningexperts.com.au', 'iphreaksshow.com', 'meditationlifeskills.com', 'prepperpodcast.ca', 'kabc.com', 'utah.edu', 'saridlm.com', 'smallscalelife.com', 'cynthiajolicoeur.com', 'trappingandnapping.com', 'evosec.org', 'modernizeordie.io', 'tgitools.com', 'infusedclassroom.com', 'smartinwi.com', 'elderandwiser.org', 'deverlaw.com', 'weaverradio.com', 'csbookclub.com', 'risetogetherpodcast.com', 'garyvaynerchuk.com', 'tim.blog', 'biggerpockets.com', 'morningbrew.com', 'linkedin.com', 'goaldiggerpodcast.com', 'atrpodcast.com', 'hbr.org', 'chrishogan360.com', 'andyfrisella.com', 'choosefi.com', 'entreleadership.com', 'kencolemanshow.com', 'clark.com', 'businessboutique.com', 'sidehustleschool.com', 'theinvestorspodcast.com', 'smartpassiveincome.com', 'affordanything.com', 'amyporterfield.com', 'listenmoneymatters.com', 'howtomoney.com', 'mastersofscale.com', 'coachingforleaders.com', 'storybrand.com', 'andystanley.com', 'spectacularfailures.org', 'fs.blog', 'bossbabe.com', 'schiffradio.com', 'eofire.com', 'somoneypodcast.com', 'theinfluencerpodcast.com', 'focusonthispodcast.com', 'orderofman.com', 'alizalicht.com', 'investorfieldguide.com', 'businessinsider.com', 'stackingbenjamins.com', 'thebrianbuffinishow.com', 'radicalpersonalfinance.com', 'sidehustlenation.com', 'kaciafitzgerald.com', 'einvestingforbeginners.com', 'elducho.com', 'jeanchatzky.com', 'doitscared.com', 'whitecoatinvestor.com', 'madfientist.com', 'awesomeatyourjob.com', 'leadto.win', 'the1thing.com', 'melaniemitro.com', 'therealmaxwell.com', 'realestateguysradio.com', 'nav.al', 'investedpodcast.com', 'macrovoices.com', 'detailspodcast.com', 'focus3.com', 'awealthofcommonsense.com', 'beyondthetodolist.com', 'bestevershow.com', 'essentialcomm.com', 'brownambitionpodcast.com', 'nicoledigi.com', 'brittseva.com', 'ziglarshow.com', 'deangraziosi.com', 'blackwealthrenaissance.com', 'goldmansachs.com', 'oftenambitious.com', 'sidehustlepro.co', 'blockworksgroup.io', 'rodkhleif.com', 'mindyourbusinesspodcast.com', 'wholesalinginc.com', 'stashinvest.com', 'mckinsey.com', 'advancedsellingpodcast.com', 'thismorningwithgordondeal.com', 'themoniquerodriguez.com', 'jillonmoney.com', 'realitybasedleadership.com', 'johnmaxwellcompany.com', 'jumpingjacktaxes.com', 'thisweekinstartups.com', 'ronneb.com', 'tytnetwork.com', 'thedrivenpodcast.com', 'b2brevenue.com', 'moneyguy.com', 'mommymillionaire.co', 'getricheducation.com', 'themichaelblank.com', 'chatwithtraders.com', 'thetwentyminutevc.com', 'jenniferallwood.com', 'livesensical.com', 'salesgravy.com', 'thehustle.co', 'moneyfortherestofus.com', 'softwareengineeringdaily.com', 'thecyberwire.com', 'stableg.com', 'aarp.org', 'sans.edu', 'spacenewspod.com', 'komando.com', 'iotpodcast.com', 'todayindigital.com', 'scrum-master-toolbox.org', 'macosken.com', 'recordedfuture.com', 'thisweekinphoto.com', 'geekwire.com', 'arrl.org', 'darpa.mil', 'usatoday.com', 'cybersecurityinterviews.com', 'fullychargedshow.co.uk', 'itworldcanada.com', 'photofocus.com', 'cleartosend.net', 'linuxheadlines.show', 'getwitit.org', 'blindabilities.com', 'jupiterbroadcasting.com', 'latenightlinux.com', 'blackhillsinfosec.com', 'wh1t3rabbit.net', 'macobserver.com', 'techcrunch.com', 'thebitcoinpodcast.com', 'themoth.org', '99percentinvisible.org', 'mythpodcast.com', 'younghouselove.com', 'risk-show.com', 'bonappetit.com', 'whatshouldireadnextpodcast.com', 'traderjoes.com', 'forever35podcast.com', 'laurenconrad.com', 'pointoforiginpodcast.com', 'merriam-webster.com', 'hitrecord.org', 'go.com', 'splendidtable.org', 'sporkful.com', 'theallusionist.org', '177milkstreet.com', 'gastropod.com', 'tanispodcast.com', 'darkestnightpod.com', 'sleepandrelaxasmr.com', 'badonpaperpodcast.com', 'thekissmequicks.com', 'mugglecast.com', 'theparisreview.org', 'chasejarvis.com', 'theartofphotography.tv', 'businessoffashion.com', 'vanityfair.com', 'dressedpodcast.com', 'thegoodpartspodcast.com', 'thehamilcast.com', 'readmeromance.com', 'hungry-girl.com', 'savorpod.com', 'fictional.fm', 'fatmascara.com', 'chrisryanphd.com', 'harrypottersacredtext.com', 'themoonlitroad.com', 'westwoodwestwood.com', 'howtodecorate.com', 'philosophybites.com', 'cleverpodcast.com', 'breakingbeautypodcast.com', 'readingferdowsi.com', 'americastestkitchen.com', 'eater.com', 'hotandbotheredrompod.com', 'becomingmrslewispodcast.com', 'wsbradio.com', 'goodreads.com', 'donate.', 'bawdystorytelling.com', 'bourbonpursuit.com', 'closereadspods.com', 'businessofhome.com', 'wamu.org', 'teencreepspod.com', 'designbetter.co', 'arthistorybabes.com', 'thebeautybrains.com', 'publicradioalliance.com', 'thecreateseries.com', 'loc.gov', 'cherrybombe.com', 'xplainthexmen.com', 'shudder.com', 'artcuriouspodcast.com', 'currentlyreadingpodcast.com', 'mysteryshows.com', 'podcasts.com', 'thecreativepenn.com', 'livefromhere.org', 'proko.com', 'mrstrimble.com', 'lancearmstrong.com', 'vegapodcast.com', 'thecleansed.com', 'sarahsbookshelves.com', 'thepenumbrapodcast.com', 'pottercast.com', 'historyofwesteros.com', 'bhphotovideo.com', 'readingwomenpodcast.com', 'pri.org', 'helpingwritersbecomeauthors.com', 'slowdownshow.org', 'mythsbaby.com', 'watchwhatcrappens.com', 'bachelornation.com', 'thewestwingweekly.com', 'theringer.com', 'bravotv.com', 'youmustrememberthispodcast.com', 'sissythattalk.com', 'robhasawebsite.com', 'loveandknuckles.com', 'johnaugust.com', 'moviecrush.show', 'ssrewind.com', 'filmspotting.net', 'michaelscottpod.com', 'pbs.org', 'ionlylistentothemountaingoats.com', 'learnjazzstandards.com', 'weta.org', 'frank-turner.com', 'aquariumdrunkard.com', 'songtalk.ca', 'classical-music.com', 'rockabillynblues.com', 'bobbyoinnercircle.com', 'talkingmaiden.com', 'criticalfrequency.org', 'grantlangston.com', 'u2start.com', 'deadendhiphop.com', 'thomastaylor.net', 'artofcomposing.com', 'billboard.com', 'digmeoutpodcast.com', 'loudandquiet.com', 'themusicsnobs.com', 'skivamusic.com', 'yoga-vidya.org', 'poornalayam.org', 'jayakula.org', 'vanamaliashram.org', 'rkmdelhi.org', 'yoga-vidya.de', 'sriramanamaharishi.com', 'gitawisdom.org', 'spiritual-discourses.org', 'shreemaa.org', 'ifiw.org', 'okaradio.com', 'puja.net', 'utahkrishnas.org', 'bhagavadgitauniversity.com', 'sagesfromindia.com', 'music.blog', 'chinmayamission.com', '24hourkirtan.fm', 'yoga-vedanta-tantra.org', 'hariomgroup.org'])"
      ]
     },
     "execution_count": 2,
     "metadata": {},
     "output_type": "execute_result"
    }
   ],
   "source": [
    "with open('../social_metrics/external_domains/external_domain_dicts.pickle','rb') as file:\n",
    "    domains = pickle.load(file)\n",
    "    \n",
    "domains.keys()"
   ]
  },
  {
   "cell_type": "code",
   "execution_count": null,
   "metadata": {},
   "outputs": [],
   "source": []
  }
 ],
 "metadata": {
  "kernelspec": {
   "display_name": "Python 3",
   "language": "python",
   "name": "python3"
  },
  "language_info": {
   "codemirror_mode": {
    "name": "ipython",
    "version": 3
   },
   "file_extension": ".py",
   "mimetype": "text/x-python",
   "name": "python",
   "nbconvert_exporter": "python",
   "pygments_lexer": "ipython3",
   "version": "3.7.4"
  },
  "toc": {
   "base_numbering": 1,
   "nav_menu": {},
   "number_sections": false,
   "sideBar": true,
   "skip_h1_title": false,
   "title_cell": "Table of Contents",
   "title_sidebar": "Contents",
   "toc_cell": true,
   "toc_position": {},
   "toc_section_display": true,
   "toc_window_display": false
  },
  "varInspector": {
   "cols": {
    "lenName": 16,
    "lenType": 16,
    "lenVar": 40
   },
   "kernels_config": {
    "python": {
     "delete_cmd_postfix": "",
     "delete_cmd_prefix": "del ",
     "library": "var_list.py",
     "varRefreshCmd": "print(var_dic_list())"
    },
    "r": {
     "delete_cmd_postfix": ") ",
     "delete_cmd_prefix": "rm(",
     "library": "var_list.r",
     "varRefreshCmd": "cat(var_dic_list()) "
    }
   },
   "types_to_exclude": [
    "module",
    "function",
    "builtin_function_or_method",
    "instance",
    "_Feature"
   ],
   "window_display": false
  }
 },
 "nbformat": 4,
 "nbformat_minor": 2
}
