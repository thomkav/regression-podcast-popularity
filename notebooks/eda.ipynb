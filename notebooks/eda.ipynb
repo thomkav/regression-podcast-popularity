{
 "cells": [
  {
   "cell_type": "markdown",
   "metadata": {
    "toc": true
   },
   "source": [
    "<h1>Table of Contents<span class=\"tocSkip\"></span></h1>\n",
    "<div class=\"toc\"><ul class=\"toc-item\"><li><span><a href=\"#Load-Dataframes\" data-toc-modified-id=\"Load-Dataframes-1\">Load Dataframes</a></span></li><li><span><a href=\"#Inspect-relationships-b/t-features-before-modeling\" data-toc-modified-id=\"Inspect-relationships-b/t-features-before-modeling-2\">Inspect relationships b/t features before modeling</a></span></li><li><span><a href=\"#Misc-functions-(now-living-in-'features.py')\" data-toc-modified-id=\"Misc-functions-(now-living-in-'features.py')-3\">Misc functions (now living in 'features.py')</a></span></li></ul></div>"
   ]
  },
  {
   "cell_type": "code",
   "execution_count": 15,
   "metadata": {
    "ExecuteTime": {
     "end_time": "2019-10-05T18:31:49.724476Z",
     "start_time": "2019-10-05T18:31:49.709469Z"
    },
    "scrolled": false
   },
   "outputs": [],
   "source": [
    "# for EDA, mask entries where no episodes have been logged\n",
    "mask = df['ep_total'] != 0\n",
    "\n",
    "# list of all numeric columns suitable for regression\n",
    "reg_cols = (['title','num_comments','isExplicit',\n",
    "             'sub_count','play_count','ep_total',\n",
    "             ''])\n",
    "\n",
    "df = build_features(df[mask]).head()"
   ]
  },
  {
   "cell_type": "code",
   "execution_count": 12,
   "metadata": {
    "ExecuteTime": {
     "end_time": "2019-10-05T21:21:19.615731Z",
     "start_time": "2019-10-05T21:21:19.610897Z"
    },
    "scrolled": true
   },
   "outputs": [
    {
     "data": {
      "text/plain": [
       "type"
      ]
     },
     "execution_count": 12,
     "metadata": {},
     "output_type": "execute_result"
    }
   ],
   "source": [
    "new_df = pd.DataFrame\n",
    "new_df.columns = (['title', 'chan_url', 'num_comments', 'author', 'description',\n",
    "    'isExplicit', 'sub_count', 'play_count', 'ch_feed-socials', 'ep_total',\n",
    "    'recent_eps', 'hover_text_concat', 'chan_desc', 'cover_img_url', 'first_release', 'category'])\n",
    "type(new_df)"
   ]
  },
  {
   "cell_type": "code",
   "execution_count": 16,
   "metadata": {
    "ExecuteTime": {
     "end_time": "2019-10-05T21:22:26.870869Z",
     "start_time": "2019-10-05T21:22:26.867353Z"
    }
   },
   "outputs": [
    {
     "data": {
      "text/plain": [
       "pandas.core.frame.DataFrame"
      ]
     },
     "execution_count": 16,
     "metadata": {},
     "output_type": "execute_result"
    }
   ],
   "source": [
    "new_df"
   ]
  },
  {
   "cell_type": "code",
   "execution_count": 15,
   "metadata": {
    "ExecuteTime": {
     "end_time": "2019-10-05T21:21:57.046854Z",
     "start_time": "2019-10-05T21:21:57.030643Z"
    }
   },
   "outputs": [
    {
     "name": "stdout",
     "output_type": "stream",
     "text": [
      "Arts\n",
      "<class 'pandas.core.frame.DataFrame'>\n",
      "<class 'type'>\n"
     ]
    },
    {
     "ename": "TypeError",
     "evalue": "cannot concatenate object of type '<class 'type'>'; only Series and DataFrame objs are valid",
     "output_type": "error",
     "traceback": [
      "\u001b[0;31m---------------------------------------------------------------------------\u001b[0m",
      "\u001b[0;31mTypeError\u001b[0m                                 Traceback (most recent call last)",
      "\u001b[0;32m<ipython-input-15-e81a59e365f4>\u001b[0m in \u001b[0;36m<module>\u001b[0;34m\u001b[0m\n\u001b[1;32m     14\u001b[0m         \u001b[0mprint\u001b[0m\u001b[0;34m(\u001b[0m\u001b[0mtype\u001b[0m\u001b[0;34m(\u001b[0m\u001b[0mcat_df\u001b[0m\u001b[0;34m)\u001b[0m\u001b[0;34m)\u001b[0m\u001b[0;34m\u001b[0m\u001b[0;34m\u001b[0m\u001b[0m\n\u001b[1;32m     15\u001b[0m         \u001b[0mprint\u001b[0m\u001b[0;34m(\u001b[0m\u001b[0mtype\u001b[0m\u001b[0;34m(\u001b[0m\u001b[0mdf\u001b[0m\u001b[0;34m)\u001b[0m\u001b[0;34m)\u001b[0m\u001b[0;34m\u001b[0m\u001b[0;34m\u001b[0m\u001b[0m\n\u001b[0;32m---> 16\u001b[0;31m     \u001b[0mdf\u001b[0m \u001b[0;34m=\u001b[0m \u001b[0mpd\u001b[0m\u001b[0;34m.\u001b[0m\u001b[0mconcat\u001b[0m\u001b[0;34m(\u001b[0m\u001b[0;34m[\u001b[0m\u001b[0mdf\u001b[0m\u001b[0;34m,\u001b[0m \u001b[0mcat_df\u001b[0m\u001b[0;34m]\u001b[0m\u001b[0;34m)\u001b[0m\u001b[0;34m\u001b[0m\u001b[0;34m\u001b[0m\u001b[0m\n\u001b[0m",
      "\u001b[0;32m//anaconda3/lib/python3.7/site-packages/pandas/core/reshape/concat.py\u001b[0m in \u001b[0;36mconcat\u001b[0;34m(objs, axis, join, join_axes, ignore_index, keys, levels, names, verify_integrity, sort, copy)\u001b[0m\n\u001b[1;32m    253\u001b[0m         \u001b[0mverify_integrity\u001b[0m\u001b[0;34m=\u001b[0m\u001b[0mverify_integrity\u001b[0m\u001b[0;34m,\u001b[0m\u001b[0;34m\u001b[0m\u001b[0;34m\u001b[0m\u001b[0m\n\u001b[1;32m    254\u001b[0m         \u001b[0mcopy\u001b[0m\u001b[0;34m=\u001b[0m\u001b[0mcopy\u001b[0m\u001b[0;34m,\u001b[0m\u001b[0;34m\u001b[0m\u001b[0;34m\u001b[0m\u001b[0m\n\u001b[0;32m--> 255\u001b[0;31m         \u001b[0msort\u001b[0m\u001b[0;34m=\u001b[0m\u001b[0msort\u001b[0m\u001b[0;34m,\u001b[0m\u001b[0;34m\u001b[0m\u001b[0;34m\u001b[0m\u001b[0m\n\u001b[0m\u001b[1;32m    256\u001b[0m     )\n\u001b[1;32m    257\u001b[0m \u001b[0;34m\u001b[0m\u001b[0m\n",
      "\u001b[0;32m//anaconda3/lib/python3.7/site-packages/pandas/core/reshape/concat.py\u001b[0m in \u001b[0;36m__init__\u001b[0;34m(self, objs, axis, join, join_axes, keys, levels, names, ignore_index, verify_integrity, copy, sort)\u001b[0m\n\u001b[1;32m    330\u001b[0m                     \u001b[0;34m\" only Series and DataFrame objs are valid\"\u001b[0m\u001b[0;34m.\u001b[0m\u001b[0mformat\u001b[0m\u001b[0;34m(\u001b[0m\u001b[0mtype\u001b[0m\u001b[0;34m(\u001b[0m\u001b[0mobj\u001b[0m\u001b[0;34m)\u001b[0m\u001b[0;34m)\u001b[0m\u001b[0;34m\u001b[0m\u001b[0;34m\u001b[0m\u001b[0m\n\u001b[1;32m    331\u001b[0m                 )\n\u001b[0;32m--> 332\u001b[0;31m                 \u001b[0;32mraise\u001b[0m \u001b[0mTypeError\u001b[0m\u001b[0;34m(\u001b[0m\u001b[0mmsg\u001b[0m\u001b[0;34m)\u001b[0m\u001b[0;34m\u001b[0m\u001b[0;34m\u001b[0m\u001b[0m\n\u001b[0m\u001b[1;32m    333\u001b[0m \u001b[0;34m\u001b[0m\u001b[0m\n\u001b[1;32m    334\u001b[0m             \u001b[0;31m# consolidate\u001b[0m\u001b[0;34m\u001b[0m\u001b[0;34m\u001b[0m\u001b[0;34m\u001b[0m\u001b[0m\n",
      "\u001b[0;31mTypeError\u001b[0m: cannot concatenate object of type '<class 'type'>'; only Series and DataFrame objs are valid"
     ]
    }
   ],
   "source": [
    "# grab all pickled dataframes\n",
    "pickled = ['Business','Comedy', 'Education']\n",
    "import_path = '../scraped/channel/by_category/' + cat_name + '.pickle'\n",
    "\n",
    "# start it off with the Arts category.\n",
    "cat_name = 'Arts'\n",
    "df = pd.DataFrame\n",
    "df.columns = (['title', 'chan_url', 'num_comments', 'author', 'description',\n",
    "    'isExplicit', 'sub_count', 'play_count', 'ch_feed-socials', 'ep_total',\n",
    "    'recent_eps', 'hover_text_concat', 'chan_desc', 'cover_img_url', 'first_release', 'category'])\n",
    "\n",
    "for p in pickled:\n",
    "    cat_name = p\n",
    "    print(cat_name)\n",
    "    with open(import_path, 'rb') as file:\n",
    "        cat_df = pickle.load(file)\n",
    "        print(type(cat_df))\n",
    "        print(type(df))\n",
    "    df = pd.concat([df, cat_df])"
   ]
  },
  {
   "cell_type": "code",
   "execution_count": 26,
   "metadata": {
    "ExecuteTime": {
     "end_time": "2019-10-05T18:09:22.529138Z",
     "start_time": "2019-10-05T18:09:22.525126Z"
    }
   },
   "outputs": [],
   "source": [
    "df.shape"
   ]
  },
  {
   "cell_type": "code",
   "execution_count": 27,
   "metadata": {
    "ExecuteTime": {
     "end_time": "2019-10-05T18:09:26.787860Z",
     "start_time": "2019-10-05T18:09:26.782696Z"
    }
   },
   "outputs": [
    {
     "data": {
      "text/plain": [
       "title                object\n",
       "chan_url             object\n",
       "num_comments          int64\n",
       "author               object\n",
       "description          object\n",
       "isExplicit            int64\n",
       "sub_count             int64\n",
       "play_count            int64\n",
       "ch_feed-socials      object\n",
       "ep_total              int64\n",
       "recent_eps           object\n",
       "hover_text_concat    object\n",
       "chan_desc            object\n",
       "cover_img_url        object\n",
       "first_release        object\n",
       "category             object\n",
       "dtype: object"
      ]
     },
     "execution_count": 27,
     "metadata": {},
     "output_type": "execute_result"
    }
   ],
   "source": [
    "df.dtypes"
   ]
  },
  {
   "cell_type": "code",
   "execution_count": 18,
   "metadata": {
    "ExecuteTime": {
     "end_time": "2019-10-05T17:57:36.002004Z",
     "start_time": "2019-10-05T17:57:35.996903Z"
    }
   },
   "outputs": [
    {
     "data": {
      "text/plain": [
       "(40, 16)"
      ]
     },
     "execution_count": 18,
     "metadata": {},
     "output_type": "execute_result"
    }
   ],
   "source": [
    "df[df.ep_total == ''].shape"
   ]
  },
  {
   "cell_type": "markdown",
   "metadata": {},
   "source": [
    "## Load Dataframes"
   ]
  },
  {
   "cell_type": "code",
   "execution_count": 1,
   "metadata": {
    "ExecuteTime": {
     "end_time": "2019-10-05T21:06:12.447319Z",
     "start_time": "2019-10-05T21:06:12.100592Z"
    },
    "init_cell": true
   },
   "outputs": [],
   "source": [
    "import pandas as pd\n",
    "import pickle\n",
    "import features as ft\n",
    "import copy"
   ]
  },
  {
   "cell_type": "code",
   "execution_count": 4,
   "metadata": {
    "ExecuteTime": {
     "end_time": "2019-10-05T21:06:46.231772Z",
     "start_time": "2019-10-05T21:06:46.220054Z"
    },
    "init_cell": true,
    "scrolled": true
   },
   "outputs": [
    {
     "name": "stdout",
     "output_type": "stream",
     "text": [
      "shape of category df:  (200, 15)\n",
      "number of empty columns:  (47, 15)\n"
     ]
    }
   ],
   "source": [
    "cat_name = 'Education'\n",
    "import_path = '../scraped/channel/by_category/' + cat_name + '.pickle'\n",
    "with open(import_path, 'rb') as file:\n",
    "    df = pickle.load(file)\n",
    "    \n",
    "print('shape of category df: ', df.shape)\n",
    "print('number of empty columns: ', df[df.ep_total == 0].shape)"
   ]
  },
  {
   "cell_type": "code",
   "execution_count": 5,
   "metadata": {
    "ExecuteTime": {
     "end_time": "2019-10-05T21:06:52.420108Z",
     "start_time": "2019-10-05T21:06:52.409715Z"
    },
    "scrolled": true
   },
   "outputs": [
    {
     "data": {
      "text/plain": [
       "title                object\n",
       "chan_url             object\n",
       "num_comments          int64\n",
       "author               object\n",
       "isExplicit            int64\n",
       "sub_count             int64\n",
       "play_count            int64\n",
       "ch_feed-socials      object\n",
       "ep_total              int64\n",
       "recent_eps           object\n",
       "hover_text_concat    object\n",
       "chan_desc            object\n",
       "cover_img_url        object\n",
       "first_release        object\n",
       "category             object\n",
       "dtype: object"
      ]
     },
     "execution_count": 5,
     "metadata": {},
     "output_type": "execute_result"
    }
   ],
   "source": [
    "df.dtypes"
   ]
  },
  {
   "cell_type": "markdown",
   "metadata": {},
   "source": [
    "## Inspect relationships b/t features before modeling"
   ]
  },
  {
   "cell_type": "markdown",
   "metadata": {},
   "source": [
    "## Misc functions (now living in 'features.py')"
   ]
  },
  {
   "cell_type": "code",
   "execution_count": 25,
   "metadata": {
    "ExecuteTime": {
     "end_time": "2019-10-05T18:09:21.416653Z",
     "start_time": "2019-10-05T18:09:21.408689Z"
    }
   },
   "outputs": [],
   "source": [
    "def try_casting_to_int(ep_total):\n",
    "    '''\n",
    "    \n",
    "    Corrects for an early scraping error when I wasn't properly casting ep_total to an int.\n",
    "    \n",
    "    '''\n",
    "    try:\n",
    "        return int(ep_total)\n",
    "    except:\n",
    "        return 0\n",
    "    \n",
    "\n",
    "\n",
    "def sanitize(df):\n",
    "    '''\n",
    "    \n",
    "    General sanitization as I find errors with various datasets.\n",
    "    \n",
    "    '''\n",
    "    \n",
    "    \n",
    "    \n",
    "    df['ep_total'] = df.ep_total.apply(try_casting_to_int)\n",
    "    "
   ]
  },
  {
   "cell_type": "code",
   "execution_count": 3,
   "metadata": {
    "ExecuteTime": {
     "end_time": "2019-10-05T21:06:12.469233Z",
     "start_time": "2019-10-05T21:06:12.463882Z"
    },
    "init_cell": true
   },
   "outputs": [],
   "source": [
    "def build_features(df):\n",
    "    '''\n",
    "    \n",
    "    Build feature columns, from methods in features.py.\n",
    "    \n",
    "    '''    \n",
    "    \n",
    "    df['recent_ep_spacing'] = df.recent_eps.apply(ft.recent_ep_mean_dist)\n",
    "    df['lifetime_ep_freq'] = df.apply(ft.lifetime_ep_freq, axis=1)\n",
    "    df['avg_ep_len'] = df.recent_eps.apply(ft.avg_ep_len)\n",
    "    \n",
    "    social_domains = ['twitter', 'facebook', 'youtube', 'instagram']\n",
    "    for domain in social_domains:\n",
    "        df[domain] = df['ch_feed-socials'].apply(ft.has_domain,social_domain=domain)\n",
    "    \n",
    "    return df"
   ]
  },
  {
   "cell_type": "code",
   "execution_count": 17,
   "metadata": {
    "ExecuteTime": {
     "end_time": "2019-10-05T21:34:56.646232Z",
     "start_time": "2019-10-05T21:34:56.642499Z"
    }
   },
   "outputs": [
    {
     "data": {
      "text/plain": [
       "0"
      ]
     },
     "execution_count": 17,
     "metadata": {},
     "output_type": "execute_result"
    }
   ],
   "source": [
    "len([])"
   ]
  },
  {
   "cell_type": "code",
   "execution_count": null,
   "metadata": {},
   "outputs": [],
   "source": []
  }
 ],
 "metadata": {
  "celltoolbar": "Initialization Cell",
  "kernelspec": {
   "display_name": "Python 3",
   "language": "python",
   "name": "python3"
  },
  "language_info": {
   "codemirror_mode": {
    "name": "ipython",
    "version": 3
   },
   "file_extension": ".py",
   "mimetype": "text/x-python",
   "name": "python",
   "nbconvert_exporter": "python",
   "pygments_lexer": "ipython3",
   "version": "3.7.4"
  },
  "toc": {
   "base_numbering": 1,
   "nav_menu": {},
   "number_sections": false,
   "sideBar": true,
   "skip_h1_title": false,
   "title_cell": "Table of Contents",
   "title_sidebar": "Contents",
   "toc_cell": true,
   "toc_position": {
    "height": "calc(100% - 180px)",
    "left": "10px",
    "top": "150px",
    "width": "273.188px"
   },
   "toc_section_display": true,
   "toc_window_display": false
  },
  "varInspector": {
   "cols": {
    "lenName": 16,
    "lenType": 16,
    "lenVar": 40
   },
   "kernels_config": {
    "python": {
     "delete_cmd_postfix": "",
     "delete_cmd_prefix": "del ",
     "library": "var_list.py",
     "varRefreshCmd": "print(var_dic_list())"
    },
    "r": {
     "delete_cmd_postfix": ") ",
     "delete_cmd_prefix": "rm(",
     "library": "var_list.r",
     "varRefreshCmd": "cat(var_dic_list()) "
    }
   },
   "types_to_exclude": [
    "module",
    "function",
    "builtin_function_or_method",
    "instance",
    "_Feature"
   ],
   "window_display": false
  }
 },
 "nbformat": 4,
 "nbformat_minor": 2
}
