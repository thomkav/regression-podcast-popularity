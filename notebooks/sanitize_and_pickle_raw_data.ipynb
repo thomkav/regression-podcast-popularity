{
 "cells": [
  {
   "cell_type": "markdown",
   "metadata": {
    "toc": true
   },
   "source": [
    "<h1>Table of Contents<span class=\"tocSkip\"></span></h1>\n",
    "<div class=\"toc\"><ul class=\"toc-item\"><li><span><a href=\"#Archive\" data-toc-modified-id=\"Archive-1\">Archive</a></span></li></ul></div>"
   ]
  },
  {
   "cell_type": "code",
   "execution_count": 5,
   "metadata": {
    "ExecuteTime": {
     "end_time": "2019-10-06T16:36:46.047264Z",
     "start_time": "2019-10-06T16:36:46.043618Z"
    }
   },
   "outputs": [],
   "source": [
    "import ast\n",
    "\n",
    "import pandas as pd\n",
    "pd.set_option('display.max_colwidth', 100)  # or 199\n",
    "\n",
    "import pickle\n",
    "\n",
    "import features\n",
    "\n",
    "from os import listdir\n",
    "from os.path import isfile, join\n",
    "\n",
    "import copy\n"
   ]
  },
  {
   "cell_type": "code",
   "execution_count": 30,
   "metadata": {
    "ExecuteTime": {
     "end_time": "2019-10-07T11:09:00.245407Z",
     "start_time": "2019-10-07T11:09:00.241987Z"
    }
   },
   "outputs": [],
   "source": [
    "# grab all scraped categories dataframes from the scraped directory\n",
    "scraped_categories = ([f.split('.')[0] for f in listdir('../scraped/channel/by_category/')\n",
    "                       if f[-4:] == '.txt'])"
   ]
  },
  {
   "cell_type": "code",
   "execution_count": 31,
   "metadata": {
    "ExecuteTime": {
     "end_time": "2019-10-07T11:09:04.689650Z",
     "start_time": "2019-10-07T11:09:01.476196Z"
    },
    "scrolled": false
   },
   "outputs": [
    {
     "name": "stdout",
     "output_type": "stream",
     "text": [
      "---- loaded Management  with size (190, 15)\n",
      "appending...  Management \n",
      "first dataframe...  Management \n",
      "dataframe now has size (190, 15)\n",
      "---- loaded Investing with size (139, 15)\n",
      "appending...  Investing\n",
      "dataframe now has size (329, 15)\n",
      "---- loaded Books with size (146, 15)\n",
      "appending...  Books\n",
      "dataframe now has size (475, 15)\n",
      "---- loaded Fashion & Beauty with size (177, 15)\n",
      "appending...  Fashion & Beauty\n",
      "dataframe now has size (652, 15)\n",
      "---- loaded Games with size (150, 15)\n",
      "appending...  Games\n",
      "dataframe now has size (802, 15)\n",
      "---- loaded Courses with size (184, 15)\n",
      "appending...  Courses\n",
      "dataframe now has size (986, 15)\n",
      "---- loaded Religion & Spirituality with size (2, 15)\n",
      "appending...  Religion & Spirituality\n",
      "dataframe now has size (988, 15)\n",
      "---- loaded Music with size (60, 15)\n",
      "appending...  Music\n",
      "dataframe now has size (1048, 15)\n",
      "---- loaded Non-profit with size (197, 15)\n",
      "appending...  Non-profit\n",
      "dataframe now has size (1245, 15)\n",
      "---- loaded Standup with size (95, 15)\n",
      "appending...  Standup\n",
      "dataframe now has size (1340, 15)\n",
      "---- loaded Performing Arts with size (158, 15)\n",
      "appending...  Performing Arts\n",
      "dataframe now has size (1498, 15)\n",
      "---- loaded Medicine with size (10, 15)\n",
      "appending...  Medicine\n",
      "dataframe now has size (1508, 15)\n",
      "---- loaded Home & Garden with size (78, 15)\n",
      "appending...  Home & Garden\n",
      "dataframe now has size (1586, 15)\n",
      "---- loaded Crafts with size (27, 15)\n",
      "appending...  Crafts\n",
      "dataframe now has size (1613, 15)\n",
      "---- loaded Games & Hobbies with size (49, 15)\n",
      "appending...  Games & Hobbies\n",
      "dataframe now has size (1662, 15)\n",
      "---- loaded Comedy Fiction with size (120, 15)\n",
      "appending...  Comedy Fiction\n",
      "dataframe now has size (1782, 15)\n",
      "---- loaded Comedy with size (200, 15)\n",
      "appending...  Comedy\n",
      "dataframe now has size (1982, 15)\n",
      "---- loaded Design with size (149, 15)\n",
      "appending...  Design\n",
      "dataframe now has size (2131, 15)\n",
      "---- loaded Fiction with size (161, 15)\n",
      "appending...  Fiction\n",
      "dataframe now has size (2292, 15)\n",
      "---- loaded Society & Culture with size (1, 15)\n",
      "appending...  Society & Culture\n",
      "dataframe now has size (2293, 15)\n",
      "---- loaded Hobbies with size (165, 15)\n",
      "appending...  Hobbies\n",
      "dataframe now has size (2458, 15)\n",
      "---- loaded Health with size (8, 15)\n",
      "appending...  Health\n",
      "dataframe now has size (2466, 15)\n",
      "---- loaded Education with size (200, 15)\n",
      "appending...  Education\n",
      "dataframe now has size (2666, 15)\n",
      "---- loaded Government with size (199, 15)\n",
      "appending...  Government\n",
      "dataframe now has size (2865, 15)\n",
      "---- loaded Science Fiction with size (143, 15)\n",
      "appending...  Science Fiction\n",
      "dataframe now has size (3008, 15)\n",
      "---- loaded Fitness with size (183, 15)\n",
      "appending...  Fitness\n",
      "dataframe now has size (3191, 15)\n",
      "---- loaded Alternative Health with size (165, 15)\n",
      "appending...  Alternative Health\n",
      "dataframe now has size (3356, 15)\n",
      "---- loaded Self-Improvement with size (120, 15)\n",
      "appending...  Self-Improvement\n",
      "dataframe now has size (3476, 15)\n",
      "---- loaded Careers with size (158, 15)\n",
      "appending...  Careers\n",
      "dataframe now has size (3634, 15)\n",
      "---- loaded Comedy Interviews with size (171, 15)\n",
      "appending...  Comedy Interviews\n",
      "dataframe now has size (3805, 15)\n",
      "---- loaded Kids & Family with size (60, 15)\n",
      "appending...  Kids & Family\n",
      "dataframe now has size (3865, 15)\n",
      "---- loaded Aviation with size (139, 15)\n",
      "appending...  Aviation\n",
      "dataframe now has size (4004, 15)\n",
      "---- loaded Animation & Manga with size (61, 15)\n",
      "appending...  Animation & Manga\n",
      "dataframe now has size (4065, 15)\n",
      "---- loaded News & Politics with size (6, 15)\n",
      "appending...  News & Politics\n",
      "dataframe now has size (4071, 15)\n",
      "---- loaded History with size (192, 15)\n",
      "appending...  History\n",
      "dataframe now has size (4263, 15)\n",
      "---- loaded Automotive with size (179, 15)\n",
      "appending...  Automotive\n",
      "dataframe now has size (4442, 15)\n",
      "---- loaded Health & Fitness with size (199, 15)\n",
      "appending...  Health & Fitness\n",
      "dataframe now has size (4641, 15)\n",
      "---- loaded Technology with size (60, 15)\n",
      "appending...  Technology\n",
      "dataframe now has size (4701, 15)\n",
      "---- loaded Video Games with size (163, 15)\n",
      "appending...  Video Games\n",
      "dataframe now has size (4864, 15)\n",
      "---- loaded Visual Arts with size (191, 15)\n",
      "appending...  Visual Arts\n",
      "dataframe now has size (5055, 15)\n",
      "---- loaded Drama with size (83, 15)\n",
      "appending...  Drama\n",
      "dataframe now has size (5138, 15)\n",
      "---- loaded Improv with size (195, 15)\n",
      "appending...  Improv\n",
      "dataframe now has size (5333, 15)\n",
      "---- loaded Entrepreneurship with size (178, 15)\n",
      "appending...  Entrepreneurship\n",
      "dataframe now has size (5511, 15)\n",
      "---- loaded Food with size (178, 15)\n",
      "appending...  Food\n",
      "dataframe now has size (5689, 15)\n",
      "---- loaded Marketing with size (192, 15)\n",
      "appending...  Marketing\n",
      "dataframe now has size (5881, 15)\n",
      "---- loaded Leisure with size (197, 15)\n",
      "appending...  Leisure\n",
      "dataframe now has size (6078, 15)\n",
      "---- loaded How to with size (155, 15)\n",
      "appending...  How to\n",
      "dataframe now has size (6233, 15)\n",
      "---- loaded Business with size (199, 15)\n",
      "appending...  Business\n",
      "dataframe now has size (6432, 15)\n",
      "---- loaded Arts with size (181, 15)\n",
      "appending...  Arts\n",
      "dataframe now has size (6613, 15)\n",
      "---- loaded TV & Film with size (60, 15)\n",
      "appending...  TV & Film\n",
      "dataframe now has size (6673, 15)\n"
     ]
    }
   ],
   "source": [
    "def merge_raw_data(scraped_categories):\n",
    "    # append other dataframes to base dataframe\n",
    "    for scraped in scraped_categories:\n",
    "        \n",
    "        next_df = features.raw_to_df(scraped)\n",
    "        print(f'---- loaded {scraped} with size {next_df.shape}')\n",
    "        \n",
    "        try:\n",
    "            print('appending... ', scraped)\n",
    "            df = df.append(next_df)\n",
    "        except:\n",
    "            print('first dataframe... ', scraped)\n",
    "            df = next_df.copy()\n",
    "        \n",
    "        print(f'dataframe now has size {df.shape}')\n",
    "        \n",
    "        \n",
    "    return df\n",
    "\n",
    "df = merge_raw_data(scraped_categories)"
   ]
  },
  {
   "cell_type": "code",
   "execution_count": 22,
   "metadata": {
    "ExecuteTime": {
     "end_time": "2019-10-07T02:36:33.562075Z",
     "start_time": "2019-10-07T02:36:33.523338Z"
    },
    "scrolled": false
   },
   "outputs": [
    {
     "data": {
      "text/html": [
       "<div>\n",
       "<style scoped>\n",
       "    .dataframe tbody tr th:only-of-type {\n",
       "        vertical-align: middle;\n",
       "    }\n",
       "\n",
       "    .dataframe tbody tr th {\n",
       "        vertical-align: top;\n",
       "    }\n",
       "\n",
       "    .dataframe thead th {\n",
       "        text-align: right;\n",
       "    }\n",
       "</style>\n",
       "<table border=\"1\" class=\"dataframe\">\n",
       "  <thead>\n",
       "    <tr style=\"text-align: right;\">\n",
       "      <th></th>\n",
       "      <th>title</th>\n",
       "      <th>chan_url</th>\n",
       "      <th>num_comments</th>\n",
       "      <th>author</th>\n",
       "      <th>isExplicit</th>\n",
       "      <th>sub_count</th>\n",
       "      <th>play_count</th>\n",
       "      <th>ch_feed-socials</th>\n",
       "      <th>ep_total</th>\n",
       "      <th>recent_eps</th>\n",
       "      <th>hover_text_concat</th>\n",
       "      <th>chan_desc</th>\n",
       "      <th>cover_img_url</th>\n",
       "      <th>first_release</th>\n",
       "      <th>category</th>\n",
       "    </tr>\n",
       "  </thead>\n",
       "  <tbody>\n",
       "    <tr>\n",
       "      <td>50</td>\n",
       "      <td>The Potters Cast | Pottery | Ceramics | Art | Craft</td>\n",
       "      <td>https://castbox.fm/channel/The-Potters-Cast-|-Pottery-|-Ceramics-|-Art-|-Craft-id11477</td>\n",
       "      <td>1</td>\n",
       "      <td>Paul Blais</td>\n",
       "      <td>0</td>\n",
       "      <td>523</td>\n",
       "      <td>17231</td>\n",
       "      <td>[https://Http://ThePottersCast.com]</td>\n",
       "      <td>565</td>\n",
       "      <td>[[2019-10-03, 01:03:41, 1], [2019-10-01, 00:53:34, 0], [2019-09-26, 00:47:57, 0], [2019-09-24, 0...</td>\n",
       "      <td>Michael Hall is from Kansas City, Missouri. He escaped to Tempe, Arizona–earned his BFA from Ari...</td>\n",
       "      <td>Pottery</td>\n",
       "      <td>https://is4-ssl.mzstatic.com/image/thumb/Podcasts123/v4/9c/87/93/9c8793ee-ad78-0101-2f6b-25e551b...</td>\n",
       "      <td>2014-04-29</td>\n",
       "      <td>Visual Arts</td>\n",
       "    </tr>\n",
       "    <tr>\n",
       "      <td>170</td>\n",
       "      <td>FSLSO PalmCast</td>\n",
       "      <td>https://castbox.fm/channel/FSLSO-PalmCast-id2026660</td>\n",
       "      <td>0</td>\n",
       "      <td>FSLSO</td>\n",
       "      <td>0</td>\n",
       "      <td>0</td>\n",
       "      <td>5</td>\n",
       "      <td>[http://fslso.podomatic.com]</td>\n",
       "      <td>8</td>\n",
       "      <td>[[2019-09-18, 00:31:52, 0], [2019-08-29, 00:04:38, 0], [2019-08-29, 00:22:26, 0], [2019-02-06, 0...</td>\n",
       "      <td>Jordan talks with Leslie Chapman-Henderson, the President and CEO of FLASH (Federal Alliance for...</td>\n",
       "      <td>The Florida Surplus Lines Service Office's official podcast, bringing you news, information and ...</td>\n",
       "      <td>https://is5-ssl.mzstatic.com/image/thumb/Podcasts114/v4/8e/09/4e/8e094e5e-e49e-f5e4-1ba1-a4a8952...</td>\n",
       "      <td>2018-04-18</td>\n",
       "      <td>Non-profit</td>\n",
       "    </tr>\n",
       "    <tr>\n",
       "      <td>44</td>\n",
       "      <td>Pants on Fire</td>\n",
       "      <td>https://castbox.fm/channel/Pants-on-Fire-id1175767</td>\n",
       "      <td>28</td>\n",
       "      <td>Gen-Z Media</td>\n",
       "      <td>0</td>\n",
       "      <td>1826</td>\n",
       "      <td>32483</td>\n",
       "      <td>[http://pantsonfire.pizza]</td>\n",
       "      <td>89</td>\n",
       "      <td>[[2019-10-03, 00:21:34, 0], [2019-09-26, 00:10:07, 0], [2019-09-19, 00:22:06, 0], [2019-09-12, 0...</td>\n",
       "      <td>Who’s the real expert, and who the liar, liar Pants on Fire?Pants On Fire is produced by Gen-Z M...</td>\n",
       "      <td>In the era of fake news, kids need to learn to be able to tell what’s true from what’s false. An...</td>\n",
       "      <td>https://is1-ssl.mzstatic.com/image/thumb/Podcasts123/v4/90/ff/58/90ff58cb-d0c2-a166-ab33-28e3d27...</td>\n",
       "      <td>2018-02-13</td>\n",
       "      <td>Kids &amp; Family</td>\n",
       "    </tr>\n",
       "    <tr>\n",
       "      <td>107</td>\n",
       "      <td>Monster Porn: Horror Stories, Weird Fiction, &amp; Speculative Fiction</td>\n",
       "      <td>https://castbox.fm/channel/Monster-Porn%3A-Horror-Stories%2C-Weird-Fiction%2C-%26-Speculative-Fi...</td>\n",
       "      <td>0</td>\n",
       "      <td>Horror</td>\n",
       "      <td>1</td>\n",
       "      <td>216</td>\n",
       "      <td>12662</td>\n",
       "      <td>[https://twitter.com/monsterPr0n, https://www.facebook.com/Monster-Porn-Weird-Fiction-Horror-Pod...</td>\n",
       "      <td>44</td>\n",
       "      <td>[[2019-09-30, 01:09:39, 0], [2019-09-16, 00:45:54, 0], [2019-09-13, 00:34:50, 0], [2019-09-02, 0...</td>\n",
       "      <td>In “Wearing a Sheet Doesn’t Make You a Ghost,” wearing a sheet does make you a ghost. When thirt...</td>\n",
       "      <td>Your creature fix in podcast form. Monster Porn is an anthology of horror stories, weird fiction...</td>\n",
       "      <td>https://is4-ssl.mzstatic.com/image/thumb/Podcasts113/v4/bc/f3/7e/bcf37e6c-606b-f031-ba3b-ff0c329...</td>\n",
       "      <td>2018-05-28</td>\n",
       "      <td>Fiction</td>\n",
       "    </tr>\n",
       "  </tbody>\n",
       "</table>\n",
       "</div>"
      ],
      "text/plain": [
       "                                                                  title  \\\n",
       "50                  The Potters Cast | Pottery | Ceramics | Art | Craft   \n",
       "170                                                      FSLSO PalmCast   \n",
       "44                                                        Pants on Fire   \n",
       "107  Monster Porn: Horror Stories, Weird Fiction, & Speculative Fiction   \n",
       "\n",
       "                                                                                                chan_url  \\\n",
       "50                https://castbox.fm/channel/The-Potters-Cast-|-Pottery-|-Ceramics-|-Art-|-Craft-id11477   \n",
       "170                                                  https://castbox.fm/channel/FSLSO-PalmCast-id2026660   \n",
       "44                                                    https://castbox.fm/channel/Pants-on-Fire-id1175767   \n",
       "107  https://castbox.fm/channel/Monster-Porn%3A-Horror-Stories%2C-Weird-Fiction%2C-%26-Speculative-Fi...   \n",
       "\n",
       "     num_comments       author  isExplicit  sub_count  play_count  \\\n",
       "50              1   Paul Blais           0        523       17231   \n",
       "170             0        FSLSO           0          0           5   \n",
       "44             28  Gen-Z Media           0       1826       32483   \n",
       "107             0       Horror           1        216       12662   \n",
       "\n",
       "                                                                                         ch_feed-socials  \\\n",
       "50                                                                   [https://Http://ThePottersCast.com]   \n",
       "170                                                                         [http://fslso.podomatic.com]   \n",
       "44                                                                            [http://pantsonfire.pizza]   \n",
       "107  [https://twitter.com/monsterPr0n, https://www.facebook.com/Monster-Porn-Weird-Fiction-Horror-Pod...   \n",
       "\n",
       "     ep_total  \\\n",
       "50        565   \n",
       "170         8   \n",
       "44         89   \n",
       "107        44   \n",
       "\n",
       "                                                                                              recent_eps  \\\n",
       "50   [[2019-10-03, 01:03:41, 1], [2019-10-01, 00:53:34, 0], [2019-09-26, 00:47:57, 0], [2019-09-24, 0...   \n",
       "170  [[2019-09-18, 00:31:52, 0], [2019-08-29, 00:04:38, 0], [2019-08-29, 00:22:26, 0], [2019-02-06, 0...   \n",
       "44   [[2019-10-03, 00:21:34, 0], [2019-09-26, 00:10:07, 0], [2019-09-19, 00:22:06, 0], [2019-09-12, 0...   \n",
       "107  [[2019-09-30, 01:09:39, 0], [2019-09-16, 00:45:54, 0], [2019-09-13, 00:34:50, 0], [2019-09-02, 0...   \n",
       "\n",
       "                                                                                       hover_text_concat  \\\n",
       "50   Michael Hall is from Kansas City, Missouri. He escaped to Tempe, Arizona–earned his BFA from Ari...   \n",
       "170  Jordan talks with Leslie Chapman-Henderson, the President and CEO of FLASH (Federal Alliance for...   \n",
       "44   Who’s the real expert, and who the liar, liar Pants on Fire?Pants On Fire is produced by Gen-Z M...   \n",
       "107  In “Wearing a Sheet Doesn’t Make You a Ghost,” wearing a sheet does make you a ghost. When thirt...   \n",
       "\n",
       "                                                                                               chan_desc  \\\n",
       "50                                                                                               Pottery   \n",
       "170  The Florida Surplus Lines Service Office's official podcast, bringing you news, information and ...   \n",
       "44   In the era of fake news, kids need to learn to be able to tell what’s true from what’s false. An...   \n",
       "107  Your creature fix in podcast form. Monster Porn is an anthology of horror stories, weird fiction...   \n",
       "\n",
       "                                                                                           cover_img_url  \\\n",
       "50   https://is4-ssl.mzstatic.com/image/thumb/Podcasts123/v4/9c/87/93/9c8793ee-ad78-0101-2f6b-25e551b...   \n",
       "170  https://is5-ssl.mzstatic.com/image/thumb/Podcasts114/v4/8e/09/4e/8e094e5e-e49e-f5e4-1ba1-a4a8952...   \n",
       "44   https://is1-ssl.mzstatic.com/image/thumb/Podcasts123/v4/90/ff/58/90ff58cb-d0c2-a166-ab33-28e3d27...   \n",
       "107  https://is4-ssl.mzstatic.com/image/thumb/Podcasts113/v4/bc/f3/7e/bcf37e6c-606b-f031-ba3b-ff0c329...   \n",
       "\n",
       "    first_release       category  \n",
       "50     2014-04-29    Visual Arts  \n",
       "170    2018-04-18     Non-profit  \n",
       "44     2018-02-13  Kids & Family  \n",
       "107    2018-05-28        Fiction  "
      ]
     },
     "execution_count": 22,
     "metadata": {},
     "output_type": "execute_result"
    }
   ],
   "source": [
    "df.sample(4)"
   ]
  },
  {
   "cell_type": "markdown",
   "metadata": {},
   "source": [
    "NaN and missing value check."
   ]
  },
  {
   "cell_type": "code",
   "execution_count": 23,
   "metadata": {
    "ExecuteTime": {
     "end_time": "2019-10-07T02:36:57.014861Z",
     "start_time": "2019-10-07T02:36:57.000846Z"
    }
   },
   "outputs": [
    {
     "name": "stdout",
     "output_type": "stream",
     "text": [
      "<class 'pandas.core.frame.DataFrame'>\n",
      "Int64Index: 4711 entries, 0 to 59\n",
      "Data columns (total 15 columns):\n",
      "title                4711 non-null object\n",
      "chan_url             4711 non-null object\n",
      "num_comments         4711 non-null int64\n",
      "author               4711 non-null object\n",
      "isExplicit           4711 non-null int64\n",
      "sub_count            4711 non-null int64\n",
      "play_count           4711 non-null int64\n",
      "ch_feed-socials      4711 non-null object\n",
      "ep_total             4711 non-null int64\n",
      "recent_eps           4693 non-null object\n",
      "hover_text_concat    4693 non-null object\n",
      "chan_desc            4693 non-null object\n",
      "cover_img_url        4693 non-null object\n",
      "first_release        4711 non-null object\n",
      "category             4711 non-null object\n",
      "dtypes: int64(5), object(10)\n",
      "memory usage: 588.9+ KB\n"
     ]
    }
   ],
   "source": [
    "df.info()"
   ]
  },
  {
   "cell_type": "code",
   "execution_count": 24,
   "metadata": {
    "ExecuteTime": {
     "end_time": "2019-10-07T02:37:20.922660Z",
     "start_time": "2019-10-07T02:37:20.919882Z"
    }
   },
   "outputs": [],
   "source": [
    "import datetime"
   ]
  },
  {
   "cell_type": "code",
   "execution_count": 32,
   "metadata": {
    "ExecuteTime": {
     "end_time": "2019-10-07T11:09:25.391710Z",
     "start_time": "2019-10-07T11:09:25.203072Z"
    }
   },
   "outputs": [],
   "source": [
    "# export a version of this merged dataframe for use in EDA\n",
    "# use hour / day for versioning\n",
    "currentDT = datetime.datetime.now()\n",
    "version_suffix = currentDT.strftime(\"%m-%d_%H-%M\")\n",
    "export_path = '../scraped/merged/merged_' + version_suffix + '.pickle'\n",
    "with open(export_path, 'wb') as file:\n",
    "    pickle.dump(df, file)"
   ]
  },
  {
   "cell_type": "code",
   "execution_count": null,
   "metadata": {},
   "outputs": [],
   "source": []
  },
  {
   "cell_type": "code",
   "execution_count": null,
   "metadata": {},
   "outputs": [],
   "source": []
  },
  {
   "cell_type": "code",
   "execution_count": null,
   "metadata": {},
   "outputs": [],
   "source": []
  },
  {
   "cell_type": "code",
   "execution_count": null,
   "metadata": {},
   "outputs": [],
   "source": []
  },
  {
   "cell_type": "code",
   "execution_count": null,
   "metadata": {},
   "outputs": [],
   "source": []
  },
  {
   "cell_type": "code",
   "execution_count": null,
   "metadata": {},
   "outputs": [],
   "source": []
  },
  {
   "cell_type": "code",
   "execution_count": null,
   "metadata": {},
   "outputs": [],
   "source": []
  },
  {
   "cell_type": "code",
   "execution_count": null,
   "metadata": {},
   "outputs": [],
   "source": []
  },
  {
   "cell_type": "code",
   "execution_count": null,
   "metadata": {},
   "outputs": [],
   "source": []
  },
  {
   "cell_type": "code",
   "execution_count": null,
   "metadata": {},
   "outputs": [],
   "source": []
  },
  {
   "cell_type": "code",
   "execution_count": null,
   "metadata": {},
   "outputs": [],
   "source": []
  },
  {
   "cell_type": "code",
   "execution_count": null,
   "metadata": {},
   "outputs": [],
   "source": []
  },
  {
   "cell_type": "code",
   "execution_count": null,
   "metadata": {},
   "outputs": [],
   "source": []
  },
  {
   "cell_type": "markdown",
   "metadata": {},
   "source": [
    "### Archive"
   ]
  },
  {
   "cell_type": "code",
   "execution_count": null,
   "metadata": {},
   "outputs": [],
   "source": [
    "# append other dataframes to base dataframe\n",
    "for scraped in scraped_categories:\n",
    "    print(scraped)\n",
    "    import_path = '../scraped/channel/by_category/' + cat_name + '.pickle'\n",
    "    with open(import_path, 'rb') as file:\n",
    "        cat_df = pickle.load(file)\n",
    "        print(type(cat_df))\n",
    "#         print(type(df))\n",
    "    df = pd.concat([cat_df, df])"
   ]
  },
  {
   "cell_type": "code",
   "execution_count": null,
   "metadata": {},
   "outputs": [],
   "source": [
    "# grab all pickled dataframes\n",
    "pickled = ['Business','Comedy', 'Education']\n",
    "\n",
    "\n",
    "# start it off with the Arts category.\n",
    "cat_name = 'Arts'\n",
    "import_path = '../scraped/channel/by_category/' + cat_name + '.pickle'\n",
    "\n",
    "with open(import_path, 'rb') as file:\n",
    "    df = pickle.load(file)\n",
    "# df = pd.DataFrame\n",
    "# df.columns = (['title', 'chan_url', 'num_comments', 'author', 'description',\n",
    "#     'isExplicit', 'sub_count', 'play_count', 'ch_feed-socials', 'ep_total',\n",
    "#     'recent_eps', 'hover_text_concat', 'chan_desc', 'cover_img_url', 'first_release', 'category'])\n",
    "\n",
    "for p in pickled:\n",
    "    cat_name = p\n",
    "    print(cat_name)\n",
    "    import_path = '../scraped/channel/by_category/' + cat_name + '.pickle'\n",
    "    with open(import_path, 'rb') as file:\n",
    "        cat_df = pickle.load(file)\n",
    "        print(type(cat_df))\n",
    "#         print(type(df))\n",
    "    df = pd.concat([cat_df, df])"
   ]
  },
  {
   "cell_type": "code",
   "execution_count": 42,
   "metadata": {
    "ExecuteTime": {
     "end_time": "2019-10-06T12:59:58.940763Z",
     "start_time": "2019-10-06T12:59:58.796988Z"
    },
    "scrolled": false
   },
   "outputs": [
    {
     "data": {
      "text/html": [
       "<div>\n",
       "<style scoped>\n",
       "    .dataframe tbody tr th:only-of-type {\n",
       "        vertical-align: middle;\n",
       "    }\n",
       "\n",
       "    .dataframe tbody tr th {\n",
       "        vertical-align: top;\n",
       "    }\n",
       "\n",
       "    .dataframe thead th {\n",
       "        text-align: right;\n",
       "    }\n",
       "</style>\n",
       "<table border=\"1\" class=\"dataframe\">\n",
       "  <thead>\n",
       "    <tr style=\"text-align: right;\">\n",
       "      <th></th>\n",
       "      <th>title</th>\n",
       "      <th>chan_url</th>\n",
       "      <th>num_comments</th>\n",
       "      <th>author</th>\n",
       "      <th>isExplicit</th>\n",
       "      <th>sub_count</th>\n",
       "      <th>play_count</th>\n",
       "      <th>ch_feed-socials</th>\n",
       "      <th>ep_total</th>\n",
       "      <th>recent_eps</th>\n",
       "      <th>hover_text_concat</th>\n",
       "      <th>chan_desc</th>\n",
       "      <th>cover_img_url</th>\n",
       "      <th>first_release</th>\n",
       "      <th>category</th>\n",
       "    </tr>\n",
       "  </thead>\n",
       "  <tbody>\n",
       "    <tr>\n",
       "      <td>80</td>\n",
       "      <td>Naked on Cashmere</td>\n",
       "      <td>https://castbox.fm/channel/Naked-on-Cashmere-i...</td>\n",
       "      <td>1</td>\n",
       "      <td>Atticus &amp; Podcast Nation</td>\n",
       "      <td>0</td>\n",
       "      <td>203</td>\n",
       "      <td>2077</td>\n",
       "      <td>[https://naked-on-cashmere.simplecast.com]</td>\n",
       "      <td>36</td>\n",
       "      <td>[[2019-10-05, 00:02:51, 0], [2019-10-04, 00:02...</td>\n",
       "      <td>Daughter of mine—for your smiles,for your tear...</td>\n",
       "      <td>\"You feel right to me,\" she said. \"Like naked ...</td>\n",
       "      <td>https://is3-ssl.mzstatic.com/image/thumb/Podca...</td>\n",
       "      <td>2019-08-15</td>\n",
       "      <td>Arts</td>\n",
       "    </tr>\n",
       "    <tr>\n",
       "      <td>92</td>\n",
       "      <td>The Scarecast</td>\n",
       "      <td>https://castbox.fm/channel/The-Scarecast-id320</td>\n",
       "      <td>124</td>\n",
       "      <td>MaddMike</td>\n",
       "      <td>1</td>\n",
       "      <td>14750</td>\n",
       "      <td>267061</td>\n",
       "      <td>[https://twitter.com/MaddMikeHorror, https://w...</td>\n",
       "      <td>91</td>\n",
       "      <td>[[2019-10-01, 00:10:33, 0], [2019-09-27, 00:24...</td>\n",
       "      <td>For most of his life, Jeffrey Epstein was a my...</td>\n",
       "      <td>This podcast features various scary stories, m...</td>\n",
       "      <td>https://is2-ssl.mzstatic.com/image/thumb/Podca...</td>\n",
       "      <td>2016-03-08</td>\n",
       "      <td>Arts</td>\n",
       "    </tr>\n",
       "    <tr>\n",
       "      <td>135</td>\n",
       "      <td>Teen Creeps with Kelly Nugent and Lindsay Katai</td>\n",
       "      <td>https://castbox.fm/channel/Teen-Creeps-with-Ke...</td>\n",
       "      <td>2</td>\n",
       "      <td>Forever Dog</td>\n",
       "      <td>1</td>\n",
       "      <td>2272</td>\n",
       "      <td>40690</td>\n",
       "      <td>[https://www.teencreepspod.com/]</td>\n",
       "      <td>171</td>\n",
       "      <td>[[2019-10-02, 01:42:59, 0], [2019-09-25, 00:56...</td>\n",
       "      <td>Kelly and Katai allow another R.L. Stine into ...</td>\n",
       "      <td>Grownup comedians Kelly Nugent and Lindsay Kat...</td>\n",
       "      <td>https://is1-ssl.mzstatic.com/image/thumb/Podca...</td>\n",
       "      <td>2016-07-13</td>\n",
       "      <td>Arts</td>\n",
       "    </tr>\n",
       "    <tr>\n",
       "      <td>132</td>\n",
       "      <td>The Daily Poem</td>\n",
       "      <td>https://castbox.fm/channel/The-Daily-Poem-id13...</td>\n",
       "      <td>7</td>\n",
       "      <td>The Close Reads Podcast Network</td>\n",
       "      <td>0</td>\n",
       "      <td>646</td>\n",
       "      <td>21236</td>\n",
       "      <td>[http://www.closereadspods.com]</td>\n",
       "      <td>235</td>\n",
       "      <td>[[2019-10-04, 00:07:51, 2], [2019-10-03, 00:06...</td>\n",
       "      <td>Today's poem is \"The Fire of Driftwood\" by Hen...</td>\n",
       "      <td>Presented by the Close Reads Podcast Network, ...</td>\n",
       "      <td>https://is1-ssl.mzstatic.com/image/thumb/Podca...</td>\n",
       "      <td>2018-08-22</td>\n",
       "      <td>Arts</td>\n",
       "    </tr>\n",
       "    <tr>\n",
       "      <td>36</td>\n",
       "      <td>The Splendid Table</td>\n",
       "      <td>https://castbox.fm/channel/The-Splendid-Table-...</td>\n",
       "      <td>0</td>\n",
       "      <td>American Public Media</td>\n",
       "      <td>0</td>\n",
       "      <td>8232</td>\n",
       "      <td>108083</td>\n",
       "      <td>[https://twitter.com/SplendidTable, http://www...</td>\n",
       "      <td>232</td>\n",
       "      <td>[[2019-10-04, 00:50:04, 0], [2019-09-27, 00:54...</td>\n",
       "      <td>We talk with the authors of our favorite fall ...</td>\n",
       "      <td>American Public Media's The Splendid Table is ...</td>\n",
       "      <td>https://is4-ssl.mzstatic.com/image/thumb/Podca...</td>\n",
       "      <td>2016-06-16</td>\n",
       "      <td>Arts</td>\n",
       "    </tr>\n",
       "  </tbody>\n",
       "</table>\n",
       "</div>"
      ],
      "text/plain": [
       "                                               title  \\\n",
       "80                                 Naked on Cashmere   \n",
       "92                                     The Scarecast   \n",
       "135  Teen Creeps with Kelly Nugent and Lindsay Katai   \n",
       "132                                   The Daily Poem   \n",
       "36                                The Splendid Table   \n",
       "\n",
       "                                              chan_url  num_comments  \\\n",
       "80   https://castbox.fm/channel/Naked-on-Cashmere-i...             1   \n",
       "92      https://castbox.fm/channel/The-Scarecast-id320           124   \n",
       "135  https://castbox.fm/channel/Teen-Creeps-with-Ke...             2   \n",
       "132  https://castbox.fm/channel/The-Daily-Poem-id13...             7   \n",
       "36   https://castbox.fm/channel/The-Splendid-Table-...             0   \n",
       "\n",
       "                              author  isExplicit  sub_count  play_count  \\\n",
       "80          Atticus & Podcast Nation           0        203        2077   \n",
       "92                          MaddMike           1      14750      267061   \n",
       "135                      Forever Dog           1       2272       40690   \n",
       "132  The Close Reads Podcast Network           0        646       21236   \n",
       "36             American Public Media           0       8232      108083   \n",
       "\n",
       "                                       ch_feed-socials  ep_total  \\\n",
       "80          [https://naked-on-cashmere.simplecast.com]        36   \n",
       "92   [https://twitter.com/MaddMikeHorror, https://w...        91   \n",
       "135                   [https://www.teencreepspod.com/]       171   \n",
       "132                    [http://www.closereadspods.com]       235   \n",
       "36   [https://twitter.com/SplendidTable, http://www...       232   \n",
       "\n",
       "                                            recent_eps  \\\n",
       "80   [[2019-10-05, 00:02:51, 0], [2019-10-04, 00:02...   \n",
       "92   [[2019-10-01, 00:10:33, 0], [2019-09-27, 00:24...   \n",
       "135  [[2019-10-02, 01:42:59, 0], [2019-09-25, 00:56...   \n",
       "132  [[2019-10-04, 00:07:51, 2], [2019-10-03, 00:06...   \n",
       "36   [[2019-10-04, 00:50:04, 0], [2019-09-27, 00:54...   \n",
       "\n",
       "                                     hover_text_concat  \\\n",
       "80   Daughter of mine—for your smiles,for your tear...   \n",
       "92   For most of his life, Jeffrey Epstein was a my...   \n",
       "135  Kelly and Katai allow another R.L. Stine into ...   \n",
       "132  Today's poem is \"The Fire of Driftwood\" by Hen...   \n",
       "36   We talk with the authors of our favorite fall ...   \n",
       "\n",
       "                                             chan_desc  \\\n",
       "80   \"You feel right to me,\" she said. \"Like naked ...   \n",
       "92   This podcast features various scary stories, m...   \n",
       "135  Grownup comedians Kelly Nugent and Lindsay Kat...   \n",
       "132  Presented by the Close Reads Podcast Network, ...   \n",
       "36   American Public Media's The Splendid Table is ...   \n",
       "\n",
       "                                         cover_img_url first_release category  \n",
       "80   https://is3-ssl.mzstatic.com/image/thumb/Podca...    2019-08-15     Arts  \n",
       "92   https://is2-ssl.mzstatic.com/image/thumb/Podca...    2016-03-08     Arts  \n",
       "135  https://is1-ssl.mzstatic.com/image/thumb/Podca...    2016-07-13     Arts  \n",
       "132  https://is1-ssl.mzstatic.com/image/thumb/Podca...    2018-08-22     Arts  \n",
       "36   https://is4-ssl.mzstatic.com/image/thumb/Podca...    2016-06-16     Arts  "
      ]
     },
     "execution_count": 42,
     "metadata": {},
     "output_type": "execute_result"
    }
   ],
   "source": [
    "arts_txt = 'Arts'\n",
    "df = category_scrape_to_df_pickle(arts_txt)\n",
    "df.sample(5)"
   ]
  },
  {
   "cell_type": "code",
   "execution_count": 19,
   "metadata": {
    "ExecuteTime": {
     "end_time": "2019-10-06T04:15:19.242289Z",
     "start_time": "2019-10-06T04:15:19.238704Z"
    }
   },
   "outputs": [
    {
     "data": {
      "text/plain": [
       "(135, 16)"
      ]
     },
     "execution_count": 19,
     "metadata": {},
     "output_type": "execute_result"
    }
   ],
   "source": [
    "df.shape"
   ]
  },
  {
   "cell_type": "code",
   "execution_count": 30,
   "metadata": {
    "ExecuteTime": {
     "end_time": "2019-10-06T06:47:35.906208Z",
     "start_time": "2019-10-06T06:47:35.798588Z"
    },
    "scrolled": true
   },
   "outputs": [],
   "source": [
    "cat_name = \"Arts\"\n",
    "df = category_scrape_to_df_pickle(cat_name)\n",
    "df = ft.sanitize(df)\n",
    "\n",
    "export_path = '../scraped/channel/by_category/' + cat_name + '.pickle'\n",
    "with open(export_path, 'wb') as file:\n",
    "    pickle.dump(df, file)"
   ]
  },
  {
   "cell_type": "code",
   "execution_count": 28,
   "metadata": {
    "ExecuteTime": {
     "end_time": "2019-10-06T05:00:56.304844Z",
     "start_time": "2019-10-06T05:00:56.295893Z"
    },
    "scrolled": true
   },
   "outputs": [],
   "source": [
    "with open(export_path, 'rb') as file:\n",
    "    df = pickle.load(file)"
   ]
  },
  {
   "cell_type": "code",
   "execution_count": 41,
   "metadata": {
    "ExecuteTime": {
     "end_time": "2019-10-06T12:59:44.964599Z",
     "start_time": "2019-10-06T12:59:44.957994Z"
    }
   },
   "outputs": [],
   "source": [
    "def category_scrape_to_df_pickle(cat_name):\n",
    "    \n",
    "    cat_dict = {}\n",
    "    \n",
    "    filename = '../scraped/channel/by_category/' + cat_name + '.txt'\n",
    "    with open(filename, 'r') as file:\n",
    "        for line in file:\n",
    "            try:\n",
    "                pod_dict = ast.literal_eval(line)\n",
    "                chan_name = [k for k in pod_dict.keys()][0]\n",
    "                cat_dict[chan_name] = pod_dict[chan_name]\n",
    "            except:\n",
    "                continue\n",
    "                \n",
    "    df = pd.DataFrame.from_dict(cat_dict, orient='index')\n",
    "    df = df.reset_index().drop(labels='index',axis=1)\n",
    "    df['category'] = cat_name \n",
    "    \n",
    "    try:\n",
    "        df.drop(columns='description', inplace=True)\n",
    "    except:\n",
    "        pass\n",
    "    \n",
    "    df = ft.sanitize(df)\n",
    "\n",
    "    export_path = '../scraped/channel/by_category/' + cat_name + '.pickle'\n",
    "    with open(export_path, 'wb') as file:\n",
    "        pickle.dump(df, file)\n",
    "    \n",
    "    return df"
   ]
  }
 ],
 "metadata": {
  "celltoolbar": "Initialization Cell",
  "kernelspec": {
   "display_name": "Python 3",
   "language": "python",
   "name": "python3"
  },
  "language_info": {
   "codemirror_mode": {
    "name": "ipython",
    "version": 3
   },
   "file_extension": ".py",
   "mimetype": "text/x-python",
   "name": "python",
   "nbconvert_exporter": "python",
   "pygments_lexer": "ipython3",
   "version": "3.7.4"
  },
  "toc": {
   "base_numbering": 1,
   "nav_menu": {},
   "number_sections": false,
   "sideBar": true,
   "skip_h1_title": false,
   "title_cell": "Table of Contents",
   "title_sidebar": "Contents",
   "toc_cell": true,
   "toc_position": {
    "height": "calc(100% - 180px)",
    "left": "10px",
    "top": "150px",
    "width": "253.797px"
   },
   "toc_section_display": true,
   "toc_window_display": false
  },
  "varInspector": {
   "cols": {
    "lenName": 16,
    "lenType": 16,
    "lenVar": 40
   },
   "kernels_config": {
    "python": {
     "delete_cmd_postfix": "",
     "delete_cmd_prefix": "del ",
     "library": "var_list.py",
     "varRefreshCmd": "print(var_dic_list())"
    },
    "r": {
     "delete_cmd_postfix": ") ",
     "delete_cmd_prefix": "rm(",
     "library": "var_list.r",
     "varRefreshCmd": "cat(var_dic_list()) "
    }
   },
   "types_to_exclude": [
    "module",
    "function",
    "builtin_function_or_method",
    "instance",
    "_Feature"
   ],
   "window_display": false
  }
 },
 "nbformat": 4,
 "nbformat_minor": 2
}
