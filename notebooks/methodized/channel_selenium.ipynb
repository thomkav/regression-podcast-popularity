{
 "cells": [
  {
   "cell_type": "markdown",
   "metadata": {
    "toc": true
   },
   "source": [
    "<h1>Table of Contents<span class=\"tocSkip\"></span></h1>\n",
    "<div class=\"toc\"><ul class=\"toc-item\"></ul></div>"
   ]
  },
  {
   "cell_type": "code",
   "execution_count": 2,
   "metadata": {
    "ExecuteTime": {
     "end_time": "2019-10-03T04:22:58.277227Z",
     "start_time": "2019-10-03T04:22:57.889848Z"
    }
   },
   "outputs": [],
   "source": [
    "from bs4 import BeautifulSoup\n",
    "import requests\n",
    "import time, os\n",
    "\n",
    "import sys\n",
    "import importlib\n",
    "\n",
    "# webdriver imports\n",
    "from selenium import webdriver\n",
    "from selenium.webdriver.common.keys import Keys\n",
    "chromedriver = \"/Applications/chromedriver\" # path to the chromedriver executable\n",
    "os.environ[\"webdriver.chrome.driver\"] = chromedriver\n",
    "\n",
    "import functions"
   ]
  },
  {
   "cell_type": "code",
   "execution_count": null,
   "metadata": {
    "ExecuteTime": {
     "end_time": "2019-10-03T03:40:30.489284Z",
     "start_time": "2019-10-03T03:40:28.608578Z"
    },
    "scrolled": true
   },
   "outputs": [],
   "source": [
    "# Configure window for multi-monitor automation\n",
    "config_driver = webdriver.Chrome(chromedriver)\n",
    "\n",
    "window_rect = (1450, -500, 900, 800) # x, y, width, height\n",
    "# config_driver.set_window_rect(*window_rect)"
   ]
  },
  {
   "cell_type": "code",
   "execution_count": null,
   "metadata": {
    "ExecuteTime": {
     "end_time": "2019-10-03T04:21:00.692864Z",
     "start_time": "2019-10-03T04:21:00.688247Z"
    }
   },
   "outputs": [],
   "source": [
    "# End driver session after window is configured.\n",
    "config_driver.quit()"
   ]
  },
  {
   "cell_type": "code",
   "execution_count": 3,
   "metadata": {
    "ExecuteTime": {
     "end_time": "2019-10-03T04:23:10.112672Z",
     "start_time": "2019-10-03T04:23:01.378520Z"
    },
    "scrolled": true
   },
   "outputs": [
    {
     "data": {
      "text/plain": [
       "{'title': 'Stuff from the B-Side',\n",
       " 'chan_url': 'https://castbox.fm/channel/id200?country=us',\n",
       " 'num_comments': 0,\n",
       " 'author': 'HowStuffWorks',\n",
       " 'isExplicit': 0,\n",
       " 'sub_count': 281,\n",
       " 'play_count': 901,\n",
       " 'ch_feed-socials': ['https://www.howstuffworks.com'],\n",
       " 'ep_total': 99,\n",
       " 'recent_eps': [['2009-12-10', '00:27:57', 3],\n",
       "  ['2009-12-08', '00:22:35', 1],\n",
       "  ['2009-12-03', '00:17:54', 0],\n",
       "  ['2009-12-01', '00:17:23', 0],\n",
       "  ['2009-11-26', '00:13:52', 0],\n",
       "  ['2009-11-24', '00:12:17', 0],\n",
       "  ['2009-11-19', '00:21:08', 1],\n",
       "  ['2009-11-17', '00:13:17', 0],\n",
       "  ['2009-11-12', '00:29:22', 0],\n",
       "  ['2009-11-10', '00:18:25', 0]],\n",
       " 'hover_text_concat': \"Kraftwerk is a legendary German electronic music band that has actively influenced the development of modern popular music. In this episode, Mark and John trace the development of Kraftwerk, as well as its effect on other bands and musical genres. | In 1895, Stagger Lee killed William Lyons in an argument. Usually, a crime like this would disappear into the footnotes of history, but this event was different. Learn the true story behind one of America's most popular folk songs in this podcast. | At over 380 years old, the Aedis Zildjian cymbal manufacturer is the world's oldest musical company. Learn more about this company -- and cymbals -- in this episode. | When American composer Harry Partch didn't enjoy the conventional 12-note scale, he created his own scale. He also built his own instruments upon which this scale could be played. Join Mark and John as they explore the musical pursuits of Harry Partch. | A standard vinyl record is between 120 to 140 grams, but audiophiles often think this is too flimsy -- why? Join John and Mark as they explore the eccentricities of vinyl records and determine whether or not the weight of a record makes a difference. | During many concerts, bands return to the stage after their performance to crank out a few more tunes as the audience screams 'encore.' Explore the history of the encore -- and the philosophy behind the practice -- in this episode. | From the 1920s into the 60s, the Great American Songbook covers iconic music of the stage and screen. Yet there's no definitive list of the songs and songwriters involved. Learn more about the history of the Great American Songbook in this episode. | Everyone's familiar with the ear-wrenching screech that unexpectantly blasts from speaker systems during a public address -- but what exactly is it? John and Mark investigate the unpleasant phenomenon of feedback in this episode. | How do you feel about the seasons? Whether you're in love with winter, summer, spring or fall, odds are that certain tunes remind you of the turning seasons. Join John and Mark as they present a guide to the seasonal music in this episode. | Have you ever misheard a lyric? If so, then you've heard a mondegreen. Mondegreens are surprisingly common throughout musical history. Join John and Mark as they explore perplexing -- and humorous -- mondegreens in this episode.\",\n",
       " 'chan_desc': \"What is the story behind Stagger Lee? Why would astronauts need a DJ? Join Mark and John as they explore everything from the president's record collection to the future of digital music in Stuff From The B-Side, a podcast from HowStuffWorks.com.\",\n",
       " 'cover_img_url': 'https://is1-ssl.mzstatic.com/image/thumb/Podcasts/v4/9b/ac/af/9bacaf71-c158-af16-5964-be597c382441/mza_1099937015513356449.jpg/400x400bb.jpg',\n",
       " 'first_release': '2008-12-12'}"
      ]
     },
     "execution_count": 3,
     "metadata": {},
     "output_type": "execute_result"
    }
   ],
   "source": [
    "test_chan_url = 'https://castbox.fm/channel/id200?country=us'\n",
    "\n",
    "def scrape_channel_page(chan_url):\n",
    "    '''\n",
    "    \n",
    "    Scrape a single channel page.\n",
    "    \n",
    "    Return a dictionary of features.\n",
    "    \n",
    "    '''\n",
    "\n",
    "    driver = webdriver.Chrome(chromedriver)\n",
    "    \n",
    "    driver.get(chan_url)\n",
    "    \n",
    "    html = driver.page_source\n",
    "    features = functions.process_channel_soup(chan_url, html)\n",
    "    \n",
    "    try:\n",
    "        # close annoying cookie verification\n",
    "        driver.find_element_by_class_name('allow').click()\n",
    "    except:\n",
    "        # sometimes the cookie doesn't appear\n",
    "        pass\n",
    "    \n",
    "    time.sleep(1)\n",
    "    reverse_btn = driver.find_element_by_class_name('funcBtn-item')\n",
    "    reverse_btn.click()\n",
    "    \n",
    "    time.sleep(1)\n",
    "    \n",
    "    \n",
    "#     date_path = '/html/body/div/div/div[1]/div/div[2]/div[4]/div[3]/div/div/div/div[1]/div[2]/div/section[1]/div[1]/div[2]/p/span[1]'\n",
    "    \n",
    "#     date_span = driver.find_element_by_xpath(date_path)\n",
    "#     first_pod = date_span.text\n",
    "    first_pod = driver.find_element_by_class_name('date').text\n",
    "    \n",
    "    features['first_release'] = first_pod\n",
    "    \n",
    "    return features\n",
    "\n",
    "chan_features = scrape_channel_page(test_chan_url)\n",
    "chan_features"
   ]
  },
  {
   "cell_type": "code",
   "execution_count": null,
   "metadata": {
    "ExecuteTime": {
     "end_time": "2019-10-03T04:21:24.894913Z",
     "start_time": "2019-10-03T04:21:24.698041Z"
    }
   },
   "outputs": [],
   "source": [
    "driver.quit()"
   ]
  },
  {
   "cell_type": "code",
   "execution_count": null,
   "metadata": {
    "ExecuteTime": {
     "end_time": "2019-10-02T19:37:20.273627Z",
     "start_time": "2019-10-02T19:37:07.775794Z"
    }
   },
   "outputs": [],
   "source": [
    "driver.get(test_redir_url)"
   ]
  },
  {
   "cell_type": "code",
   "execution_count": null,
   "metadata": {
    "ExecuteTime": {
     "end_time": "2019-10-02T19:40:06.329381Z",
     "start_time": "2019-10-02T19:40:06.314707Z"
    }
   },
   "outputs": [],
   "source": [
    "reverse_btn = driver.find_element_by_class_name('funcBtn-item')"
   ]
  },
  {
   "cell_type": "code",
   "execution_count": null,
   "metadata": {
    "ExecuteTime": {
     "end_time": "2019-10-02T19:40:22.763478Z",
     "start_time": "2019-10-02T19:40:22.706299Z"
    }
   },
   "outputs": [],
   "source": [
    "reverse_btn.click()"
   ]
  },
  {
   "cell_type": "code",
   "execution_count": null,
   "metadata": {
    "ExecuteTime": {
     "end_time": "2019-10-02T19:41:43.966264Z",
     "start_time": "2019-10-02T19:41:43.932022Z"
    }
   },
   "outputs": [],
   "source": [
    "date_span = driver.find_element_by_xpath('//*[@id=\"trackListCon_list\"]/div/section[1]/div[1]/div[2]/p/span[1]')\n",
    "first_pod = date_span.text"
   ]
  },
  {
   "cell_type": "code",
   "execution_count": null,
   "metadata": {},
   "outputs": [],
   "source": [
    "# First, get the soup of the page as is.\n",
    "\n",
    "# soup = BeautifulSoup(driver.page_source, 'html.parser')\n",
    "\n",
    "# Then, before passing soup to the channel processer,\n",
    "# click 'Reverse' on the podcast listing,\n",
    "# and grab \n",
    "\n",
    "# reverse_soup = BeautifulSoup(driver.page_source, 'html.parser')"
   ]
  }
 ],
 "metadata": {
  "kernelspec": {
   "display_name": "Python 3",
   "language": "python",
   "name": "python3"
  },
  "language_info": {
   "codemirror_mode": {
    "name": "ipython",
    "version": 3
   },
   "file_extension": ".py",
   "mimetype": "text/x-python",
   "name": "python",
   "nbconvert_exporter": "python",
   "pygments_lexer": "ipython3",
   "version": "3.7.4"
  },
  "toc": {
   "base_numbering": 1,
   "nav_menu": {},
   "number_sections": false,
   "sideBar": true,
   "skip_h1_title": false,
   "title_cell": "Table of Contents",
   "title_sidebar": "Contents",
   "toc_cell": true,
   "toc_position": {},
   "toc_section_display": true,
   "toc_window_display": false
  },
  "varInspector": {
   "cols": {
    "lenName": 16,
    "lenType": 16,
    "lenVar": 40
   },
   "kernels_config": {
    "python": {
     "delete_cmd_postfix": "",
     "delete_cmd_prefix": "del ",
     "library": "var_list.py",
     "varRefreshCmd": "print(var_dic_list())"
    },
    "r": {
     "delete_cmd_postfix": ") ",
     "delete_cmd_prefix": "rm(",
     "library": "var_list.r",
     "varRefreshCmd": "cat(var_dic_list()) "
    }
   },
   "position": {
    "height": "281px",
    "left": "655px",
    "right": "20px",
    "top": "120px",
    "width": "350px"
   },
   "types_to_exclude": [
    "module",
    "function",
    "builtin_function_or_method",
    "instance",
    "_Feature"
   ],
   "window_display": false
  }
 },
 "nbformat": 4,
 "nbformat_minor": 2
}
