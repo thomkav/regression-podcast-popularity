{
 "cells": [
  {
   "cell_type": "markdown",
   "metadata": {
    "toc": true
   },
   "source": [
    "<h1>Table of Contents<span class=\"tocSkip\"></span></h1>\n",
    "<div class=\"toc\"><ul class=\"toc-item\"></ul></div>"
   ]
  },
  {
   "cell_type": "markdown",
   "metadata": {},
   "source": [
    "Cleanup of the category dictionary with podcast listings for each channel.\n",
    "\n",
    "Need to correct a malformed URL."
   ]
  },
  {
   "cell_type": "code",
   "execution_count": 1,
   "metadata": {
    "ExecuteTime": {
     "end_time": "2019-10-03T14:14:25.549817Z",
     "start_time": "2019-10-03T14:14:25.547319Z"
    }
   },
   "outputs": [],
   "source": [
    "import pickle\n",
    "import re"
   ]
  },
  {
   "cell_type": "code",
   "execution_count": null,
   "metadata": {
    "ExecuteTime": {
     "end_time": "2019-10-03T14:14:26.555032Z",
     "start_time": "2019-10-03T14:14:26.517476Z"
    }
   },
   "outputs": [],
   "source": [
    "with open('../scraped/channel/podcast_chan_dict.pickle','rb') as file:\n",
    "    d = pickle.load(file)\n",
    "\n",
    "# d['Arts']"
   ]
  },
  {
   "cell_type": "code",
   "execution_count": 5,
   "metadata": {
    "ExecuteTime": {
     "end_time": "2019-10-03T14:16:05.123848Z",
     "start_time": "2019-10-03T14:16:05.121335Z"
    }
   },
   "outputs": [],
   "source": [
    "file.close()"
   ]
  },
  {
   "cell_type": "markdown",
   "metadata": {},
   "source": [
    "It's the `chan_url` string that needs to be corrected."
   ]
  },
  {
   "cell_type": "code",
   "execution_count": 6,
   "metadata": {
    "ExecuteTime": {
     "end_time": "2019-10-03T12:53:06.766255Z",
     "start_time": "2019-10-03T12:53:06.763842Z"
    }
   },
   "outputs": [],
   "source": [
    "test = 'https://castbox.fm//channel/The-Moth-id12'"
   ]
  },
  {
   "cell_type": "code",
   "execution_count": 11,
   "metadata": {
    "ExecuteTime": {
     "end_time": "2019-10-03T12:56:43.780720Z",
     "start_time": "2019-10-03T12:56:43.776602Z"
    }
   },
   "outputs": [
    {
     "data": {
      "text/plain": [
       "'https://castbox.fm/channel/The-Moth-id12'"
      ]
     },
     "execution_count": 11,
     "metadata": {},
     "output_type": "execute_result"
    }
   ],
   "source": [
    "test.replace('fm//channel','fm/channel')"
   ]
  },
  {
   "cell_type": "code",
   "execution_count": 3,
   "metadata": {
    "ExecuteTime": {
     "end_time": "2019-10-03T14:14:33.813437Z",
     "start_time": "2019-10-03T14:14:33.797525Z"
    }
   },
   "outputs": [],
   "source": [
    "chan_urls = []\n",
    "\n",
    "for category in d.keys():\n",
    "    pod_names = d[category].keys()\n",
    "    for pod in pod_names:\n",
    "        chan_urls += [d[category][pod]['chan_url']]\n",
    "        d[category][pod]['chan_url'] = d[category][pod]['chan_url'].replace('fm//channel','fm/channel')\n"
   ]
  },
  {
   "cell_type": "code",
   "execution_count": 8,
   "metadata": {
    "ExecuteTime": {
     "end_time": "2019-10-03T14:18:01.679653Z",
     "start_time": "2019-10-03T14:18:01.661897Z"
    }
   },
   "outputs": [],
   "source": [
    "with open('../scraped/channel/podcast_chan_dict-corrected-urls.pickle','wb') as f:\n",
    "    pickle.dump(d, f)\n",
    "f.close()"
   ]
  },
  {
   "cell_type": "code",
   "execution_count": null,
   "metadata": {},
   "outputs": [],
   "source": []
  }
 ],
 "metadata": {
  "kernelspec": {
   "display_name": "Python 3",
   "language": "python",
   "name": "python3"
  },
  "language_info": {
   "codemirror_mode": {
    "name": "ipython",
    "version": 3
   },
   "file_extension": ".py",
   "mimetype": "text/x-python",
   "name": "python",
   "nbconvert_exporter": "python",
   "pygments_lexer": "ipython3",
   "version": "3.7.4"
  },
  "toc": {
   "base_numbering": 1,
   "nav_menu": {},
   "number_sections": false,
   "sideBar": true,
   "skip_h1_title": false,
   "title_cell": "Table of Contents",
   "title_sidebar": "Contents",
   "toc_cell": true,
   "toc_position": {},
   "toc_section_display": true,
   "toc_window_display": true
  },
  "varInspector": {
   "cols": {
    "lenName": 16,
    "lenType": 16,
    "lenVar": 40
   },
   "kernels_config": {
    "python": {
     "delete_cmd_postfix": "",
     "delete_cmd_prefix": "del ",
     "library": "var_list.py",
     "varRefreshCmd": "print(var_dic_list())"
    },
    "r": {
     "delete_cmd_postfix": ") ",
     "delete_cmd_prefix": "rm(",
     "library": "var_list.r",
     "varRefreshCmd": "cat(var_dic_list()) "
    }
   },
   "types_to_exclude": [
    "module",
    "function",
    "builtin_function_or_method",
    "instance",
    "_Feature"
   ],
   "window_display": false
  }
 },
 "nbformat": 4,
 "nbformat_minor": 2
}
