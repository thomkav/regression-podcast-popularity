{
 "cells": [
  {
   "cell_type": "markdown",
   "metadata": {
    "toc": true
   },
   "source": [
    "<h1>Table of Contents<span class=\"tocSkip\"></span></h1>\n",
    "<div class=\"toc\"><ul class=\"toc-item\"><li><span><a href=\"#Predicting-Channel-wide-Podcast-Play-Count\" data-toc-modified-id=\"Predicting-Channel-wide-Podcast-Play-Count-1\">Predicting Channel-wide Podcast Play Count</a></span><ul class=\"toc-item\"><li><span><a href=\"#Notebook-Overview:\" data-toc-modified-id=\"Notebook-Overview:-1.1\">Notebook Overview:</a></span></li></ul></li><li><span><a href=\"#Load-Raw-Scraped-Data\" data-toc-modified-id=\"Load-Raw-Scraped-Data-2\">Load Raw Scraped Data</a></span><ul class=\"toc-item\"><li><ul class=\"toc-item\"><li><span><a href=\"#Drop-Empties-/-NaN-rows-before-feature-development\" data-toc-modified-id=\"Drop-Empties-/-NaN-rows-before-feature-development-2.0.1\">Drop Empties / NaN rows before feature development</a></span></li></ul></li></ul></li><li><span><a href=\"#Feature-Engineering\" data-toc-modified-id=\"Feature-Engineering-3\">Feature Engineering</a></span><ul class=\"toc-item\"><li><ul class=\"toc-item\"><li><span><a href=\"#Utilities:\" data-toc-modified-id=\"Utilities:-3.0.1\">Utilities:</a></span><ul class=\"toc-item\"><li><span><a href=\"#Outlier-Filter\" data-toc-modified-id=\"Outlier-Filter-3.0.1.1\">Outlier Filter</a></span></li></ul></li></ul></li><li><span><a href=\"#Enrich-Existing-Column-Catogory\" data-toc-modified-id=\"Enrich-Existing-Column-Catogory-3.1\">Enrich Existing Column Catogory</a></span><ul class=\"toc-item\"><li><span><a href=\"#One-Hot-Encoding\" data-toc-modified-id=\"One-Hot-Encoding-3.1.1\">One-Hot Encoding</a></span></li></ul></li><li><span><a href=\"#Social-Channels\" data-toc-modified-id=\"Social-Channels-3.2\">Social Channels</a></span><ul class=\"toc-item\"><li><span><a href=\"#Create-Categorical-Columns-Representing-Social-Site-Presence\" data-toc-modified-id=\"Create-Categorical-Columns-Representing-Social-Site-Presence-3.2.1\">Create Categorical Columns Representing Social Site Presence</a></span></li><li><span><a href=\"#Pull-in-Twitter-Follower-Counts\" data-toc-modified-id=\"Pull-in-Twitter-Follower-Counts-3.2.2\">Pull in Twitter Follower Counts</a></span></li></ul></li><li><span><a href=\"#External-Site-Domain-Rank\" data-toc-modified-id=\"External-Site-Domain-Rank-3.3\">External Site Domain Rank</a></span><ul class=\"toc-item\"><li><span><a href=\"#Identify-Non-Social-External-Site,-and-Return/Append-Domain-Rank-Information\" data-toc-modified-id=\"Identify-Non-Social-External-Site,-and-Return/Append-Domain-Rank-Information-3.3.1\">Identify Non-Social External Site, and Return/Append Domain Rank Information</a></span></li></ul></li><li><span><a href=\"#Add-Episode-Time-Series-Features\" data-toc-modified-id=\"Add-Episode-Time-Series-Features-3.4\">Add Episode Time Series Features</a></span></li><li><span><a href=\"#Distribution-of-Target-Variable\" data-toc-modified-id=\"Distribution-of-Target-Variable-3.5\">Distribution of Target Variable</a></span><ul class=\"toc-item\"><li><span><a href=\"#Target-Variable-=-play_count\" data-toc-modified-id=\"Target-Variable-=-play_count-3.5.1\">Target Variable = <code>play_count</code></a></span></li></ul></li><li><span><a href=\"#Text-Based-Analysis\" data-toc-modified-id=\"Text-Based-Analysis-3.6\">Text Based Analysis</a></span></li></ul></li><li><span><a href=\"#Models\" data-toc-modified-id=\"Models-4\">Models</a></span><ul class=\"toc-item\"><li><span><a href=\"#Testing-simple-linear-models:\" data-toc-modified-id=\"Testing-simple-linear-models:-4.1\">Testing simple linear models:</a></span><ul class=\"toc-item\"><li><span><a href=\"#Minimal-Features---No-Categoricals\" data-toc-modified-id=\"Minimal-Features---No-Categoricals-4.1.1\">Minimal Features - No Categoricals</a></span></li></ul></li></ul></li></ul></div>"
   ]
  },
  {
   "cell_type": "code",
   "execution_count": 2,
   "metadata": {
    "ExecuteTime": {
     "end_time": "2019-10-10T20:55:40.097905Z",
     "start_time": "2019-10-10T20:55:38.515656Z"
    }
   },
   "outputs": [],
   "source": [
    "import pandas as pd\n",
    "pd.set_option('display.float_format', lambda x: '%.1f' % x)\n",
    "\n",
    "import pickle\n",
    "import features\n",
    "import copy\n",
    "\n",
    "# from importlib import reload\n",
    "\n",
    "import matplotlib.pyplot as plt\n",
    "%matplotlib inline\n",
    "\n",
    "import seaborn as sns\n",
    "sns.set()\n",
    "\n",
    "from importlib import reload\n",
    "\n",
    "import re\n",
    "import string\n",
    "\n",
    "from sklearn.linear_model import LinearRegression, Ridge, RidgeCV, LassoCV #ordinary linear regression + w/ ridge regularization\n",
    "from sklearn.preprocessing import StandardScaler, PolynomialFeatures\n",
    "from sklearn.model_selection import train_test_split"
   ]
  },
  {
   "cell_type": "code",
   "execution_count": 3,
   "metadata": {
    "ExecuteTime": {
     "end_time": "2019-10-10T20:55:40.239496Z",
     "start_time": "2019-10-10T20:55:40.229330Z"
    }
   },
   "outputs": [
    {
     "data": {
      "text/plain": [
       "<module 'features' from '/Users/tk/Google Drive (thomaskavanagh.dev@gmail.com)/GitHub/regression-podcast-popularity/notebooks/features.py'>"
      ]
     },
     "execution_count": 3,
     "metadata": {},
     "output_type": "execute_result"
    }
   ],
   "source": [
    "reload(features)"
   ]
  },
  {
   "cell_type": "markdown",
   "metadata": {},
   "source": [
    "# Predicting Channel-wide Podcast Play Count\n",
    "\n",
    "For this __regression__ modeling project, I've examined podcast channels, their 'store-front' / public-facing channel features, in order to predict play count.\n",
    "\n",
    "The intended business impact of this study is to identify the most impactful features on total episode play count, such as podcasts store-front, social presence, episode regularity / length. This model is intended for use by both podcast advertisers and producers alike, both of whom seek to gain from total impressions on a podcast.\n",
    "\n",
    "I've gathered a list of podcasts, and the associated target metric of `play_count` representing total plays across all episodes. I used the site [CastBox.fm] as a directory of podcasts, first scraping a list top podcasts in each category, then scraping all channels from those category directories.\n",
    "\n",
    "Some podcasts were in the top 200 of multiple categories.\n",
    "\n",
    "From each channel page, I accumulated the following information:\n",
    "\n",
    "`\n",
    "'title', # Podcast name\n",
    "'chan_url', # Channel page on Castbox.fm\n",
    "'num_comments', # Total comments on channel page sidebar (specific to Castbox)\n",
    "'author', # Channel author\n",
    "'isExplicit', # Explicit content tag (exists if ANY podcast is explicit)\n",
    "'sub_count', # Subscriber count\n",
    "'play_count', # Total channel plays\n",
    "'ch_feed_socials', # A list of all associated social/external URLs listed on their channel page \n",
    "'ep_total', # Total episode count\n",
    "'recent_eps', # A list of recent episodes, as lists of [ep_date, ep_time, number_of_favorites]\n",
    "'hover_text_concat', # The 'hover text', concatenated with pipes, of the last 7 episodes (if they exist)\n",
    "'chan_desc', # The channel description\n",
    "'cover_img_url', # The cover image URL\n",
    "'first_release', # The date of the first episode release\n",
    "'scraped_category', # The original category from which it was scraped\n",
    "`\n",
    "\n",
    "I've enriched this scraped dataset with the following outside sources:\n",
    "\n",
    "- Twitter Data. If a podcast channel lists a twitter, I used the API to return follower count.\n",
    "- Open Page Rank. If a podcast lists an external domain, I computed the rank of that domain using the  [Open Page Rank](https://www.domcop.com/openpagerank/) API.\n",
    "\n",
    "Gathered data is timestamped to the October 5-10th, 2019 period, when both the channels and social metrics were scraped."
   ]
  },
  {
   "cell_type": "markdown",
   "metadata": {},
   "source": [
    "## Notebook Overview:\n",
    "\n",
    "- Load raw data\n",
    "\n",
    "- Enrich data with outside datasets.\n",
    " - Append additional category qualifications to the original 'scraped' category. The original scrape only logged each podcast as living under a single category, when according to Castbox.fb\n",
    " - If an external site is listed on a channel, get it's relative domain quality, as ranked by Open Page Rank.\n",
    " - If a twitter username is provided for a channel, get it's follower count."
   ]
  },
  {
   "cell_type": "markdown",
   "metadata": {},
   "source": [
    "# Load Raw Scraped Data\n",
    "\n",
    "Take latest version of dataframe from `/merged/`"
   ]
  },
  {
   "cell_type": "code",
   "execution_count": 4,
   "metadata": {
    "ExecuteTime": {
     "end_time": "2019-10-10T20:55:40.562585Z",
     "start_time": "2019-10-10T20:55:40.302539Z"
    },
    "scrolled": true
   },
   "outputs": [
    {
     "name": "stdout",
     "output_type": "stream",
     "text": [
      "shape of raw df:  (7777, 15)\n",
      "number of empty columns:  (119, 15)\n"
     ]
    },
    {
     "data": {
      "text/plain": [
       "Index(['title', 'chan_url', 'num_comments', 'author', 'isExplicit',\n",
       "       'sub_count', 'play_count', 'ch_feed_socials', 'ep_total', 'recent_eps',\n",
       "       'hover_text_concat', 'chan_desc', 'cover_img_url', 'first_release',\n",
       "       'scraped_category'],\n",
       "      dtype='object')"
      ]
     },
     "execution_count": 4,
     "metadata": {},
     "output_type": "execute_result"
    }
   ],
   "source": [
    "df_version = 'merged_10-08_13-54.pickle'\n",
    "import_path = '../scraped/merged/' + df_version\n",
    "with open(import_path, 'rb') as file:\n",
    "    df = pickle.load(file)\n",
    "    \n",
    "df.rename(columns={'ch_feed-socials': 'ch_feed_socials', 'category':'scraped_category'}, inplace=True) # fix badly named column\n",
    "    \n",
    "print('shape of raw df: ', df.shape)\n",
    "print('number of empty columns: ', df[df.ep_total == 0].shape)\n",
    "df.columns"
   ]
  },
  {
   "cell_type": "code",
   "execution_count": 5,
   "metadata": {
    "ExecuteTime": {
     "end_time": "2019-10-10T20:55:41.041950Z",
     "start_time": "2019-10-10T20:55:41.014926Z"
    }
   },
   "outputs": [
    {
     "data": {
      "text/html": [
       "<div>\n",
       "<style scoped>\n",
       "    .dataframe tbody tr th:only-of-type {\n",
       "        vertical-align: middle;\n",
       "    }\n",
       "\n",
       "    .dataframe tbody tr th {\n",
       "        vertical-align: top;\n",
       "    }\n",
       "\n",
       "    .dataframe thead th {\n",
       "        text-align: right;\n",
       "    }\n",
       "</style>\n",
       "<table border=\"1\" class=\"dataframe\">\n",
       "  <thead>\n",
       "    <tr style=\"text-align: right;\">\n",
       "      <th></th>\n",
       "      <th>title</th>\n",
       "      <th>chan_url</th>\n",
       "      <th>num_comments</th>\n",
       "      <th>author</th>\n",
       "      <th>isExplicit</th>\n",
       "      <th>sub_count</th>\n",
       "      <th>play_count</th>\n",
       "      <th>ch_feed_socials</th>\n",
       "      <th>ep_total</th>\n",
       "      <th>recent_eps</th>\n",
       "      <th>hover_text_concat</th>\n",
       "      <th>chan_desc</th>\n",
       "      <th>cover_img_url</th>\n",
       "      <th>first_release</th>\n",
       "      <th>scraped_category</th>\n",
       "    </tr>\n",
       "  </thead>\n",
       "  <tbody>\n",
       "    <tr>\n",
       "      <td>0</td>\n",
       "      <td>At The Table with Patrick Lencioni</td>\n",
       "      <td>https://castbox.fm/channel/At-The-Table-with-P...</td>\n",
       "      <td>0</td>\n",
       "      <td>Patrick Lencioni</td>\n",
       "      <td>0</td>\n",
       "      <td>119</td>\n",
       "      <td>1686</td>\n",
       "      <td>[https://www.tablegroup.com]</td>\n",
       "      <td>13</td>\n",
       "      <td>[[2019-10-02, 00:34:32, 0], [2019-09-25, 00:27...</td>\n",
       "      <td>Without understanding how people are wired it ...</td>\n",
       "      <td>Real conversations and practical advice for ev...</td>\n",
       "      <td>https://is3-ssl.mzstatic.com/image/thumb/Podca...</td>\n",
       "      <td>2019-07-11</td>\n",
       "      <td>Management</td>\n",
       "    </tr>\n",
       "  </tbody>\n",
       "</table>\n",
       "</div>"
      ],
      "text/plain": [
       "                                title  \\\n",
       "0  At The Table with Patrick Lencioni   \n",
       "\n",
       "                                            chan_url  num_comments  \\\n",
       "0  https://castbox.fm/channel/At-The-Table-with-P...             0   \n",
       "\n",
       "             author  isExplicit  sub_count  play_count  \\\n",
       "0  Patrick Lencioni           0        119        1686   \n",
       "\n",
       "                ch_feed_socials  ep_total  \\\n",
       "0  [https://www.tablegroup.com]        13   \n",
       "\n",
       "                                          recent_eps  \\\n",
       "0  [[2019-10-02, 00:34:32, 0], [2019-09-25, 00:27...   \n",
       "\n",
       "                                   hover_text_concat  \\\n",
       "0  Without understanding how people are wired it ...   \n",
       "\n",
       "                                           chan_desc  \\\n",
       "0  Real conversations and practical advice for ev...   \n",
       "\n",
       "                                       cover_img_url first_release  \\\n",
       "0  https://is3-ssl.mzstatic.com/image/thumb/Podca...    2019-07-11   \n",
       "\n",
       "  scraped_category  \n",
       "0      Management   "
      ]
     },
     "execution_count": 5,
     "metadata": {},
     "output_type": "execute_result"
    }
   ],
   "source": [
    "df.head(1)"
   ]
  },
  {
   "cell_type": "markdown",
   "metadata": {},
   "source": [
    "### Drop Empties / NaN rows before feature development\n",
    "\n",
    "Some channels are missing data, or have no episodes. Remove them."
   ]
  },
  {
   "cell_type": "code",
   "execution_count": 6,
   "metadata": {
    "ExecuteTime": {
     "end_time": "2019-10-10T20:55:41.434269Z",
     "start_time": "2019-10-10T20:55:41.422754Z"
    }
   },
   "outputs": [
    {
     "name": "stdout",
     "output_type": "stream",
     "text": [
      "<class 'pandas.core.frame.DataFrame'>\n",
      "Int64Index: 7777 entries, 0 to 59\n",
      "Data columns (total 15 columns):\n",
      "title                7777 non-null object\n",
      "chan_url             7777 non-null object\n",
      "num_comments         7777 non-null int64\n",
      "author               7777 non-null object\n",
      "isExplicit           7777 non-null int64\n",
      "sub_count            7777 non-null int64\n",
      "play_count           7777 non-null int64\n",
      "ch_feed_socials      7777 non-null object\n",
      "ep_total             7777 non-null int64\n",
      "recent_eps           7759 non-null object\n",
      "hover_text_concat    7759 non-null object\n",
      "chan_desc            7759 non-null object\n",
      "cover_img_url        7759 non-null object\n",
      "first_release        7777 non-null object\n",
      "scraped_category     7777 non-null object\n",
      "dtypes: int64(5), object(10)\n",
      "memory usage: 972.1+ KB\n"
     ]
    }
   ],
   "source": [
    "df.info()"
   ]
  },
  {
   "cell_type": "code",
   "execution_count": 7,
   "metadata": {
    "ExecuteTime": {
     "end_time": "2019-10-10T20:55:41.816496Z",
     "start_time": "2019-10-10T20:55:41.797130Z"
    },
    "scrolled": true
   },
   "outputs": [
    {
     "name": "stdout",
     "output_type": "stream",
     "text": [
      "<class 'pandas.core.frame.DataFrame'>\n",
      "Int64Index: 7759 entries, 0 to 59\n",
      "Data columns (total 15 columns):\n",
      "title                7759 non-null object\n",
      "chan_url             7759 non-null object\n",
      "num_comments         7759 non-null int64\n",
      "author               7759 non-null object\n",
      "isExplicit           7759 non-null int64\n",
      "sub_count            7759 non-null int64\n",
      "play_count           7759 non-null int64\n",
      "ch_feed_socials      7759 non-null object\n",
      "ep_total             7759 non-null int64\n",
      "recent_eps           7759 non-null object\n",
      "hover_text_concat    7759 non-null object\n",
      "chan_desc            7759 non-null object\n",
      "cover_img_url        7759 non-null object\n",
      "first_release        7759 non-null object\n",
      "scraped_category     7759 non-null object\n",
      "dtypes: int64(5), object(10)\n",
      "memory usage: 969.9+ KB\n"
     ]
    }
   ],
   "source": [
    "df.dropna(inplace=True)\n",
    "df.info()"
   ]
  },
  {
   "cell_type": "markdown",
   "metadata": {},
   "source": [
    "We should remove any rows with 0 episodes."
   ]
  },
  {
   "cell_type": "code",
   "execution_count": 8,
   "metadata": {
    "ExecuteTime": {
     "end_time": "2019-10-10T20:55:42.202151Z",
     "start_time": "2019-10-10T20:55:42.181592Z"
    },
    "scrolled": false
   },
   "outputs": [
    {
     "data": {
      "text/html": [
       "<div>\n",
       "<style scoped>\n",
       "    .dataframe tbody tr th:only-of-type {\n",
       "        vertical-align: middle;\n",
       "    }\n",
       "\n",
       "    .dataframe tbody tr th {\n",
       "        vertical-align: top;\n",
       "    }\n",
       "\n",
       "    .dataframe thead th {\n",
       "        text-align: right;\n",
       "    }\n",
       "</style>\n",
       "<table border=\"1\" class=\"dataframe\">\n",
       "  <thead>\n",
       "    <tr style=\"text-align: right;\">\n",
       "      <th></th>\n",
       "      <th>ep_total</th>\n",
       "      <th>recent_eps</th>\n",
       "    </tr>\n",
       "  </thead>\n",
       "  <tbody>\n",
       "    <tr>\n",
       "      <td>47</td>\n",
       "      <td>0</td>\n",
       "      <td>[[2019-10-02, 00:54:20, 4], [2019-09-25, 00:57...</td>\n",
       "    </tr>\n",
       "    <tr>\n",
       "      <td>45</td>\n",
       "      <td>0</td>\n",
       "      <td>[[2019-09-24, 00:45:52, 0], [2019-09-10, 00:47...</td>\n",
       "    </tr>\n",
       "    <tr>\n",
       "      <td>46</td>\n",
       "      <td>0</td>\n",
       "      <td>[[2019-09-24, 00:21:38, 2], [2019-09-17, 00:26...</td>\n",
       "    </tr>\n",
       "    <tr>\n",
       "      <td>48</td>\n",
       "      <td>0</td>\n",
       "      <td>[]</td>\n",
       "    </tr>\n",
       "    <tr>\n",
       "      <td>87</td>\n",
       "      <td>0</td>\n",
       "      <td>[]</td>\n",
       "    </tr>\n",
       "    <tr>\n",
       "      <td>...</td>\n",
       "      <td>...</td>\n",
       "      <td>...</td>\n",
       "    </tr>\n",
       "    <tr>\n",
       "      <td>58</td>\n",
       "      <td>0</td>\n",
       "      <td>[]</td>\n",
       "    </tr>\n",
       "    <tr>\n",
       "      <td>56</td>\n",
       "      <td>0</td>\n",
       "      <td>[]</td>\n",
       "    </tr>\n",
       "    <tr>\n",
       "      <td>52</td>\n",
       "      <td>0</td>\n",
       "      <td>[]</td>\n",
       "    </tr>\n",
       "    <tr>\n",
       "      <td>44</td>\n",
       "      <td>0</td>\n",
       "      <td>[]</td>\n",
       "    </tr>\n",
       "    <tr>\n",
       "      <td>157</td>\n",
       "      <td>0</td>\n",
       "      <td>[]</td>\n",
       "    </tr>\n",
       "  </tbody>\n",
       "</table>\n",
       "<p>101 rows × 2 columns</p>\n",
       "</div>"
      ],
      "text/plain": [
       "     ep_total                                         recent_eps\n",
       "47          0  [[2019-10-02, 00:54:20, 4], [2019-09-25, 00:57...\n",
       "45          0  [[2019-09-24, 00:45:52, 0], [2019-09-10, 00:47...\n",
       "46          0  [[2019-09-24, 00:21:38, 2], [2019-09-17, 00:26...\n",
       "48          0                                                 []\n",
       "87          0                                                 []\n",
       "..        ...                                                ...\n",
       "58          0                                                 []\n",
       "56          0                                                 []\n",
       "52          0                                                 []\n",
       "44          0                                                 []\n",
       "157         0                                                 []\n",
       "\n",
       "[101 rows x 2 columns]"
      ]
     },
     "execution_count": 8,
     "metadata": {},
     "output_type": "execute_result"
    }
   ],
   "source": [
    "df[df.ep_total == 0].sort_values('recent_eps',ascending=False)[['ep_total', 'recent_eps']]"
   ]
  },
  {
   "cell_type": "code",
   "execution_count": 9,
   "metadata": {
    "ExecuteTime": {
     "end_time": "2019-10-10T20:55:42.595980Z",
     "start_time": "2019-10-10T20:55:42.589547Z"
    }
   },
   "outputs": [],
   "source": [
    "# for EDA, mask entries where no episodes have been logged\n",
    "df = df[df['ep_total'] != 0]"
   ]
  },
  {
   "cell_type": "code",
   "execution_count": 10,
   "metadata": {
    "ExecuteTime": {
     "end_time": "2019-10-10T20:55:42.995597Z",
     "start_time": "2019-10-10T20:55:42.992197Z"
    },
    "scrolled": true
   },
   "outputs": [
    {
     "data": {
      "text/plain": [
       "(7658, 15)"
      ]
     },
     "execution_count": 10,
     "metadata": {},
     "output_type": "execute_result"
    }
   ],
   "source": [
    "df.shape"
   ]
  },
  {
   "cell_type": "code",
   "execution_count": 11,
   "metadata": {
    "ExecuteTime": {
     "end_time": "2019-10-10T20:55:43.401108Z",
     "start_time": "2019-10-10T20:55:43.389055Z"
    },
    "scrolled": true
   },
   "outputs": [
    {
     "name": "stdout",
     "output_type": "stream",
     "text": [
      "<class 'pandas.core.frame.DataFrame'>\n",
      "Int64Index: 7658 entries, 0 to 59\n",
      "Data columns (total 15 columns):\n",
      "title                7658 non-null object\n",
      "chan_url             7658 non-null object\n",
      "num_comments         7658 non-null int64\n",
      "author               7658 non-null object\n",
      "isExplicit           7658 non-null int64\n",
      "sub_count            7658 non-null int64\n",
      "play_count           7658 non-null int64\n",
      "ch_feed_socials      7658 non-null object\n",
      "ep_total             7658 non-null int64\n",
      "recent_eps           7658 non-null object\n",
      "hover_text_concat    7658 non-null object\n",
      "chan_desc            7658 non-null object\n",
      "cover_img_url        7658 non-null object\n",
      "first_release        7658 non-null object\n",
      "scraped_category     7658 non-null object\n",
      "dtypes: int64(5), object(10)\n",
      "memory usage: 957.2+ KB\n"
     ]
    }
   ],
   "source": [
    "df.info()"
   ]
  },
  {
   "cell_type": "code",
   "execution_count": 12,
   "metadata": {
    "ExecuteTime": {
     "end_time": "2019-10-10T20:55:43.773323Z",
     "start_time": "2019-10-10T20:55:43.766828Z"
    }
   },
   "outputs": [
    {
     "data": {
      "text/plain": [
       "title                object\n",
       "chan_url             object\n",
       "num_comments          int64\n",
       "author               object\n",
       "isExplicit            int64\n",
       "sub_count             int64\n",
       "play_count            int64\n",
       "ch_feed_socials      object\n",
       "ep_total              int64\n",
       "recent_eps           object\n",
       "hover_text_concat    object\n",
       "chan_desc            object\n",
       "cover_img_url        object\n",
       "first_release        object\n",
       "scraped_category     object\n",
       "dtype: object"
      ]
     },
     "execution_count": 12,
     "metadata": {},
     "output_type": "execute_result"
    }
   ],
   "source": [
    "df.dtypes"
   ]
  },
  {
   "cell_type": "markdown",
   "metadata": {},
   "source": [
    "# Feature Engineering"
   ]
  },
  {
   "cell_type": "markdown",
   "metadata": {},
   "source": [
    "### Utilities:"
   ]
  },
  {
   "cell_type": "markdown",
   "metadata": {},
   "source": [
    "#### Outlier Filter"
   ]
  },
  {
   "cell_type": "code",
   "execution_count": 13,
   "metadata": {
    "ExecuteTime": {
     "end_time": "2019-10-10T20:55:44.837733Z",
     "start_time": "2019-10-10T20:55:44.815605Z"
    }
   },
   "outputs": [
    {
     "data": {
      "text/html": [
       "<div>\n",
       "<style scoped>\n",
       "    .dataframe tbody tr th:only-of-type {\n",
       "        vertical-align: middle;\n",
       "    }\n",
       "\n",
       "    .dataframe tbody tr th {\n",
       "        vertical-align: top;\n",
       "    }\n",
       "\n",
       "    .dataframe thead th {\n",
       "        text-align: right;\n",
       "    }\n",
       "</style>\n",
       "<table border=\"1\" class=\"dataframe\">\n",
       "  <thead>\n",
       "    <tr style=\"text-align: right;\">\n",
       "      <th></th>\n",
       "      <th>title</th>\n",
       "      <th>chan_url</th>\n",
       "      <th>num_comments</th>\n",
       "      <th>author</th>\n",
       "      <th>isExplicit</th>\n",
       "      <th>sub_count</th>\n",
       "      <th>play_count</th>\n",
       "      <th>ch_feed_socials</th>\n",
       "      <th>ep_total</th>\n",
       "      <th>recent_eps</th>\n",
       "      <th>hover_text_concat</th>\n",
       "      <th>chan_desc</th>\n",
       "      <th>cover_img_url</th>\n",
       "      <th>first_release</th>\n",
       "      <th>scraped_category</th>\n",
       "    </tr>\n",
       "  </thead>\n",
       "  <tbody>\n",
       "    <tr>\n",
       "      <td>0</td>\n",
       "      <td>The Joe Rogan Experience</td>\n",
       "      <td>https://castbox.fm/channel/The-Joe-Rogan-Experience-id1608</td>\n",
       "      <td>21769</td>\n",
       "      <td>Joe Rogan</td>\n",
       "      <td>1</td>\n",
       "      <td>2262375</td>\n",
       "      <td>76019418</td>\n",
       "      <td>[https://twitter.com/joerogan, https://www.facebook.com/JOEROGAN, https://www.instagram.com/joer...</td>\n",
       "      <td>1511</td>\n",
       "      <td>[[2019-10-03, 02:49:11, 55], [2019-10-02, 02:15:06, 87], [2019-10-02, 02:52:14, 190], [2019-10-0...</td>\n",
       "      <td>Nikki Glaser is a stand-up comedian, podcast host, and television host. Her new stand-up special...</td>\n",
       "      <td>The podcast of Comedian Joe Rogan..</td>\n",
       "      <td>https://is5-ssl.mzstatic.com/image/thumb/Podcasts123/v4/12/ab/d6/12abd655-2473-c4fb-7d53-33e1b9e...</td>\n",
       "      <td>2009-12-24</td>\n",
       "      <td>Comedy</td>\n",
       "    </tr>\n",
       "    <tr>\n",
       "      <td>2</td>\n",
       "      <td>TED Talks Daily</td>\n",
       "      <td>https://castbox.fm/channel/TED-Talks-Daily-id4541</td>\n",
       "      <td>712</td>\n",
       "      <td>TED</td>\n",
       "      <td>0</td>\n",
       "      <td>1385328</td>\n",
       "      <td>27994918</td>\n",
       "      <td>[https://twitter.com/TEDTalks, https://www.facebook.com/TED, https://www.instagram.com/ted, http...</td>\n",
       "      <td>977</td>\n",
       "      <td>[[2019-10-07, 00:09:30, 8], [2019-10-05, 00:18:50, 15], [2019-10-04, 00:17:02, 15], [2019-10-03,...</td>\n",
       "      <td>Exactly when and where did life on Earth begin? Scientists have long thought that it emerged thr...</td>\n",
       "      <td>Want TED Talks on the go? Every weekday, this feed brings you our latest talks in audio format. ...</td>\n",
       "      <td>https://is1-ssl.mzstatic.com/image/thumb/Podcasts113/v4/79/9c/44/799c444a-ce56-3e2b-7dc8-a539925...</td>\n",
       "      <td>2016-02-08</td>\n",
       "      <td>Arts</td>\n",
       "    </tr>\n",
       "  </tbody>\n",
       "</table>\n",
       "</div>"
      ],
      "text/plain": [
       "                      title  \\\n",
       "0  The Joe Rogan Experience   \n",
       "2           TED Talks Daily   \n",
       "\n",
       "                                                     chan_url  num_comments  \\\n",
       "0  https://castbox.fm/channel/The-Joe-Rogan-Experience-id1608         21769   \n",
       "2           https://castbox.fm/channel/TED-Talks-Daily-id4541           712   \n",
       "\n",
       "      author  isExplicit  sub_count  play_count  \\\n",
       "0  Joe Rogan           1    2262375    76019418   \n",
       "2        TED           0    1385328    27994918   \n",
       "\n",
       "                                                                                       ch_feed_socials  \\\n",
       "0  [https://twitter.com/joerogan, https://www.facebook.com/JOEROGAN, https://www.instagram.com/joer...   \n",
       "2  [https://twitter.com/TEDTalks, https://www.facebook.com/TED, https://www.instagram.com/ted, http...   \n",
       "\n",
       "   ep_total  \\\n",
       "0      1511   \n",
       "2       977   \n",
       "\n",
       "                                                                                            recent_eps  \\\n",
       "0  [[2019-10-03, 02:49:11, 55], [2019-10-02, 02:15:06, 87], [2019-10-02, 02:52:14, 190], [2019-10-0...   \n",
       "2  [[2019-10-07, 00:09:30, 8], [2019-10-05, 00:18:50, 15], [2019-10-04, 00:17:02, 15], [2019-10-03,...   \n",
       "\n",
       "                                                                                     hover_text_concat  \\\n",
       "0  Nikki Glaser is a stand-up comedian, podcast host, and television host. Her new stand-up special...   \n",
       "2  Exactly when and where did life on Earth begin? Scientists have long thought that it emerged thr...   \n",
       "\n",
       "                                                                                             chan_desc  \\\n",
       "0                                                                  The podcast of Comedian Joe Rogan..   \n",
       "2  Want TED Talks on the go? Every weekday, this feed brings you our latest talks in audio format. ...   \n",
       "\n",
       "                                                                                         cover_img_url  \\\n",
       "0  https://is5-ssl.mzstatic.com/image/thumb/Podcasts123/v4/12/ab/d6/12abd655-2473-c4fb-7d53-33e1b9e...   \n",
       "2  https://is1-ssl.mzstatic.com/image/thumb/Podcasts113/v4/79/9c/44/799c444a-ce56-3e2b-7dc8-a539925...   \n",
       "\n",
       "  first_release scraped_category  \n",
       "0    2009-12-24           Comedy  \n",
       "2    2016-02-08             Arts  "
      ]
     },
     "execution_count": 13,
     "metadata": {},
     "output_type": "execute_result"
    }
   ],
   "source": [
    "pd.set_option('display.max_colwidth', 100)\n",
    "# podcasts with over 10 million plays\n",
    "df[df.play_count > 10000000.0].sort_values('play_count', ascending=False).head(2)"
   ]
  },
  {
   "cell_type": "code",
   "execution_count": 78,
   "metadata": {
    "ExecuteTime": {
     "end_time": "2019-10-10T21:01:52.069032Z",
     "start_time": "2019-10-10T21:01:52.063990Z"
    }
   },
   "outputs": [],
   "source": [
    "# filter for outliers in play_count\n",
    "# rule is > 3 std from the mean play_count\n",
    "\n",
    "pc_mean = df.play_count.mean()\n",
    "pc_sd = df.play_count.std()\n",
    "\n",
    "outlier_mask = np.abs(np.subtract(df.play_count, pc_mean)) < 3*pc_sd"
   ]
  },
  {
   "cell_type": "code",
   "execution_count": 79,
   "metadata": {
    "ExecuteTime": {
     "end_time": "2019-10-10T21:02:03.206483Z",
     "start_time": "2019-10-10T21:02:02.957983Z"
    },
    "scrolled": false
   },
   "outputs": [
    {
     "data": {
      "text/html": [
       "<div>\n",
       "<style scoped>\n",
       "    .dataframe tbody tr th:only-of-type {\n",
       "        vertical-align: middle;\n",
       "    }\n",
       "\n",
       "    .dataframe tbody tr th {\n",
       "        vertical-align: top;\n",
       "    }\n",
       "\n",
       "    .dataframe thead th {\n",
       "        text-align: right;\n",
       "    }\n",
       "</style>\n",
       "<table border=\"1\" class=\"dataframe\">\n",
       "  <thead>\n",
       "    <tr style=\"text-align: right;\">\n",
       "      <th></th>\n",
       "      <th>num_comments</th>\n",
       "      <th>isExplicit</th>\n",
       "      <th>sub_count</th>\n",
       "      <th>play_count</th>\n",
       "      <th>ep_total</th>\n",
       "      <th>cat_count</th>\n",
       "      <th>d_After_Shows</th>\n",
       "      <th>d_Alternative_Health</th>\n",
       "      <th>d_Animation_Manga</th>\n",
       "      <th>d_Arts</th>\n",
       "      <th>...</th>\n",
       "      <th>twitter_sqrt</th>\n",
       "      <th>twitter_log</th>\n",
       "      <th>page_rank_dec</th>\n",
       "      <th>rank</th>\n",
       "      <th>recent_ep_spacing</th>\n",
       "      <th>lifetime_ep_freq</th>\n",
       "      <th>avg_ep_len</th>\n",
       "      <th>chan_age</th>\n",
       "      <th>avg_ep_desc_len</th>\n",
       "      <th>chan_desc_len</th>\n",
       "    </tr>\n",
       "  </thead>\n",
       "  <tbody>\n",
       "    <tr>\n",
       "      <td>count</td>\n",
       "      <td>7502.0</td>\n",
       "      <td>7502.0</td>\n",
       "      <td>7502.0</td>\n",
       "      <td>7502.0</td>\n",
       "      <td>7502.0</td>\n",
       "      <td>7502.0</td>\n",
       "      <td>7502.0</td>\n",
       "      <td>7502.0</td>\n",
       "      <td>7502.0</td>\n",
       "      <td>7502.0</td>\n",
       "      <td>...</td>\n",
       "      <td>7502.0</td>\n",
       "      <td>7502.0</td>\n",
       "      <td>7502.0</td>\n",
       "      <td>7502.0</td>\n",
       "      <td>7502.0</td>\n",
       "      <td>7502.0</td>\n",
       "      <td>7502.0</td>\n",
       "      <td>7502.0</td>\n",
       "      <td>7502.0</td>\n",
       "      <td>7502.0</td>\n",
       "    </tr>\n",
       "    <tr>\n",
       "      <td>mean</td>\n",
       "      <td>10.5</td>\n",
       "      <td>0.2</td>\n",
       "      <td>4423.3</td>\n",
       "      <td>72891.5</td>\n",
       "      <td>136.1</td>\n",
       "      <td>1.2</td>\n",
       "      <td>0.0</td>\n",
       "      <td>0.0</td>\n",
       "      <td>0.0</td>\n",
       "      <td>0.0</td>\n",
       "      <td>...</td>\n",
       "      <td>38.4</td>\n",
       "      <td>-inf</td>\n",
       "      <td>4.4</td>\n",
       "      <td>19530903.9</td>\n",
       "      <td>15.9</td>\n",
       "      <td>0.2</td>\n",
       "      <td>217.7</td>\n",
       "      <td>935.9</td>\n",
       "      <td>766.1</td>\n",
       "      <td>389.5</td>\n",
       "    </tr>\n",
       "    <tr>\n",
       "      <td>std</td>\n",
       "      <td>52.0</td>\n",
       "      <td>0.4</td>\n",
       "      <td>19104.4</td>\n",
       "      <td>268631.6</td>\n",
       "      <td>273.7</td>\n",
       "      <td>0.8</td>\n",
       "      <td>0.0</td>\n",
       "      <td>0.2</td>\n",
       "      <td>0.1</td>\n",
       "      <td>0.2</td>\n",
       "      <td>...</td>\n",
       "      <td>241.5</td>\n",
       "      <td>nan</td>\n",
       "      <td>2.1</td>\n",
       "      <td>50788167.3</td>\n",
       "      <td>29.9</td>\n",
       "      <td>1.1</td>\n",
       "      <td>1.4</td>\n",
       "      <td>1190.7</td>\n",
       "      <td>1555.4</td>\n",
       "      <td>318.5</td>\n",
       "    </tr>\n",
       "    <tr>\n",
       "      <td>min</td>\n",
       "      <td>0.0</td>\n",
       "      <td>0.0</td>\n",
       "      <td>0.0</td>\n",
       "      <td>0.0</td>\n",
       "      <td>2.0</td>\n",
       "      <td>1.0</td>\n",
       "      <td>0.0</td>\n",
       "      <td>0.0</td>\n",
       "      <td>0.0</td>\n",
       "      <td>0.0</td>\n",
       "      <td>...</td>\n",
       "      <td>0.0</td>\n",
       "      <td>-inf</td>\n",
       "      <td>0.0</td>\n",
       "      <td>2.0</td>\n",
       "      <td>0.0</td>\n",
       "      <td>0.0</td>\n",
       "      <td>211.7</td>\n",
       "      <td>0.0</td>\n",
       "      <td>1.0</td>\n",
       "      <td>0.0</td>\n",
       "    </tr>\n",
       "    <tr>\n",
       "      <td>25%</td>\n",
       "      <td>0.0</td>\n",
       "      <td>0.0</td>\n",
       "      <td>35.0</td>\n",
       "      <td>309.2</td>\n",
       "      <td>19.0</td>\n",
       "      <td>1.0</td>\n",
       "      <td>0.0</td>\n",
       "      <td>0.0</td>\n",
       "      <td>0.0</td>\n",
       "      <td>0.0</td>\n",
       "      <td>...</td>\n",
       "      <td>0.0</td>\n",
       "      <td>-inf</td>\n",
       "      <td>3.2</td>\n",
       "      <td>17145.8</td>\n",
       "      <td>6.2</td>\n",
       "      <td>0.1</td>\n",
       "      <td>216.8</td>\n",
       "      <td>198.2</td>\n",
       "      <td>269.5</td>\n",
       "      <td>187.0</td>\n",
       "    </tr>\n",
       "    <tr>\n",
       "      <td>50%</td>\n",
       "      <td>0.0</td>\n",
       "      <td>0.0</td>\n",
       "      <td>254.0</td>\n",
       "      <td>3430.0</td>\n",
       "      <td>61.0</td>\n",
       "      <td>1.0</td>\n",
       "      <td>0.0</td>\n",
       "      <td>0.0</td>\n",
       "      <td>0.0</td>\n",
       "      <td>0.0</td>\n",
       "      <td>...</td>\n",
       "      <td>0.0</td>\n",
       "      <td>-inf</td>\n",
       "      <td>4.5</td>\n",
       "      <td>570573.0</td>\n",
       "      <td>7.7</td>\n",
       "      <td>0.1</td>\n",
       "      <td>217.7</td>\n",
       "      <td>613.5</td>\n",
       "      <td>464.4</td>\n",
       "      <td>322.0</td>\n",
       "    </tr>\n",
       "    <tr>\n",
       "      <td>75%</td>\n",
       "      <td>3.0</td>\n",
       "      <td>0.0</td>\n",
       "      <td>1543.2</td>\n",
       "      <td>25771.0</td>\n",
       "      <td>157.0</td>\n",
       "      <td>1.0</td>\n",
       "      <td>0.0</td>\n",
       "      <td>0.0</td>\n",
       "      <td>0.0</td>\n",
       "      <td>0.0</td>\n",
       "      <td>...</td>\n",
       "      <td>0.0</td>\n",
       "      <td>-inf</td>\n",
       "      <td>6.0</td>\n",
       "      <td>7668442.0</td>\n",
       "      <td>15.6</td>\n",
       "      <td>0.2</td>\n",
       "      <td>218.6</td>\n",
       "      <td>1315.0</td>\n",
       "      <td>866.2</td>\n",
       "      <td>507.0</td>\n",
       "    </tr>\n",
       "    <tr>\n",
       "      <td>max</td>\n",
       "      <td>1522.0</td>\n",
       "      <td>1.0</td>\n",
       "      <td>403700.0</td>\n",
       "      <td>3611595.0</td>\n",
       "      <td>4998.0</td>\n",
       "      <td>8.0</td>\n",
       "      <td>1.0</td>\n",
       "      <td>1.0</td>\n",
       "      <td>1.0</td>\n",
       "      <td>1.0</td>\n",
       "      <td>...</td>\n",
       "      <td>8871.6</td>\n",
       "      <td>18.2</td>\n",
       "      <td>10.0</td>\n",
       "      <td>445371504.0</td>\n",
       "      <td>1249.5</td>\n",
       "      <td>61.0</td>\n",
       "      <td>223.3</td>\n",
       "      <td>18176.0</td>\n",
       "      <td>76571.4</td>\n",
       "      <td>9835.0</td>\n",
       "    </tr>\n",
       "  </tbody>\n",
       "</table>\n",
       "<p>8 rows × 108 columns</p>\n",
       "</div>"
      ],
      "text/plain": [
       "       num_comments  isExplicit  sub_count  play_count  ep_total  cat_count  \\\n",
       "count        7502.0      7502.0     7502.0      7502.0    7502.0     7502.0   \n",
       "mean           10.5         0.2     4423.3     72891.5     136.1        1.2   \n",
       "std            52.0         0.4    19104.4    268631.6     273.7        0.8   \n",
       "min             0.0         0.0        0.0         0.0       2.0        1.0   \n",
       "25%             0.0         0.0       35.0       309.2      19.0        1.0   \n",
       "50%             0.0         0.0      254.0      3430.0      61.0        1.0   \n",
       "75%             3.0         0.0     1543.2     25771.0     157.0        1.0   \n",
       "max          1522.0         1.0   403700.0   3611595.0    4998.0        8.0   \n",
       "\n",
       "       d_After_Shows  d_Alternative_Health  d_Animation_Manga  d_Arts  ...  \\\n",
       "count         7502.0                7502.0             7502.0  7502.0  ...   \n",
       "mean             0.0                   0.0                0.0     0.0  ...   \n",
       "std              0.0                   0.2                0.1     0.2  ...   \n",
       "min              0.0                   0.0                0.0     0.0  ...   \n",
       "25%              0.0                   0.0                0.0     0.0  ...   \n",
       "50%              0.0                   0.0                0.0     0.0  ...   \n",
       "75%              0.0                   0.0                0.0     0.0  ...   \n",
       "max              1.0                   1.0                1.0     1.0  ...   \n",
       "\n",
       "       twitter_sqrt  twitter_log  page_rank_dec        rank  \\\n",
       "count        7502.0       7502.0         7502.0      7502.0   \n",
       "mean           38.4         -inf            4.4  19530903.9   \n",
       "std           241.5          nan            2.1  50788167.3   \n",
       "min             0.0         -inf            0.0         2.0   \n",
       "25%             0.0         -inf            3.2     17145.8   \n",
       "50%             0.0         -inf            4.5    570573.0   \n",
       "75%             0.0         -inf            6.0   7668442.0   \n",
       "max          8871.6         18.2           10.0 445371504.0   \n",
       "\n",
       "       recent_ep_spacing  lifetime_ep_freq  avg_ep_len  chan_age  \\\n",
       "count             7502.0            7502.0      7502.0    7502.0   \n",
       "mean                15.9               0.2       217.7     935.9   \n",
       "std                 29.9               1.1         1.4    1190.7   \n",
       "min                  0.0               0.0       211.7       0.0   \n",
       "25%                  6.2               0.1       216.8     198.2   \n",
       "50%                  7.7               0.1       217.7     613.5   \n",
       "75%                 15.6               0.2       218.6    1315.0   \n",
       "max               1249.5              61.0       223.3   18176.0   \n",
       "\n",
       "       avg_ep_desc_len  chan_desc_len  \n",
       "count           7502.0         7502.0  \n",
       "mean             766.1          389.5  \n",
       "std             1555.4          318.5  \n",
       "min                1.0            0.0  \n",
       "25%              269.5          187.0  \n",
       "50%              464.4          322.0  \n",
       "75%              866.2          507.0  \n",
       "max            76571.4         9835.0  \n",
       "\n",
       "[8 rows x 108 columns]"
      ]
     },
     "execution_count": 79,
     "metadata": {},
     "output_type": "execute_result"
    }
   ],
   "source": [
    "# Test play_count outlier mask\n",
    "df[outlier_mask].describe()"
   ]
  },
  {
   "cell_type": "markdown",
   "metadata": {},
   "source": [
    "## Enrich Existing Column Catogory\n",
    "\n",
    "Channels were listed in the top 200 of multiple directories, but were only scraped once across all categories.\n",
    "\n",
    "Fill out the additional categorizations.\n",
    "\n",
    "__Note:__ Because channels were scraped from the top 200 of each category, and some categories are more popular than others, the predictor power of the channel category dummy encoding is modi"
   ]
  },
  {
   "cell_type": "code",
   "execution_count": 80,
   "metadata": {
    "ExecuteTime": {
     "end_time": "2019-10-10T21:02:05.594311Z",
     "start_time": "2019-10-10T21:02:05.576103Z"
    },
    "scrolled": true
   },
   "outputs": [
    {
     "data": {
      "text/plain": [
       "dict_keys(['Arts', 'Business', 'Comedy', 'Education', 'Games & Hobbies', 'Health', 'Kids & Family', 'Technology', 'Music', 'News & Politics', 'Religion & Spirituality', 'Science & Medicine', 'Sports & Recreation', 'Society & Culture', 'TV & Film', 'Government & Organizations', 'Books', 'Design', 'Fashion & Beauty', 'Food', 'Performing Arts', 'Visual Arts', 'Careers', 'Entrepreneurship', 'Investing', 'Management ', 'Marketing', 'Non-profit', 'Comedy Interviews', 'Improv', 'Standup', 'Courses', 'How to', 'Language Learning', 'Self-Improvement', 'Fiction', 'Comedy Fiction', 'Drama', 'Science Fiction', 'Leisure', 'Animation & Manga', 'Automotive', 'Aviation', 'Crafts', 'Games', 'Hobbies', 'Home & Garden', 'Video Games', 'Government', 'History', 'Health & Fitness', 'Alternative Health', 'Fitness', 'Medicine', 'Mental Health', 'Nutrition', 'Sexuality', 'Education for Kids', 'Parenting', 'Pets & Animals', 'Stories for Kids', 'Music Commentary', 'Music History', 'Music Interviews', 'News', 'Business News', 'Daily News', 'Entertainment News', 'News Commentary', 'Politics', 'Sports News', 'Tech News', 'Buddhism', 'Christianity', 'Hinduism', 'Islam', 'Judaism', 'Religion', 'Spirituality', 'Science', 'Astronomy', 'Chemistry', 'Earth Sciences', 'Life Sciences', 'Mathematics', 'Natural Sciences', 'Nature', 'Physics', 'Social Sciences', 'Documentary', 'Personal Journals', 'Philosophy', 'Places & Travel', 'Relationships', 'Sports', 'Baseball', 'Basketball', 'Cricket', 'Fantasy Sports', 'Football', 'Golf', 'Hockey', 'Rugby', 'Running', 'Soccer', 'Swimming', 'Tennis', 'Volleyball', 'Wilderness', 'Wrestling ', 'True Crime', 'After Shows', 'Film History', 'Film Interviews', 'Film Reviews', 'TV Reviews'])"
      ]
     },
     "execution_count": 80,
     "metadata": {},
     "output_type": "execute_result"
    }
   ],
   "source": [
    "# Load the full category listing dictionary.\n",
    "with open('../scraped/channel/podcast_chan_dict-corrected-urls-v2.pickle','rb') as f:\n",
    "    category_dict = pickle.load(f)\n",
    "\n",
    "# Categories are keys.\n",
    "category_dict.keys()"
   ]
  },
  {
   "cell_type": "code",
   "execution_count": 81,
   "metadata": {
    "ExecuteTime": {
     "end_time": "2019-10-10T21:02:06.867170Z",
     "start_time": "2019-10-10T21:02:06.862277Z"
    },
    "scrolled": false
   },
   "outputs": [
    {
     "data": {
      "text/plain": [
       "{'The Social Kick Podcast': {'chan_url': 'https://castbox.fm/channel/The-Social-Kick-Podcast-id2356884',\n",
       "  'author': 'The Social Kick'},\n",
       " 'Swim Coaches Base': {'chan_url': 'https://castbox.fm/channel/Swim-Coaches-Base-id205142',\n",
       "  'author': 'Chris Ritter'},\n",
       " 'The Effortless Swimming Podcast': {'chan_url': 'https://castbox.fm/channel/The-Effortless-Swimming-Podcast-id19260',\n",
       "  'author': 'Brenton Ford'},\n",
       " 'Tidecast': {'chan_url': 'https://castbox.fm/channel/Tidecast-id2322332',\n",
       "  'author': 'Fred Steele'},\n",
       " \"Champion's Mojo\": {'chan_url': \"https://castbox.fm/channel/Champion's-Mojo-id2073132\",\n",
       "  'author': 'Kelly Palace and Maria Parker'},\n",
       " 'The Pod: Ocean Swimming': {'chan_url': 'https://castbox.fm/channel/The-Pod%3A-Ocean-Swimming-id1348338',\n",
       "  'author': 'Marc West'},\n",
       " 'The JakeShell Show': {'chan_url': 'https://castbox.fm/channel/The-JakeShell-Show-id2233280',\n",
       "  'author': 'Jake Shellenberger'},\n",
       " 'Swimming with Autism': {'chan_url': 'https://castbox.fm/channel/Swimming-with-Autism-id2173187',\n",
       "  'author': 'swimmingwithautism'},\n",
       " 'Snabbanan - simma snabbare': {'chan_url': 'https://castbox.fm/channel/Snabbanan-simma-snabbare-id1331581',\n",
       "  'author': 'Ola Strömberg'},\n",
       " 'SURGE Strength - Dryland & Strength Training for Swimming': {'chan_url': 'https://castbox.fm/channel/SURGE-Strength-Dryland-%26-Strength-Training-for-Swimming-id2110223',\n",
       "  'author': 'Chris Ritter'},\n",
       " 'Drowning Warrior Weekly Spotlight Podcast': {'chan_url': 'https://castbox.fm/channel/Drowning-Warrior-Weekly-Spotlight-Podcast-id1372042',\n",
       "  'author': 'Rick Kauffman Water Safety, Drowning Prevention, Swimming, Pools, Learn to Swim'},\n",
       " 'The SwimBrain Podcast': {'chan_url': 'https://castbox.fm/channel/The-SwimBrain-Podcast-id2272372',\n",
       "  'author': 'Denaj'}}"
      ]
     },
     "execution_count": 81,
     "metadata": {},
     "output_type": "execute_result"
    }
   ],
   "source": [
    "# Values are dictionaries of channels with titles as keys.\n",
    "category_dict['Swimming']"
   ]
  },
  {
   "cell_type": "code",
   "execution_count": 82,
   "metadata": {
    "ExecuteTime": {
     "end_time": "2019-10-10T21:02:10.489065Z",
     "start_time": "2019-10-10T21:02:07.901629Z"
    }
   },
   "outputs": [],
   "source": [
    "# Create a function that we can apply to the \"title\" column of each row.\n",
    "# The function will search the category_dict for a podcast's listing\n",
    "# in any of the category dictionaries, searching for \"title\" in keys.\n",
    "\n",
    "def get_cats_of_chan(title):\n",
    "    cats = []\n",
    "    for cat in category_dict.keys():\n",
    "        cat_titles = list(category_dict[cat].keys())\n",
    "        if title in cat_titles:\n",
    "            cats += [cat]\n",
    "    return \"|\".join(cats)\n",
    "\n",
    "df['cat_list'] = df['title'].apply(get_cats_of_chan)"
   ]
  },
  {
   "cell_type": "code",
   "execution_count": 83,
   "metadata": {
    "ExecuteTime": {
     "end_time": "2019-10-10T21:02:11.550128Z",
     "start_time": "2019-10-10T21:02:11.544599Z"
    }
   },
   "outputs": [
    {
     "data": {
      "text/plain": [
       "41    Aviation\n",
       "Name: cat_list, dtype: object"
      ]
     },
     "execution_count": 83,
     "metadata": {},
     "output_type": "execute_result"
    }
   ],
   "source": [
    "df['cat_list'].sample()"
   ]
  },
  {
   "cell_type": "code",
   "execution_count": 84,
   "metadata": {
    "ExecuteTime": {
     "end_time": "2019-10-10T21:02:12.615764Z",
     "start_time": "2019-10-10T21:02:12.602442Z"
    },
    "scrolled": true
   },
   "outputs": [
    {
     "data": {
      "text/html": [
       "<div>\n",
       "<style scoped>\n",
       "    .dataframe tbody tr th:only-of-type {\n",
       "        vertical-align: middle;\n",
       "    }\n",
       "\n",
       "    .dataframe tbody tr th {\n",
       "        vertical-align: top;\n",
       "    }\n",
       "\n",
       "    .dataframe thead th {\n",
       "        text-align: right;\n",
       "    }\n",
       "</style>\n",
       "<table border=\"1\" class=\"dataframe\">\n",
       "  <thead>\n",
       "    <tr style=\"text-align: right;\">\n",
       "      <th></th>\n",
       "      <th>title</th>\n",
       "      <th>cat_count</th>\n",
       "    </tr>\n",
       "  </thead>\n",
       "  <tbody>\n",
       "    <tr>\n",
       "      <td>189</td>\n",
       "      <td>Hatchling</td>\n",
       "      <td>1</td>\n",
       "    </tr>\n",
       "    <tr>\n",
       "      <td>69</td>\n",
       "      <td>The Official Saastr Podcast: SaaS | Founders | Investors</td>\n",
       "      <td>1</td>\n",
       "    </tr>\n",
       "    <tr>\n",
       "      <td>145</td>\n",
       "      <td>Complicating the Narrative</td>\n",
       "      <td>1</td>\n",
       "    </tr>\n",
       "    <tr>\n",
       "      <td>0</td>\n",
       "      <td>The Official BNI Podcast</td>\n",
       "      <td>1</td>\n",
       "    </tr>\n",
       "  </tbody>\n",
       "</table>\n",
       "</div>"
      ],
      "text/plain": [
       "                                                        title  cat_count\n",
       "189                                                 Hatchling          1\n",
       "69   The Official Saastr Podcast: SaaS | Founders | Investors          1\n",
       "145                                Complicating the Narrative          1\n",
       "0                                    The Official BNI Podcast          1"
      ]
     },
     "execution_count": 84,
     "metadata": {},
     "output_type": "execute_result"
    }
   ],
   "source": [
    "# How many podcasts are in multiple top 200 categories?\n",
    "df['cat_count'] = df.cat_list.apply(lambda l: len(l.split('|')))\n",
    "df[['title','cat_count']].sample(4)"
   ]
  },
  {
   "cell_type": "code",
   "execution_count": 85,
   "metadata": {
    "ExecuteTime": {
     "end_time": "2019-10-10T21:02:13.753095Z",
     "start_time": "2019-10-10T21:02:13.726756Z"
    },
    "scrolled": true
   },
   "outputs": [
    {
     "data": {
      "text/plain": [
       "1    6493\n",
       "2     886\n",
       "7      69\n",
       "8      43\n",
       "3       4\n",
       "4       3\n",
       "6       2\n",
       "5       2\n",
       "Name: cat_count, dtype: int64"
      ]
     },
     "execution_count": 85,
     "metadata": {},
     "output_type": "execute_result"
    }
   ],
   "source": [
    "# What's the distribution of categories associated with each\n",
    "# channel as revealed by the top 200 lists?\n",
    "df[outlier_mask].cat_count.value_counts()"
   ]
  },
  {
   "cell_type": "code",
   "execution_count": 86,
   "metadata": {
    "ExecuteTime": {
     "end_time": "2019-10-10T21:02:15.096637Z",
     "start_time": "2019-10-10T21:02:15.082953Z"
    }
   },
   "outputs": [
    {
     "data": {
      "text/plain": [
       "cat_count\n",
       "1     41669.5\n",
       "2    149944.3\n",
       "3   1087510.2\n",
       "4    975962.3\n",
       "5    612050.0\n",
       "6    476754.5\n",
       "7   1141027.9\n",
       "8   1284538.2\n",
       "Name: play_count, dtype: float64"
      ]
     },
     "execution_count": 86,
     "metadata": {},
     "output_type": "execute_result"
    }
   ],
   "source": [
    "df[outlier_mask].groupby(by='cat_count')['play_count'].mean()"
   ]
  },
  {
   "cell_type": "code",
   "execution_count": 87,
   "metadata": {
    "ExecuteTime": {
     "end_time": "2019-10-10T21:02:16.693960Z",
     "start_time": "2019-10-10T21:02:16.292561Z"
    }
   },
   "outputs": [
    {
     "data": {
      "image/png": "[encoded data removed]",
      "text/plain": [
       "<Figure size 864x576 with 1 Axes>"
      ]
     },
     "metadata": {
      "needs_background": "light"
     },
     "output_type": "display_data"
    }
   ],
   "source": [
    "cat_count = df[outlier_mask].groupby(by='cat_count')['play_count'].mean()\n",
    "\n",
    "fig, ax = plt.subplots(figsize=(12,8))\n",
    "\n",
    "sns.boxplot(x='cat_count', y='play_count', data=df[outlier_mask])\n",
    "\n",
    "plt.xlabel('Number of Top 200 Categories')\n",
    "plt.ylabel('Average Plays')\n",
    "\n",
    "plt.title('Number of Categorizations/Podcast vs. Play Count');"
   ]
  },
  {
   "cell_type": "code",
   "execution_count": 88,
   "metadata": {
    "ExecuteTime": {
     "end_time": "2019-10-10T21:02:17.809652Z",
     "start_time": "2019-10-10T21:02:17.801091Z"
    }
   },
   "outputs": [
    {
     "data": {
      "text/html": [
       "<div>\n",
       "<style scoped>\n",
       "    .dataframe tbody tr th:only-of-type {\n",
       "        vertical-align: middle;\n",
       "    }\n",
       "\n",
       "    .dataframe tbody tr th {\n",
       "        vertical-align: top;\n",
       "    }\n",
       "\n",
       "    .dataframe thead th {\n",
       "        text-align: right;\n",
       "    }\n",
       "</style>\n",
       "<table border=\"1\" class=\"dataframe\">\n",
       "  <thead>\n",
       "    <tr style=\"text-align: right;\">\n",
       "      <th></th>\n",
       "      <th>title</th>\n",
       "      <th>cat_list</th>\n",
       "    </tr>\n",
       "  </thead>\n",
       "  <tbody>\n",
       "    <tr>\n",
       "      <td>68</td>\n",
       "      <td>Encyclopedia Womannica</td>\n",
       "      <td>History</td>\n",
       "    </tr>\n",
       "    <tr>\n",
       "      <td>44</td>\n",
       "      <td>Rose Chat Podcast</td>\n",
       "      <td>Home &amp; Garden</td>\n",
       "    </tr>\n",
       "    <tr>\n",
       "      <td>126</td>\n",
       "      <td>That's So Maven by The Healthy Maven</td>\n",
       "      <td>Alternative Health</td>\n",
       "    </tr>\n",
       "    <tr>\n",
       "      <td>114</td>\n",
       "      <td>The Wolf's Den</td>\n",
       "      <td>Business</td>\n",
       "    </tr>\n",
       "    <tr>\n",
       "      <td>106</td>\n",
       "      <td>Selected Shorts: Too Hot For Radio</td>\n",
       "      <td>Performing Arts</td>\n",
       "    </tr>\n",
       "    <tr>\n",
       "      <td>89</td>\n",
       "      <td>رادیو داستان | Radio Daastaan</td>\n",
       "      <td>Books</td>\n",
       "    </tr>\n",
       "    <tr>\n",
       "      <td>64</td>\n",
       "      <td>The SavingsAngel Show</td>\n",
       "      <td>How to</td>\n",
       "    </tr>\n",
       "    <tr>\n",
       "      <td>87</td>\n",
       "      <td>The ALLiN³ Podcast</td>\n",
       "      <td>Fitness</td>\n",
       "    </tr>\n",
       "  </tbody>\n",
       "</table>\n",
       "</div>"
      ],
      "text/plain": [
       "                                    title            cat_list\n",
       "68                 Encyclopedia Womannica             History\n",
       "44                      Rose Chat Podcast       Home & Garden\n",
       "126  That's So Maven by The Healthy Maven  Alternative Health\n",
       "114                        The Wolf's Den            Business\n",
       "106    Selected Shorts: Too Hot For Radio     Performing Arts\n",
       "89          رادیو داستان | Radio Daastaan               Books\n",
       "64                  The SavingsAngel Show              How to\n",
       "87                     The ALLiN³ Podcast             Fitness"
      ]
     },
     "execution_count": 88,
     "metadata": {},
     "output_type": "execute_result"
    }
   ],
   "source": [
    "df.sample(8)[['title','cat_list']]"
   ]
  },
  {
   "cell_type": "markdown",
   "metadata": {},
   "source": [
    "### One-Hot Encoding"
   ]
  },
  {
   "cell_type": "code",
   "execution_count": 89,
   "metadata": {
    "ExecuteTime": {
     "end_time": "2019-10-10T21:02:18.883200Z",
     "start_time": "2019-10-10T21:02:18.877699Z"
    },
    "scrolled": true
   },
   "outputs": [
    {
     "data": {
      "text/plain": [
       "125      Alternative Health\n",
       "118         Science Fiction\n",
       "2                 Sexuality\n",
       "164    Arts|Performing Arts\n",
       "27          News Commentary\n",
       "Name: cat_list, dtype: object"
      ]
     },
     "execution_count": 89,
     "metadata": {},
     "output_type": "execute_result"
    }
   ],
   "source": [
    "df.cat_list.sample(5)"
   ]
  },
  {
   "cell_type": "code",
   "execution_count": 90,
   "metadata": {
    "ExecuteTime": {
     "end_time": "2019-10-10T21:02:20.392432Z",
     "start_time": "2019-10-10T21:02:19.943597Z"
    }
   },
   "outputs": [],
   "source": [
    "# Build dummy categories from full category list\n",
    "dummies = df.cat_list.str.get_dummies()"
   ]
  },
  {
   "cell_type": "code",
   "execution_count": 91,
   "metadata": {
    "ExecuteTime": {
     "end_time": "2019-10-10T21:02:21.464893Z",
     "start_time": "2019-10-10T21:02:21.448616Z"
    },
    "scrolled": true
   },
   "outputs": [
    {
     "data": {
      "text/html": [
       "<div>\n",
       "<style scoped>\n",
       "    .dataframe tbody tr th:only-of-type {\n",
       "        vertical-align: middle;\n",
       "    }\n",
       "\n",
       "    .dataframe tbody tr th {\n",
       "        vertical-align: top;\n",
       "    }\n",
       "\n",
       "    .dataframe thead th {\n",
       "        text-align: right;\n",
       "    }\n",
       "</style>\n",
       "<table border=\"1\" class=\"dataframe\">\n",
       "  <thead>\n",
       "    <tr style=\"text-align: right;\">\n",
       "      <th></th>\n",
       "      <th>After Shows</th>\n",
       "      <th>Alternative Health</th>\n",
       "      <th>Animation &amp; Manga</th>\n",
       "      <th>Arts</th>\n",
       "      <th>Automotive</th>\n",
       "      <th>Aviation</th>\n",
       "      <th>Books</th>\n",
       "      <th>Buddhism</th>\n",
       "      <th>Business</th>\n",
       "      <th>Business News</th>\n",
       "      <th>...</th>\n",
       "      <th>Sports News</th>\n",
       "      <th>Standup</th>\n",
       "      <th>Stories for Kids</th>\n",
       "      <th>TV &amp; Film</th>\n",
       "      <th>TV Reviews</th>\n",
       "      <th>Tech News</th>\n",
       "      <th>Technology</th>\n",
       "      <th>True Crime</th>\n",
       "      <th>Video Games</th>\n",
       "      <th>Visual Arts</th>\n",
       "    </tr>\n",
       "  </thead>\n",
       "  <tbody>\n",
       "    <tr>\n",
       "      <td>173</td>\n",
       "      <td>0</td>\n",
       "      <td>0</td>\n",
       "      <td>0</td>\n",
       "      <td>1</td>\n",
       "      <td>0</td>\n",
       "      <td>0</td>\n",
       "      <td>0</td>\n",
       "      <td>0</td>\n",
       "      <td>0</td>\n",
       "      <td>0</td>\n",
       "      <td>...</td>\n",
       "      <td>0</td>\n",
       "      <td>0</td>\n",
       "      <td>0</td>\n",
       "      <td>0</td>\n",
       "      <td>0</td>\n",
       "      <td>0</td>\n",
       "      <td>0</td>\n",
       "      <td>0</td>\n",
       "      <td>0</td>\n",
       "      <td>0</td>\n",
       "    </tr>\n",
       "    <tr>\n",
       "      <td>137</td>\n",
       "      <td>0</td>\n",
       "      <td>0</td>\n",
       "      <td>0</td>\n",
       "      <td>0</td>\n",
       "      <td>0</td>\n",
       "      <td>0</td>\n",
       "      <td>0</td>\n",
       "      <td>0</td>\n",
       "      <td>0</td>\n",
       "      <td>0</td>\n",
       "      <td>...</td>\n",
       "      <td>0</td>\n",
       "      <td>0</td>\n",
       "      <td>0</td>\n",
       "      <td>0</td>\n",
       "      <td>0</td>\n",
       "      <td>0</td>\n",
       "      <td>0</td>\n",
       "      <td>0</td>\n",
       "      <td>0</td>\n",
       "      <td>0</td>\n",
       "    </tr>\n",
       "    <tr>\n",
       "      <td>124</td>\n",
       "      <td>0</td>\n",
       "      <td>0</td>\n",
       "      <td>0</td>\n",
       "      <td>0</td>\n",
       "      <td>0</td>\n",
       "      <td>0</td>\n",
       "      <td>0</td>\n",
       "      <td>0</td>\n",
       "      <td>0</td>\n",
       "      <td>0</td>\n",
       "      <td>...</td>\n",
       "      <td>0</td>\n",
       "      <td>0</td>\n",
       "      <td>0</td>\n",
       "      <td>0</td>\n",
       "      <td>0</td>\n",
       "      <td>0</td>\n",
       "      <td>0</td>\n",
       "      <td>0</td>\n",
       "      <td>0</td>\n",
       "      <td>0</td>\n",
       "    </tr>\n",
       "    <tr>\n",
       "      <td>7</td>\n",
       "      <td>0</td>\n",
       "      <td>0</td>\n",
       "      <td>0</td>\n",
       "      <td>0</td>\n",
       "      <td>0</td>\n",
       "      <td>0</td>\n",
       "      <td>0</td>\n",
       "      <td>0</td>\n",
       "      <td>0</td>\n",
       "      <td>0</td>\n",
       "      <td>...</td>\n",
       "      <td>0</td>\n",
       "      <td>0</td>\n",
       "      <td>0</td>\n",
       "      <td>0</td>\n",
       "      <td>0</td>\n",
       "      <td>0</td>\n",
       "      <td>0</td>\n",
       "      <td>0</td>\n",
       "      <td>0</td>\n",
       "      <td>0</td>\n",
       "    </tr>\n",
       "    <tr>\n",
       "      <td>167</td>\n",
       "      <td>0</td>\n",
       "      <td>0</td>\n",
       "      <td>0</td>\n",
       "      <td>0</td>\n",
       "      <td>0</td>\n",
       "      <td>0</td>\n",
       "      <td>0</td>\n",
       "      <td>0</td>\n",
       "      <td>0</td>\n",
       "      <td>0</td>\n",
       "      <td>...</td>\n",
       "      <td>0</td>\n",
       "      <td>0</td>\n",
       "      <td>0</td>\n",
       "      <td>0</td>\n",
       "      <td>0</td>\n",
       "      <td>0</td>\n",
       "      <td>0</td>\n",
       "      <td>0</td>\n",
       "      <td>0</td>\n",
       "      <td>0</td>\n",
       "    </tr>\n",
       "  </tbody>\n",
       "</table>\n",
       "<p>5 rows × 87 columns</p>\n",
       "</div>"
      ],
      "text/plain": [
       "     After Shows  Alternative Health  Animation & Manga  Arts  Automotive  \\\n",
       "173            0                   0                  0     1           0   \n",
       "137            0                   0                  0     0           0   \n",
       "124            0                   0                  0     0           0   \n",
       "7              0                   0                  0     0           0   \n",
       "167            0                   0                  0     0           0   \n",
       "\n",
       "     Aviation  Books  Buddhism  Business  Business News  ...  Sports News  \\\n",
       "173         0      0         0         0              0  ...            0   \n",
       "137         0      0         0         0              0  ...            0   \n",
       "124         0      0         0         0              0  ...            0   \n",
       "7           0      0         0         0              0  ...            0   \n",
       "167         0      0         0         0              0  ...            0   \n",
       "\n",
       "     Standup  Stories for Kids  TV & Film  TV Reviews  Tech News  Technology  \\\n",
       "173        0                 0          0           0          0           0   \n",
       "137        0                 0          0           0          0           0   \n",
       "124        0                 0          0           0          0           0   \n",
       "7          0                 0          0           0          0           0   \n",
       "167        0                 0          0           0          0           0   \n",
       "\n",
       "     True Crime  Video Games  Visual Arts  \n",
       "173           0            0            0  \n",
       "137           0            0            0  \n",
       "124           0            0            0  \n",
       "7             0            0            0  \n",
       "167           0            0            0  \n",
       "\n",
       "[5 rows x 87 columns]"
      ]
     },
     "execution_count": 91,
     "metadata": {},
     "output_type": "execute_result"
    }
   ],
   "source": [
    "# its a sparse matrix\n",
    "dummies.sample(5)"
   ]
  },
  {
   "cell_type": "code",
   "execution_count": 92,
   "metadata": {
    "ExecuteTime": {
     "end_time": "2019-10-10T21:02:22.556478Z",
     "start_time": "2019-10-10T21:02:22.540431Z"
    }
   },
   "outputs": [],
   "source": [
    "# replace non-alpha in category name:\n",
    "\n",
    "# Append to original dataframe\n",
    "for col in dummies.columns:\n",
    "    pattern = re.compile('[\\W_]+')\n",
    "    cat_name = re.sub(r'\\W+', '_', col)\n",
    "    cat_name = 'd_' + cat_name\n",
    "    df[cat_name] = dummies[col]"
   ]
  },
  {
   "cell_type": "code",
   "execution_count": 93,
   "metadata": {
    "ExecuteTime": {
     "end_time": "2019-10-10T21:02:23.669963Z",
     "start_time": "2019-10-10T21:02:23.646379Z"
    },
    "scrolled": true
   },
   "outputs": [
    {
     "data": {
      "text/html": [
       "<div>\n",
       "<style scoped>\n",
       "    .dataframe tbody tr th:only-of-type {\n",
       "        vertical-align: middle;\n",
       "    }\n",
       "\n",
       "    .dataframe tbody tr th {\n",
       "        vertical-align: top;\n",
       "    }\n",
       "\n",
       "    .dataframe thead th {\n",
       "        text-align: right;\n",
       "    }\n",
       "</style>\n",
       "<table border=\"1\" class=\"dataframe\">\n",
       "  <thead>\n",
       "    <tr style=\"text-align: right;\">\n",
       "      <th></th>\n",
       "      <th>title</th>\n",
       "      <th>chan_url</th>\n",
       "      <th>num_comments</th>\n",
       "      <th>author</th>\n",
       "      <th>isExplicit</th>\n",
       "      <th>sub_count</th>\n",
       "      <th>play_count</th>\n",
       "      <th>ch_feed_socials</th>\n",
       "      <th>ep_total</th>\n",
       "      <th>recent_eps</th>\n",
       "      <th>...</th>\n",
       "      <th>domain</th>\n",
       "      <th>twitter_log</th>\n",
       "      <th>page_rank_dec</th>\n",
       "      <th>rank</th>\n",
       "      <th>recent_ep_spacing</th>\n",
       "      <th>lifetime_ep_freq</th>\n",
       "      <th>avg_ep_len</th>\n",
       "      <th>chan_age</th>\n",
       "      <th>avg_ep_desc_len</th>\n",
       "      <th>chan_desc_len</th>\n",
       "    </tr>\n",
       "  </thead>\n",
       "  <tbody>\n",
       "    <tr>\n",
       "      <td>73</td>\n",
       "      <td>The Jeselnik &amp; Rosenthal Vanity Project</td>\n",
       "      <td>https://castbox.fm/channel/The-Jeselnik-%26-Rosenthal-Vanity-Project-id1407821</td>\n",
       "      <td>21</td>\n",
       "      <td>Comedy Central &amp; Anthony Jeselnik Gregg Rosenthal</td>\n",
       "      <td>1</td>\n",
       "      <td>3999</td>\n",
       "      <td>129214</td>\n",
       "      <td>[https://art19.com/shows/the-jeselnik-rosenthal-vanity-project]</td>\n",
       "      <td>49</td>\n",
       "      <td>[[2019-10-04, 00:21:15, 0], [2019-10-02, 00:41:20, 2], [2019-09-27, 00:21:10, 2], [2019-09-25, 0...</td>\n",
       "      <td>...</td>\n",
       "      <td>art19.com</td>\n",
       "      <td>-inf</td>\n",
       "      <td>5.2</td>\n",
       "      <td>182311</td>\n",
       "      <td>10.4</td>\n",
       "      <td>0.1</td>\n",
       "      <td>217.2</td>\n",
       "      <td>387.0</td>\n",
       "      <td>216.6</td>\n",
       "      <td>244</td>\n",
       "    </tr>\n",
       "  </tbody>\n",
       "</table>\n",
       "<p>1 rows × 121 columns</p>\n",
       "</div>"
      ],
      "text/plain": [
       "                                      title  \\\n",
       "73  The Jeselnik & Rosenthal Vanity Project   \n",
       "\n",
       "                                                                          chan_url  \\\n",
       "73  https://castbox.fm/channel/The-Jeselnik-%26-Rosenthal-Vanity-Project-id1407821   \n",
       "\n",
       "    num_comments                                             author  \\\n",
       "73            21  Comedy Central & Anthony Jeselnik Gregg Rosenthal   \n",
       "\n",
       "    isExplicit  sub_count  play_count  \\\n",
       "73           1       3999      129214   \n",
       "\n",
       "                                                    ch_feed_socials  ep_total  \\\n",
       "73  [https://art19.com/shows/the-jeselnik-rosenthal-vanity-project]        49   \n",
       "\n",
       "                                                                                             recent_eps  \\\n",
       "73  [[2019-10-04, 00:21:15, 0], [2019-10-02, 00:41:20, 2], [2019-09-27, 00:21:10, 2], [2019-09-25, 0...   \n",
       "\n",
       "    ...     domain twitter_log page_rank_dec    rank recent_ep_spacing  \\\n",
       "73  ...  art19.com        -inf           5.2  182311              10.4   \n",
       "\n",
       "   lifetime_ep_freq  avg_ep_len  chan_age  avg_ep_desc_len  chan_desc_len  \n",
       "73              0.1       217.2     387.0            216.6            244  \n",
       "\n",
       "[1 rows x 121 columns]"
      ]
     },
     "execution_count": 93,
     "metadata": {},
     "output_type": "execute_result"
    }
   ],
   "source": [
    "df.sample()"
   ]
  },
  {
   "cell_type": "markdown",
   "metadata": {},
   "source": [
    "## Social Channels\n",
    "\n",
    "Podcasts have the option of listing their social channels. Let's create categoricals for those variables if they exist."
   ]
  },
  {
   "cell_type": "markdown",
   "metadata": {},
   "source": [
    "### Create Categorical Columns Representing Social Site Presence"
   ]
  },
  {
   "cell_type": "code",
   "execution_count": 94,
   "metadata": {
    "ExecuteTime": {
     "end_time": "2019-10-10T21:02:24.737504Z",
     "start_time": "2019-10-10T21:02:24.734112Z"
    }
   },
   "outputs": [],
   "source": [
    "# function to check for existence of a specific domain\n",
    "\n",
    "def has_domain(row, social_domain):\n",
    "#     print(row)\n",
    "    ch_feed_socials = row\n",
    "    for link in ch_feed_socials:\n",
    "        pattern = '.*' + social_domain + '.*'\n",
    "#         print(pattern, link)\n",
    "#         print(re.match(pattern, link))\n",
    "        if re.match(pattern, link):\n",
    "            return 1\n",
    "    return 0"
   ]
  },
  {
   "cell_type": "code",
   "execution_count": 95,
   "metadata": {
    "ExecuteTime": {
     "end_time": "2019-10-10T21:02:25.954813Z",
     "start_time": "2019-10-10T21:02:25.857419Z"
    }
   },
   "outputs": [],
   "source": [
    "social_domains = ['twitter', 'facebook', 'youtube', 'instagram']\n",
    "\n",
    "for domain in social_domains:\n",
    "    df[domain] = df['ch_feed_socials'].apply(has_domain,social_domain=domain)"
   ]
  },
  {
   "cell_type": "code",
   "execution_count": 96,
   "metadata": {
    "ExecuteTime": {
     "end_time": "2019-10-10T21:02:27.104687Z",
     "start_time": "2019-10-10T21:02:27.096471Z"
    },
    "scrolled": true
   },
   "outputs": [
    {
     "data": {
      "text/html": [
       "<div>\n",
       "<style scoped>\n",
       "    .dataframe tbody tr th:only-of-type {\n",
       "        vertical-align: middle;\n",
       "    }\n",
       "\n",
       "    .dataframe tbody tr th {\n",
       "        vertical-align: top;\n",
       "    }\n",
       "\n",
       "    .dataframe thead th {\n",
       "        text-align: right;\n",
       "    }\n",
       "</style>\n",
       "<table border=\"1\" class=\"dataframe\">\n",
       "  <thead>\n",
       "    <tr style=\"text-align: right;\">\n",
       "      <th></th>\n",
       "      <th>twitter</th>\n",
       "      <th>facebook</th>\n",
       "      <th>youtube</th>\n",
       "      <th>instagram</th>\n",
       "    </tr>\n",
       "  </thead>\n",
       "  <tbody>\n",
       "    <tr>\n",
       "      <td>27</td>\n",
       "      <td>1</td>\n",
       "      <td>0</td>\n",
       "      <td>0</td>\n",
       "      <td>0</td>\n",
       "    </tr>\n",
       "    <tr>\n",
       "      <td>52</td>\n",
       "      <td>0</td>\n",
       "      <td>0</td>\n",
       "      <td>0</td>\n",
       "      <td>0</td>\n",
       "    </tr>\n",
       "    <tr>\n",
       "      <td>166</td>\n",
       "      <td>0</td>\n",
       "      <td>0</td>\n",
       "      <td>0</td>\n",
       "      <td>0</td>\n",
       "    </tr>\n",
       "    <tr>\n",
       "      <td>137</td>\n",
       "      <td>0</td>\n",
       "      <td>0</td>\n",
       "      <td>0</td>\n",
       "      <td>0</td>\n",
       "    </tr>\n",
       "    <tr>\n",
       "      <td>23</td>\n",
       "      <td>0</td>\n",
       "      <td>0</td>\n",
       "      <td>0</td>\n",
       "      <td>0</td>\n",
       "    </tr>\n",
       "  </tbody>\n",
       "</table>\n",
       "</div>"
      ],
      "text/plain": [
       "     twitter  facebook  youtube  instagram\n",
       "27         1         0        0          0\n",
       "52         0         0        0          0\n",
       "166        0         0        0          0\n",
       "137        0         0        0          0\n",
       "23         0         0        0          0"
      ]
     },
     "execution_count": 96,
     "metadata": {},
     "output_type": "execute_result"
    }
   ],
   "source": [
    "df.sample(5)[social_domains]"
   ]
  },
  {
   "cell_type": "markdown",
   "metadata": {},
   "source": [
    "### Pull in Twitter Follower Counts\n",
    "\n",
    "(for ones that have it)"
   ]
  },
  {
   "cell_type": "code",
   "execution_count": 97,
   "metadata": {
    "ExecuteTime": {
     "end_time": "2019-10-10T21:02:28.222958Z",
     "start_time": "2019-10-10T21:02:28.214430Z"
    }
   },
   "outputs": [
    {
     "data": {
      "text/plain": [
       "[{'title': 'Ask The Tech Guy (Video HD)',\n",
       "  'chan_url': 'https://castbox.fm/channel/Ask-The-Tech-Guy-(Video-HD)-id2237855',\n",
       "  'ch_feed-socials': ['https://twitter.com/TWiT',\n",
       "   'https://www.facebook.com/TWiTNetwork',\n",
       "   'https://www.instagram.com/twit.tv',\n",
       "   'https://www.youtube.com/channel/UCCdBun8mTfRzbZYAE9nXLDQ',\n",
       "   'https://twit.tv/shows/ask-the-tech-guy'],\n",
       "  'screen_name': 'TWiT',\n",
       "  'follower_count': 83273},\n",
       " {'title': 'WRITERS IN TECH',\n",
       "  'chan_url': 'https://castbox.fm/channel/WRITERS-IN-TECH-id2154199',\n",
       "  'ch_feed-socials': ['https://twitter.com/KeshYuval',\n",
       "   'https://www.facebook.com/writingux',\n",
       "   'https://www.instagram.com/uxwritinghub',\n",
       "   'http://uxwritinghub.com/'],\n",
       "  'screen_name': 'KeshYuval',\n",
       "  'follower_count': 577},\n",
       " {'title': 'Ask The Tech Guy (MP3)',\n",
       "  'chan_url': 'https://castbox.fm/channel/Ask-The-Tech-Guy-(MP3)-id2237730',\n",
       "  'ch_feed-socials': ['https://twitter.com/TWiT',\n",
       "   'https://www.facebook.com/TWiTNetwork',\n",
       "   'https://www.instagram.com/twit.tv',\n",
       "   'https://www.youtube.com/channel/UCCdBun8mTfRzbZYAE9nXLDQ',\n",
       "   'https://twit.tv/shows/ask-the-tech-guy'],\n",
       "  'screen_name': 'TWiT',\n",
       "  'follower_count': 83273}]"
      ]
     },
     "execution_count": 97,
     "metadata": {},
     "output_type": "execute_result"
    }
   ],
   "source": [
    "# Get Twitter follower-count dictionary\n",
    "with open('../social_metrics/twitter/channel_stats_by_name_oct7_9p.pickle', 'rb') as file:\n",
    "    twitter_dict = pickle.load(file)\n",
    "    \n",
    "[twitter_dict[key] for key in list(twitter_dict.keys())[-3:]]"
   ]
  },
  {
   "cell_type": "code",
   "execution_count": 98,
   "metadata": {
    "ExecuteTime": {
     "end_time": "2019-10-10T21:02:29.485584Z",
     "start_time": "2019-10-10T21:02:29.482029Z"
    }
   },
   "outputs": [],
   "source": [
    "def pull_twitter_followers(row):\n",
    "    title = row.title\n",
    "    try:\n",
    "        return twitter_dict[title]['follower_count']\n",
    "    except:\n",
    "        return 0"
   ]
  },
  {
   "cell_type": "code",
   "execution_count": 99,
   "metadata": {
    "ExecuteTime": {
     "end_time": "2019-10-10T21:02:30.747882Z",
     "start_time": "2019-10-10T21:02:30.533719Z"
    }
   },
   "outputs": [],
   "source": [
    "df['twitter_followers'] = df.apply(lambda row: pull_twitter_followers(row), axis=1)"
   ]
  },
  {
   "cell_type": "code",
   "execution_count": 100,
   "metadata": {
    "ExecuteTime": {
     "end_time": "2019-10-10T21:02:31.877349Z",
     "start_time": "2019-10-10T21:02:31.864675Z"
    },
    "scrolled": true
   },
   "outputs": [
    {
     "name": "stdout",
     "output_type": "stream",
     "text": [
      "count       7543.0\n",
      "mean       65359.5\n",
      "std      1121478.3\n",
      "min            0.0\n",
      "25%            0.0\n",
      "50%            0.0\n",
      "75%            0.0\n",
      "max     78705541.0\n",
      "Name: twitter_followers, dtype: float64\n",
      "                   twitter_followers  play_count\n",
      "twitter_followers                1.0         0.1\n",
      "play_count                       0.1         1.0\n"
     ]
    }
   ],
   "source": [
    "# Quick look into twitter_followers vs. play_count\n",
    "print(df.twitter_followers.describe())\n",
    "print(df[['twitter_followers', 'play_count']].corr())"
   ]
  },
  {
   "cell_type": "code",
   "execution_count": 101,
   "metadata": {
    "ExecuteTime": {
     "end_time": "2019-10-10T21:02:33.382870Z",
     "start_time": "2019-10-10T21:02:32.940413Z"
    },
    "scrolled": true
   },
   "outputs": [
    {
     "data": {
      "text/plain": [
       "<matplotlib.axes._subplots.AxesSubplot at 0x1a2a434d10>"
      ]
     },
     "execution_count": 101,
     "metadata": {},
     "output_type": "execute_result"
    },
    {
     "data": {
      "image/png": "[encoded data removed]",
      "text/plain": [
       "<Figure size 432x288 with 1 Axes>"
      ]
     },
     "metadata": {
      "needs_background": "light"
     },
     "output_type": "display_data"
    }
   ],
   "source": [
    "sns.scatterplot(x='twitter_followers',y='play_count', data=df)"
   ]
  },
  {
   "cell_type": "code",
   "execution_count": 102,
   "metadata": {
    "ExecuteTime": {
     "end_time": "2019-10-10T21:02:34.460046Z",
     "start_time": "2019-10-10T21:02:34.456541Z"
    }
   },
   "outputs": [],
   "source": [
    "df['twitter_sqrt'] = np.sqrt(df.twitter_followers)"
   ]
  },
  {
   "cell_type": "code",
   "execution_count": 103,
   "metadata": {
    "ExecuteTime": {
     "end_time": "2019-10-10T21:02:36.012113Z",
     "start_time": "2019-10-10T21:02:35.611616Z"
    }
   },
   "outputs": [
    {
     "data": {
      "text/plain": [
       "<matplotlib.axes._subplots.AxesSubplot at 0x1a2c4f5210>"
      ]
     },
     "execution_count": 103,
     "metadata": {},
     "output_type": "execute_result"
    },
    {
     "data": {
      "image/png": "[encoded data removed]",
      "text/plain": [
       "<Figure size 432x288 with 1 Axes>"
      ]
     },
     "metadata": {
      "needs_background": "light"
     },
     "output_type": "display_data"
    }
   ],
   "source": [
    "sns.scatterplot(x='twitter_sqrt',y='play_count', data=df)"
   ]
  },
  {
   "cell_type": "markdown",
   "metadata": {},
   "source": [
    "## External Site Domain Rank\n",
    "\n",
    "Do they have their own channel site or do they use a podcast syndication platform?\n",
    "\n",
    "Some podcast have their own site. Some podcasts are listed on LibSyn, Anchor.fm, or another podcast hosting platform. I've extracted those sites.\n",
    "\n",
    "*FUTURE DEV: At the moment, I'm not differentiating / identifying common podcast hosting platforms. I'm treating all \"non-social\" sites as the same. In the future the model should treat records with libsyn listings as their own categorical.*\n",
    "\n",
    "### Identify Non-Social External Site, and Return/Append Domain Rank Information"
   ]
  },
  {
   "cell_type": "code",
   "execution_count": 112,
   "metadata": {
    "ExecuteTime": {
     "end_time": "2019-10-10T21:03:24.846642Z",
     "start_time": "2019-10-10T21:03:24.663055Z"
    }
   },
   "outputs": [],
   "source": [
    "df['external_site'] = df['ch_feed_socials'].apply(features.return_external_site_domain)\n",
    "df['domain'] = df.external_site.apply(features.extract_domain)"
   ]
  },
  {
   "cell_type": "code",
   "execution_count": 113,
   "metadata": {
    "ExecuteTime": {
     "end_time": "2019-10-10T21:03:25.904773Z",
     "start_time": "2019-10-10T21:03:25.892359Z"
    }
   },
   "outputs": [
    {
     "data": {
      "text/html": [
       "<div>\n",
       "<style scoped>\n",
       "    .dataframe tbody tr th:only-of-type {\n",
       "        vertical-align: middle;\n",
       "    }\n",
       "\n",
       "    .dataframe tbody tr th {\n",
       "        vertical-align: top;\n",
       "    }\n",
       "\n",
       "    .dataframe thead th {\n",
       "        text-align: right;\n",
       "    }\n",
       "</style>\n",
       "<table border=\"1\" class=\"dataframe\">\n",
       "  <thead>\n",
       "    <tr style=\"text-align: right;\">\n",
       "      <th></th>\n",
       "      <th>ch_feed_socials</th>\n",
       "      <th>external_site</th>\n",
       "      <th>domain</th>\n",
       "    </tr>\n",
       "  </thead>\n",
       "  <tbody>\n",
       "    <tr>\n",
       "      <td>45</td>\n",
       "      <td>[https://twitter.com/heavyweight, https://www.facebook.com/heavyweightpodcast, https://gimletmed...</td>\n",
       "      <td>https://gimletmedia.com/show/heavyweight/</td>\n",
       "      <td>gimletmedia.com</td>\n",
       "    </tr>\n",
       "    <tr>\n",
       "      <td>157</td>\n",
       "      <td>[https://www.nielsenconsults.com]</td>\n",
       "      <td>https://www.nielsenconsults.com</td>\n",
       "      <td>nielsenconsults.com</td>\n",
       "    </tr>\n",
       "    <tr>\n",
       "      <td>27</td>\n",
       "      <td>[https://www.emergencymedicalminute.com]</td>\n",
       "      <td>https://www.emergencymedicalminute.com</td>\n",
       "      <td>emergencymedicalminute.com</td>\n",
       "    </tr>\n",
       "    <tr>\n",
       "      <td>8</td>\n",
       "      <td>[https://twitter.com/stevegibson2000, https://twit.tv/shows/security-now]</td>\n",
       "      <td>https://twit.tv/shows/security-now</td>\n",
       "      <td>twit.tv</td>\n",
       "    </tr>\n",
       "    <tr>\n",
       "      <td>48</td>\n",
       "      <td>[https://www.fictionforadults.com/paladincyclepodcast]</td>\n",
       "      <td>https://www.fictionforadults.com/paladincyclepodcast</td>\n",
       "      <td>fictionforadults.com</td>\n",
       "    </tr>\n",
       "  </tbody>\n",
       "</table>\n",
       "</div>"
      ],
      "text/plain": [
       "                                                                                         ch_feed_socials  \\\n",
       "45   [https://twitter.com/heavyweight, https://www.facebook.com/heavyweightpodcast, https://gimletmed...   \n",
       "157                                                                    [https://www.nielsenconsults.com]   \n",
       "27                                                              [https://www.emergencymedicalminute.com]   \n",
       "8                              [https://twitter.com/stevegibson2000, https://twit.tv/shows/security-now]   \n",
       "48                                                [https://www.fictionforadults.com/paladincyclepodcast]   \n",
       "\n",
       "                                            external_site  \\\n",
       "45              https://gimletmedia.com/show/heavyweight/   \n",
       "157                       https://www.nielsenconsults.com   \n",
       "27                 https://www.emergencymedicalminute.com   \n",
       "8                      https://twit.tv/shows/security-now   \n",
       "48   https://www.fictionforadults.com/paladincyclepodcast   \n",
       "\n",
       "                         domain  \n",
       "45              gimletmedia.com  \n",
       "157         nielsenconsults.com  \n",
       "27   emergencymedicalminute.com  \n",
       "8                       twit.tv  \n",
       "48         fictionforadults.com  "
      ]
     },
     "execution_count": 113,
     "metadata": {},
     "output_type": "execute_result"
    }
   ],
   "source": [
    "df.sample(5)[['ch_feed_socials','external_site','domain']]"
   ]
  },
  {
   "cell_type": "code",
   "execution_count": 114,
   "metadata": {
    "ExecuteTime": {
     "end_time": "2019-10-10T21:03:26.932577Z",
     "start_time": "2019-10-10T21:03:26.925088Z"
    }
   },
   "outputs": [],
   "source": [
    "with open('../social_metrics/external_domains/external_domain_dicts.pickle','rb') as file:\n",
    "    domain_dict = pickle.load(file)"
   ]
  },
  {
   "cell_type": "code",
   "execution_count": 115,
   "metadata": {
    "ExecuteTime": {
     "end_time": "2019-10-10T21:03:27.996057Z",
     "start_time": "2019-10-10T21:03:27.991111Z"
    },
    "scrolled": true
   },
   "outputs": [
    {
     "name": "stdout",
     "output_type": "stream",
     "text": [
      "tablegroup.com {'page_rank_dict': 4.74, 'rank': '253465'}\n",
      "learningleadershow.com {'page_rank_dict': 3.31, 'rank': '6895641'}\n",
      "johnmaxwellteam.com {'page_rank_dict': 4.23, 'rank': '1566549'}\n",
      "spreaker.com {'page_rank_dict': 6.76, 'rank': '1360'}\n",
      "rework.fm {'page_rank_dict': 4.3, 'rank': '1458460'}\n"
     ]
    }
   ],
   "source": [
    "sample_domains = [k for k in domain_dict.keys()][:5]\n",
    "for s in sample_domains:\n",
    "    print(s,domain_dict[s])"
   ]
  },
  {
   "cell_type": "code",
   "execution_count": 116,
   "metadata": {
    "ExecuteTime": {
     "end_time": "2019-10-10T21:03:29.033338Z",
     "start_time": "2019-10-10T21:03:29.028824Z"
    }
   },
   "outputs": [],
   "source": [
    "def get_dec_rank(domain):\n",
    "    '''\n",
    "    \n",
    "    Page rank. Out of 10, 10 is best.\n",
    "    \n",
    "    '''\n",
    "    \n",
    "    \n",
    "    domain = domain.lower()\n",
    "    try:\n",
    "        return float(domain_dict[domain]['page_rank_dict'])\n",
    "    except:\n",
    "        return 0.0 # lowest decimal page rank\n",
    "        \n",
    "def get_rank(domain):\n",
    "    '''\n",
    "    for this metric lower means better\n",
    "    \n",
    "    '''\n",
    "    \n",
    "    domain = domain.lower()\n",
    "    try:\n",
    "        return int(domain_dict[domain]['rank'])\n",
    "    except:\n",
    "        return 153096046 # the page rank for my (unlaunched) personal site. Bad"
   ]
  },
  {
   "cell_type": "code",
   "execution_count": 117,
   "metadata": {
    "ExecuteTime": {
     "end_time": "2019-10-10T21:03:30.125203Z",
     "start_time": "2019-10-10T21:03:30.106212Z"
    }
   },
   "outputs": [],
   "source": [
    "df['page_rank_dec'] = df.domain.apply(get_dec_rank)\n",
    "df['rank'] = df.domain.apply(get_rank)"
   ]
  },
  {
   "cell_type": "code",
   "execution_count": 118,
   "metadata": {
    "ExecuteTime": {
     "end_time": "2019-10-10T21:03:31.358954Z",
     "start_time": "2019-10-10T21:03:31.329463Z"
    }
   },
   "outputs": [
    {
     "name": "stdout",
     "output_type": "stream",
     "text": [
      "object ---- title\n",
      "object ---- chan_url\n",
      "int64 ---- num_comments\n",
      "object ---- author\n",
      "int64 ---- isExplicit\n",
      "int64 ---- sub_count\n",
      "int64 ---- play_count\n",
      "object ---- ch_feed_socials\n",
      "int64 ---- ep_total\n",
      "object ---- recent_eps\n",
      "object ---- hover_text_concat\n",
      "object ---- chan_desc\n",
      "object ---- cover_img_url\n",
      "object ---- first_release\n",
      "object ---- scraped_category\n",
      "object ---- cat_list\n",
      "int64 ---- cat_count\n",
      "int64 ---- d_After_Shows\n",
      "int64 ---- d_Alternative_Health\n",
      "int64 ---- d_Animation_Manga\n",
      "int64 ---- d_Arts\n",
      "int64 ---- d_Automotive\n",
      "int64 ---- d_Aviation\n",
      "int64 ---- d_Books\n",
      "int64 ---- d_Buddhism\n",
      "int64 ---- d_Business\n",
      "int64 ---- d_Business_News\n",
      "int64 ---- d_Careers\n",
      "int64 ---- d_Christianity\n",
      "int64 ---- d_Comedy\n",
      "int64 ---- d_Comedy_Fiction\n",
      "int64 ---- d_Comedy_Interviews\n",
      "int64 ---- d_Courses\n",
      "int64 ---- d_Crafts\n",
      "int64 ---- d_Daily_News\n",
      "int64 ---- d_Design\n",
      "int64 ---- d_Documentary\n",
      "int64 ---- d_Drama\n",
      "int64 ---- d_Education\n",
      "int64 ---- d_Education_for_Kids\n",
      "int64 ---- d_Entertainment_News\n",
      "int64 ---- d_Entrepreneurship\n",
      "int64 ---- d_Fantasy_Sports\n",
      "int64 ---- d_Fashion_Beauty\n",
      "int64 ---- d_Fiction\n",
      "int64 ---- d_Film_History\n",
      "int64 ---- d_Film_Reviews\n",
      "int64 ---- d_Fitness\n",
      "int64 ---- d_Food\n",
      "int64 ---- d_Games\n",
      "int64 ---- d_Games_Hobbies\n",
      "int64 ---- d_Government\n",
      "int64 ---- d_Government_Organizations\n",
      "int64 ---- d_Health\n",
      "int64 ---- d_Health_Fitness\n",
      "int64 ---- d_Hinduism\n",
      "int64 ---- d_History\n",
      "int64 ---- d_Hobbies\n",
      "int64 ---- d_Home_Garden\n",
      "int64 ---- d_How_to\n",
      "int64 ---- d_Improv\n",
      "int64 ---- d_Investing\n",
      "int64 ---- d_Kids_Family\n",
      "int64 ---- d_Language_Learning\n",
      "int64 ---- d_Leisure\n",
      "int64 ---- d_Management_\n",
      "int64 ---- d_Marketing\n",
      "int64 ---- d_Medicine\n",
      "int64 ---- d_Mental_Health\n",
      "int64 ---- d_Music\n",
      "int64 ---- d_Music_Commentary\n",
      "int64 ---- d_Music_History\n",
      "int64 ---- d_Music_Interviews\n",
      "int64 ---- d_News\n",
      "int64 ---- d_News_Politics\n",
      "int64 ---- d_News_Commentary\n",
      "int64 ---- d_Non_profit\n",
      "int64 ---- d_Nutrition\n",
      "int64 ---- d_Parenting\n",
      "int64 ---- d_Performing_Arts\n",
      "int64 ---- d_Personal_Journals\n",
      "int64 ---- d_Pets_Animals\n",
      "int64 ---- d_Politics\n",
      "int64 ---- d_Relationships\n",
      "int64 ---- d_Religion_Spirituality\n",
      "int64 ---- d_Science\n",
      "int64 ---- d_Science_Medicine\n",
      "int64 ---- d_Science_Fiction\n",
      "int64 ---- d_Self_Improvement\n",
      "int64 ---- d_Sexuality\n",
      "int64 ---- d_Social_Sciences\n",
      "int64 ---- d_Society_Culture\n",
      "int64 ---- d_Sports\n",
      "int64 ---- d_Sports_Recreation\n",
      "int64 ---- d_Sports_News\n",
      "int64 ---- d_Standup\n",
      "int64 ---- d_Stories_for_Kids\n",
      "int64 ---- d_TV_Film\n",
      "int64 ---- d_TV_Reviews\n",
      "int64 ---- d_Tech_News\n",
      "int64 ---- d_Technology\n",
      "int64 ---- d_True_Crime\n",
      "int64 ---- d_Video_Games\n",
      "int64 ---- d_Visual_Arts\n",
      "int64 ---- twitter\n",
      "int64 ---- facebook\n",
      "int64 ---- youtube\n",
      "int64 ---- instagram\n",
      "int64 ---- twitter_followers\n",
      "float64 ---- twitter_sqrt\n",
      "object ---- external_site\n",
      "object ---- domain\n",
      "float64 ---- twitter_log\n",
      "float64 ---- page_rank_dec\n",
      "int64 ---- rank\n",
      "float64 ---- recent_ep_spacing\n",
      "float64 ---- lifetime_ep_freq\n",
      "float64 ---- avg_ep_len\n",
      "float64 ---- chan_age\n",
      "float64 ---- avg_ep_desc_len\n",
      "int64 ---- chan_desc_len\n"
     ]
    }
   ],
   "source": [
    "\n",
    "for key,val in df.dtypes.items():\n",
    "    print(val,'----',key )"
   ]
  },
  {
   "cell_type": "code",
   "execution_count": 119,
   "metadata": {
    "ExecuteTime": {
     "end_time": "2019-10-10T21:03:32.448095Z",
     "start_time": "2019-10-10T21:03:32.437434Z"
    },
    "scrolled": true
   },
   "outputs": [
    {
     "data": {
      "text/html": [
       "<div>\n",
       "<style scoped>\n",
       "    .dataframe tbody tr th:only-of-type {\n",
       "        vertical-align: middle;\n",
       "    }\n",
       "\n",
       "    .dataframe tbody tr th {\n",
       "        vertical-align: top;\n",
       "    }\n",
       "\n",
       "    .dataframe thead th {\n",
       "        text-align: right;\n",
       "    }\n",
       "</style>\n",
       "<table border=\"1\" class=\"dataframe\">\n",
       "  <thead>\n",
       "    <tr style=\"text-align: right;\">\n",
       "      <th></th>\n",
       "      <th>title</th>\n",
       "      <th>domain</th>\n",
       "      <th>page_rank_dec</th>\n",
       "      <th>rank</th>\n",
       "    </tr>\n",
       "  </thead>\n",
       "  <tbody>\n",
       "    <tr>\n",
       "      <td>55</td>\n",
       "      <td>Fit and Free</td>\n",
       "      <td>katiemillerfitness.com</td>\n",
       "      <td>1.6</td>\n",
       "      <td>53928078</td>\n",
       "    </tr>\n",
       "    <tr>\n",
       "      <td>125</td>\n",
       "      <td>The Fizzle Show</td>\n",
       "      <td>fizzleshow.co</td>\n",
       "      <td>3.1</td>\n",
       "      <td>8203302</td>\n",
       "    </tr>\n",
       "    <tr>\n",
       "      <td>105</td>\n",
       "      <td>New Layer</td>\n",
       "      <td>shape.co</td>\n",
       "      <td>1.9</td>\n",
       "      <td>33002416</td>\n",
       "    </tr>\n",
       "    <tr>\n",
       "      <td>33</td>\n",
       "      <td>GroupChat - A PopCulture.com Reality TV Podcast</td>\n",
       "      <td>popculture.com</td>\n",
       "      <td>5.2</td>\n",
       "      <td>184943</td>\n",
       "    </tr>\n",
       "    <tr>\n",
       "      <td>56</td>\n",
       "      <td>Screw It, We're Just Gonna Talk About Comics</td>\n",
       "      <td>wearecampfire.media</td>\n",
       "      <td>3.7</td>\n",
       "      <td>3925575</td>\n",
       "    </tr>\n",
       "  </tbody>\n",
       "</table>\n",
       "</div>"
      ],
      "text/plain": [
       "                                               title                  domain  \\\n",
       "55                                      Fit and Free  katiemillerfitness.com   \n",
       "125                                  The Fizzle Show           fizzleshow.co   \n",
       "105                                        New Layer                shape.co   \n",
       "33   GroupChat - A PopCulture.com Reality TV Podcast          popculture.com   \n",
       "56      Screw It, We're Just Gonna Talk About Comics     wearecampfire.media   \n",
       "\n",
       "     page_rank_dec      rank  \n",
       "55             1.6  53928078  \n",
       "125            3.1   8203302  \n",
       "105            1.9  33002416  \n",
       "33             5.2    184943  \n",
       "56             3.7   3925575  "
      ]
     },
     "execution_count": 119,
     "metadata": {},
     "output_type": "execute_result"
    }
   ],
   "source": [
    "df[['title','domain','page_rank_dec','rank']].sample(5)"
   ]
  },
  {
   "cell_type": "markdown",
   "metadata": {},
   "source": [
    "## Add Episode Time Series Features"
   ]
  },
  {
   "cell_type": "code",
   "execution_count": 120,
   "metadata": {
    "ExecuteTime": {
     "end_time": "2019-10-10T21:03:33.508602Z",
     "start_time": "2019-10-10T21:03:33.501320Z"
    }
   },
   "outputs": [],
   "source": [
    "df = features.sanitize(df)"
   ]
  },
  {
   "cell_type": "code",
   "execution_count": 121,
   "metadata": {
    "ExecuteTime": {
     "end_time": "2019-10-10T21:03:34.646861Z",
     "start_time": "2019-10-10T21:03:34.638027Z"
    },
    "scrolled": false
   },
   "outputs": [
    {
     "data": {
      "text/plain": [
       "<module 'features' from '/Users/tk/Google Drive (thomaskavanagh.dev@gmail.com)/GitHub/regression-podcast-popularity/notebooks/features.py'>"
      ]
     },
     "execution_count": 121,
     "metadata": {},
     "output_type": "execute_result"
    }
   ],
   "source": [
    "reload(features)"
   ]
  },
  {
   "cell_type": "code",
   "execution_count": 122,
   "metadata": {
    "ExecuteTime": {
     "end_time": "2019-10-10T21:03:35.777684Z",
     "start_time": "2019-10-10T21:03:35.737171Z"
    },
    "scrolled": true
   },
   "outputs": [
    {
     "data": {
      "text/html": [
       "<div>\n",
       "<style scoped>\n",
       "    .dataframe tbody tr th:only-of-type {\n",
       "        vertical-align: middle;\n",
       "    }\n",
       "\n",
       "    .dataframe tbody tr th {\n",
       "        vertical-align: top;\n",
       "    }\n",
       "\n",
       "    .dataframe thead th {\n",
       "        text-align: right;\n",
       "    }\n",
       "</style>\n",
       "<table border=\"1\" class=\"dataframe\">\n",
       "  <thead>\n",
       "    <tr style=\"text-align: right;\">\n",
       "      <th></th>\n",
       "      <th>title</th>\n",
       "      <th>chan_url</th>\n",
       "      <th>num_comments</th>\n",
       "      <th>author</th>\n",
       "      <th>isExplicit</th>\n",
       "      <th>sub_count</th>\n",
       "      <th>play_count</th>\n",
       "      <th>ch_feed_socials</th>\n",
       "      <th>ep_total</th>\n",
       "      <th>recent_eps</th>\n",
       "      <th>...</th>\n",
       "      <th>domain</th>\n",
       "      <th>twitter_log</th>\n",
       "      <th>page_rank_dec</th>\n",
       "      <th>rank</th>\n",
       "      <th>recent_ep_spacing</th>\n",
       "      <th>lifetime_ep_freq</th>\n",
       "      <th>avg_ep_len</th>\n",
       "      <th>chan_age</th>\n",
       "      <th>avg_ep_desc_len</th>\n",
       "      <th>chan_desc_len</th>\n",
       "    </tr>\n",
       "  </thead>\n",
       "  <tbody>\n",
       "    <tr>\n",
       "      <td>0</td>\n",
       "      <td>At The Table with Patrick Lencioni</td>\n",
       "      <td>https://castbox.fm/channel/At-The-Table-with-Patrick-Lencioni-id2219654</td>\n",
       "      <td>0</td>\n",
       "      <td>Patrick Lencioni</td>\n",
       "      <td>0</td>\n",
       "      <td>119</td>\n",
       "      <td>1686</td>\n",
       "      <td>[https://www.tablegroup.com]</td>\n",
       "      <td>13</td>\n",
       "      <td>[[2019-10-02, 00:34:32, 0], [2019-09-25, 00:27:06, 0], [2019-09-23, 00:33:47, 0], [2019-09-16, 0...</td>\n",
       "      <td>...</td>\n",
       "      <td>tablegroup.com</td>\n",
       "      <td>-inf</td>\n",
       "      <td>4.7</td>\n",
       "      <td>253465</td>\n",
       "      <td>6.3</td>\n",
       "      <td>0.2</td>\n",
       "      <td>218.0</td>\n",
       "      <td>83.0</td>\n",
       "      <td>283.2</td>\n",
       "      <td>497</td>\n",
       "    </tr>\n",
       "    <tr>\n",
       "      <td>1</td>\n",
       "      <td>The Learning Leader Show With Ryan Hawk</td>\n",
       "      <td>https://castbox.fm/channel/The-Learning-Leader-Show-With-Ryan-Hawk-id7505</td>\n",
       "      <td>3</td>\n",
       "      <td>Ryan Hawk</td>\n",
       "      <td>1</td>\n",
       "      <td>1283</td>\n",
       "      <td>31249</td>\n",
       "      <td>[http://LearningLeaderShow.com]</td>\n",
       "      <td>331</td>\n",
       "      <td>[[2019-09-29, 01:03:30, 2], [2019-09-25, 01:14:53, 1], [2019-09-22, 00:56:06, 0], [2019-09-15, 0...</td>\n",
       "      <td>...</td>\n",
       "      <td>LearningLeaderShow.com</td>\n",
       "      <td>-inf</td>\n",
       "      <td>3.3</td>\n",
       "      <td>6895641</td>\n",
       "      <td>6.2</td>\n",
       "      <td>0.2</td>\n",
       "      <td>217.3</td>\n",
       "      <td>1634.0</td>\n",
       "      <td>3867.3</td>\n",
       "      <td>269</td>\n",
       "    </tr>\n",
       "    <tr>\n",
       "      <td>2</td>\n",
       "      <td>Transformational Leader Podcast</td>\n",
       "      <td>https://castbox.fm/channel/Transformational-Leader-Podcast-id2045469</td>\n",
       "      <td>2</td>\n",
       "      <td>Paul Martinelli and the John Maxwell Team</td>\n",
       "      <td>0</td>\n",
       "      <td>301</td>\n",
       "      <td>2444</td>\n",
       "      <td>[https://johnmaxwellteam.com/]</td>\n",
       "      <td>32</td>\n",
       "      <td>[[2019-10-02, 00:42:30, 0], [2019-09-25, 00:38:06, 0], [2019-09-18, 00:38:43, 0], [2019-09-11, 0...</td>\n",
       "      <td>...</td>\n",
       "      <td>johnmaxwellteam.com</td>\n",
       "      <td>-inf</td>\n",
       "      <td>4.2</td>\n",
       "      <td>1566549</td>\n",
       "      <td>7.0</td>\n",
       "      <td>0.2</td>\n",
       "      <td>218.7</td>\n",
       "      <td>209.0</td>\n",
       "      <td>2036.6</td>\n",
       "      <td>202</td>\n",
       "    </tr>\n",
       "    <tr>\n",
       "      <td>3</td>\n",
       "      <td>Switch, Pivot or Quit</td>\n",
       "      <td>https://castbox.fm/channel/Switch%2C-Pivot-or-Quit-id1471235</td>\n",
       "      <td>3</td>\n",
       "      <td>Mayzie Media</td>\n",
       "      <td>0</td>\n",
       "      <td>684</td>\n",
       "      <td>14210</td>\n",
       "      <td>[https://www.spreaker.com/show/switch-pivot-or-quit-career-switch-perso]</td>\n",
       "      <td>258</td>\n",
       "      <td>[[2019-10-02, 01:01:34, 0], [2019-09-25, 00:45:31, 0], [2019-09-18, 01:10:46, 0], [2019-09-11, 0...</td>\n",
       "      <td>...</td>\n",
       "      <td>spreaker.com</td>\n",
       "      <td>-inf</td>\n",
       "      <td>6.8</td>\n",
       "      <td>1360</td>\n",
       "      <td>7.0</td>\n",
       "      <td>0.3</td>\n",
       "      <td>218.5</td>\n",
       "      <td>995.0</td>\n",
       "      <td>468.7</td>\n",
       "      <td>914</td>\n",
       "    </tr>\n",
       "    <tr>\n",
       "      <td>4</td>\n",
       "      <td>Rework</td>\n",
       "      <td>https://castbox.fm/channel/Rework-id980288</td>\n",
       "      <td>0</td>\n",
       "      <td>Basecamp</td>\n",
       "      <td>0</td>\n",
       "      <td>1530</td>\n",
       "      <td>32204</td>\n",
       "      <td>[https://rework.fm]</td>\n",
       "      <td>84</td>\n",
       "      <td>[[2019-10-01, 01:07:30, 0], [2019-09-24, 00:32:11, 0], [2019-09-17, 00:26:59, 0], [2019-09-10, 0...</td>\n",
       "      <td>...</td>\n",
       "      <td>rework.fm</td>\n",
       "      <td>-inf</td>\n",
       "      <td>4.3</td>\n",
       "      <td>1458460</td>\n",
       "      <td>6.2</td>\n",
       "      <td>0.1</td>\n",
       "      <td>217.2</td>\n",
       "      <td>797.0</td>\n",
       "      <td>383.6</td>\n",
       "      <td>175</td>\n",
       "    </tr>\n",
       "  </tbody>\n",
       "</table>\n",
       "<p>5 rows × 121 columns</p>\n",
       "</div>"
      ],
      "text/plain": [
       "                                     title  \\\n",
       "0       At The Table with Patrick Lencioni   \n",
       "1  The Learning Leader Show With Ryan Hawk   \n",
       "2          Transformational Leader Podcast   \n",
       "3                    Switch, Pivot or Quit   \n",
       "4                                   Rework   \n",
       "\n",
       "                                                                    chan_url  \\\n",
       "0    https://castbox.fm/channel/At-The-Table-with-Patrick-Lencioni-id2219654   \n",
       "1  https://castbox.fm/channel/The-Learning-Leader-Show-With-Ryan-Hawk-id7505   \n",
       "2       https://castbox.fm/channel/Transformational-Leader-Podcast-id2045469   \n",
       "3               https://castbox.fm/channel/Switch%2C-Pivot-or-Quit-id1471235   \n",
       "4                                 https://castbox.fm/channel/Rework-id980288   \n",
       "\n",
       "   num_comments                                     author  isExplicit  \\\n",
       "0             0                           Patrick Lencioni           0   \n",
       "1             3                                  Ryan Hawk           1   \n",
       "2             2  Paul Martinelli and the John Maxwell Team           0   \n",
       "3             3                               Mayzie Media           0   \n",
       "4             0                                   Basecamp           0   \n",
       "\n",
       "   sub_count  play_count  \\\n",
       "0        119        1686   \n",
       "1       1283       31249   \n",
       "2        301        2444   \n",
       "3        684       14210   \n",
       "4       1530       32204   \n",
       "\n",
       "                                                            ch_feed_socials  \\\n",
       "0                                              [https://www.tablegroup.com]   \n",
       "1                                           [http://LearningLeaderShow.com]   \n",
       "2                                            [https://johnmaxwellteam.com/]   \n",
       "3  [https://www.spreaker.com/show/switch-pivot-or-quit-career-switch-perso]   \n",
       "4                                                       [https://rework.fm]   \n",
       "\n",
       "   ep_total  \\\n",
       "0        13   \n",
       "1       331   \n",
       "2        32   \n",
       "3       258   \n",
       "4        84   \n",
       "\n",
       "                                                                                            recent_eps  \\\n",
       "0  [[2019-10-02, 00:34:32, 0], [2019-09-25, 00:27:06, 0], [2019-09-23, 00:33:47, 0], [2019-09-16, 0...   \n",
       "1  [[2019-09-29, 01:03:30, 2], [2019-09-25, 01:14:53, 1], [2019-09-22, 00:56:06, 0], [2019-09-15, 0...   \n",
       "2  [[2019-10-02, 00:42:30, 0], [2019-09-25, 00:38:06, 0], [2019-09-18, 00:38:43, 0], [2019-09-11, 0...   \n",
       "3  [[2019-10-02, 01:01:34, 0], [2019-09-25, 00:45:31, 0], [2019-09-18, 01:10:46, 0], [2019-09-11, 0...   \n",
       "4  [[2019-10-01, 01:07:30, 0], [2019-09-24, 00:32:11, 0], [2019-09-17, 00:26:59, 0], [2019-09-10, 0...   \n",
       "\n",
       "   ...                  domain twitter_log page_rank_dec     rank  \\\n",
       "0  ...          tablegroup.com        -inf           4.7   253465   \n",
       "1  ...  LearningLeaderShow.com        -inf           3.3  6895641   \n",
       "2  ...     johnmaxwellteam.com        -inf           4.2  1566549   \n",
       "3  ...            spreaker.com        -inf           6.8     1360   \n",
       "4  ...               rework.fm        -inf           4.3  1458460   \n",
       "\n",
       "  recent_ep_spacing lifetime_ep_freq  avg_ep_len  chan_age  avg_ep_desc_len  \\\n",
       "0               6.3              0.2       218.0      83.0            283.2   \n",
       "1               6.2              0.2       217.3    1634.0           3867.3   \n",
       "2               7.0              0.2       218.7     209.0           2036.6   \n",
       "3               7.0              0.3       218.5     995.0            468.7   \n",
       "4               6.2              0.1       217.2     797.0            383.6   \n",
       "\n",
       "   chan_desc_len  \n",
       "0            497  \n",
       "1            269  \n",
       "2            202  \n",
       "3            914  \n",
       "4            175  \n",
       "\n",
       "[5 rows x 121 columns]"
      ]
     },
     "execution_count": 122,
     "metadata": {},
     "output_type": "execute_result"
    }
   ],
   "source": [
    "df.head()"
   ]
  },
  {
   "cell_type": "code",
   "execution_count": 123,
   "metadata": {
    "ExecuteTime": {
     "end_time": "2019-10-10T21:03:41.259381Z",
     "start_time": "2019-10-10T21:03:36.869005Z"
    },
    "scrolled": true
   },
   "outputs": [
    {
     "name": "stdout",
     "output_type": "stream",
     "text": [
      "building episode time series features\n"
     ]
    }
   ],
   "source": [
    "# More \n",
    "df = features.build_features(df, feature_set='episode')"
   ]
  },
  {
   "cell_type": "code",
   "execution_count": 124,
   "metadata": {
    "ExecuteTime": {
     "end_time": "2019-10-10T21:03:42.303584Z",
     "start_time": "2019-10-10T21:03:42.299322Z"
    }
   },
   "outputs": [
    {
     "data": {
      "text/plain": [
       "Index(['title', 'chan_url', 'num_comments', 'author', 'isExplicit',\n",
       "       'sub_count', 'play_count', 'ch_feed_socials', 'ep_total', 'recent_eps',\n",
       "       ...\n",
       "       'domain', 'twitter_log', 'page_rank_dec', 'rank', 'recent_ep_spacing',\n",
       "       'lifetime_ep_freq', 'avg_ep_len', 'chan_age', 'avg_ep_desc_len',\n",
       "       'chan_desc_len'],\n",
       "      dtype='object', length=121)"
      ]
     },
     "execution_count": 124,
     "metadata": {},
     "output_type": "execute_result"
    }
   ],
   "source": [
    "df.columns"
   ]
  },
  {
   "cell_type": "code",
   "execution_count": 125,
   "metadata": {
    "ExecuteTime": {
     "end_time": "2019-10-10T21:03:43.335486Z",
     "start_time": "2019-10-10T21:03:43.324220Z"
    }
   },
   "outputs": [
    {
     "data": {
      "text/html": [
       "<div>\n",
       "<style scoped>\n",
       "    .dataframe tbody tr th:only-of-type {\n",
       "        vertical-align: middle;\n",
       "    }\n",
       "\n",
       "    .dataframe tbody tr th {\n",
       "        vertical-align: top;\n",
       "    }\n",
       "\n",
       "    .dataframe thead th {\n",
       "        text-align: right;\n",
       "    }\n",
       "</style>\n",
       "<table border=\"1\" class=\"dataframe\">\n",
       "  <thead>\n",
       "    <tr style=\"text-align: right;\">\n",
       "      <th></th>\n",
       "      <th>play_count</th>\n",
       "      <th>rank</th>\n",
       "      <th>page_rank_dec</th>\n",
       "      <th>twitter_followers</th>\n",
       "      <th>recent_ep_spacing</th>\n",
       "      <th>lifetime_ep_freq</th>\n",
       "      <th>avg_ep_len</th>\n",
       "      <th>chan_age</th>\n",
       "    </tr>\n",
       "  </thead>\n",
       "  <tbody>\n",
       "    <tr>\n",
       "      <td>186</td>\n",
       "      <td>68350</td>\n",
       "      <td>3304104</td>\n",
       "      <td>3.9</td>\n",
       "      <td>0</td>\n",
       "      <td>7.0</td>\n",
       "      <td>0.2</td>\n",
       "      <td>217.2</td>\n",
       "      <td>2535.0</td>\n",
       "    </tr>\n",
       "    <tr>\n",
       "      <td>136</td>\n",
       "      <td>37442</td>\n",
       "      <td>1846533</td>\n",
       "      <td>4.1</td>\n",
       "      <td>8196</td>\n",
       "      <td>1.7</td>\n",
       "      <td>0.3</td>\n",
       "      <td>219.3</td>\n",
       "      <td>204.0</td>\n",
       "    </tr>\n",
       "    <tr>\n",
       "      <td>100</td>\n",
       "      <td>3143</td>\n",
       "      <td>1359</td>\n",
       "      <td>6.8</td>\n",
       "      <td>0</td>\n",
       "      <td>4.7</td>\n",
       "      <td>0.2</td>\n",
       "      <td>218.4</td>\n",
       "      <td>885.0</td>\n",
       "    </tr>\n",
       "    <tr>\n",
       "      <td>141</td>\n",
       "      <td>0</td>\n",
       "      <td>10786047</td>\n",
       "      <td>2.9</td>\n",
       "      <td>0</td>\n",
       "      <td>28.0</td>\n",
       "      <td>0.1</td>\n",
       "      <td>217.4</td>\n",
       "      <td>28.0</td>\n",
       "    </tr>\n",
       "    <tr>\n",
       "      <td>40</td>\n",
       "      <td>1103</td>\n",
       "      <td>6966265</td>\n",
       "      <td>3.3</td>\n",
       "      <td>0</td>\n",
       "      <td>15.4</td>\n",
       "      <td>0.1</td>\n",
       "      <td>216.2</td>\n",
       "      <td>1373.0</td>\n",
       "    </tr>\n",
       "    <tr>\n",
       "      <td>77</td>\n",
       "      <td>104111</td>\n",
       "      <td>63</td>\n",
       "      <td>8.4</td>\n",
       "      <td>0</td>\n",
       "      <td>18.8</td>\n",
       "      <td>0.1</td>\n",
       "      <td>218.5</td>\n",
       "      <td>436.0</td>\n",
       "    </tr>\n",
       "    <tr>\n",
       "      <td>196</td>\n",
       "      <td>1209</td>\n",
       "      <td>177336</td>\n",
       "      <td>5.5</td>\n",
       "      <td>0</td>\n",
       "      <td>8.3</td>\n",
       "      <td>0.1</td>\n",
       "      <td>220.7</td>\n",
       "      <td>1782.0</td>\n",
       "    </tr>\n",
       "    <tr>\n",
       "      <td>47</td>\n",
       "      <td>59</td>\n",
       "      <td>24813227</td>\n",
       "      <td>2.1</td>\n",
       "      <td>0</td>\n",
       "      <td>58.3</td>\n",
       "      <td>0.0</td>\n",
       "      <td>217.2</td>\n",
       "      <td>350.0</td>\n",
       "    </tr>\n",
       "    <tr>\n",
       "      <td>131</td>\n",
       "      <td>2125</td>\n",
       "      <td>1006</td>\n",
       "      <td>6.9</td>\n",
       "      <td>0</td>\n",
       "      <td>9.8</td>\n",
       "      <td>0.2</td>\n",
       "      <td>216.0</td>\n",
       "      <td>106.0</td>\n",
       "    </tr>\n",
       "    <tr>\n",
       "      <td>72</td>\n",
       "      <td>258</td>\n",
       "      <td>404174</td>\n",
       "      <td>4.6</td>\n",
       "      <td>0</td>\n",
       "      <td>42.6</td>\n",
       "      <td>0.0</td>\n",
       "      <td>218.4</td>\n",
       "      <td>489.0</td>\n",
       "    </tr>\n",
       "  </tbody>\n",
       "</table>\n",
       "</div>"
      ],
      "text/plain": [
       "     play_count      rank  page_rank_dec  twitter_followers  \\\n",
       "186       68350   3304104            3.9                  0   \n",
       "136       37442   1846533            4.1               8196   \n",
       "100        3143      1359            6.8                  0   \n",
       "141           0  10786047            2.9                  0   \n",
       "40         1103   6966265            3.3                  0   \n",
       "77       104111        63            8.4                  0   \n",
       "196        1209    177336            5.5                  0   \n",
       "47           59  24813227            2.1                  0   \n",
       "131        2125      1006            6.9                  0   \n",
       "72          258    404174            4.6                  0   \n",
       "\n",
       "     recent_ep_spacing  lifetime_ep_freq  avg_ep_len  chan_age  \n",
       "186                7.0               0.2       217.2    2535.0  \n",
       "136                1.7               0.3       219.3     204.0  \n",
       "100                4.7               0.2       218.4     885.0  \n",
       "141               28.0               0.1       217.4      28.0  \n",
       "40                15.4               0.1       216.2    1373.0  \n",
       "77                18.8               0.1       218.5     436.0  \n",
       "196                8.3               0.1       220.7    1782.0  \n",
       "47                58.3               0.0       217.2     350.0  \n",
       "131                9.8               0.2       216.0     106.0  \n",
       "72                42.6               0.0       218.4     489.0  "
      ]
     },
     "execution_count": 125,
     "metadata": {},
     "output_type": "execute_result"
    }
   ],
   "source": [
    "df.sample(10)[['play_count','rank','page_rank_dec','twitter_followers','recent_ep_spacing','lifetime_ep_freq','avg_ep_len','chan_age']]"
   ]
  },
  {
   "cell_type": "markdown",
   "metadata": {},
   "source": [
    "## Distribution of Target Variable\n",
    "### Target Variable = `play_count`"
   ]
  },
  {
   "cell_type": "code",
   "execution_count": 126,
   "metadata": {
    "ExecuteTime": {
     "end_time": "2019-10-10T21:03:44.456762Z",
     "start_time": "2019-10-10T21:03:44.449143Z"
    }
   },
   "outputs": [
    {
     "data": {
      "text/plain": [
       "count       7543.0\n",
       "mean      125331.4\n",
       "std      1163253.6\n",
       "min            0.0\n",
       "25%          313.0\n",
       "50%         3490.0\n",
       "75%        26862.0\n",
       "max     76019418.0\n",
       "Name: play_count, dtype: float64"
      ]
     },
     "execution_count": 126,
     "metadata": {},
     "output_type": "execute_result"
    }
   ],
   "source": [
    "df.play_count.describe()"
   ]
  },
  {
   "cell_type": "markdown",
   "metadata": {},
   "source": [
    "The distribution of play counts is heavily left-skewed, with ~75% of podcasts having less than 120,000 plays. Let's zoom in on the bottom 75%."
   ]
  },
  {
   "cell_type": "code",
   "execution_count": 128,
   "metadata": {
    "ExecuteTime": {
     "end_time": "2019-10-10T21:03:48.125549Z",
     "start_time": "2019-10-10T21:03:47.591027Z"
    },
    "scrolled": true
   },
   "outputs": [
    {
     "data": {
      "image/png": "[encoded data removed]",
      "text/plain": [
       "<Figure size 720x360 with 1 Axes>"
      ]
     },
     "metadata": {
      "needs_background": "light"
     },
     "output_type": "display_data"
    }
   ],
   "source": [
    "fig, ax = plt.subplots(figsize = (10, 5))\n",
    "plt.title('Distribution of total channel play counts,\\n up to 75th percentile (~120,000 plays)')\n",
    "plt.xlabel('individual episode plays')\n",
    "plt.ylabel('number of podcasts')\n",
    "plt.hist(df.play_count, bins=100, log=False,cumulative=True, range=[0,120000]); "
   ]
  },
  {
   "cell_type": "markdown",
   "metadata": {},
   "source": [
    "Let's do the same for subscribers."
   ]
  },
  {
   "cell_type": "code",
   "execution_count": 129,
   "metadata": {
    "ExecuteTime": {
     "end_time": "2019-10-10T21:04:03.763108Z",
     "start_time": "2019-10-10T21:04:03.157627Z"
    },
    "scrolled": true
   },
   "outputs": [
    {
     "data": {
      "image/png": "[encoded data removed]",
      "text/plain": [
       "<Figure size 1080x288 with 2 Axes>"
      ]
     },
     "metadata": {
      "needs_background": "light"
     },
     "output_type": "display_data"
    }
   ],
   "source": [
    "plt.subplots(figsize=(15,4))\n",
    "plt.subplot(1, 2, 1)\n",
    "plt.title('Cumulative Distribution of subscriber counts')\n",
    "plt.xlabel('individual episode plays')\n",
    "plt.ylabel('number of podcasts')\n",
    "plt.hist(df.sub_count, bins=100, log=False,cumulative=True, histtype='step'); \n",
    "\n",
    "# now just plot for the bottom 75%\n",
    "plt.subplot(1, 2, 2)\n",
    "# get 75th percentile value\n",
    "sub_75_q = df.play_count.quantile(0.75)\n",
    "plt.title('CDF of subscriber counts, 75th quantile')\n",
    "plt.xlabel('individual episode plays')\n",
    "plt.hist(df.sub_count, bins=100, log=False,cumulative=True, range=[0,sub_75_q],  histtype='step'); \n",
    "\n"
   ]
  },
  {
   "cell_type": "markdown",
   "metadata": {},
   "source": [
    "Play count and subscriber count have very similar CDFs. And naturally they are very strongly correlated. This metric should probably not be included in our model, as it doens't provide much actionable insight to know that subscribers have an effect on play count."
   ]
  },
  {
   "cell_type": "code",
   "execution_count": 130,
   "metadata": {
    "ExecuteTime": {
     "end_time": "2019-10-10T21:04:07.087517Z",
     "start_time": "2019-10-10T21:04:07.080827Z"
    },
    "scrolled": true
   },
   "outputs": [
    {
     "data": {
      "text/plain": [
       "array([[1.        , 0.88681667],\n",
       "       [0.88681667, 1.        ]])"
      ]
     },
     "execution_count": 130,
     "metadata": {},
     "output_type": "execute_result"
    }
   ],
   "source": [
    "np.corrcoef(x = df.play_count, y = df.sub_count)"
   ]
  },
  {
   "cell_type": "markdown",
   "metadata": {},
   "source": [
    "## Text Based Analysis"
   ]
  },
  {
   "cell_type": "code",
   "execution_count": 131,
   "metadata": {
    "ExecuteTime": {
     "end_time": "2019-10-10T21:04:08.281361Z",
     "start_time": "2019-10-10T21:04:08.277948Z"
    }
   },
   "outputs": [],
   "source": [
    "def calc_avg_desc_len(hover_text):\n",
    "    \n",
    "    try:\n",
    "        ep_desc_list = hover_text.split('|')\n",
    "#     print(ep_desc_list)\n",
    "        return np.mean([len(d) for d in ep_desc_list])\n",
    "    except:\n",
    "        return 0"
   ]
  },
  {
   "cell_type": "code",
   "execution_count": 132,
   "metadata": {
    "ExecuteTime": {
     "end_time": "2019-10-10T21:04:09.612117Z",
     "start_time": "2019-10-10T21:04:09.412393Z"
    }
   },
   "outputs": [],
   "source": [
    "df['avg_ep_desc_len'] = df.hover_text_concat.apply(calc_avg_desc_len)\n",
    "df['chan_desc_len'] = df.chan_desc.apply(lambda x: len(x))"
   ]
  },
  {
   "cell_type": "markdown",
   "metadata": {},
   "source": [
    "# Models"
   ]
  },
  {
   "cell_type": "code",
   "execution_count": 163,
   "metadata": {
    "ExecuteTime": {
     "end_time": "2019-10-10T21:10:53.750057Z",
     "start_time": "2019-10-10T21:10:53.744942Z"
    },
    "scrolled": true
   },
   "outputs": [
    {
     "name": "stdout",
     "output_type": "stream",
     "text": [
      "numerical columns:\n",
      " ['num_comments', 'isExplicit', 'sub_count', 'play_count', 'ep_total', 'cat_count', 'twitter', 'facebook', 'youtube', 'instagram', 'twitter_followers', 'twitter_sqrt', 'twitter_log', 'page_rank_dec', 'rank', 'recent_ep_spacing', 'lifetime_ep_freq', 'avg_ep_len', 'chan_age', 'avg_ep_desc_len', 'chan_desc_len', 'twitter_exp']\n"
     ]
    }
   ],
   "source": [
    "# Assess the numerical columns we have to work with:\n",
    "numerical_columns = []\n",
    "for f, var_type in df.dtypes.items():\n",
    "    if var_type == 'int64' or var_type == 'float64':\n",
    "        if 'd_' not in f:\n",
    "            numerical_columns.append(f)\n",
    "\n",
    "print('numerical columns:\\n', numerical_columns)"
   ]
  },
  {
   "cell_type": "code",
   "execution_count": 182,
   "metadata": {
    "ExecuteTime": {
     "end_time": "2019-10-10T21:12:16.496125Z",
     "start_time": "2019-10-10T21:12:16.492590Z"
    }
   },
   "outputs": [],
   "source": [
    "# Remove the columns inappropriate for this regression:\n",
    "numericals_reg = []\n",
    "\n",
    "for el in numerical_columns:\n",
    "    \n",
    "    disqualify = ['num_comments', 'play_count','twitter_exp','twitter_log','sub_count','cat_count']\n",
    "    \n",
    "    if el not in disqualify:\n",
    "        numericals_reg.append(el)"
   ]
  },
  {
   "cell_type": "code",
   "execution_count": 183,
   "metadata": {
    "ExecuteTime": {
     "end_time": "2019-10-10T21:12:17.648810Z",
     "start_time": "2019-10-10T21:12:17.644249Z"
    }
   },
   "outputs": [
    {
     "name": "stdout",
     "output_type": "stream",
     "text": [
      "categorical columns:\n",
      " ['d_After_Shows', 'd_Alternative_Health', 'd_Animation_Manga', 'd_Arts', 'd_Automotive', 'd_Aviation', 'd_Books', 'd_Buddhism', 'd_Business', 'd_Business_News', 'd_Careers', 'd_Christianity', 'd_Comedy', 'd_Comedy_Fiction', 'd_Comedy_Interviews', 'd_Courses', 'd_Crafts', 'd_Daily_News', 'd_Design', 'd_Documentary', 'd_Drama', 'd_Education', 'd_Education_for_Kids', 'd_Entertainment_News', 'd_Entrepreneurship', 'd_Fantasy_Sports', 'd_Fashion_Beauty', 'd_Fiction', 'd_Film_History', 'd_Film_Reviews', 'd_Fitness', 'd_Food', 'd_Games', 'd_Games_Hobbies', 'd_Government', 'd_Government_Organizations', 'd_Health', 'd_Health_Fitness', 'd_Hinduism', 'd_History', 'd_Hobbies', 'd_Home_Garden', 'd_How_to', 'd_Improv', 'd_Investing', 'd_Kids_Family', 'd_Language_Learning', 'd_Leisure', 'd_Management_', 'd_Marketing', 'd_Medicine', 'd_Mental_Health', 'd_Music', 'd_Music_Commentary', 'd_Music_History', 'd_Music_Interviews', 'd_News', 'd_News_Politics', 'd_News_Commentary', 'd_Non_profit', 'd_Nutrition', 'd_Parenting', 'd_Performing_Arts', 'd_Personal_Journals', 'd_Pets_Animals', 'd_Politics', 'd_Relationships', 'd_Religion_Spirituality', 'd_Science', 'd_Science_Medicine', 'd_Science_Fiction', 'd_Self_Improvement', 'd_Sexuality', 'd_Social_Sciences', 'd_Society_Culture', 'd_Sports', 'd_Sports_Recreation', 'd_Sports_News', 'd_Standup', 'd_Stories_for_Kids', 'd_TV_Film', 'd_TV_Reviews', 'd_Tech_News', 'd_Technology', 'd_True_Crime', 'd_Video_Games', 'd_Visual_Arts']\n"
     ]
    }
   ],
   "source": [
    "# Assess the categorical columns we have to work with:\n",
    "categorical_columns = []\n",
    "for f, var_type in df.dtypes.items():\n",
    "    if var_type == 'int64' or var_type == 'float64':\n",
    "        if 'd_' in f:\n",
    "            categorical_columns.append(f)\n",
    "\n",
    "print('categorical columns:\\n', categorical_columns)"
   ]
  },
  {
   "cell_type": "code",
   "execution_count": 184,
   "metadata": {
    "ExecuteTime": {
     "end_time": "2019-10-10T21:12:18.699931Z",
     "start_time": "2019-10-10T21:12:18.681117Z"
    }
   },
   "outputs": [],
   "source": [
    "df = df.dropna()"
   ]
  },
  {
   "cell_type": "code",
   "execution_count": 185,
   "metadata": {
    "ExecuteTime": {
     "end_time": "2019-10-10T21:12:19.967024Z",
     "start_time": "2019-10-10T21:12:19.728682Z"
    },
    "scrolled": true
   },
   "outputs": [
    {
     "name": "stderr",
     "output_type": "stream",
     "text": [
      "//anaconda3/lib/python3.7/site-packages/numpy/lib/function_base.py:3949: RuntimeWarning: invalid value encountered in multiply\n",
      "  x2 = take(ap, indices_above, axis=axis) * weights_above\n"
     ]
    },
    {
     "data": {
      "text/html": [
       "<div>\n",
       "<style scoped>\n",
       "    .dataframe tbody tr th:only-of-type {\n",
       "        vertical-align: middle;\n",
       "    }\n",
       "\n",
       "    .dataframe tbody tr th {\n",
       "        vertical-align: top;\n",
       "    }\n",
       "\n",
       "    .dataframe thead th {\n",
       "        text-align: right;\n",
       "    }\n",
       "</style>\n",
       "<table border=\"1\" class=\"dataframe\">\n",
       "  <thead>\n",
       "    <tr style=\"text-align: right;\">\n",
       "      <th></th>\n",
       "      <th>num_comments</th>\n",
       "      <th>isExplicit</th>\n",
       "      <th>sub_count</th>\n",
       "      <th>play_count</th>\n",
       "      <th>ep_total</th>\n",
       "      <th>cat_count</th>\n",
       "      <th>d_After_Shows</th>\n",
       "      <th>d_Alternative_Health</th>\n",
       "      <th>d_Animation_Manga</th>\n",
       "      <th>d_Arts</th>\n",
       "      <th>...</th>\n",
       "      <th>twitter_log</th>\n",
       "      <th>page_rank_dec</th>\n",
       "      <th>rank</th>\n",
       "      <th>recent_ep_spacing</th>\n",
       "      <th>lifetime_ep_freq</th>\n",
       "      <th>avg_ep_len</th>\n",
       "      <th>chan_age</th>\n",
       "      <th>avg_ep_desc_len</th>\n",
       "      <th>chan_desc_len</th>\n",
       "      <th>twitter_exp</th>\n",
       "    </tr>\n",
       "  </thead>\n",
       "  <tbody>\n",
       "    <tr>\n",
       "      <td>count</td>\n",
       "      <td>7543.0</td>\n",
       "      <td>7543.0</td>\n",
       "      <td>7543.0</td>\n",
       "      <td>7543.0</td>\n",
       "      <td>7543.0</td>\n",
       "      <td>7543.0</td>\n",
       "      <td>7543.0</td>\n",
       "      <td>7543.0</td>\n",
       "      <td>7543.0</td>\n",
       "      <td>7543.0</td>\n",
       "      <td>...</td>\n",
       "      <td>7543.0</td>\n",
       "      <td>7543.0</td>\n",
       "      <td>7543.0</td>\n",
       "      <td>7543.0</td>\n",
       "      <td>7543.0</td>\n",
       "      <td>7543.0</td>\n",
       "      <td>7543.0</td>\n",
       "      <td>7543.0</td>\n",
       "      <td>7543.0</td>\n",
       "      <td>7543.0</td>\n",
       "    </tr>\n",
       "    <tr>\n",
       "      <td>mean</td>\n",
       "      <td>17.3</td>\n",
       "      <td>0.2</td>\n",
       "      <td>6544.4</td>\n",
       "      <td>125331.4</td>\n",
       "      <td>137.9</td>\n",
       "      <td>1.2</td>\n",
       "      <td>0.0</td>\n",
       "      <td>0.0</td>\n",
       "      <td>0.0</td>\n",
       "      <td>0.0</td>\n",
       "      <td>...</td>\n",
       "      <td>-inf</td>\n",
       "      <td>4.4</td>\n",
       "      <td>19447366.3</td>\n",
       "      <td>15.8</td>\n",
       "      <td>0.2</td>\n",
       "      <td>217.7</td>\n",
       "      <td>938.4</td>\n",
       "      <td>764.2</td>\n",
       "      <td>389.0</td>\n",
       "      <td>inf</td>\n",
       "    </tr>\n",
       "    <tr>\n",
       "      <td>std</td>\n",
       "      <td>267.8</td>\n",
       "      <td>0.4</td>\n",
       "      <td>45584.2</td>\n",
       "      <td>1163253.6</td>\n",
       "      <td>277.0</td>\n",
       "      <td>0.9</td>\n",
       "      <td>0.0</td>\n",
       "      <td>0.2</td>\n",
       "      <td>0.1</td>\n",
       "      <td>0.2</td>\n",
       "      <td>...</td>\n",
       "      <td>nan</td>\n",
       "      <td>2.1</td>\n",
       "      <td>50692376.9</td>\n",
       "      <td>29.8</td>\n",
       "      <td>1.1</td>\n",
       "      <td>1.4</td>\n",
       "      <td>1190.3</td>\n",
       "      <td>1551.5</td>\n",
       "      <td>318.0</td>\n",
       "      <td>nan</td>\n",
       "    </tr>\n",
       "    <tr>\n",
       "      <td>min</td>\n",
       "      <td>0.0</td>\n",
       "      <td>0.0</td>\n",
       "      <td>0.0</td>\n",
       "      <td>0.0</td>\n",
       "      <td>2.0</td>\n",
       "      <td>1.0</td>\n",
       "      <td>0.0</td>\n",
       "      <td>0.0</td>\n",
       "      <td>0.0</td>\n",
       "      <td>0.0</td>\n",
       "      <td>...</td>\n",
       "      <td>-inf</td>\n",
       "      <td>0.0</td>\n",
       "      <td>2.0</td>\n",
       "      <td>0.0</td>\n",
       "      <td>0.0</td>\n",
       "      <td>211.7</td>\n",
       "      <td>0.0</td>\n",
       "      <td>1.0</td>\n",
       "      <td>0.0</td>\n",
       "      <td>1.0</td>\n",
       "    </tr>\n",
       "    <tr>\n",
       "      <td>25%</td>\n",
       "      <td>0.0</td>\n",
       "      <td>0.0</td>\n",
       "      <td>35.0</td>\n",
       "      <td>313.0</td>\n",
       "      <td>19.0</td>\n",
       "      <td>1.0</td>\n",
       "      <td>0.0</td>\n",
       "      <td>0.0</td>\n",
       "      <td>0.0</td>\n",
       "      <td>0.0</td>\n",
       "      <td>...</td>\n",
       "      <td>-inf</td>\n",
       "      <td>3.2</td>\n",
       "      <td>17124.0</td>\n",
       "      <td>6.2</td>\n",
       "      <td>0.1</td>\n",
       "      <td>216.8</td>\n",
       "      <td>200.0</td>\n",
       "      <td>269.1</td>\n",
       "      <td>186.0</td>\n",
       "      <td>1.0</td>\n",
       "    </tr>\n",
       "    <tr>\n",
       "      <td>50%</td>\n",
       "      <td>0.0</td>\n",
       "      <td>0.0</td>\n",
       "      <td>259.0</td>\n",
       "      <td>3490.0</td>\n",
       "      <td>61.0</td>\n",
       "      <td>1.0</td>\n",
       "      <td>0.0</td>\n",
       "      <td>0.0</td>\n",
       "      <td>0.0</td>\n",
       "      <td>0.0</td>\n",
       "      <td>...</td>\n",
       "      <td>nan</td>\n",
       "      <td>4.5</td>\n",
       "      <td>544985.0</td>\n",
       "      <td>7.7</td>\n",
       "      <td>0.1</td>\n",
       "      <td>217.7</td>\n",
       "      <td>618.0</td>\n",
       "      <td>463.6</td>\n",
       "      <td>322.0</td>\n",
       "      <td>1.0</td>\n",
       "    </tr>\n",
       "    <tr>\n",
       "      <td>75%</td>\n",
       "      <td>4.0</td>\n",
       "      <td>0.0</td>\n",
       "      <td>1604.5</td>\n",
       "      <td>26862.0</td>\n",
       "      <td>158.5</td>\n",
       "      <td>1.0</td>\n",
       "      <td>0.0</td>\n",
       "      <td>0.0</td>\n",
       "      <td>0.0</td>\n",
       "      <td>0.0</td>\n",
       "      <td>...</td>\n",
       "      <td>-inf</td>\n",
       "      <td>6.0</td>\n",
       "      <td>7650791.0</td>\n",
       "      <td>15.6</td>\n",
       "      <td>0.2</td>\n",
       "      <td>218.6</td>\n",
       "      <td>1318.5</td>\n",
       "      <td>865.1</td>\n",
       "      <td>506.0</td>\n",
       "      <td>1.0</td>\n",
       "    </tr>\n",
       "    <tr>\n",
       "      <td>max</td>\n",
       "      <td>21769.0</td>\n",
       "      <td>1.0</td>\n",
       "      <td>2262375.0</td>\n",
       "      <td>76019418.0</td>\n",
       "      <td>4998.0</td>\n",
       "      <td>8.0</td>\n",
       "      <td>1.0</td>\n",
       "      <td>1.0</td>\n",
       "      <td>1.0</td>\n",
       "      <td>1.0</td>\n",
       "      <td>...</td>\n",
       "      <td>18.2</td>\n",
       "      <td>10.0</td>\n",
       "      <td>445371504.0</td>\n",
       "      <td>1249.5</td>\n",
       "      <td>61.0</td>\n",
       "      <td>223.3</td>\n",
       "      <td>18176.0</td>\n",
       "      <td>76571.4</td>\n",
       "      <td>9835.0</td>\n",
       "      <td>inf</td>\n",
       "    </tr>\n",
       "  </tbody>\n",
       "</table>\n",
       "<p>8 rows × 109 columns</p>\n",
       "</div>"
      ],
      "text/plain": [
       "       num_comments  isExplicit  sub_count  play_count  ep_total  cat_count  \\\n",
       "count        7543.0      7543.0     7543.0      7543.0    7543.0     7543.0   \n",
       "mean           17.3         0.2     6544.4    125331.4     137.9        1.2   \n",
       "std           267.8         0.4    45584.2   1163253.6     277.0        0.9   \n",
       "min             0.0         0.0        0.0         0.0       2.0        1.0   \n",
       "25%             0.0         0.0       35.0       313.0      19.0        1.0   \n",
       "50%             0.0         0.0      259.0      3490.0      61.0        1.0   \n",
       "75%             4.0         0.0     1604.5     26862.0     158.5        1.0   \n",
       "max         21769.0         1.0  2262375.0  76019418.0    4998.0        8.0   \n",
       "\n",
       "       d_After_Shows  d_Alternative_Health  d_Animation_Manga  d_Arts  ...  \\\n",
       "count         7543.0                7543.0             7543.0  7543.0  ...   \n",
       "mean             0.0                   0.0                0.0     0.0  ...   \n",
       "std              0.0                   0.2                0.1     0.2  ...   \n",
       "min              0.0                   0.0                0.0     0.0  ...   \n",
       "25%              0.0                   0.0                0.0     0.0  ...   \n",
       "50%              0.0                   0.0                0.0     0.0  ...   \n",
       "75%              0.0                   0.0                0.0     0.0  ...   \n",
       "max              1.0                   1.0                1.0     1.0  ...   \n",
       "\n",
       "       twitter_log  page_rank_dec        rank  recent_ep_spacing  \\\n",
       "count       7543.0         7543.0      7543.0             7543.0   \n",
       "mean          -inf            4.4  19447366.3               15.8   \n",
       "std            nan            2.1  50692376.9               29.8   \n",
       "min           -inf            0.0         2.0                0.0   \n",
       "25%           -inf            3.2     17124.0                6.2   \n",
       "50%            nan            4.5    544985.0                7.7   \n",
       "75%           -inf            6.0   7650791.0               15.6   \n",
       "max           18.2           10.0 445371504.0             1249.5   \n",
       "\n",
       "       lifetime_ep_freq  avg_ep_len  chan_age  avg_ep_desc_len  chan_desc_len  \\\n",
       "count            7543.0      7543.0    7543.0           7543.0         7543.0   \n",
       "mean                0.2       217.7     938.4            764.2          389.0   \n",
       "std                 1.1         1.4    1190.3           1551.5          318.0   \n",
       "min                 0.0       211.7       0.0              1.0            0.0   \n",
       "25%                 0.1       216.8     200.0            269.1          186.0   \n",
       "50%                 0.1       217.7     618.0            463.6          322.0   \n",
       "75%                 0.2       218.6    1318.5            865.1          506.0   \n",
       "max                61.0       223.3   18176.0          76571.4         9835.0   \n",
       "\n",
       "       twitter_exp  \n",
       "count       7543.0  \n",
       "mean           inf  \n",
       "std            nan  \n",
       "min            1.0  \n",
       "25%            1.0  \n",
       "50%            1.0  \n",
       "75%            1.0  \n",
       "max            inf  \n",
       "\n",
       "[8 rows x 109 columns]"
      ]
     },
     "execution_count": 185,
     "metadata": {},
     "output_type": "execute_result"
    }
   ],
   "source": [
    "df.describe()"
   ]
  },
  {
   "cell_type": "code",
   "execution_count": 186,
   "metadata": {
    "ExecuteTime": {
     "end_time": "2019-10-10T21:12:21.028486Z",
     "start_time": "2019-10-10T21:12:21.025978Z"
    }
   },
   "outputs": [],
   "source": [
    "from sklearn.linear_model import LassoCV\n",
    "from sklearn.model_selection import cross_val_score, cross_val_predict"
   ]
  },
  {
   "cell_type": "code",
   "execution_count": 187,
   "metadata": {
    "ExecuteTime": {
     "end_time": "2019-10-10T21:12:22.200239Z",
     "start_time": "2019-10-10T21:12:22.192825Z"
    }
   },
   "outputs": [],
   "source": [
    "def unscaled_OLS_model(data, x_cols, y_col='play_count', cv=5, test_size=0.2, val_size=0.2, verbose_=True):\n",
    "    '''\n",
    "    \n",
    "    Take a dataframe, and a list of X features, a target y.\n",
    "    Perform linear regression, and cross validation.\n",
    "    \n",
    "    '''\n",
    "    \n",
    "    print(f'Unscaled OLS Model with test_size {test_size} and val_size {val_size}')\n",
    "    \n",
    "    X, y = data[x_cols], data[y_col]\n",
    "    \n",
    "    # training split\n",
    "    X, X_test, y, y_test = train_test_split(X, y, test_size=test_size)\n",
    "    \n",
    "    # validation split\n",
    "    X_train, X_val, y_train, y_val = train_test_split(X, y, test_size=val_size)\n",
    "    \n",
    "    cv_model = LinearRegression()\n",
    "    cv_results = cross_val_score(cv_model, X, y, cv=cv, scoring='r2')\n",
    "    print('cross validation results with mean: ',np.mean(cv_results))\n",
    "    print(cv_results)\n",
    "    \n",
    "    # Train an additional time to get a sample set of coefficients.\n",
    "    model = LinearRegression()\n",
    "    model.fit(X_train, y_train)\n",
    "    print(f'Linear Regression val R^2: {model.score(X_val, y_val):.3f}')\n",
    "\n",
    "    \n",
    "    c = zip(x_cols, model.coef_)\n",
    "\n",
    "    if verbose_ == True:\n",
    "        for z in c:\n",
    "            print(z)\n",
    "            \n",
    "    print('\\n')\n",
    "    print('\\n')\n",
    "    return model"
   ]
  },
  {
   "cell_type": "code",
   "execution_count": 188,
   "metadata": {
    "ExecuteTime": {
     "end_time": "2019-10-10T21:12:23.241197Z",
     "start_time": "2019-10-10T21:12:23.231708Z"
    }
   },
   "outputs": [],
   "source": [
    "def scaled_OLS_model(data, x_cols, y_col='play_count', cv=5, test_size=0.2, val_size=0.2, verbose_=True):\n",
    "    '''\n",
    "    \n",
    "    Take a dataframe, and a list of X features, a target y.\n",
    "    Perform linear regression, and cross validation.\n",
    "    \n",
    "    '''\n",
    "    \n",
    "    print(f'Scaled OLS Model with test_size {test_size} and val_size {val_size}')\n",
    "    \n",
    "    X, y = data[x_cols], data[y_col]\n",
    "    \n",
    "    # training split\n",
    "    X, X_test, y, y_test = train_test_split(X, y, test_size=test_size)\n",
    "    \n",
    "    # validation split\n",
    "    X_train, X_val, y_train, y_val = train_test_split(X, y, test_size=val_size)\n",
    "    \n",
    "    model = LinearRegression()\n",
    "    scaler = StandardScaler()\n",
    "\n",
    "    X_train_scaled = scaler.fit_transform(X_train.values)\n",
    "    X_val_scaled = scaler.transform(X_val.values)\n",
    "    X_test_scaled = scaler.transform(X_test.values)\n",
    "    \n",
    "    cv_model = LinearRegression()\n",
    "    cv_results = cross_val_score(cv_model, X, y, cv=cv, scoring='r2')\n",
    "    print('cross validation results with mean: ',np.mean(cv_results))\n",
    "    print(cv_results)\n",
    "    \n",
    "    model = LinearRegression()    \n",
    "    model.fit(X_train_scaled, y_train)\n",
    "    print(f'Linear Regression val R^2: {model.score(X_val_scaled, y_val):.3f}')\n",
    "    print('\\n')\n",
    "    \n",
    "    c = zip(x_cols, model.coef_)\n",
    "\n",
    "    if verbose_ == True:\n",
    "        for z in c:\n",
    "            print(z)\n",
    "    \n",
    "    print('\\n')\n",
    "    print('\\n')\n",
    "    return model"
   ]
  },
  {
   "cell_type": "code",
   "execution_count": 189,
   "metadata": {
    "ExecuteTime": {
     "end_time": "2019-10-10T21:12:24.302502Z",
     "start_time": "2019-10-10T21:12:24.293744Z"
    }
   },
   "outputs": [],
   "source": [
    "def lassoCV_OLS_model(data, x_cols, y_col='play_count',cv=5, test_size=0.2, val_size=0.2, verbose_=True):\n",
    "    '''\n",
    "    \n",
    "    Take a dataframe, and a list of X features, a target y.\n",
    "    Perform linear regression, and cross validation.\n",
    "    \n",
    "    '''\n",
    "    \n",
    "    print(f'Scaled LassoCV Model with test_size {test_size} and val_size {val_size}')\n",
    "    \n",
    "    X, y = data[x_cols], data[y_col]\n",
    "    \n",
    "    # training split\n",
    "    X, X_test, y, y_test = train_test_split(X, y, test_size=test_size)\n",
    "    \n",
    "    # validation split\n",
    "    X_train, X_val, y_train, y_val = train_test_split(X, y, test_size=val_size)\n",
    "    \n",
    "    model = LinearRegression()\n",
    "    scaler = StandardScaler()\n",
    "\n",
    "    X_train_scaled = scaler.fit_transform(X_train.values)\n",
    "    X_val_scaled = scaler.transform(X_val.values)\n",
    "    X_test_scaled = scaler.transform(X_test.values)\n",
    "    \n",
    "    alpha_vec = 10**np.linspace(3,6,2000)\n",
    "    \n",
    "    lasso_model = LassoCV(alphas=alpha_vec, cv=cv)\n",
    "    \n",
    "    lasso_model.fit(X_train_scaled, y_train)\n",
    "    \n",
    "    print(f'Linear Regression val R^2: {lasso_model.score(X_val_scaled, y_val):.3f}')\n",
    "    print('\\n')\n",
    "    best_alpha = lasso_model.alpha_\n",
    "    print(f'best alpha is {best_alpha}')\n",
    "    \n",
    "    c = zip(x_cols, lasso_model.coef_)\n",
    "\n",
    "    if verbose_ == True:\n",
    "        for z in c:\n",
    "            print(z)\n",
    "    \n",
    "    print('\\n')\n",
    "    print('\\n')\n",
    "    return model"
   ]
  },
  {
   "cell_type": "markdown",
   "metadata": {},
   "source": [
    "## Testing simple linear models:"
   ]
  },
  {
   "cell_type": "markdown",
   "metadata": {},
   "source": [
    "### Minimal Features - No Categoricals"
   ]
  },
  {
   "cell_type": "code",
   "execution_count": 191,
   "metadata": {
    "ExecuteTime": {
     "end_time": "2019-10-10T21:12:42.980967Z",
     "start_time": "2019-10-10T21:12:41.138998Z"
    },
    "scrolled": false
   },
   "outputs": [
    {
     "name": "stdout",
     "output_type": "stream",
     "text": [
      "Unscaled OLS Model with test_size 0.2 and val_size 0.2\n",
      "cross validation results with mean:  0.32188243498995517\n",
      "[0.29645551 0.30858501 0.34676416 0.35864282 0.29896467]\n",
      "Linear Regression val R^2: 0.265\n",
      "('isExplicit', 12595.273691967208)\n",
      "('ep_total', 122.11009787440811)\n",
      "('twitter', 66481.33541948136)\n",
      "('facebook', 280756.36178317317)\n",
      "('youtube', 151758.69307167944)\n",
      "('instagram', -48279.172357428804)\n",
      "('twitter_followers', -0.035350703304166155)\n",
      "('twitter_sqrt', 363.52412334636523)\n",
      "('page_rank_dec', 2899.819703227402)\n",
      "('rank', -5.252997385030695e-05)\n",
      "('recent_ep_spacing', -39.031728440898284)\n",
      "('lifetime_ep_freq', -1498.8639386059006)\n",
      "('avg_ep_len', 1045.8506073213507)\n",
      "('chan_age', -6.062931895068105)\n",
      "('avg_ep_desc_len', -0.2861668494981273)\n",
      "('chan_desc_len', -2.244897405031898)\n",
      "\n",
      "\n",
      "\n",
      "\n",
      "Scaled OLS Model with test_size 0.2 and val_size 0.2\n",
      "cross validation results with mean:  0.3042676568468129\n",
      "[0.37374289 0.32941644 0.24421179 0.28906062 0.28490654]\n",
      "Linear Regression val R^2: 0.365\n",
      "\n",
      "\n",
      "('isExplicit', 6527.117844225537)\n",
      "('ep_total', 29691.200460789223)\n",
      "('twitter', 27687.533593431643)\n",
      "('facebook', 88395.70492084225)\n",
      "('youtube', 17724.102844678513)\n",
      "('instagram', -5760.205777701024)\n",
      "('twitter_followers', -47615.146851809994)\n",
      "('twitter_sqrt', 88376.59403028498)\n",
      "('page_rank_dec', 6301.530160101199)\n",
      "('rank', -3666.6016632701917)\n",
      "('recent_ep_spacing', -2348.651961354053)\n",
      "('lifetime_ep_freq', -2358.9684249335055)\n",
      "('avg_ep_len', 1102.5909864582677)\n",
      "('chan_age', -4885.065739162302)\n",
      "('avg_ep_desc_len', 378.20221899057015)\n",
      "('chan_desc_len', -1190.995893465084)\n",
      "\n",
      "\n",
      "\n",
      "\n",
      "Scaled LassoCV Model with test_size 0.2 and val_size 0.2\n",
      "Linear Regression val R^2: 0.303\n",
      "\n",
      "\n",
      "best alpha is 3505.6809300377176\n",
      "('isExplicit', 0.0)\n",
      "('ep_total', 28587.954951163494)\n",
      "('twitter', 18704.664588880973)\n",
      "('facebook', 85988.95254955944)\n",
      "('youtube', 11558.891331624265)\n",
      "('instagram', -0.0)\n",
      "('twitter_followers', -24750.334999502098)\n",
      "('twitter_sqrt', 79134.20013701741)\n",
      "('page_rank_dec', 4355.517028042148)\n",
      "('rank', -0.0)\n",
      "('recent_ep_spacing', -1020.9154900331407)\n",
      "('lifetime_ep_freq', -0.0)\n",
      "('avg_ep_len', 0.0)\n",
      "('chan_age', -0.0)\n",
      "('avg_ep_desc_len', -0.0)\n",
      "('chan_desc_len', -0.0)\n",
      "\n",
      "\n",
      "\n",
      "\n"
     ]
    },
    {
     "data": {
      "text/plain": [
       "''"
      ]
     },
     "execution_count": 191,
     "metadata": {},
     "output_type": "execute_result"
    }
   ],
   "source": [
    "minimal_features = numericals_reg\n",
    "\n",
    "unscaled_OLS_model(df[outlier_mask], x_cols=numericals_reg)\n",
    "scaled_OLS_model(df[outlier_mask], x_cols=numericals_reg)\n",
    "lassoCV_OLS_model(df[outlier_mask], x_cols=numericals_reg)\n",
    ";"
   ]
  },
  {
   "cell_type": "code",
   "execution_count": null,
   "metadata": {},
   "outputs": [],
   "source": []
  },
  {
   "cell_type": "markdown",
   "metadata": {},
   "source": [
    "Not great at all. The model is overly punishing of Twitter Follower count. Perhaps that feature needs to be transformed before use in the model."
   ]
  },
  {
   "cell_type": "code",
   "execution_count": null,
   "metadata": {},
   "outputs": [],
   "source": []
  },
  {
   "cell_type": "code",
   "execution_count": 75,
   "metadata": {
    "ExecuteTime": {
     "end_time": "2019-10-10T19:57:52.975348Z",
     "start_time": "2019-10-10T19:57:52.969627Z"
    }
   },
   "outputs": [],
   "source": [
    "def scaled_poly_model(data, x_cols, y_col='play_count', test_size=0.2, val_size=0.2, random_state=4444):\n",
    "    '''\n",
    "    \n",
    "    Take a dataframe, and a list of X features, a target y.\n",
    "    Perform linear regression, and cross validation.\n",
    "    \n",
    "    '''\n",
    "    \n",
    "    X, y = data[x_cols], data[y_col]\n",
    "    \n",
    "    # training split\n",
    "    X, X_test, y, y_test = train_test_split(X, y, test_size=test_size)\n",
    "    \n",
    "    # validation split\n",
    "    X_train, X_val, y_train, y_val = train_test_split(X, y, test_size=val_size)\n",
    "    \n",
    "    model = LinearRegression()\n",
    "    scaler = StandardScaler()\n",
    "\n",
    "    X_train_scaled = scaler.fit_transform(X_train.values)\n",
    "    X_val_scaled = scaler.transform(X_val.values)\n",
    "    X_test_scaled = scaler.transform(X_test.values)\n",
    "    \n",
    "    model.fit(X_train, y_train)\n",
    "    print(f'Linear Regression val R^2: {model.score(X_val, y_val):.3f}')\n",
    "    \n",
    "    return model"
   ]
  },
  {
   "cell_type": "code",
   "execution_count": null,
   "metadata": {
    "ExecuteTime": {
     "end_time": "2019-10-08T20:48:38.722040Z",
     "start_time": "2019-10-08T20:48:38.711374Z"
    }
   },
   "outputs": [],
   "source": [
    "X_non_test, X_test, y_non_test, y_test = train_test_split(X, y, test_size=0.2,random_state=42)\n",
    "X_train, X_val, y_train, y_val = train_test_split(X_non_test, y_non_test, test_size=0.2,random_state=42)"
   ]
  },
  {
   "cell_type": "code",
   "execution_count": null,
   "metadata": {
    "ExecuteTime": {
     "end_time": "2019-10-08T20:48:57.887391Z",
     "start_time": "2019-10-08T20:48:57.872158Z"
    }
   },
   "outputs": [],
   "source": [
    "simple_lr = LinearRegression()\n",
    "\n",
    "scaler = StandardScaler()\n",
    "\n",
    "X_train_scaled = scaler.fit_transform(X_train.values)\n",
    "X_val_scaled = scaler.transform(X_val.values)\n",
    "X_test_scaled = scaler.transform(X_test.values)\n",
    "\n",
    "# Ridge model\n",
    "ridge_reg = Ridge(alpha = 10000)"
   ]
  },
  {
   "cell_type": "code",
   "execution_count": null,
   "metadata": {
    "ExecuteTime": {
     "end_time": "2019-10-08T20:48:59.427539Z",
     "start_time": "2019-10-08T20:48:59.377155Z"
    },
    "scrolled": true
   },
   "outputs": [],
   "source": [
    "#validate\n",
    "\n",
    "simple_lr.fit(X_train, y_train)\n",
    "print(f'Linear Regression val R^2: {simple_lr.score(X_val, y_val):.3f}')\n",
    "\n",
    "ridge_reg.fit(X_train_scaled, y_train)\n",
    "print(f'Ridge Regression val R^2: {ridge_reg.score(X_val_scaled, y_val):.3f}')"
   ]
  },
  {
   "cell_type": "code",
   "execution_count": null,
   "metadata": {
    "ExecuteTime": {
     "end_time": "2019-10-08T20:49:11.510137Z",
     "start_time": "2019-10-08T20:49:11.504407Z"
    },
    "scrolled": true
   },
   "outputs": [],
   "source": [
    "for z in zip(reg_cols, simple_lr.coef_):\n",
    "    print(z)"
   ]
  },
  {
   "cell_type": "code",
   "execution_count": null,
   "metadata": {
    "ExecuteTime": {
     "end_time": "2019-10-08T20:49:18.402523Z",
     "start_time": "2019-10-08T20:49:18.398807Z"
    },
    "scrolled": true
   },
   "outputs": [],
   "source": [
    "for z in zip(reg_cols, ridge_reg.coef_):\n",
    "    print(z)"
   ]
  },
  {
   "cell_type": "code",
   "execution_count": null,
   "metadata": {
    "ExecuteTime": {
     "end_time": "2019-10-08T20:51:56.789389Z",
     "start_time": "2019-10-08T20:51:56.786478Z"
    }
   },
   "outputs": [],
   "source": [
    "from sklearn.linear_model import LassoCV\n",
    "from sklearn.linear_model import RidgeCV"
   ]
  },
  {
   "cell_type": "code",
   "execution_count": null,
   "metadata": {
    "ExecuteTime": {
     "end_time": "2019-10-08T20:54:59.689339Z",
     "start_time": "2019-10-08T20:54:59.668899Z"
    }
   },
   "outputs": [],
   "source": [
    "from sklearn.preprocessing import PolynomialFeatures"
   ]
  },
  {
   "cell_type": "code",
   "execution_count": null,
   "metadata": {
    "ExecuteTime": {
     "end_time": "2019-10-08T21:11:54.882653Z",
     "start_time": "2019-10-08T21:11:54.217177Z"
    }
   },
   "outputs": [],
   "source": [
    "#set up the 3 models we're choosing from:\n",
    "\n",
    "lm = LinearRegression()\n",
    "\n",
    "#Feature scaling for train, val, and test so that we can run our ridge model on each\n",
    "scaler = StandardScaler()\n",
    "\n",
    "X_train_scaled = scaler.fit_transform(X_train.values)\n",
    "X_val_scaled = scaler.transform(X_val.values)\n",
    "X_test_scaled = scaler.transform(X_test.values)\n",
    "\n",
    "lm_reg = Ridge(alpha=1)\n",
    "\n",
    "#Feature transforms for train, val, and test so that we can run our poly model on each\n",
    "poly = PolynomialFeatures(degree=2) \n",
    "\n",
    "X_train_poly = poly.fit_transform(X_train.values)\n",
    "X_val_poly = poly.transform(X_val.values)\n",
    "X_test_poly = poly.transform(X_test.values)\n",
    "\n",
    "lm_poly = LinearRegression()"
   ]
  },
  {
   "cell_type": "code",
   "execution_count": null,
   "metadata": {
    "ExecuteTime": {
     "end_time": "2019-10-08T21:12:07.489407Z",
     "start_time": "2019-10-08T21:11:56.490128Z"
    },
    "scrolled": true
   },
   "outputs": [],
   "source": [
    "#validate\n",
    "\n",
    "lm.fit(X_train, y_train)\n",
    "print(f'Linear Regression val R^2: {lm.score(X_val, y_val):.3f}')\n",
    "\n",
    "lm_reg.fit(X_train_scaled, y_train)\n",
    "print(f'Ridge Regression val R^2: {lm_reg.score(X_val_scaled, y_val):.3f}')\n",
    "\n",
    "lm_poly.fit(X_train_poly, y_train)\n",
    "print(f'Degree 2 polynomial regression val R^2: {lm_poly.score(X_val_poly, y_val):.3f}')"
   ]
  },
  {
   "cell_type": "code",
   "execution_count": null,
   "metadata": {
    "ExecuteTime": {
     "end_time": "2019-10-08T21:12:12.642844Z",
     "start_time": "2019-10-08T21:12:12.331803Z"
    }
   },
   "outputs": [],
   "source": [
    "for z in zip(poly.get_feature_names(), lm_poly.coef_):\n",
    "    print(z)"
   ]
  },
  {
   "cell_type": "code",
   "execution_count": null,
   "metadata": {},
   "outputs": [],
   "source": [
    "minimal_features = (\n",
    "    ['num_comments', 'isExplicit', 'sub_count', 'play_count', 'ep_total',\n",
    "     'cat_count', 'd_After_Shows', 'd_Alternative_Health', 'd_Animation_Manga',\n",
    "     'd_Arts', 'd_Automotive', 'd_Aviation', 'd_Books', 'd_Buddhism', 'd_Business',\n",
    "     'd_Business_News', 'd_Careers', 'd_Christianity', 'd_Comedy', 'd_Comedy_Fiction',\n",
    "     'd_Comedy_Interviews', 'd_Courses', 'd_Crafts', 'd_Daily_News', 'd_Design',\n",
    "     'd_Documentary', 'd_Drama', 'd_Education', 'd_Education_for_Kids', 'd_Entertainment_News',\n",
    "     'd_Entrepreneurship', 'd_Fantasy_Sports', 'd_Fashion_Beauty', 'd_Fiction', 'd_Film_History',\n",
    "     'd_Film_Reviews', 'd_Fitness', 'd_Food', 'd_Games', 'd_Games_Hobbies', 'd_Government',\n",
    "     'd_Government_Organizations', 'd_Health', 'd_Health_Fitness', 'd_Hinduism', 'd_History', 'd_Hobbies', 'd_Home_Garden', 'd_How_to', 'd_Improv', 'd_Investing', 'd_Kids_Family', 'd_Language_Learning', 'd_Leisure', 'd_Management_', 'd_Marketing', 'd_Medicine', 'd_Mental_Health', 'd_Music', 'd_Music_Commentary', 'd_Music_History', 'd_Music_Interviews', 'd_News', 'd_News_Politics', 'd_News_Commentary', 'd_Non_profit', 'd_Nutrition', 'd_Parenting', 'd_Performing_Arts', 'd_Personal_Journals', 'd_Pets_Animals', 'd_Politics', 'd_Relationships', 'd_Religion_Spirituality', 'd_Science', 'd_Science_Medicine', 'd_Science_Fiction', 'd_Self_Improvement', 'd_Sexuality', 'd_Social_Sciences', 'd_Society_Culture', 'd_Sports', 'd_Sports_Recreation', 'd_Sports_News', 'd_Standup', 'd_Stories_for_Kids', 'd_TV_Film', 'd_TV_Reviews', 'd_Tech_News', 'd_Technology', 'd_True_Crime', 'd_Video_Games', 'd_Visual_Arts', 'twitter', 'facebook', 'youtube', 'instagram', 'twitter_followers', 'page_rank_dec', 'rank', 'recent_ep_spacing', 'lifetime_ep_freq', 'avg_ep_len', 'chan_age', 'avg_ep_desc_len', 'chan_desc_len'])\n",
    "\n",
    "scaled_linear_model(data, x_cols=['','','',''])"
   ]
  },
  {
   "cell_type": "code",
   "execution_count": null,
   "metadata": {
    "ExecuteTime": {
     "end_time": "2019-10-08T21:05:23.947856Z",
     "start_time": "2019-10-08T21:05:23.942180Z"
    }
   },
   "outputs": [],
   "source": [
    "# predictors\n",
    "X = reg_df[reg_and_cat_cols]\n",
    "\n",
    "# target\n",
    "y = reg_df.play_count"
   ]
  },
  {
   "cell_type": "code",
   "execution_count": null,
   "metadata": {
    "ExecuteTime": {
     "end_time": "2019-10-08T21:05:24.709891Z",
     "start_time": "2019-10-08T21:05:24.698601Z"
    }
   },
   "outputs": [],
   "source": [
    "X_non_test, X_test, y_non_test, y_test = train_test_split(X, y, test_size=0.2,random_state=42)\n",
    "X_train, X_val, y_train, y_val = train_test_split(X_non_test, y_non_test, test_size=0.2,random_state=42)"
   ]
  },
  {
   "cell_type": "code",
   "execution_count": null,
   "metadata": {
    "ExecuteTime": {
     "end_time": "2019-10-08T21:05:51.166164Z",
     "start_time": "2019-10-08T21:05:25.496902Z"
    }
   },
   "outputs": [],
   "source": [
    "#set up the 3 models we're choosing from:\n",
    "\n",
    "lm = LinearRegression()\n",
    "\n",
    "#Feature scaling for train, val, and test so that we can run our ridge model on each\n",
    "scaler = StandardScaler()\n",
    "\n",
    "X_train_scaled = scaler.fit_transform(X_train.values)\n",
    "X_val_scaled = scaler.transform(X_val.values)\n",
    "X_test_scaled = scaler.transform(X_test.values)\n",
    "\n",
    "lm_reg = Ridge(alpha=10000)\n",
    "\n",
    "#Feature transforms for train, val, and test so that we can run our poly model on each\n",
    "poly = PolynomialFeatures(degree=3) \n",
    "\n",
    "X_train_poly = poly.fit_transform(X_train.values)\n",
    "X_val_poly = poly.transform(X_val.values)\n",
    "X_test_poly = poly.transform(X_test.values)\n",
    "\n",
    "lm_poly = LinearRegression()"
   ]
  },
  {
   "cell_type": "code",
   "execution_count": null,
   "metadata": {
    "ExecuteTime": {
     "end_time": "2019-10-08T21:07:23.290936Z",
     "start_time": "2019-10-08T21:05:53.303082Z"
    },
    "scrolled": true
   },
   "outputs": [],
   "source": [
    "#validate\n",
    "\n",
    "lm.fit(X_train, y_train)\n",
    "print(f'Linear Regression val R^2: {lm.score(X_val, y_val):.3f}')\n",
    "\n",
    "lm_reg.fit(X_train_scaled, y_train)\n",
    "print(f'Ridge Regression val R^2: {lm_reg.score(X_val_scaled, y_val):.3f}')\n",
    "\n",
    "lm_poly.fit(X_train_poly, y_train)\n",
    "print(f'Degree 3 polynomial regression val R^2: {lm_poly.score(X_val_poly, y_val):.3f}')"
   ]
  },
  {
   "cell_type": "code",
   "execution_count": null,
   "metadata": {
    "ExecuteTime": {
     "end_time": "2019-10-08T21:04:36.418535Z",
     "start_time": "2019-10-08T21:04:36.407716Z"
    }
   },
   "outputs": [],
   "source": [
    "for z in zip(reg_cols, lm.coef_):\n",
    "    print(z)"
   ]
  },
  {
   "cell_type": "code",
   "execution_count": null,
   "metadata": {
    "ExecuteTime": {
     "end_time": "2019-10-08T21:04:28.297879Z",
     "start_time": "2019-10-08T21:04:28.287103Z"
    }
   },
   "outputs": [],
   "source": [
    "for z in zip(reg_cols, lm_reg.coef_):\n",
    "    print(z)"
   ]
  },
  {
   "cell_type": "code",
   "execution_count": null,
   "metadata": {
    "ExecuteTime": {
     "end_time": "2019-10-08T21:00:59.104318Z",
     "start_time": "2019-10-08T21:00:59.091228Z"
    }
   },
   "outputs": [],
   "source": [
    "from sklearn.model_selection import KFold\n",
    "\n",
    "X, X_test, y, y_test = train_test_split(X, y, test_size=.2, random_state=10) #hold out 20% of the data for final testing\n",
    "\n",
    "#this helps with the way kf will generate indices below\n",
    "X, y = np.array(X), np.array(y)"
   ]
  },
  {
   "cell_type": "code",
   "execution_count": null,
   "metadata": {
    "ExecuteTime": {
     "end_time": "2019-10-08T21:01:52.878611Z",
     "start_time": "2019-10-08T21:01:52.751766Z"
    }
   },
   "outputs": [],
   "source": [
    "#run the CV\n",
    "\n",
    "kf = KFold(n_splits=5, shuffle=True, random_state = 71)\n",
    "cv_lm_r2s, cv_lm_reg_r2s = [], [] #collect the validation results for both models\n",
    "\n",
    "for train_ind, val_ind in kf.split(X,y):\n",
    "    \n",
    "    X_train, y_train = X[train_ind], y[train_ind]\n",
    "    X_val, y_val = X[val_ind], y[val_ind] \n",
    "    \n",
    "    #simple linear regression\n",
    "    lm = LinearRegression()\n",
    "    lm_reg = Ridge(alpha=100)\n",
    "\n",
    "    lm.fit(X_train, y_train)\n",
    "    cv_lm_r2s.append(lm.score(X_val, y_val))\n",
    "    \n",
    "    #ridge with feature scaling\n",
    "    scaler = StandardScaler()\n",
    "    X_train_scaled = scaler.fit_transform(X_train)\n",
    "    X_val_scaled = scaler.transform(X_val)\n",
    "    \n",
    "    lm_reg.fit(X_train_scaled, y_train)\n",
    "    cv_lm_reg_r2s.append(lm_reg.score(X_val_scaled, y_val))\n",
    "\n",
    "print('Simple regression scores: ', cv_lm_r2s)\n",
    "print('Ridge scores: ', cv_lm_reg_r2s, '\\n')\n",
    "\n",
    "print(f'Simple mean cv r^2: {np.mean(cv_lm_r2s):.3f} +- {np.std(cv_lm_r2s):.3f}')\n",
    "print(f'Ridge mean cv r^2: {np.mean(cv_lm_reg_r2s):.3f} +- {np.std(cv_lm_reg_r2s):.3f}')"
   ]
  },
  {
   "cell_type": "code",
   "execution_count": null,
   "metadata": {
    "ExecuteTime": {
     "end_time": "2019-10-08T21:02:15.831033Z",
     "start_time": "2019-10-08T21:02:15.808645Z"
    }
   },
   "outputs": [],
   "source": [
    "scaler = StandardScaler()\n",
    "X_scaled = scaler.fit_transform(X)\n",
    "X_test_scaled = scaler.transform(X_test)\n",
    "\n",
    "lm_reg = Ridge(alpha=1)\n",
    "lm_reg.fit(X_scaled,y)\n",
    "print(f'Ridge Regression test R^2: {lm_reg.score(X_test_scaled, y_test):.3f}')"
   ]
  },
  {
   "cell_type": "code",
   "execution_count": null,
   "metadata": {
    "ExecuteTime": {
     "end_time": "2019-10-08T21:02:39.994777Z",
     "start_time": "2019-10-08T21:02:39.930345Z"
    }
   },
   "outputs": [],
   "source": [
    "from sklearn.model_selection import cross_val_score\n",
    "lm = LinearRegression()\n",
    "\n",
    "cross_val_score(lm, X, y, # estimator, features, target\n",
    "                cv=5, # number of folds \n",
    "                scoring='r2') # scoring metric"
   ]
  },
  {
   "cell_type": "code",
   "execution_count": null,
   "metadata": {
    "ExecuteTime": {
     "end_time": "2019-10-08T21:02:59.744583Z",
     "start_time": "2019-10-08T21:02:59.674145Z"
    },
    "scrolled": true
   },
   "outputs": [],
   "source": [
    "kf = KFold(n_splits=5, shuffle=True, random_state = 71)\n",
    "cross_val_score(lm, X, y, cv=kf, scoring='r2')"
   ]
  },
  {
   "cell_type": "code",
   "execution_count": null,
   "metadata": {
    "ExecuteTime": {
     "end_time": "2019-10-08T21:03:14.870183Z",
     "start_time": "2019-10-08T21:03:14.762471Z"
    }
   },
   "outputs": [],
   "source": [
    "kf = KFold(n_splits=5, shuffle=True, random_state = 1000)\n",
    "\n",
    "print(np.mean(cross_val_score(lm, X, y, cv=kf, scoring='r2')))\n",
    "print(np.mean(cross_val_score(lm_reg, X, y, cv=kf, scoring='r2')))"
   ]
  }
 ],
 "metadata": {
  "kernelspec": {
   "display_name": "Python 3",
   "language": "python",
   "name": "python3"
  },
  "language_info": {
   "codemirror_mode": {
    "name": "ipython",
    "version": 3
   },
   "file_extension": ".py",
   "mimetype": "text/x-python",
   "name": "python",
   "nbconvert_exporter": "python",
   "pygments_lexer": "ipython3",
   "version": "3.7.4"
  },
  "toc": {
   "base_numbering": 1,
   "nav_menu": {},
   "number_sections": false,
   "sideBar": true,
   "skip_h1_title": false,
   "title_cell": "Table of Contents",
   "title_sidebar": "Contents",
   "toc_cell": true,
   "toc_position": {
    "height": "calc(100% - 180px)",
    "left": "10px",
    "top": "150px",
    "width": "273.188px"
   },
   "toc_section_display": true,
   "toc_window_display": true
  },
  "varInspector": {
   "cols": {
    "lenName": 16,
    "lenType": 16,
    "lenVar": 40
   },
   "kernels_config": {
    "python": {
     "delete_cmd_postfix": "",
     "delete_cmd_prefix": "del ",
     "library": "var_list.py",
     "varRefreshCmd": "print(var_dic_list())"
    },
    "r": {
     "delete_cmd_postfix": ") ",
     "delete_cmd_prefix": "rm(",
     "library": "var_list.r",
     "varRefreshCmd": "cat(var_dic_list()) "
    }
   },
   "position": {
    "height": "789.473px",
    "left": "750px",
    "right": "20px",
    "top": "74px",
    "width": "800px"
   },
   "types_to_exclude": [
    "module",
    "function",
    "builtin_function_or_method",
    "instance",
    "_Feature"
   ],
   "window_display": false
  },
  "widgets": {
   "application/vnd.jupyter.widget-state+json": {
    "state": {},
    "version_major": 2,
    "version_minor": 0
   }
  }
 },
 "nbformat": 4,
 "nbformat_minor": 2
}
