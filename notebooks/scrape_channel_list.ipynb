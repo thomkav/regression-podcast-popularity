{
 "cells": [
  {
   "cell_type": "markdown",
   "metadata": {
    "toc": true
   },
   "source": [
    "<h1>Table of Contents<span class=\"tocSkip\"></span></h1>\n",
    "<div class=\"toc\"><ul class=\"toc-item\"></ul></div>"
   ]
  },
  {
   "cell_type": "code",
   "execution_count": 2,
   "metadata": {
    "ExecuteTime": {
     "end_time": "2019-10-03T21:18:31.686796Z",
     "start_time": "2019-10-03T21:18:31.048309Z"
    },
    "scrolled": true
   },
   "outputs": [],
   "source": [
    "import pickle\n",
    "import random\n",
    "import sys, os\n",
    "\n",
    "# webdriver imports\n",
    "from selenium import webdriver\n",
    "from selenium.webdriver.common.keys import Keys\n",
    "chromedriver = \"/Applications/chromedriver\" # path to the chromedriver executable\n",
    "os.environ[\"webdriver.chrome.driver\"] = chromedriver\n",
    "\n",
    "import webscraping as ws"
   ]
  },
  {
   "cell_type": "code",
   "execution_count": 3,
   "metadata": {
    "ExecuteTime": {
     "end_time": "2019-10-03T21:18:33.859267Z",
     "start_time": "2019-10-03T21:18:31.699827Z"
    },
    "scrolled": false
   },
   "outputs": [
    {
     "name": "stdout",
     "output_type": "stream",
     "text": [
      "scraped so far:\n",
      "Fresh Air | The Moth | TED Talks Daily | Snap Judgment Presents: Spooked | Myths and Legends | Nice Try! | 99% Invisible | Snap Judgment | The Beauty Closet | LeVar Burton Reads\n",
      "[ skipping:  Fresh Air  ] \n",
      "[ skipping:  The Moth  ] \n",
      "[ skipping:  TED Talks Daily  ] \n",
      "[ skipping:  99% Invisible  ] \n",
      "[ skipping:  Snap Judgment Presents: Spooked  ] \n",
      "[ skipping:  Myths and Legends  ] \n",
      "[ skipping:  Nice Try!  ] \n",
      "[ skipping:  Snap Judgment  ] \n",
      "[ skipping:  The Beauty Closet  ] \n",
      "[ skipping:  LeVar Burton Reads  ] \n",
      "no more channels to scrape\n"
     ]
    }
   ],
   "source": [
    "with open('../scraped/channel/podcast_chan_dict-corrected-urls-v2.pickle', 'rb') as file:\n",
    "    chan_dict = pickle.load(file)\n",
    "    \n",
    "driver = webdriver.Chrome(chromedriver)\n",
    "ws.scrape_all_pods_in_category(chan_dict, 'Arts', driver, export=True)"
   ]
  },
  {
   "cell_type": "code",
   "execution_count": null,
   "metadata": {},
   "outputs": [],
   "source": []
  },
  {
   "cell_type": "code",
   "execution_count": null,
   "metadata": {
    "ExecuteTime": {
     "end_time": "2019-10-03T19:14:30.411720Z",
     "start_time": "2019-10-03T19:14:30.409296Z"
    },
    "scrolled": true
   },
   "outputs": [],
   "source": [
    "import re"
   ]
  },
  {
   "cell_type": "code",
   "execution_count": null,
   "metadata": {
    "ExecuteTime": {
     "end_time": "2019-10-03T19:15:02.601068Z",
     "start_time": "2019-10-03T19:15:02.592086Z"
    }
   },
   "outputs": [],
   "source": [
    "re.sub('[\\(\\)]','','(123)')"
   ]
  },
  {
   "cell_type": "code",
   "execution_count": null,
   "metadata": {
    "ExecuteTime": {
     "end_time": "2019-10-03T19:05:01.849483Z",
     "start_time": "2019-10-03T19:05:01.829644Z"
    }
   },
   "outputs": [],
   "source": [
    "with open('../scraped/channel/podcast_chan_dict-corrected-urls.pickle', 'rb') as file:\n",
    "    chan_dict = pickle.load(file)"
   ]
  },
  {
   "cell_type": "code",
   "execution_count": null,
   "metadata": {
    "ExecuteTime": {
     "end_time": "2019-10-03T18:01:49.398282Z",
     "start_time": "2019-10-03T18:01:49.394766Z"
    },
    "scrolled": true
   },
   "outputs": [],
   "source": [
    "category_keys = list(chan_dict.keys())\n",
    "print('sample of categories: \\n', ' | '.join(category_keys[:20]))"
   ]
  },
  {
   "cell_type": "code",
   "execution_count": null,
   "metadata": {
    "ExecuteTime": {
     "end_time": "2019-10-03T18:00:58.776130Z",
     "start_time": "2019-10-03T18:00:58.771585Z"
    }
   },
   "outputs": [],
   "source": [
    "# calculate total number of podcasts\n",
    "rows = 0\n",
    "\n",
    "for key in category_keys:\n",
    "    rows += len(chan_dict[key].keys())\n",
    "    \n",
    "rows"
   ]
  },
  {
   "cell_type": "code",
   "execution_count": null,
   "metadata": {
    "ExecuteTime": {
     "end_time": "2019-10-03T18:01:00.882020Z",
     "start_time": "2019-10-03T18:01:00.874657Z"
    },
    "scrolled": true
   },
   "outputs": [],
   "source": [
    "# confirm that podcasts are uniquely sorted into a single category\n",
    "\n",
    "podcast_list = []\n",
    "\n",
    "for key in category_keys:\n",
    "    for pod_name in chan_dict[key].keys():\n",
    "        podcast_list += [pod_name]\n",
    "    \n",
    "len(podcast_list)"
   ]
  },
  {
   "cell_type": "markdown",
   "metadata": {},
   "source": [
    "Great, looks like podcasts are uniquely sorted into a single category. Now let's form a sample set from a single category."
   ]
  },
  {
   "cell_type": "code",
   "execution_count": null,
   "metadata": {
    "ExecuteTime": {
     "end_time": "2019-10-03T18:10:40.285314Z",
     "start_time": "2019-10-03T18:10:40.281236Z"
    },
    "scrolled": false
   },
   "outputs": [],
   "source": [
    "test_category = 'Arts'\n",
    "test_category_list = list(chan_dict[test_category].keys())\n",
    "print(f'number of podcasts in {test_category}: ', len(test_category_list))\n",
    "print('sample: ', ' | '.join(test_category_list[:10]))"
   ]
  },
  {
   "cell_type": "code",
   "execution_count": null,
   "metadata": {
    "ExecuteTime": {
     "end_time": "2019-10-03T18:37:07.460784Z",
     "start_time": "2019-10-03T18:37:07.454936Z"
    }
   },
   "outputs": [],
   "source": [
    "def scrape_all_pods_in_category(chan_dict, category, dr, export=False):\n",
    "    '''\n",
    "    \n",
    "    Given a category name, scrape all e\n",
    "    \n",
    "    '''\n",
    "    \n",
    "    \n",
    "    output = ''\n",
    "    \n",
    "    category_list = list(chan_dict[category].keys())\n",
    "    for chan in category_list[:5]:\n",
    "        chan_url = chan_dict[category][chan]['chan_url']\n",
    "        features = ws.scrape_channel_page(chan_url, dr, window_rect=(0, 0, 600, 1000)) \n",
    "        \n",
    "        # export to csv\n",
    "        if export==True:\n",
    "            export_path = '../scraped/channel/by_category/' + category + '.csv'\n",
    "            with open(export_path, 'a') as file:\n",
    "                line = [chan_url, [features[key] for key in features.keys()]]\n",
    "                file.write(','.join(line))\n",
    "            file.close()"
   ]
  },
  {
   "cell_type": "code",
   "execution_count": null,
   "metadata": {
    "ExecuteTime": {
     "end_time": "2019-10-03T19:04:17.104163Z",
     "start_time": "2019-10-03T19:04:16.892921Z"
    }
   },
   "outputs": [],
   "source": [
    "import webscraping as ws"
   ]
  },
  {
   "cell_type": "code",
   "execution_count": null,
   "metadata": {
    "ExecuteTime": {
     "end_time": "2019-10-03T19:02:38.268264Z",
     "start_time": "2019-10-03T19:02:37.898734Z"
    }
   },
   "outputs": [],
   "source": [
    "import webscraping as ws"
   ]
  },
  {
   "cell_type": "code",
   "execution_count": null,
   "metadata": {
    "ExecuteTime": {
     "end_time": "2019-10-03T19:02:43.558590Z",
     "start_time": "2019-10-03T19:02:43.555024Z"
    }
   },
   "outputs": [],
   "source": [
    "ws.log_test()"
   ]
  },
  {
   "cell_type": "code",
   "execution_count": null,
   "metadata": {
    "ExecuteTime": {
     "end_time": "2019-10-03T18:37:30.772161Z",
     "start_time": "2019-10-03T18:37:30.703190Z"
    }
   },
   "outputs": [],
   "source": [
    "driver.close()"
   ]
  },
  {
   "cell_type": "code",
   "execution_count": null,
   "metadata": {
    "ExecuteTime": {
     "end_time": "2019-10-03T17:23:37.344887Z",
     "start_time": "2019-10-03T17:23:37.341790Z"
    }
   },
   "outputs": [],
   "source": [
    "import re"
   ]
  },
  {
   "cell_type": "code",
   "execution_count": null,
   "metadata": {
    "ExecuteTime": {
     "end_time": "2019-10-03T17:25:36.944098Z",
     "start_time": "2019-10-03T17:25:36.940356Z"
    }
   },
   "outputs": [],
   "source": [
    "category = 'Pets & Animals'\n",
    "\n",
    "# category_str = re.sub('[^A-Za-z0-9]+', '', category)\n",
    "\n",
    "export_path = '../scraped/channel/by_category/' + category + '.csv'\n",
    "\n",
    "with open(export_path, 'w') as file:\n",
    "    file.write('first line, second column')"
   ]
  },
  {
   "cell_type": "code",
   "execution_count": null,
   "metadata": {
    "ExecuteTime": {
     "end_time": "2019-10-03T17:02:10.339083Z",
     "start_time": "2019-10-03T17:02:10.336316Z"
    }
   },
   "outputs": [],
   "source": [
    "import timeit"
   ]
  },
  {
   "cell_type": "code",
   "execution_count": null,
   "metadata": {
    "ExecuteTime": {
     "end_time": "2019-10-03T17:06:39.365988Z",
     "start_time": "2019-10-03T17:03:36.918900Z"
    }
   },
   "outputs": [],
   "source": [
    "driver = webdriver.Chrome(chromedriver)\n",
    "\n",
    "def scrape_sample():\n",
    "    for chan in random.sample(swimming_chans, 10):\n",
    "        chan_url = chan_dict['Swimming'][chan]['chan_url']\n",
    "        features = ws.scrape_channel_page(chan_url, driver, hide=True)\n",
    "#         print(features['title'], features['chan_url'])\n",
    "#         print('first release: ', features['first_release'])\n",
    "\n",
    "scrape_sample()"
   ]
  },
  {
   "cell_type": "code",
   "execution_count": null,
   "metadata": {
    "ExecuteTime": {
     "end_time": "2019-10-03T16:55:57.517716Z",
     "start_time": "2019-10-03T16:55:57.504036Z"
    }
   },
   "outputs": [],
   "source": [
    "size(features)"
   ]
  },
  {
   "cell_type": "code",
   "execution_count": null,
   "metadata": {
    "ExecuteTime": {
     "end_time": "2019-10-03T16:56:10.462818Z",
     "start_time": "2019-10-03T16:56:10.457767Z"
    }
   },
   "outputs": [],
   "source": [
    "features"
   ]
  },
  {
   "cell_type": "code",
   "execution_count": null,
   "metadata": {
    "ExecuteTime": {
     "end_time": "2019-10-03T16:56:42.718981Z",
     "start_time": "2019-10-03T16:56:42.714861Z"
    }
   },
   "outputs": [],
   "source": [
    "sys.getsizeof(features)"
   ]
  },
  {
   "cell_type": "code",
   "execution_count": null,
   "metadata": {
    "ExecuteTime": {
     "end_time": "2019-10-03T19:24:14.551817Z",
     "start_time": "2019-10-03T19:24:14.546902Z"
    }
   },
   "outputs": [],
   "source": [
    "with open('../logs/scrape_log.txt', 'a') as log:\n",
    "    log.write('text')"
   ]
  },
  {
   "cell_type": "code",
   "execution_count": null,
   "metadata": {
    "ExecuteTime": {
     "end_time": "2019-10-03T18:56:38.857093Z",
     "start_time": "2019-10-03T18:56:38.854540Z"
    }
   },
   "outputs": [],
   "source": [
    "import datetime as dt"
   ]
  },
  {
   "cell_type": "code",
   "execution_count": null,
   "metadata": {
    "ExecuteTime": {
     "end_time": "2019-10-03T18:56:51.625719Z",
     "start_time": "2019-10-03T18:56:51.621672Z"
    }
   },
   "outputs": [],
   "source": [
    "str(dt.datetime.now())"
   ]
  },
  {
   "cell_type": "code",
   "execution_count": null,
   "metadata": {
    "ExecuteTime": {
     "end_time": "2019-10-03T19:31:20.967187Z",
     "start_time": "2019-10-03T19:31:20.949300Z"
    }
   },
   "outputs": [],
   "source": [
    "with open('../scraped/channel/podcast_chan_dict-corrected-urls.pickle', 'rb') as file:\n",
    "    url_list = pickle.load(file)\n",
    "    file.close()"
   ]
  },
  {
   "cell_type": "code",
   "execution_count": null,
   "metadata": {
    "ExecuteTime": {
     "end_time": "2019-10-03T19:32:09.098297Z",
     "start_time": "2019-10-03T19:32:09.095445Z"
    }
   },
   "outputs": [],
   "source": [
    "url_list['Arts']['99% Invisible']['chan_url'] = 'https://castbox.fm/channel/id18'"
   ]
  },
  {
   "cell_type": "code",
   "execution_count": null,
   "metadata": {
    "ExecuteTime": {
     "end_time": "2019-10-03T19:32:35.668129Z",
     "start_time": "2019-10-03T19:32:35.652658Z"
    }
   },
   "outputs": [],
   "source": [
    "with open('../scraped/channel/podcast_chan_dict-corrected-urls-v2.pickle', 'wb') as file:\n",
    "    pickle.dump(url_list, file)\n",
    "    file.close()"
   ]
  },
  {
   "cell_type": "code",
   "execution_count": null,
   "metadata": {
    "ExecuteTime": {
     "end_time": "2019-10-03T20:38:18.207933Z",
     "start_time": "2019-10-03T20:38:17.478203Z"
    }
   },
   "outputs": [],
   "source": [
    "import pandas as pd"
   ]
  },
  {
   "cell_type": "code",
   "execution_count": null,
   "metadata": {
    "ExecuteTime": {
     "end_time": "2019-10-03T20:13:53.008485Z",
     "start_time": "2019-10-03T20:13:52.862664Z"
    }
   },
   "outputs": [],
   "source": [
    "with open('../scraped/channel/by_category/Arts.csv', 'r') as file:\n",
    "    scraped = pd.read_csv(file)\n",
    "    \n",
    "    for line in file:\n",
    "        line\n",
    "fil"
   ]
  },
  {
   "cell_type": "code",
   "execution_count": null,
   "metadata": {
    "ExecuteTime": {
     "end_time": "2019-10-03T20:27:51.695598Z",
     "start_time": "2019-10-03T20:27:51.692516Z"
    }
   },
   "outputs": [],
   "source": [
    "d = {'dict': 10}"
   ]
  },
  {
   "cell_type": "code",
   "execution_count": null,
   "metadata": {
    "ExecuteTime": {
     "end_time": "2019-10-03T20:27:53.482812Z",
     "start_time": "2019-10-03T20:27:53.469465Z"
    }
   },
   "outputs": [],
   "source": [
    "str(d)"
   ]
  },
  {
   "cell_type": "code",
   "execution_count": null,
   "metadata": {
    "ExecuteTime": {
     "end_time": "2019-10-03T20:43:04.028742Z",
     "start_time": "2019-10-03T20:43:04.016382Z"
    }
   },
   "outputs": [],
   "source": [
    "with open('../scraped/channel/already_scraped.csv', 'r') as file:\n",
    "        scraped = pd.read_csv(file, names=['chan_title','chan_url','category'])\n",
    "scraped"
   ]
  },
  {
   "cell_type": "code",
   "execution_count": null,
   "metadata": {
    "ExecuteTime": {
     "end_time": "2019-10-03T20:46:03.564220Z",
     "start_time": "2019-10-03T20:46:03.557523Z"
    }
   },
   "outputs": [],
   "source": [
    "len(scraped[scraped.chan_title == 'Fresh Air'])"
   ]
  },
  {
   "cell_type": "code",
   "execution_count": 7,
   "metadata": {
    "ExecuteTime": {
     "end_time": "2019-10-03T21:11:53.019674Z",
     "start_time": "2019-10-03T21:11:53.015077Z"
    }
   },
   "outputs": [],
   "source": [
    "\n",
    "file_name = '../scraped/channel/by_category/test_duplicate_removal.txt'\n",
    "\n",
    "lines_seen = set() # holds lines already seen\n",
    "\n",
    "outfile = open('../scraped/channel/by_category/test_duplicate_removal.txt', \"w\")\n",
    "for line in open(file_name, \"r\"):\n",
    "    if line == '\\n':\n",
    "        outfile.write(line)\n",
    "    elif line not in lines_seen: # not a duplicate\n",
    "        outfile.write(line)\n",
    "        lines_seen.add(line)\n",
    "outfile.close()"
   ]
  },
  {
   "cell_type": "code",
   "execution_count": 18,
   "metadata": {
    "ExecuteTime": {
     "end_time": "2019-10-03T21:15:55.771119Z",
     "start_time": "2019-10-03T21:15:55.762976Z"
    }
   },
   "outputs": [
    {
     "name": "stdout",
     "output_type": "stream",
     "text": [
      "38\n",
      "31\n"
     ]
    }
   ],
   "source": [
    "# Clean up Arts category (used for testing)\n",
    "\n",
    "outfile = open('../scraped/channel/by_category/Arts_cleaned.txt', \"w\")\n",
    "\n",
    "lines_seen = set()\n",
    "old_line_count = 0\n",
    "new_line_count = 0\n",
    "for line in open('../scraped/channel/by_category/Arts.txt', \"r\"):\n",
    "    old_line_count += 1\n",
    "    if line == '\\n':\n",
    "        outfile.write(line)\n",
    "        new_line_count += 1\n",
    "    elif line not in lines_seen: # not a duplicate\n",
    "        outfile.write(line)\n",
    "        lines_seen.add(line)\n",
    "        new_line_count += 1\n",
    "outfile.close()\n",
    "\n",
    "print(old_line_count)\n",
    "print(new_line_count)"
   ]
  },
  {
   "cell_type": "code",
   "execution_count": null,
   "metadata": {},
   "outputs": [],
   "source": []
  }
 ],
 "metadata": {
  "kernelspec": {
   "display_name": "Python 3",
   "language": "python",
   "name": "python3"
  },
  "language_info": {
   "codemirror_mode": {
    "name": "ipython",
    "version": 3
   },
   "file_extension": ".py",
   "mimetype": "text/x-python",
   "name": "python",
   "nbconvert_exporter": "python",
   "pygments_lexer": "ipython3",
   "version": "3.7.4"
  },
  "toc": {
   "base_numbering": 1,
   "nav_menu": {},
   "number_sections": false,
   "sideBar": true,
   "skip_h1_title": false,
   "title_cell": "Table of Contents",
   "title_sidebar": "Contents",
   "toc_cell": true,
   "toc_position": {},
   "toc_section_display": true,
   "toc_window_display": false
  },
  "varInspector": {
   "cols": {
    "lenName": 16,
    "lenType": 16,
    "lenVar": 40
   },
   "kernels_config": {
    "python": {
     "delete_cmd_postfix": "",
     "delete_cmd_prefix": "del ",
     "library": "var_list.py",
     "varRefreshCmd": "print(var_dic_list())"
    },
    "r": {
     "delete_cmd_postfix": ") ",
     "delete_cmd_prefix": "rm(",
     "library": "var_list.r",
     "varRefreshCmd": "cat(var_dic_list()) "
    }
   },
   "position": {
    "height": "358px",
    "left": "594px",
    "right": "20px",
    "top": "115px",
    "width": "510px"
   },
   "types_to_exclude": [
    "module",
    "function",
    "builtin_function_or_method",
    "instance",
    "_Feature"
   ],
   "window_display": false
  }
 },
 "nbformat": 4,
 "nbformat_minor": 2
}
