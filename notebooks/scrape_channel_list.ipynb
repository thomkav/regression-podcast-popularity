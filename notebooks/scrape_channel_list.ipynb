{
 "cells": [
  {
   "cell_type": "markdown",
   "metadata": {
    "toc": true
   },
   "source": [
    "<h1>Table of Contents<span class=\"tocSkip\"></span></h1>\n",
    "<div class=\"toc\"><ul class=\"toc-item\"></ul></div>"
   ]
  },
  {
   "cell_type": "code",
   "execution_count": 1,
   "metadata": {
    "ExecuteTime": {
     "end_time": "2019-10-06T03:59:52.080285Z",
     "start_time": "2019-10-06T03:59:51.392291Z"
    },
    "scrolled": false
   },
   "outputs": [],
   "source": [
    "import pickle\n",
    "import random\n",
    "import sys, os\n",
    "\n",
    "# webdriver imports\n",
    "from selenium import webdriver\n",
    "from selenium.webdriver.common.keys import Keys\n",
    "chromedriver = \"/Applications/chromedriver\" # path to the chromedriver executable\n",
    "os.environ[\"webdriver.chrome.driver\"] = chromedriver\n",
    "\n",
    "import webscraping as ws"
   ]
  },
  {
   "cell_type": "code",
   "execution_count": 2,
   "metadata": {
    "ExecuteTime": {
     "end_time": "2019-10-06T03:59:52.270669Z",
     "start_time": "2019-10-06T03:59:52.249933Z"
    }
   },
   "outputs": [],
   "source": [
    "with open('../scraped/channel/podcast_chan_dict-corrected-urls-v2.pickle', 'rb') as file:\n",
    "    chan_dict = pickle.load(file)"
   ]
  },
  {
   "cell_type": "code",
   "execution_count": 3,
   "metadata": {
    "ExecuteTime": {
     "end_time": "2019-10-06T03:59:53.097188Z",
     "start_time": "2019-10-06T03:59:53.094786Z"
    },
    "scrolled": false
   },
   "outputs": [],
   "source": [
    "# print all categories to scrape\n",
    "cat_names = chan_dict.keys()\n",
    "# print(cat_names)"
   ]
  },
  {
   "cell_type": "code",
   "execution_count": null,
   "metadata": {
    "ExecuteTime": {
     "start_time": "2019-10-06T03:59:53.424Z"
    },
    "scrolled": true
   },
   "outputs": [
    {
     "name": "stdout",
     "output_type": "stream",
     "text": [
      "Scraping Arts category...\n",
      "trying to scrape  https://castbox.fm/channel/hey%2C-girl.-id2187174  attempt # 1\n",
      "scraping.......  hey, girl.\n",
      "COMPLETED scraping  hey, girl.\n",
      "trying to scrape  https://castbox.fm/channel/Audio-Poem-of-the-Day-id251  attempt # 1\n",
      "scraping.......  Audio Poem of the Day\n",
      "Episode total scraped as non-integer... rescraping  Audio Poem of the Day\n",
      "\n",
      "trying to scrape  https://castbox.fm/channel/Audio-Poem-of-the-Day-id251  attempt # 2\n",
      "scraping.......  Audio Poem of the Day\n",
      "checkpoint A\n",
      "checkpoint B\n",
      "checkpoint B-2\n",
      "checkpoint C\n",
      "checkpoint D\n",
      "checkpoint E\n",
      "checkpoint F\n",
      "COMPLETED scraping  Audio Poem of the Day\n",
      "trying to scrape  https://castbox.fm/channel/Still-Watching%3A-Succession-id1118320  attempt # 1\n",
      "scraping.......  Still Watching: Succession\n",
      "COMPLETED scraping  Still Watching: Succession\n",
      "trying to scrape  https://castbox.fm/channel/Dressed%3A-The-History-of-Fashion-id1210273  attempt # 1\n",
      "scraping.......  Dressed: The History of Fashion\n",
      "Episode total scraped as non-integer... rescraping  Dressed: The History of Fashion\n",
      "\n",
      "trying to scrape  https://castbox.fm/channel/Dressed%3A-The-History-of-Fashion-id1210273  attempt # 2\n",
      "scraping.......  Dressed: The History of Fashion\n",
      "checkpoint A\n",
      "checkpoint B\n",
      "checkpoint B-2\n",
      "checkpoint C\n",
      "checkpoint D\n",
      "checkpoint E\n",
      "checkpoint F\n",
      "COMPLETED scraping  Dressed: The History of Fashion\n",
      "trying to scrape  https://castbox.fm/channel/Creative-Pep-Talk-id2171958  attempt # 1\n",
      "scraping.......  Creative Pep Talk\n",
      "Episode total scraped as non-integer... rescraping  Creative Pep Talk\n",
      "\n",
      "trying to scrape  https://castbox.fm/channel/Creative-Pep-Talk-id2171958  attempt # 2\n",
      "scraping.......  Creative Pep Talk\n",
      "checkpoint A\n",
      "checkpoint B\n",
      "checkpoint B-2\n",
      "checkpoint C\n",
      "checkpoint D\n",
      "checkpoint E\n",
      "checkpoint F\n",
      "COMPLETED scraping  Creative Pep Talk\n",
      "trying to scrape  https://castbox.fm/channel/Wine-for-Normal-People-id386261  attempt # 1\n",
      "scraping.......  Wine for Normal People\n",
      "Episode total scraped as non-integer... rescraping  Wine for Normal People\n",
      "\n",
      "trying to scrape  https://castbox.fm/channel/Wine-for-Normal-People-id386261  attempt # 2\n",
      "scraping.......  Wine for Normal People\n",
      "checkpoint A\n",
      "checkpoint B\n",
      "checkpoint B-2\n",
      "checkpoint C\n",
      "checkpoint D\n",
      "checkpoint E\n",
      "checkpoint F\n",
      "COMPLETED scraping  Wine for Normal People\n",
      "trying to scrape  https://castbox.fm/channel/The-Good-Parts-with-Andy-Grammer-id1362808  attempt # 1\n",
      "scraping.......  The Good Parts with Andy Grammer\n",
      "Failed scrape for  The Good Parts with Andy Grammer  rescraping...\n",
      "trying to scrape  https://castbox.fm/channel/The-Good-Parts-with-Andy-Grammer-id1362808  attempt # 2\n",
      "scraping.......  The Good Parts with Andy Grammer\n",
      "checkpoint A\n",
      "checkpoint B\n",
      "checkpoint B-2\n",
      "checkpoint C\n",
      "checkpoint D\n",
      "checkpoint E\n",
      "checkpoint F\n",
      "COMPLETED scraping  The Good Parts with Andy Grammer\n",
      "trying to scrape  https://castbox.fm/channel/The-Hamilcast%3A-A-Hamilton-Podcast-id1366251  attempt # 1\n",
      "scraping.......  The Hamilcast: A Hamilton Podcast\n",
      "COMPLETED scraping  The Hamilcast: A Hamilton Podcast\n",
      "trying to scrape  https://castbox.fm/channel/Naked-on-Cashmere-id2273537  attempt # 1\n",
      "scraping.......  Naked on Cashmere\n",
      "Failed scrape for  Naked on Cashmere  rescraping...\n",
      "trying to scrape  https://castbox.fm/channel/Naked-on-Cashmere-id2273537  attempt # 2\n",
      "scraping.......  Naked on Cashmere\n",
      "checkpoint A\n",
      "checkpoint B\n",
      "checkpoint B-2\n",
      "checkpoint C\n",
      "checkpoint D\n",
      "checkpoint E\n",
      "checkpoint F\n",
      "COMPLETED scraping  Naked on Cashmere\n",
      "trying to scrape  https://castbox.fm/channel/All-the-Books!-id1185119  attempt # 1\n",
      "scraping.......  All the Books!\n",
      "Episode total scraped as non-integer... rescraping  All the Books!\n",
      "\n",
      "trying to scrape  https://castbox.fm/channel/All-the-Books!-id1185119  attempt # 2\n",
      "scraping.......  All the Books!\n",
      "checkpoint A\n",
      "checkpoint B\n",
      "checkpoint B-2\n",
      "checkpoint C\n",
      "checkpoint D\n",
      "checkpoint E\n",
      "checkpoint F\n",
      "COMPLETED scraping  All the Books!\n",
      "trying to scrape  https://castbox.fm/channel/Overdue-id7838  attempt # 1\n",
      "scraping.......  Overdue\n",
      "COMPLETED scraping  Overdue\n",
      "trying to scrape  https://castbox.fm/channel/Read-Me-Romance-id1457118  attempt # 1\n",
      "scraping.......  Read Me Romance\n",
      "Episode total scraped as non-integer... rescraping  Read Me Romance\n",
      "\n",
      "trying to scrape  https://castbox.fm/channel/Read-Me-Romance-id1457118  attempt # 2\n",
      "scraping.......  Read Me Romance\n",
      "checkpoint A\n",
      "checkpoint B\n",
      "checkpoint B-2\n",
      "checkpoint C\n",
      "checkpoint D\n",
      "checkpoint E\n",
      "checkpoint F\n",
      "COMPLETED scraping  Read Me Romance\n",
      "trying to scrape  https://castbox.fm/channel/Manifest-with-Tori-DeSimone-id2116328  attempt # 1\n",
      "scraping.......  Manifest with Tori DeSimone\n",
      "Failed scrape for  Manifest with Tori DeSimone  rescraping...\n",
      "trying to scrape  https://castbox.fm/channel/Manifest-with-Tori-DeSimone-id2116328  attempt # 2\n",
      "scraping.......  Manifest with Tori DeSimone\n",
      "checkpoint A\n",
      "checkpoint B\n",
      "checkpoint B-2\n",
      "checkpoint C\n",
      "checkpoint D\n",
      "checkpoint E\n",
      "checkpoint F\n",
      "COMPLETED scraping  Manifest with Tori DeSimone\n",
      "trying to scrape  https://castbox.fm/channel/Hungry-Girl%3A-Chew-the-Right-Thing!-id1278513  attempt # 1\n",
      "scraping.......  Hungry Girl: Chew the Right Thing!\n",
      "Episode total scraped as non-integer... rescraping  Hungry Girl: Chew the Right Thing!\n",
      "\n",
      "trying to scrape  https://castbox.fm/channel/Hungry-Girl%3A-Chew-the-Right-Thing!-id1278513  attempt # 2\n",
      "scraping.......  Hungry Girl: Chew the Right Thing!\n",
      "checkpoint A\n",
      "checkpoint B\n",
      "checkpoint B-2\n",
      "checkpoint C\n",
      "checkpoint D\n",
      "checkpoint E\n",
      "checkpoint F\n",
      "COMPLETED scraping  Hungry Girl: Chew the Right Thing!\n",
      "trying to scrape  https://castbox.fm/channel/Savor-id1209191  attempt # 1\n",
      "scraping.......  Savor\n",
      "COMPLETED scraping  Savor\n",
      "trying to scrape  https://castbox.fm/channel/Writing-Excuses-id1240999  attempt # 1\n",
      "scraping.......  Writing Excuses\n",
      "COMPLETED scraping  Writing Excuses\n",
      "trying to scrape  https://castbox.fm/channel/Fictional-id1002744  attempt # 1\n",
      "scraping.......  Fictional\n",
      "COMPLETED scraping  Fictional\n",
      "trying to scrape  https://castbox.fm/channel/Betches-Brides-id2133267  attempt # 1\n",
      "scraping.......  Betches Brides\n",
      "COMPLETED scraping  Betches Brides\n",
      "trying to scrape  https://castbox.fm/channel/Fat-Mascara-id395006  attempt # 1\n",
      "scraping.......  Fat Mascara\n",
      "COMPLETED scraping  Fat Mascara\n",
      "trying to scrape  https://castbox.fm/channel/goopfellas-id2086428  attempt # 1\n",
      "scraping.......  goopfellas\n",
      "Failed scrape for  goopfellas  rescraping...\n",
      "trying to scrape  https://castbox.fm/channel/goopfellas-id2086428  attempt # 2\n",
      "scraping.......  goopfellas\n",
      "checkpoint A\n",
      "checkpoint B\n",
      "checkpoint B-2\n",
      "checkpoint C\n",
      "checkpoint D\n",
      "checkpoint E\n",
      "checkpoint F\n",
      "COMPLETED scraping  goopfellas\n",
      "trying to scrape  https://castbox.fm/channel/The-Scarecast-id320  attempt # 1\n",
      "scraping.......  The Scarecast\n",
      "COMPLETED scraping  The Scarecast\n",
      "trying to scrape  https://castbox.fm/channel/Tangentially-Speaking-with-Christopher-Ryan-id214  attempt # 1\n",
      "scraping.......  Tangentially Speaking with Christopher Ryan\n",
      "COMPLETED scraping  Tangentially Speaking with Christopher Ryan\n",
      "trying to scrape  https://castbox.fm/channel/Mystery-Show-id1484198  attempt # 1\n",
      "scraping.......  Mystery Show\n",
      "COMPLETED scraping  Mystery Show\n",
      "trying to scrape  https://castbox.fm/channel/Women-of-Harry-Potter-id2161072  attempt # 1\n",
      "scraping.......  Women of Harry Potter\n",
      "Failed scrape for  Women of Harry Potter  rescraping...\n",
      "trying to scrape  https://castbox.fm/channel/Women-of-Harry-Potter-id2161072  attempt # 2\n",
      "scraping.......  Women of Harry Potter\n",
      "checkpoint A\n",
      "checkpoint B\n",
      "checkpoint B-2\n",
      "checkpoint C\n",
      "checkpoint D\n",
      "checkpoint E\n",
      "checkpoint F\n",
      "COMPLETED scraping  Women of Harry Potter\n",
      "trying to scrape  https://castbox.fm/channel/The-Color-Files-id2190495  attempt # 1\n",
      "scraping.......  The Color Files\n",
      "COMPLETED scraping  The Color Files\n",
      "trying to scrape  https://castbox.fm/channel/TED-Talks-Art-id29  attempt # 1\n",
      "scraping.......  TED Talks Art\n",
      "COMPLETED scraping  TED Talks Art\n",
      "trying to scrape  https://castbox.fm/channel/Paul-Allen-id1045071  attempt # 1\n",
      "scraping.......  Paul Allen\n",
      "Failed scrape for  Paul Allen  rescraping...\n",
      "trying to scrape  https://castbox.fm/channel/Paul-Allen-id1045071  attempt # 2\n",
      "scraping.......  Paul Allen\n",
      "checkpoint A\n",
      "checkpoint B\n",
      "checkpoint B-2\n",
      "checkpoint C\n",
      "checkpoint D\n",
      "checkpoint E\n",
      "checkpoint F\n",
      "COMPLETED scraping  Paul Allen\n",
      "trying to scrape  https://castbox.fm/channel/The-Moonlit-Road-Podcast-id275  attempt # 1\n",
      "scraping.......  The Moonlit Road Podcast\n",
      "COMPLETED scraping  The Moonlit Road Podcast\n"
     ]
    },
    {
     "name": "stdout",
     "output_type": "stream",
     "text": [
      "trying to scrape  https://castbox.fm/channel/Pia's-Pod-id2229743  attempt # 1\n",
      "scraping.......  Pia's Pod\n",
      "COMPLETED scraping  Pia's Pod\n",
      "trying to scrape  https://castbox.fm/channel/How-to-Decorate-id2302592  attempt # 1\n",
      "scraping.......  How to Decorate\n",
      "COMPLETED scraping  How to Decorate\n",
      "trying to scrape  https://castbox.fm/channel/Philosophy-Bites-id144  attempt # 1\n",
      "scraping.......  Philosophy Bites\n",
      "COMPLETED scraping  Philosophy Bites\n",
      "trying to scrape  https://castbox.fm/channel/Clever-id1364174  attempt # 1\n",
      "scraping.......  Clever\n",
      "Failed scrape for  Clever  rescraping...\n",
      "trying to scrape  https://castbox.fm/channel/Clever-id1364174  attempt # 2\n",
      "scraping.......  Clever\n",
      "checkpoint A\n",
      "checkpoint B\n",
      "checkpoint B-2\n",
      "checkpoint C\n",
      "checkpoint D\n",
      "checkpoint E\n",
      "checkpoint F\n",
      "COMPLETED scraping  Clever\n",
      "trying to scrape  https://castbox.fm/channel/Breaking-Beauty-Podcast-id1181286  attempt # 1\n",
      "scraping.......  Breaking Beauty Podcast\n",
      "COMPLETED scraping  Breaking Beauty Podcast\n",
      "trying to scrape  https://castbox.fm/channel/The-Horror!-(Old-Time-Radio)-id168  attempt # 1\n",
      "scraping.......  The Horror! (Old Time Radio)\n",
      "COMPLETED scraping  The Horror! (Old Time Radio)\n",
      "trying to scrape  https://castbox.fm/channel/Reading-Ferdowsi-فردوسی-خوانی-id1452627  attempt # 1\n",
      "scraping.......  Reading Ferdowsi فردوسی خوانی\n",
      "COMPLETED scraping  Reading Ferdowsi فردوسی خوانی\n",
      "trying to scrape  https://castbox.fm/channel/Proof-id1455313  attempt # 1\n",
      "scraping.......  Proof\n",
      "COMPLETED scraping  Proof\n",
      "trying to scrape  https://castbox.fm/channel/Eater's-Digest-id1993440  attempt # 1\n",
      "scraping.......  Eater's Digest\n",
      "Failed scrape for  Eater's Digest  rescraping...\n",
      "trying to scrape  https://castbox.fm/channel/Eater's-Digest-id1993440  attempt # 2\n",
      "scraping.......  Eater's Digest\n",
      "checkpoint A\n",
      "checkpoint B\n",
      "checkpoint B-2\n",
      "checkpoint C\n",
      "checkpoint D\n",
      "checkpoint E\n",
      "checkpoint F\n",
      "COMPLETED scraping  Eater's Digest\n"
     ]
    }
   ],
   "source": [
    "# Initiate Scrape of All Categories:\n",
    "\n",
    "categories = [str(cat) for cat in chan_dict.keys()]\n",
    "\n",
    "for cat in categories:\n",
    "    \n",
    "    driver = webdriver.Chrome(chromedriver)\n",
    "    \n",
    "    try:\n",
    "        ws.scrape_all_pods_in_category(chan_dict, cat, driver, export=True)\n",
    "    except:\n",
    "        try:\n",
    "            driver.quit()\n",
    "        except:\n",
    "            pass\n",
    "    try:\n",
    "        driver.quit()\n",
    "    except:\n",
    "        continue"
   ]
  },
  {
   "cell_type": "code",
   "execution_count": 4,
   "metadata": {
    "ExecuteTime": {
     "end_time": "2019-10-06T03:15:18.798075Z",
     "start_time": "2019-10-06T03:13:20.901651Z"
    },
    "collapsed": true
   },
   "outputs": [
    {
     "name": "stdout",
     "output_type": "stream",
     "text": [
      "Scraping Arts category...\n",
      "scraping.......  A Piece of Work\n",
      "2017-08-09 00:21:33 9\n",
      "2017-08-07 00:20:29 7\n",
      "2017-08-02 00:22:33 9\n",
      "2017-07-31 00:22:18 5\n",
      "2017-07-26 00:26:38 6\n",
      "2017-07-24 00:17:01 6\n",
      "2017-07-19 00:19:21 7\n",
      "2017-07-17 00:23:57 4\n",
      "2017-07-12 00:15:21 6\n",
      "2017-07-10 00:18:20 7\n",
      "COMPLETED scraping  A Piece of Work\n",
      "[['2017-08-09', '00:21:33', 9], ['2017-08-07', '00:20:29', 7], ['2017-08-02', '00:22:33', 9], ['2017-07-31', '00:22:18', 5], ['2017-07-26', '00:26:38', 6], ['2017-07-24', '00:17:01', 6], ['2017-07-19', '00:19:21', 7], ['2017-07-17', '00:23:57', 4], ['2017-07-12', '00:15:21', 6], ['2017-07-10', '00:18:20', 7]]  has len  10\n",
      "DEBUG: features dictionary for  A Piece of Work\n",
      "{'title': 'A Piece of Work', 'chan_url': 'https://castbox.fm/channel/A-Piece-of-Work-id947249', 'num_comments': 11, 'author': 'WNYC Studios', 'isExplicit': 0, 'sub_count': 4473, 'play_count': 14110, 'ch_feed-socials': ['https://www.facebook.com/WNYCStudios', 'https://www.wnycstudios.org/podcasts/pieceofwork'], 'ep_total': 11, 'recent_eps': [['2017-08-09', '00:21:33', 9], ['2017-08-07', '00:20:29', 7], ['2017-08-02', '00:22:33', 9], ['2017-07-31', '00:22:18', 5], ['2017-07-26', '00:26:38', 6], ['2017-07-24', '00:17:01', 6], ['2017-07-19', '00:19:21', 7], ['2017-07-17', '00:23:57', 4], ['2017-07-12', '00:15:21', 6], ['2017-07-10', '00:18:20', 7]], 'hover_text_concat': 'There are new paintings and drawings by Sol LeWitt being made all the time -- even though the artist died in 2007. That’s possible because LeWitt’s wrote instructions for creating his works \\xa0art, for other people to make. Abbi and writer Samantha Irby consider a piece by Glenn Ligon that takes a line by Zora Neale Hurston and repeats it over and over -- transforming the text into something new. Plus, Martine Syms\\xa0tells Abbi why she puts giant letters right on the gallery walls.Also featuring: Mark Joshua EpsteinSpecial thanks to Tracie Hunte and Brianne Doak.\\xa0Sol LeWitt. Wall Drawing #1144, Broken Bands of Color in Four Directions. 2004. Synthetic polymer paint on wall, 8\\' x 37\\' (243.8 x 1127.8 cm)(The Museum of Modern Art, New York. Given anonymously. © 2017 Sol LeWitt/Artists Rights Society (ARS), New York)\\xa0\\xa0Glenn Ligon. Untitled (How it feels to be colored me...Doubled). 1991. Oilstick on paper, 31 3/4 x 16\" (80.6 x 41 cm).(The Museum of Modern Art, New York. Gift of The Bohen Foundation. © 2017 Glenn Ligon)\\xa0\\xa0 | Emojis, video games, even the humble “@” symbol -- all these staples of digital life have been as carefully designed as the most sleek furniture or fancy architecture. But do they belong in a museum? Hell yes, says Abbi’s friend Ahmir Thompson (a.k.a. Questlove, and emoji obsessive). If you find yourself wondering if it’s allowed, “then it\\'s pretty much high art,” he says.Also featuring: Paola Antonelli\\xa0Ray Tomlinson. @. 1971. The Museum of Modern Art, New York.David Theurer. Tempest. 1981. Publisher: Atari, Inc., USA.(The Museum of Modern Art, New York. Gift of Atari Interactive, Inc. © 2013 Atari, Inc.)\\xa0 | Andy Warhol’s “Campbell’s Soup Cans” has got to be one of the most famous images of the 20th century. But at the time, Warhol’s use of advertising and imagery from consumer culture was super controversial. So was his unabashed desire to become famous. Abbi and Rookie editor Tavi Gevinson wonder what Warhol might do in an age of social media. Then, Abbi gets a behind-the-scenes look at the work of Beatriz González, whose posters covered the city of Bogatá in a brave gesture of political expression.Also featuring: Sarah Suzuki\\xa0Andy Warhol. Campbell\\'s Soup Cans. 1962. Synthetic polymer paint on 32 canvases, each canvas 20 x 16\" (50.8 x 40.6 cm). Overall installation with 3\" between each panel is 97\" high x 163\" wide.(The Museum of Modern Art, New York. © 2017 Andy Warhol Foundation/ARS, NY/TM Licensed by Campbell\\'s Soup Co. All rights reserved.)\\xa0Beatriz González. Zócalo de la comedia. 1983. One from a set of six linoleum cuts, each 27 9/16 x 39 3/8\" (70 x 100 cm).(The Museum of Modern Art, New York. Publisher: the artist, Bogata. Edition: approx. 500. Latin American and Caribbean Fund. © 2017 Beatriz González)\\xa0Beatriz González. Zócalo de la tragedia. 1983. One from a set of six linoleum cuts, each 27 9/16 x 39 3/8\" (70 x 100 cm).(The Museum of Modern Art, New York. Publisher: the artist, Bogata. Edition: approx. 500. Latin American and Caribbean Fund. © 2017 Beatriz González)\\xa0\\xa0 | Way before viral videos, since the invention of the medium in the 1960s, artists have made video to critique the culture around them. Howardena Pindell delivers a direct-to-camera account of the racism she experienced coming of age as a black woman in America; Martine Syms tells her characters’ stories across several screens -- from flatscreens to smartphones. Abbi and the comedian Hannibal Buress ponder the sweeping shots in Steve McQueen’s video of the Statue of Liberty. Plus, hear one of Abbi’s own video experiments from her art school days!Also featuring: Thelma Golden and Thomas LaxSteve McQueen. Static. 2009. 35mm film transferred to video (color, sound), 7:03 min. Digital image © 2017 The Museum of Modern Art. Photo: John Wronn.(The Museum of Modern Art, New York. The Michael H. Dunn Memorial Fund. Installation view, Inbox: Steve McQueen, The Museum of Modern Art, New York, May 3–Summer 2017. © 2017 Steve McQueen.)Howardena Pindell. Free, White and 21. 1980. Video (color, sound), 12:15 min. The Museum of Modern Art, New York.(Gift of Jerry I. Speyer and Katherine G. Farley, Anna Marie and Robert F. Shapiro, and Marie-Josée and Henry R. Kravis. © 2017 Howardena Pindell. Courtesy of the artist and The Kitchen, New York)Installation view of Projects 106: Martine Syms.(The Museum of Modern Art, New York, May 27–July 16, 2017. © 2017 The Museum of Modern Art. Photo: John Wronn)\\xa0\\xa0 | A dozen dancers rolling around in their underwear, rubbing raw chickens and fish on each other. No, it’s not some weird ‘60s porn, it’s a performance -- Abbi talks with the feminist artist behind the piece, Carolee Schneemann. Performance art like this can be a bit funny, a bit confusing, and definitely weird. Who better to get to the bottom of it than\\xa0RuPaul? He and Abbi also watch a performance by Yoko Ono, where she sat alone on stage and invited members of the audience to cut her clothes off...Also featuring: Thomas LaxCarolee Schneemann. Meat Joy. 1964–2010. 16mm film transferred to video (color, sound), 6 min. The Museum of Modern Art, New York.Gift of Jerry I. Speyer and Katherine G. Farley, Anna Marie and Robert F. Shapiro, and Marie-Josée and Henry R. Kravis. ©2017 Carolee Schneemann. Courtesy Electronic Arts Intermix (EAI), New YorkWatch\\xa0Yoko Ono\\'s\\xa0Cut Piece (1964)Learn more about\\xa0Cut Piece\\xa0here | Some artworks seem crazy simple -- like a stack of metal boxes or a group of white paintings. Minimalism rejected the idea that art should express the artist’s feelings or depict the visible world, or even be made from traditional art materials. Jo Baer\\xa0and Donald Judd\\xa0made art that explores the relationship between colors or objects and space -- and Abbi discovers there\\'s more to simplicity than meets the eye.Also featuring: Mark Joshua Epstein, Flavin JuddDonald Judd. Untitled. 1967. Lacquer on galvanized iron; 12 units, each 9 x 40 x 31\" (22.8 x 101.6 x 78.7 cm), installed vertically with 9\" (22.8 cm) intervals.(The Museum of Modern Art, New York. Helen Acheson Bequest (by exchange) and gift of Joseph Helman. © Judd Foundation/Artists Rights Society (ARS), New York)Learn more about Donald Judd and\\xa0101 Spring Street\\xa0hereJo Baer. Primary Light Group: Red, Green, Blue. 1964–65. Oil and synthetic polymer paint on canvas, three panels, each panel 60 x 60\" (152.4 x 152.4 cm)(The Museum of Modern Art, New York. Philip Johnson Fund. © 2017 Jo Baer)\\xa0\\xa0 | Abbi brings her friend the hilarious essayist Samantha Irby to MoMA PS1 to see one of the trippiest works they’ve ever experienced: “Meeting” by James Turrell. Turrell’s work is immersive, mind-blowing, deeply moving -- and made entirely of light. Turns out, light can really mess with your eyes! And that’s what artists like Turrell and Dan Flavin, are all about.Also featuring: Peter Eleey and Flavin JuddLearn more about\\xa0James Turrell\\'s\\xa0Meeting\\xa0hereCheck out\\xa0a time-lapse video of the Dan Flavin\\xa0from the Judd Foundation\\'s 101 Spring Street hereDan Flavin. untitled (to the \"innovator\" of Wheeling Peachblow). 1968. Fluorescent light and metal fixtures, 8\\' 1/2\" x 8\\' 1/4\" x 5 3/4\" (245 x 244.3 x 14.5 cm).(The Museum of Modern Art, New York. Helena Rubinstein Fund. © 2017 Estate of Dan Flavin/Artists Rights Society (ARS), New York)\\xa0 | Ahmir Thompson (a.k.a. Questlove\\xa0of The Roots) is a very busy dude. He was feeling stretched thin, until he discovered the power of silence to let his creativity cut through the noise. To help him find that silence, he’s got one of Yves Klein’s Blue Monochrome prints on his wall at home. Abbi gets up close to one of Klein’s blue paintings and Kazimir Malevich’s “Suprematist Composition: White on White” and discovers how deep a single color can get -- if you just give it some time.Also featuring: Ellen Davis and Anne UmlandYves Klein, Blue Monochrome, 1961. Dry pigment in synthetic polymer medium on cotton over plywood, 6\\' 4 7/8\" x 55 1/8\" (195.1 x 140 cm)(The Museum of Modern Art, New York. The Sidney and Harriet Janis Collection. © 2017 Artists Rights Society (ARS), New York / ADAGP, Paris)\\xa0Kazimir Malevich, Suprematist Composition: White on White. 1918. Oil on canvas, 31 1/4 x 31 1/4\" (79.4 x 79.4 cm)(Museum of Modern Art, New York. 1935 Acquisition confirmed in 1999 by agreement with the Estate of Kazimir Malevich and made possible with funds from the Mrs. John Hay Whitney Bequest (by exchange))\\xa0 | When you look at abstract art, what are you supposed to see among all those splatters and blobs? Abbi sorts out her feelings about Jackson Pollock’s monumental action paintings with a little help from the dancer and choreographer Mark Morris, and she puzzles over the scratchy surfaces of Cy Twombly’s paintings with Rookie editor, Broadway actor, and fashion prodigy Tavi Gevinson.Also featuring: Corey D’Augustine, Stella Jacobson, and Anne UmlandJackson Pollock. One: Number 31, 1950. 1950. Oil and enamel paint on canvas.(The Museum of Modern Art, New York. Sidney and Harriet Janis Collection Fund (by exchange). © 2017 Pollock-Krasner Foundation/Artists Rights Society (ARS), New York)Cy Twombly. Tiznit. 1953. White lead, oil-based house paint, wax crayon, and lead pencil on canvas.(The Museum of Modern Art, New York. Promised gift of Marie-Josée and Henry R. Kravis. © 2017 Cy Twombly Foundation)\\xa0\\xa0 | Does art have to be beautiful, or can everyday stuff be made into art too? Abbi Jacobson\\xa0brings her friend comedian Hannibal Buress to look at sculptures by Dada and Surrealist artists, who upended the definition of what art could be. Marcel Duchamp\\xa0and Meret Oppenheim\\xa0were basically trolling the art world —\\xa0and the work they made is really funny.Also featuring: Ann Temkin and Anne UmlandMarcel Duchamp. Bicycle Wheel. New York, 1951 (third version, after lost original of 1913).\\xa0Metal wheel mounted on painted wood stool, 51 x 25 x 16 1/2\" (129.5 x 63.5 x 41.9 cm).(The Museum of Modern Art, New York. The Sidney and Harriet Janis Collection. © 2017 Artists Rights Society (ARS), New York / ADAGP, Paris / Estate of Marcel Duchamp)\\xa0Marcel Duchamp. In Advance of the Broken Arm. August 1964 (fourth version, after lost original of November 1915). Wood and galvanized-iron snow shovel, 52\" (132 cm) high.(The Museum of Modern Art, New York. Gift of The Jerry and Emily Spiegel Family Foundation. © 2017 Artists Rights Society (ARS), New York / ADAGP, Paris / Estate of Marcel Duchamp.)\\xa0Meret Oppenheim, Object. Paris, 1936.\\xa0Fur-covered cup, saucer, and spoon; cup 4 3/8\" (10.9 cm) in diameter; saucer 9 3/8\" (23.7 cm) in diameter; spoon 8\" (20.2 cm) long, overall height 2 7/8\" (7.3 cm)(The Museum of Modern Art, New York. Purchase. © 2017 Artists Rights Society (ARS), New York / Pro Litteris, Zurich. )\\xa0\\xa0', 'chan_desc': 'A Piece of Work is everything you want to know about modern and contemporary art but were afraid to ask. Hosted by Broad City’s Abbi Jacobson, this 10-episode series explores everything from Pop Art to performance in lively conversations with curators, artists and Abbi’s friends, including Hannibal Buress, Tavi Gevinson, RuPaul and Questlove. WNYC Studios is a listener-supported producer of other leading podcasts including Radiolab, Snap Judgment, Death, Sex & Money, On the Media, Nancy and many others.\\n\\n\\n© WNYC Studios', 'cover_img_url': 'https://is3-ssl.mzstatic.com/image/thumb/Podcasts113/v4/c4/61/39/c46139c3-b5dc-81ad-f11b-ca0ab6c3361a/mza_5617672998917166417.png/400x400bb.jpg', 'first_release': '2017-07-06'}\n"
     ]
    },
    {
     "name": "stdout",
     "output_type": "stream",
     "text": [
      "scraping.......  Sierra Unfiltered\n",
      "2019-10-01 02:14:11 1\n",
      "2019-09-23 01:12:23 0\n",
      "2019-09-16 01:44:21 0\n",
      "2019-09-09 01:55:46 0\n",
      "2019-08-26 01:44:58 1\n",
      "2019-08-19 01:39:54 2\n",
      "2019-08-15 00:55:39 0\n",
      "2019-08-05 01:12:15 1\n",
      "2019-07-29 01:04:22 4\n",
      "2019-07-22 01:06:52 1\n",
      "COMPLETED scraping  Sierra Unfiltered\n",
      "[['2019-10-01', '02:14:11', 1], ['2019-09-23', '01:12:23', 0], ['2019-09-16', '01:44:21', 0], ['2019-09-09', '01:55:46', 0], ['2019-08-26', '01:44:58', 1], ['2019-08-19', '01:39:54', 2], ['2019-08-15', '00:55:39', 0], ['2019-08-05', '01:12:15', 1], ['2019-07-29', '01:04:22', 4], ['2019-07-22', '01:06:52', 1]]  has len  10\n",
      "DEBUG: features dictionary for  Sierra Unfiltered\n",
      "{'title': 'Sierra Unfiltered', 'chan_url': 'https://castbox.fm/channel/Sierra-Unfiltered-id2190003', 'num_comments': 16, 'author': 'Sierra Schultzzie', 'isExplicit': 0, 'sub_count': 472, 'play_count': 6119, 'ch_feed-socials': ['https://anchor.fm/sierra-schultzzie'], 'ep_total': 13, 'recent_eps': [['2019-10-01', '02:14:11', 1], ['2019-09-23', '01:12:23', 0], ['2019-09-16', '01:44:21', 0], ['2019-09-09', '01:55:46', 0], ['2019-08-26', '01:44:58', 1], ['2019-08-19', '01:39:54', 2], ['2019-08-15', '00:55:39', 0], ['2019-08-05', '01:12:15', 1], ['2019-07-29', '01:04:22', 4], ['2019-07-22', '01:06:52', 1]], 'hover_text_concat': \"In this episode of Sierra Unfiltered, Sierra and Skylar try the vogue 73 questions challenge! | Beauty guru, Patrick Starrr, talks with Sierra Schultzzie and Skylar Pollitt on this episode of the Sierra Unfiltered podcast. We give our thoughts on just about everything relating to the beauty industry. From the recent Beautycon drama, to being your authentic self and combatting traditional beauty standards. We get into it! | Dating in high school was rough, I got cheated on at church camp and we had alot of bad dates and awkward moments. In episode 10 of Sierra Unfiltered, we're telling stories about our dating history and boyfriends in high school. We're happily married now and had amazing weddings, but reminiscing about the bad times of being single can be pretty funny. | We're taking personality tests like the meyers briggs, enneagram, and color test and getting deep about our personalities, struggles, fears, and best and worst parts about ourselves, and we tangent alot about pregnancy and having a baby. I'm an enneagram type 3 and Skylar is an enneagram type 2! | Sierra Schultzzie and Skylar Pollitt have their husbands, Stephen and Kyle, on for this episode of the Sierra Unfiltered podcast. We're spilling the tea on our relationship drama, what it's like getting married young and planning a wedding, preparing for a baby through pregnancy, and of course we all roast eachother a little bit! | We're dream casting our favorite youtubers into broadway musicals and disney movies! We love talking about glee, broadway, and all things disney, so we thought it would be fun to do yotuber dream casts and a Q & A for this weeks episode of Sierra Unfiltered! | Our wedding horror stories, wedding fails, and tips for wedding planning from engagement and wedding ring shopping to the wedding day and budget! In this episode of Sierra Unfiltered, we're talking all things wedding planning with the best and worst parts of getting married. | If I quit youtube, what job and career would I have? In this episode of the Sierra Unfiltered podcast, Skylar and Sierra are taking career aptitude tests, talking about their college experience, what degree they were studying for, and other careers they would like to go into. | Our body positivity journeys! We're being honest about our struggles with becoming body positive from feeling fat, gaining weight, losing weight, unhealthy weight loss and exercise, pregnancy and accepting your changing body and belly, photoshopping and facetuning photos, and more. Here's everything about how we learned to love our bodies! | Skylar's pregnancy announcement is here! We're talking through her first trimester of her first pregnancy, telling family and friends, prepping for a baby, and how she wants to raise her baby.\", 'chan_desc': \"Sierra Unfiltered features Youtuber Sierra Schultzzie and her best friend, Skylar Pollitt, talking openly about body image, self acceptance, and navigating life in your 20's.\", 'cover_img_url': 'https://is4-ssl.mzstatic.com/image/thumb/Podcasts123/v4/f7/a9/89/f7a989cc-c6aa-d957-bbdf-8924f03d22ea/mza_3779085149292316468.jpg/400x400bb.jpg', 'first_release': '2019-06-28'}\n",
      "scraping.......  Selected Shorts\n",
      "2019-10-03 00:59:06 0\n",
      "2019-10-01 00:27:54 1\n",
      "2019-09-26 01:07:40 1\n",
      "2019-09-19 00:59:13 0\n",
      "2019-09-12 00:58:42 0\n",
      "2019-09-05 00:59:40 0\n",
      "2019-08-29 00:59:08 0\n",
      "2019-08-26 00:20:35 1\n",
      "2019-08-22 01:00:36 4\n",
      "2019-08-15 00:59:05 2\n",
      "COMPLETED scraping  Selected Shorts\n",
      "[['2019-10-03', '00:59:06', 0], ['2019-10-01', '00:27:54', 1], ['2019-09-26', '01:07:40', 1], ['2019-09-19', '00:59:13', 0], ['2019-09-12', '00:58:42', 0], ['2019-09-05', '00:59:40', 0], ['2019-08-29', '00:59:08', 0], ['2019-08-26', '00:20:35', 1], ['2019-08-22', '01:00:36', 4], ['2019-08-15', '00:59:05', 2]]  has len  10\n",
      "DEBUG: features dictionary for  Selected Shorts\n",
      "{'title': 'Selected Shorts', 'chan_url': 'https://castbox.fm/channel/Selected-Shorts-id2080886', 'num_comments': 0, 'author': 'Selected Shorts', 'isExplicit': 0, 'sub_count': 10745, 'play_count': 115926, 'ch_feed-socials': ['https://twitter.com/SelectedShorts', 'https://www.facebook.com/Selected-Shorts-292001113864', 'https://art19.com/shows/selected-shorts'], 'ep_total': 10, 'recent_eps': [['2019-10-03', '00:59:06', 0], ['2019-10-01', '00:27:54', 1], ['2019-09-26', '01:07:40', 1], ['2019-09-19', '00:59:13', 0], ['2019-09-12', '00:58:42', 0], ['2019-09-05', '00:59:40', 0], ['2019-08-29', '00:59:08', 0], ['2019-08-26', '00:20:35', 1], ['2019-08-22', '01:00:36', 4], ['2019-08-15', '00:59:05', 2]], 'hover_text_concat': 'Guest host Josh Radnor presents three stories drawn from the world of fables and fairytales, but with a modern twist. Maulik Pancholy reads Somerset Maugham’s “Appointment in Samarra”; when your time is up, it’s up.\\xa0Ben Loory gives us a kinder, gentler take on the old “monster in the closet” idea in “The Monster,” read by John Cameron Mitchell.\\xa0Kelly Link’s “The Faery Handbag” is part folk tale, part love story, part coming-of-age story.\\xa0It’s read by Kirsten Vangsness. \\xa0 | A thrilling and\\xa0laugh-out-loud funny account of how\\xa0a cheating couple broadcast their affair to an entire listserv.\\xa0This story was read by two very funny actors during Selected Shorts’ annual visit to the Getty Center in Los Angeles. D’Arcy Carden is a performer whose credits include\\xa0Barry,\\xa0Broad City,\\xa0and the beloved Janet on\\xa0The Good Place; Baron Vaughn can be seen on\\xa0Grace and Frankie\\xa0and heard on the reboot of\\xa0Mystery Science Theater 3000,\\xa0as well as\\xa0Corporate\\xa0on Comedy Central.\\xa0Robin\\xa0Hemley is an accomplished fiction and nonfiction writer who has won both a Pushcart Prize and a Guggenheim Fellowship. He has written more than a dozen books including\\xa0Do-Over!,\\xa0and\\xa0The Big Ear, as well as\\xa0a forthcoming book (nonfiction) in March titled\\xa0Borderline Citizen: Dispatches from the Outskirts of Nationhood.\\xa0\\ufeffOur story, \"Reply All\" appears in his collection titled 21012\\xa0Reply All. | Guest host Kate Burton presents three stories in translation selected with the international literary organization Words Without Borders.\\xa0A wealthy woman winds up on the other side of the poverty line in Évelyne Trouillot’s “Detour,” performed by Rita Wolf and Arian Moayed, and introduced by Siri Hustvedt. \\xa0A civil servant becomes a soccer star in Reka Man-Varhegyi’s \"Woman Striker Has Killer Left Foot,” performed by Adina Verson. And two teenage misfits visit a chimp in “Muzaffer and Bananas” by Yalçın Tosun, performed by Arian Moayed, and introduced by Karan Mahajan. | Guest host David Sedaris presents two stories about quiet times.\\xa0Leonard Nimoy reads Raymond Carver\\'s classic \"What We Talk About When We Talk About Love,\" which is what perplexes the married couples sitting around drinking gin on a slow summer evening.\\xa0\\xa0It\\'s also summer in Bernard Malamud\\'s \"A Summer\\'s Reading,\" and a rootless young man is trying to find a path in life.\\xa0David Rakoff was the reader. | Guest host Jane Kaczmarek presents two stories about characters who are a little larger than life.\\xa0First, the story that inspired the Hollywood classic All About Eve, Mary Orr’s “The Wisdom of Eve,” performed by Stana Katic.\\xa0Next, in Louise Erdrich’s powerful mother-daughter story “The Leap” a former trapeze artist pushes herself to the limit.\\xa0It’s read by Elizabeth Reaser.\\xa0\\xa0 | Guest host Krista Tippett, of On Being, presents short fiction and poems that confront issues of art, faith, and spirituality.First, a clergyman is tempted in \"The Strength of God, Concerning the Reverend Curtis Hartman\" by Sherwood Anderson, read by James Naughton.\\xa0In Elizabeth Crane\\'s \"You Must Be This Happy to Enter\" a time-travelling artist has a positive attitude.\\xa0The reader is Claire Danes.\\xa0A gold digger has second thoughts in Anton Chekhov\\'s \"An Enigmatic Nature,\" read by Fionnula Flanagan. Also featured are poems by Tracy K. Smith and David Whyte. | On this SELECTED SHORTS, hosted by Jane Kaczmarek, we explore hidden emotions. In Patrick Dacey’s “Patriots” suburban lawn ornaments threaten a friendship.\\xa0The reader is Wendie Malick. In Seth Fried’s “Sea Monster,” a wife has a secret that may affect her marriage. The reader is Natasha Rothwell. Host Jane Kaczmarek reads our final story.\\xa0In “Mistress” by Gina Berriault, a woman meets her former lover’s son.\\xa0\\xa0 | Writer ZZ Packer is best known for her excellent 2003\\xa0collection of short stories,\\xa0Drinking Coffee Elsewhere, which saw its stories published in venues including\\xa0The New Yorker (where she was launched as a debut writer). Packer\\'s stories have appeared\\xa0in Harper\\'s\\xa0and\\xa0Story, and\\xa0have been published in\\xa0The Best American Short Stories. \"Gideon\" is read by the great\\xa0American actress\\xa0Danielle Brooks. Brooks is, of course, best known for her performance as Tasha “Taystee” Jefferson on\\xa0Orange Is the New Black, but she’s also appeared in films and theater including a starring role in the Shakespeare in the Park production of\\xa0Much Ado About Nothing. | Guest host Maulik Pancholy presents three stories about curious courtships.\\xa0First, does the perfect date night include zombies?\\xa0Tony Hale reads “First Person Shooter,” by Charles Yu.\\xa0A president’s wife is the ideal luggage item, until she develops a mind of her own in a vintage tale by Whitfield Cook.\\xa0“The Portable Mrs. Tillson,” is performed by Laura Grey and Jordan Klepper.\\xa0The show concludes with another period gem--“Gertrude the Governess: or, Simple Seventeen,” by Stephen Leacock, performed by Sonia Manzano.\\xa0This pastiche of Victorian melodrama has everything. | \\xa0Guest host Josh Radnor presents two stories that are favorites of novelist and screenwriter Richard Price (\"Lush Life,\" \"The Wire\") and Colson Whitehead remembers his personal New York.\\xa0Maggie Gyllenhaal reads Isaac Babel’s tale of local crime and politics, “The King,” and Rita Wolf reads Lucia Berlin’s odd love triangle, “The Love Affair.”\\xa0Whitehead’s “Lost and Found” is read by Alec Baldwin.', 'chan_desc': 'Your favorite actors bringing great stories to life. ', 'cover_img_url': 'https://is2-ssl.mzstatic.com/image/thumb/Podcasts123/v4/1a/7a/e7/1a7ae7f4-5cd4-1702-e2e6-0432ef6397cd/mza_7914292795135779418.jpg/400x400bb.jpg', 'first_release': '2019-08-15'}\n"
     ]
    },
    {
     "name": "stdout",
     "output_type": "stream",
     "text": [
      "scraping.......  TANIS\n",
      "2019-10-02 00:13:46 3\n",
      "2019-08-06 00:02:04 2\n",
      "2018-12-25 00:15:41 6\n",
      "2018-09-26 00:03:51 6\n",
      "2018-09-12 00:04:39 6\n",
      "2018-08-15 00:41:55 16\n",
      "2018-08-01 00:37:11 11\n",
      "2018-07-18 00:38:36 11\n",
      "2018-07-04 00:38:06 11\n",
      "2018-06-20 00:43:39 15\n",
      "COMPLETED scraping  TANIS\n",
      "[['2019-10-02', '00:13:46', 3], ['2019-08-06', '00:02:04', 2], ['2018-12-25', '00:15:41', 6], ['2018-09-26', '00:03:51', 6], ['2018-09-12', '00:04:39', 6], ['2018-08-15', '00:41:55', 16], ['2018-08-01', '00:37:11', 11], ['2018-07-18', '00:38:36', 11], ['2018-07-04', '00:38:06', 11], ['2018-06-20', '00:43:39', 15]]  has len  10\n",
      "DEBUG: features dictionary for  TANIS\n",
      "{'title': 'TANIS', 'chan_url': 'https://castbox.fm/channel/TANIS-id167', 'num_comments': 191, 'author': 'Public Radio Alliance', 'isExplicit': 0, 'sub_count': 20176, 'play_count': 520137, 'ch_feed-socials': ['https://twitter.com/tanispodcast', 'https://www.facebook.com/tanispodcast', 'http://tanispodcast.com'], 'ep_total': 71, 'recent_eps': [['2019-10-02', '00:13:46', 3], ['2019-08-06', '00:02:04', 2], ['2018-12-25', '00:15:41', 6], ['2018-09-26', '00:03:51', 6], ['2018-09-12', '00:04:39', 6], ['2018-08-15', '00:41:55', 16], ['2018-08-01', '00:37:11', 11], ['2018-07-18', '00:38:36', 11], ['2018-07-04', '00:38:06', 11], ['2018-06-20', '00:43:39', 15]], 'hover_text_concat': \"Information on Season Five of TANIS. In advance of our regular free ad supported version of the show, we're making TANIS Season Five available ad free starting Oct 2nd on Stitcher Premium. This episode also includes Nic Silver updates and some listener mail. Listen to Season Five of TANIS now! | Amy and Evan, two interns at the PRA, start their own podcast called BCC to cover strange internet mysteries. They believe they've hit the jackpot with their pilot episode about a 2:76:00-long movie that seems to blink in and out of existence online. But when they (along with Nic and MK) dig a bit deeper, they find a clue that hints that this film and “The Last Movie” have something (or someone) sinister in common. Visit: stitcherpremium.com\\xa0 Offer code: LASTMOVIE | A BONUS episode of TANIS featuring exclusive audio clips, Listener Mail and more! Please rate and review on iTunes if you enjoy TANIS! Support TANIS http://patreon.com/tanispodcast For more information, including supporting materials for each episode visit: http://tanispodcast.com http://twitter.com/tanispodcast Check out RABBITS! http://rabbitspodcast.com Thank you so much for listening! \\xa0 | Join podcast host\\xa0Amanda Morrison, her producer Mitch, and conspiracy theorist friend, Colin, as they work to uncover the truth behind an age-old, secretive group known only as the Leap Year Society, whose enigmatic present day recruitment program is inexorably linked to research that borders on the paranormal. \\xa0 The Leap Year Society Podcast | We’re bringing you something special this week: a preview of Marvel’s first scripted podcast, Wolverine: The Long Night. The first episodes are out right now, free, wherever you get podcasts. \\xa0  Subscribe to Wolverine: The Long Night in Apple Podcasts:  https://itunes.apple.com/us/podcast/wolverine-the-long-night/id1343499710?mt=2  \\xa0 | The search for clues takes Nic from the dark world of his dreams to an abandoned underground laboratory, and MK uncovers information that may finally lead them to Veronika. If you enjoy TANIS, please rate and review on Apple Podcasts, Spotify, Stitcher or wherever you listen! SUPPORT TANIS ON PATREON For more information, including supporting materials for each episode visit: TANISPODCAST.COM TWITTERFACEBOOK Thank you so much for listening! Check out our other shows\\xa0RABBITS! And THE LAST MOVIE! PLEASE VISIT OUR SPONSORS: http://squarespace.com/tanisOffer code: TANIS http://getquip.com/tanisOffer code: TANIS http://stamps.com Offer code: TANIS http://casper.com/tanis Offer code: TANIS | Nic looks into something mysterious known as The Catalyst, MK reads an alchemical poem, and Cameron Ellis provides more information on certain entities potential agendas regarding the area he refers to as The Breach. If you enjoy TANIS, please rate and review on Apple Podcasts, Spotify, Stitcher or wherever you listen! SUPPORT TANIS ON PATREON For more information, including supporting materials for each episode visit: TANISPODCAST.COM TWITTERFACEBOOK Thank you so much for listening! Check out our other shows\\xa0RABBITS! And THE LAST MOVIE! PLEASE VISIT OUR SPONSORS: http://squarespace.com/tanisOffer code: TANIS http://bombas.com/tanisOffer code: TANIS Subscribe to LeVar Burton Reads!\\xa0 | A recording isn’t quite what it initially appeared to be, Karl helps Nic explore some familiar territory, and something has MK resolutely freaked out.\\xa0 \\xa0 If you enjoy TANIS, please rate and review on Apple Podcasts, Spotify, Stitcher or wherever you listen! SUPPORT TANIS ON PATREON For more information, including supporting materials for each episode visit: TANISPODCAST.COM TWITTERFACEBOOK Thank you so much for listening! Check out our other shows\\xa0RABBITS! And THE LAST MOVIE! PLEASE VISIT OUR SPONSORS: http://squarespace.com/tanisOffer code: TANIS http://bombas.com/tanisOffer code: TANIS \\xa0\\xa0\\xa0 \\xa0 | MK uncovers some very interesting items at a garage sale in Denver, the search for Veronika Pilman continues, and Nic’s sensory deprivation tank experience delivers another mysterious clue. If you enjoy TANIS, please rate and review on Apple Podcasts, Spotify, Stitcher or wherever you listen! SUPPORT TANIS ON PATREON For more information, including supporting materials for each episode visit: TANISPODCAST.COM TWITTERFACEBOOK Thank you so much for listening! Check out\\xa0RABBITS! PLEASE VISIT OUR SPONSORS: http://squarespace.com/tanisOffer code: TANIS http://stamps.com Offer code: TANIS\\xa0 http://getquip.com/tanis Offer code: TANIS http://bombas.com/tanisOffer code: TANIS \\xa0\\xa0\\xa0 \\xa0 | MK delivers a strange recording, Karl has some advice, and Nic's struggle to find out what is actually happening in The Breach and choose between trusting Cameron Ellis or Paul continues as he confronts both sides to try and find the best way forward. If you enjoy TANIS, please rate and review on Apple Podcasts, Spotify, Stitcher or wherever you listen! SUPPORT TANIS ON PATREON For more information, including supporting materials for each episode visit: TANISPODCAST.COM TWITTERFACEBOOK Thank you so much for listening! Check out\\xa0RABBITS! PLEASE VISIT OUR SPONSORS: http://squarespace.com/tanisOffer code: TANIS http://stamps.com Offer code: TANIS\\xa0 http://awaytravel.com/tanisOffer code: TANIS http://bombas.com/tanis Offer code: TANIS \\xa0\\xa0\\xa0 \\xa0\", 'chan_desc': 'Tanis is a bi-weekly podcast from the creators of Pacific Northwest Stories, and is hosted by Nic Silver. Tanis is a serialized docudrama about a fascinating and surprising mystery: the myth of Tanis. Tanis is an exploration of the nature of truth, conspiracy, and information. Tanis is what happens when the lines of science and fiction start to blur...', 'cover_img_url': 'https://is4-ssl.mzstatic.com/image/thumb/Podcasts113/v4/7f/06/6c/7f066c0a-a6b5-9d35-c565-75097a0fe4fb/mza_527503735621370562.png/400x400bb.jpg', 'first_release': '2015-10-13'}\n",
      "scraping.......  Darkest Night\n",
      "2019-09-30 00:40:04 1\n",
      "2018-12-04 00:27:45 3\n",
      "2018-11-28 00:37:29 10\n",
      "2018-11-21 00:33:10 16\n",
      "2018-11-14 00:27:38 11\n",
      "2018-11-07 00:34:10 16\n",
      "2018-10-31 00:25:03 12\n",
      "2018-10-30 02:26:31 8\n",
      "2018-10-24 00:21:59 12\n",
      "2018-10-17 00:28:39 13\n",
      "COMPLETED scraping  Darkest Night\n",
      "[['2019-09-30', '00:40:04', 1], ['2018-12-04', '00:27:45', 3], ['2018-11-28', '00:37:29', 10], ['2018-11-21', '00:33:10', 16], ['2018-11-14', '00:27:38', 11], ['2018-11-07', '00:34:10', 16], ['2018-10-31', '00:25:03', 12], ['2018-10-30', '02:26:31', 8], ['2018-10-24', '00:21:59', 12], ['2018-10-17', '00:28:39', 13]]  has len  10\n",
      "DEBUG: features dictionary for  Darkest Night\n",
      "{'title': 'Darkest Night', 'chan_url': 'https://castbox.fm/channel/Darkest-Night-id398382', 'num_comments': 156, 'author': 'The Paragon Collective', 'isExplicit': 1, 'sub_count': 15388, 'play_count': 269585, 'ch_feed-socials': ['https://twitter.com/darkestnightpod', 'https://www.facebook.com/darkestnightpod', 'http://www.darkestnightpod.com'], 'ep_total': 37, 'recent_eps': [['2019-09-30', '00:40:04', 1], ['2018-12-04', '00:27:45', 3], ['2018-11-28', '00:37:29', 10], ['2018-11-21', '00:33:10', 16], ['2018-11-14', '00:27:38', 11], ['2018-11-07', '00:34:10', 16], ['2018-10-31', '00:25:03', 12], ['2018-10-30', '02:26:31', 8], ['2018-10-24', '00:21:59', 12], ['2018-10-17', '00:28:39', 13]], 'hover_text_concat': \"This is the first episode of The Heads of Sierra Blanca. \\xa0 Subscribe on your Apple Podcasts, Spotify, or whatever podcast app you use. | This is the debut of\\xa0The First Mrs. Claus\\xa0podcast. \\xa0 Under rigorous pressure from DICK (the Department of Internal Christmas Knowledge), Hot Coco reveals the truth about the origins of Christmas as we know it, as well as her own past with the man who became Santa Claus. \\xa0 Cast List: \\xa0 Hot Coco - Michelle Visage Ari Aka Santa - Lewis Black Coco Claus - Kristin Chenoweth Attorney Sal Vation - Cecil Baldwin Judge Green - RuPaul Olivier de Elf - Ross Matthews Ed N. Forcer - David Cummings Nancy Grace - Nancy Grace \\xa0 Written by Michael Ross and Alex Aldea \\xa0 Directed by Alex Aldea and Michael Ross \\xa0 Edited by Alex Aldea \\xa0 Score composed by Andrew Joslyn and Alex Aldea \\xa0 Believe was written by Alex Aldea and features Camila Recchio as well as Ray Dalton \\xa0 Foley and Sound Design: Alex Aldea \\xa0 Mixed by Dave West | In this episode, Project Cyclops takes us to The Final Sacrifice.  Cast List:  Narrator - Keith David Katie Reed - Brynn Langford Agent Han Ziggler - Denis O'Hare  Matt - Richie Cottrell Emily - Mary Malloy Dylan - Zach Crowley Chris - Ryan Moore  Leigh - Tiffany Sheppis David - Paul Scheer   Gina - Constance Zimmer Kathy - Missi Pyle  Todd - Jason Mewes Lexi - Callie Schuttera Catherine - Jasmine St. Claire Clinton Lobdow - David Cummings Eugene Roth - Dan Harmon Hannah - Lolli Sorenson Dr. Maria Alvarado - Mae Aswell Woman in Green/Savannah Roth - Kim DeJesus Vivian Lobdow - Callie Schuttera  \\xa0 Written by Alex Aldea and CK Walker.  Directed by Alex Aldea\\xa0  Edited by Victor Figueroa and Alex Aldea  Music composed by Andrew Joslyn and Alex Aldea. \\xa0 Live Strings by Andrew Joselyn  Foley and Sound Design: Victor Figueroa \\xa0 This episode is sponsored by Empty Faces.  | In this episode, Project Cyclops takes us to a therapy session with a high school student who thinks she is being\\xa0abducted\\xa0by aliens.  Cast List:  Narrator - Keith David Katie Reed - Brynn Langford Agent Han Ziggler - Denis O'Hare Hannah - Lolli Sorenson Dr. Maria Alvarado - Mae Aswell  \\xa0 Written by CK Walker.  Directed by Alex Aldea\\xa0  Edited by Victor Figueroa and Alex Aldea  Music composed by Andrew Joslyn.  Additional music by Alex Aldea  Foley and Sound Design: Victor Figueroa \\xa0 This episode is sponsored by Quip.  | In this episode, Project Cyclops takes us to the last moments of one of the founders of the Center.  Cast List:  Narrator - Keith David Katie Reed - Brynn Langford Agent Han Ziggler - Denis O'Hare Clinton Lobdow - David Cummings Reginald Darden III - Chris McKenna Eugene Roth - Dan Harmon Monster - David Ault \\xa0 Written by Alex Aldea and CK Walker.  Directed by Alex Aldea\\xa0  Edited by Victor Figueroa and Alex Aldea  Music composed by Andrew Joslyn.  Foley and Sound Design: Victor Figueroa \\xa0 This episode is sponsored by Audible.  | In this episode, Project Cyclops takes us on a young woman's adventure with Dream Date. \\xa0 Narrator - Keith David Katie Reed - Brynn Langford Agent Han Ziggler - Denis O'Hare Catherine - Jasmine St. Claire Laura - Gabrielle Ruiz Danneth - David Ault Ursula - RuPaul Guard - Sebastian Grubaugh Dream Date Patron - Victor Figueroa Dream Date Employee - John Goldsmith Vivian - Callie Schuttera  Written by Elias Witherow, Alex Aldea and CK Walker.  Directed by Alex Aldea\\xa0  Edited by Victor Figueroa and Alex Aldea  Music composed by Andrew Joslyn. \\xa0 This episode is sponsored by Empty Faces. | In this episode, Project Cyclops takes us on an acid trip in the woods gone awry.  Cast List:  Narrator - Keith David Katie Reed - Brynn Langford Agent Han Ziggler - Denis O'Hare Todd - Jason Mewes Lexi - Callie Schuttera Goat Man - Johnny Ferro Woman in Green - Kim DeJesus  Written by Elias Witherow.  Additional writing by Alex Aldea and CK Walker.  Directed by Alex Aldea\\xa0  Edited by Victor Figueroa and Alex Aldea  Music composed by Andrew Joslyn.  Foley and Sound Design: Victor Figueroa and Alex Aldea. This episode is sponsored by Bombas. | In this bonus episode, we are featuring the NoSleep Podcast 2018 Halloween special.\\xa0 “Home“†\\xa0written by\\xa0Keith McDuffee\\xa0and performed by Erika Sanderson & Addison Peacock & Peter Lewis. (Story starts around 0:10:00) “The Graveyard Shift”†\\xa0written by\\xa0Manen Lyset\\xa0and performed by Jeff Clement & Matthew Bradford & Andy Cresswell & Penny Scott-Andrews & Jessica McEvoy. (Story starts around 0:18:20) “The Spirit of Halloween”†\\xa0written by\\xa0Rona Vaselaar\\xa0and performed by Jessica McEvoy & Armen Taylor. (Story starts around 0:34:00) “Everyone’s Invited”†\\xa0written by\\xa0S.H. Cooper\\xa0and performed by Corinne Sanders & Nichole Goodnight & Nikolle Doolin & Alexis Bristowe & Kyle Akers. (Story starts around 0:55:00) “I am Ghost”¤\\xa0written by\\xa0Gemma Amor\\xa0and performed by David Ault & Erika Sanderson & Erin Lillis. (Story starts around 1:15:10) “Hallowed Ground“†\\xa0written by\\xa0C.M. Scandreth\\xa0and performed by Addison Peacock & Graham Rowat & Dan Zappulla & Andy Cresswell & Erika Sanderson. (Story starts around 1:53:00) Executive Producer & Host: David Cummings Musical score composed by:\\xa0Brandon Boone Audio adaptations produced by:\\xa0Phil Michalski† &\\xa0Jeff Clement‡ &\\xa0Jesse Cornett¤ Illustration courtesy of\\xa0Abby Howard  | In this episode, Project Cyclops takes us on a journalist's experience reporting the unveiling of Friar Carlisle's new Implausible Nuggets. \\xa0 Cast List: \\xa0 Narrator - Keith David Katie Reed - Brynn Langford Agent Han Ziggler - Denis O'Hare Annabelle Afandy - Joy Brunson Natalie King - Callie Schuttera Vick Dilbur - Mark Berry Sam - Chris Mckenna Ramsey - Callie Schuttera Senator Jackson Carlisle - Chris McKenna Written by Alex Aldea. Directed, Edited, and Produced by Alex Aldea and Victor Figueroa. Music composed by Andrew Joselyn. Foley and Sound Design: Victor Figueroa and Alex Aldea. This episode is sponsored by Audible (www.audible.com/darkest) | In this episode, Project Cyclops takes us to a live performance of the If I Had to Pick a Killer podcast. \\xa0 Cast List: \\xa0  Narrator - Keith David Katie Reed - Brynn Langford Agent Han Ziggler - Denis O'Hare Gina - Constance Zimmer Kathy - Missi Pyle Jane Doe - Maya Lord Detective Tyree - Lauren Tyree Ralph - Alex Aldea Anna Sutton - Michelle Visage  \\xa0 Written by Alex Aldea and C.K. Walker Additional writing by Lauren Tyree.   Directed, Edited, and Produced by Alex Aldea and Victor Figueroa. Music composed by Andrew Joselyn. Foley and Sound Design: Victor Figueroa and Alex Aldea. Crowd sounds recorded at RuPaul's DragCon NYC. This episode is sponsored by Bombas. \", 'chan_desc': \"Darkest Night is a binaural audio drama that places you, the listener, at the center of a recovered memory that sounds as though it’s happening around you in real time. Each chapter delves into the last memories of the recently deceased, slowly revealing a horrifying master plan. Who is weaving this master conspiracy, and what is their ultimate goal? Subscribe now to find out, and wear headphones for the best, most terrifying results. Darkest Night is narrated by Lee Pace (The Hobbit Films, Guardians of the Galaxy, Pushing Daisies. Halt & Catch Fire, etc). Darkest Night features acting performances from Denis O'Hare (American Horror Story), Maynard James Keenan, Missi Pyle (The Artist & Dodgeball), RuPaul, Michelle Visage, and Jeffery Bowyer-Chapman.\", 'cover_img_url': 'https://is1-ssl.mzstatic.com/image/thumb/Podcasts113/v4/f9/c7/5a/f9c75a81-6f11-3041-c940-c3d86a174eb2/mza_5853547839267956733.jpg/400x400bb.jpg', 'first_release': '2016-10-10'}\n"
     ]
    },
    {
     "name": "stdout",
     "output_type": "stream",
     "text": [
      "scraping.......  Sleep and Relax ASMR\n",
      "2019-10-02 00:18:24 1\n",
      "2019-09-30 00:33:30 0\n",
      "2019-09-25 00:25:32 0\n",
      "2019-09-23 00:33:01 1\n",
      "2019-09-18 00:24:06 0\n",
      "2019-09-16 00:27:16 0\n",
      "2019-09-11 00:19:16 1\n",
      "2019-09-09 00:28:10 1\n",
      "2019-09-04 00:23:40 1\n",
      "2019-09-02 00:27:04 2\n",
      "COMPLETED scraping  Sleep and Relax ASMR\n",
      "[['2019-10-02', '00:18:24', 1], ['2019-09-30', '00:33:30', 0], ['2019-09-25', '00:25:32', 0], ['2019-09-23', '00:33:01', 1], ['2019-09-18', '00:24:06', 0], ['2019-09-16', '00:27:16', 0], ['2019-09-11', '00:19:16', 1], ['2019-09-09', '00:28:10', 1], ['2019-09-04', '00:23:40', 1], ['2019-09-02', '00:27:04', 2]]  has len  10\n",
      "DEBUG: features dictionary for  Sleep and Relax ASMR\n",
      "{'title': 'Sleep and Relax ASMR', 'chan_url': 'https://castbox.fm/channel/Sleep-and-Relax-ASMR-id1983588', 'num_comments': 19, 'author': 'Sleep and Relax ASMR', 'isExplicit': 0, 'sub_count': 14770, 'play_count': 394822, 'ch_feed-socials': ['https://www.sleepandrelaxasmr.com/'], 'ep_total': 324, 'recent_eps': [['2019-10-02', '00:18:24', 1], ['2019-09-30', '00:33:30', 0], ['2019-09-25', '00:25:32', 0], ['2019-09-23', '00:33:01', 1], ['2019-09-18', '00:24:06', 0], ['2019-09-16', '00:27:16', 0], ['2019-09-11', '00:19:16', 1], ['2019-09-09', '00:28:10', 1], ['2019-09-04', '00:23:40', 1], ['2019-09-02', '00:27:04', 2]], 'hover_text_concat': 'On episode 389 of Sleep and Relax ASMR, we go through a car wash on a perfect Saturday afternoon. Enjoy!---DOWNLOAD:iTunes:\\xa0https://itunes.apple.com/us/podcast/sleep-and-relax-asmr/id1133320064?mt=2Anchor: https://anchor.fm/sleepandrelaxasmrRadio Public: https://radiopublic.com/sleep-and-relax-asmr-6pAPm8Spotify:\\xa0https://open.spotify.com/show/4VvI482AIUgKZGfOWqjuywStitcher:\\xa0http://www.stitcher.com/podcast/sleep-and-relax-asmrCastbox: https://castbox.fm/channel/id356618TuneIn Radio:\\xa0http://tunein.com/radio/Sleep-and-Relax-ASMR-p899136/Pobean: https://www.podbean.com/podcast-detail/tvjti-4fcb7/Sleep-and-Relax-ASMR-Podcast---Email: Hello@SleepandRelaxASMR.comWebsite: www.SleepandRelaxASMR.com--- This episode is sponsored by · Anchor: The easiest way to make a podcast.  https://anchor.fm/app | On episode 388 of Sleep and Relax ASMR, I gently read Elon Musk\\'s wiki page as part of a new edition of the popular \"ASMR aRticles,\" series. Enjoy!---DOWNLOAD:iTunes:\\xa0https://itunes.apple.com/us/podcast/sleep-and-relax-asmr/id1133320064?mt=2Anchor: https://anchor.fm/sleepandrelaxasmrRadio Public: https://radiopublic.com/sleep-and-relax-asmr-6pAPm8Spotify:\\xa0https://open.spotify.com/show/4VvI482AIUgKZGfOWqjuywStitcher:\\xa0http://www.stitcher.com/podcast/sleep-and-relax-asmrCastbox: https://castbox.fm/channel/id356618TuneIn Radio:\\xa0http://tunein.com/radio/Sleep-and-Relax-ASMR-p899136/Pobean: https://www.podbean.com/podcast-detail/tvjti-4fcb7/Sleep-and-Relax-ASMR-Podcast---Email: Hello@SleepandRelaxASMR.comWebsite: www.SleepandRelaxASMR.com--- This episode is sponsored by · Anchor: The easiest way to make a podcast.  https://anchor.fm/app | On episode 387, we spend a beautiful morning at the golf range. Enjoy!---DOWNLOAD:iTunes:\\xa0https://itunes.apple.com/us/podcast/sleep-and-relax-asmr/id1133320064?mt=2Anchor: https://anchor.fm/sleepandrelaxasmrRadio Public: https://radiopublic.com/sleep-and-relax-asmr-6pAPm8Spotify:\\xa0https://open.spotify.com/show/4VvI482AIUgKZGfOWqjuywStitcher:\\xa0http://www.stitcher.com/podcast/sleep-and-relax-asmrCastbox: https://castbox.fm/channel/id356618TuneIn Radio:\\xa0http://tunein.com/radio/Sleep-and-Relax-ASMR-p899136/Pobean: https://www.podbean.com/podcast-detail/tvjti-4fcb7/Sleep-and-Relax-ASMR-Podcast---\\xa0Email: Hello@SleepandRelaxASMR.comWebsite: www.SleepandRelaxASMR.com---Thanks to xserra and mkoenig (freesound.org) for some of the audio used this episode.--- This episode is sponsored by · Anchor: The easiest way to make a podcast.  https://anchor.fm/app | On this episode of Sleep and Relax ASMR, we set up and record by a beach in Bali. This episode features the lovely sounds of a beach on Bali for 30+ minutes. Enjoy!---DOWNLOAD:iTunes:\\xa0https://itunes.apple.com/us/podcast/sleep-and-relax-asmr/id1133320064?mt=2Anchor: https://anchor.fm/sleepandrelaxasmrRadio Public: https://radiopublic.com/sleep-and-relax-asmr-6pAPm8Spotify:\\xa0https://open.spotify.com/show/4VvI482AIUgKZGfOWqjuywStitcher:\\xa0http://www.stitcher.com/podcast/sleep-and-relax-asmrCastbox: https://castbox.fm/channel/id356618TuneIn Radio:\\xa0http://tunein.com/radio/Sleep-and-Relax-ASMR-p899136/Pobean: https://www.podbean.com/podcast-detail/tvjti-4fcb7/Sleep-and-Relax-ASMR-Podcast---Email: Hello@SleepandRelaxASMR.comWebsite: www.SleepandRelaxASMR.com--- This episode is sponsored by · Anchor: The easiest way to make a podcast.  https://anchor.fm/app | On episode 385: we review and learn random facts about the year of 1999. Enjoy!---DOWNLOAD:iTunes:\\xa0https://itunes.apple.com/us/podcast/sleep-and-relax-asmr/id1133320064?mt=2Anchor: https://anchor.fm/sleepandrelaxasmrRadio Public: https://radiopublic.com/sleep-and-relax-asmr-6pAPm8Spotify:\\xa0https://open.spotify.com/show/4VvI482AIUgKZGfOWqjuywStitcher:\\xa0http://www.stitcher.com/podcast/sleep-and-relax-asmrCastbox: https://castbox.fm/channel/id356618TuneIn Radio:\\xa0http://tunein.com/radio/Sleep-and-Relax-ASMR-p899136/Pobean: https://www.podbean.com/podcast-detail/tvjti-4fcb7/Sleep-and-Relax-ASMR-Podcast---Email: Hello@SleepandRelaxASMR.comWebsite: www.SleepandRelaxASMR.com--- This episode is sponsored by · Anchor: The easiest way to make a podcast.  https://anchor.fm/app | On this episode of the show we sit by a park during dawn and listen to birds chirp and sing in a distance. Enjoy!\\xa0---DOWNLOAD:iTunes:\\xa0https://itunes.apple.com/us/podcast/sleep-and-relax-asmr/id1133320064?mt=2Anchor: https://anchor.fm/sleepandrelaxasmrRadio Public: https://radiopublic.com/sleep-and-relax-asmr-6pAPm8Spotify:\\xa0https://open.spotify.com/show/4VvI482AIUgKZGfOWqjuywStitcher:\\xa0http://www.stitcher.com/podcast/sleep-and-relax-asmrCastbox: https://castbox.fm/channel/id356618TuneIn Radio:\\xa0http://tunein.com/radio/Sleep-and-Relax-ASMR-p899136/Pobean: https://www.podbean.com/podcast-detail/tvjti-4fcb7/Sleep-and-Relax-ASMR-Podcast---Email: Hello@SleepandRelaxASMR.comWebsite: www.SleepandRelaxASMR.com---Thanks to Klankbeeld (freesound) for some of the great audio used this episode!--- This episode is sponsored by · Anchor: The easiest way to make a podcast.  https://anchor.fm/app | On episode 383 I gently whisper poems from poets including Margaret Widdemer , Witter Bynner, Oscar Wilde, and more. Enjoy!---DOWNLOAD:iTunes:\\xa0https://itunes.apple.com/us/podcast/sleep-and-relax-asmr/id1133320064?mt=2Anchor: https://anchor.fm/sleepandrelaxasmrRadio Public: https://radiopublic.com/sleep-and-relax-asmr-6pAPm8Spotify:\\xa0https://open.spotify.com/show/4VvI482AIUgKZGfOWqjuywStitcher:\\xa0http://www.stitcher.com/podcast/sleep-and-relax-asmrCastbox: https://castbox.fm/channel/id356618TuneIn Radio:\\xa0http://tunein.com/radio/Sleep-and-Relax-ASMR-p899136/Pobean: https://www.podbean.com/podcast-detail/tvjti-4fcb7/Sleep-and-Relax-ASMR-Podcast---Email: Hello@SleepandRelaxASMR.comWebsite: www.SleepandRelaxASMR.com--- This episode is sponsored by · Anchor: The easiest way to make a podcast.  https://anchor.fm/app | On this episode of Sleep and Relax ASMR, I play with different types of slime and crunchy items for nearly 30 minutes. There is no talking in this episode. Enjoy!---DOWNLOAD:iTunes:\\xa0https://itunes.apple.com/us/podcast/sleep-and-relax-asmr/id1133320064?mt=2Anchor: https://anchor.fm/sleepandrelaxasmrRadio Public: https://radiopublic.com/sleep-and-relax-asmr-6pAPm8Spotify:\\xa0https://open.spotify.com/show/4VvI482AIUgKZGfOWqjuywStitcher:\\xa0http://www.stitcher.com/podcast/sleep-and-relax-asmrCastbox: https://castbox.fm/channel/id356618TuneIn Radio:\\xa0http://tunein.com/radio/Sleep-and-Relax-ASMR-p899136/Pobean: https://www.podbean.com/podcast-detail/tvjti-4fcb7/Sleep-and-Relax-ASMR-Podcast---Email: Hello@SleepandRelaxASMR.comWebsite: www.SleepandRelaxASMR.com--- This episode is sponsored by · Anchor: The easiest way to make a podcast.  https://anchor.fm/app | On episode 381 we conclude the Travel Show Series and learn about some amazing countries. Listen along for the finale of the popular Travel Show series. Enjoy!---DOWNLOAD:iTunes:\\xa0https://itunes.apple.com/us/podcast/sleep-and-relax-asmr/id1133320064?mt=2Anchor: https://anchor.fm/sleepandrelaxasmrRadio Public: https://radiopublic.com/sleep-and-relax-asmr-6pAPm8Spotify:\\xa0https://open.spotify.com/show/4VvI482AIUgKZGfOWqjuywStitcher:\\xa0http://www.stitcher.com/podcast/sleep-and-relax-asmrCastbox: https://castbox.fm/channel/id356618TuneIn Radio:\\xa0http://tunein.com/radio/Sleep-and-Relax-ASMR-p899136/Pobean: https://www.podbean.com/podcast-detail/tvjti-4fcb7/Sleep-and-Relax-ASMR-Podcast---Email: Hello@SleepandRelaxASMR.comWebsite: www.SleepandRelaxASMR.com--- This episode is sponsored by · Anchor: The easiest way to make a podcast.  https://anchor.fm/app | \\xa0On episode 380, I attempt to create a spine-tingling layered audio ASMR session, including crinkles, unintelligible whispers, and mic tapping. Enjoy!---Visit www.HelixSleep.com/RELAX for up to $125 off your mattress order.\\xa0The Helix Dusk Luxe I\\'m sleeping on: https://helixsleep.com/products/dusk-luxe---DOWNLOAD:iTunes:\\xa0https://itunes.apple.com/us/podcast/sleep-and-relax-asmr/id1133320064?mt=2Anchor: https://anchor.fm/sleepandrelaxasmrRadio Public: https://radiopublic.com/sleep-and-relax-asmr-6pAPm8Spotify:\\xa0https://open.spotify.com/show/4VvI482AIUgKZGfOWqjuywStitcher:\\xa0http://www.stitcher.com/podcast/sleep-and-relax-asmrCastbox: https://castbox.fm/channel/id356618TuneIn Radio:\\xa0http://tunein.com/radio/Sleep-and-Relax-ASMR-p899136/Pobean: https://www.podbean.com/podcast-detail/tvjti-4fcb7/Sleep-and-Relax-ASMR-Podcast\\xa0---Email: Hello@SleepandRelaxASMR.comWebsite: www.SleepandRelaxASMR.com---Thanks to the following contributors (from Freesound.org): LG, Mookie182, Jesabet, J-Zazurek, Cclaretc--- This episode is sponsored by · Anchor: The easiest way to make a podcast.  https://anchor.fm/app', 'chan_desc': 'Sleep and Relax ASMR is a weekly podcast that creates audio experiences designed to help people sleep and relax. The show uses various ASMR triggers including whispers, gentle speaking, relaxing background noise, and general ambiance to help people unwind and relax from their busy lives. Our goal is to create the best ASMR content possible. Whether you enjoy the sound of soothing waves, snow crunching on a mountain, a soft spoken ramble, or whispered storytelling, Sleep and Relax ASMR has your ASMR needs covered.Check out Sleep and Relax ASMR and Friends for more ASMR content.', 'cover_img_url': 'https://is3-ssl.mzstatic.com/image/thumb/Podcasts123/v4/36/c5/9e/36c59e6e-5521-0650-985a-b30ddc75da21/mza_6449866945780470774.jpg/400x400bb.jpg', 'first_release': '2016-07-11'}\n"
     ]
    },
    {
     "name": "stdout",
     "output_type": "stream",
     "text": [
      "scraping.......  Another Kingdom\n",
      "2019-09-27 00:01:07 0\n",
      "2018-12-14 01:17:18 0\n",
      "2018-12-07 00:45:44 1\n",
      "2018-11-30 00:54:43 2\n",
      "2018-11-23 00:29:20 1\n",
      "2018-11-16 00:43:32 1\n",
      "2018-11-09 01:01:37 0\n",
      "2018-11-02 00:50:48 0\n",
      "2018-10-26 00:56:04 0\n",
      "2018-10-19 00:48:07 1\n",
      "COMPLETED scraping  Another Kingdom\n",
      "[['2019-09-27', '00:01:07', 0], ['2018-12-14', '01:17:18', 0], ['2018-12-07', '00:45:44', 1], ['2018-11-30', '00:54:43', 2], ['2018-11-23', '00:29:20', 1], ['2018-11-16', '00:43:32', 1], ['2018-11-09', '01:01:37', 0], ['2018-11-02', '00:50:48', 0], ['2018-10-26', '00:56:04', 0], ['2018-10-19', '00:48:07', 1]]  has len  10\n",
      "DEBUG: features dictionary for  Another Kingdom\n",
      "{'title': 'Another Kingdom', 'chan_url': 'https://castbox.fm/channel/Another-Kingdom-id1446377', 'num_comments': 7, 'author': 'The Daily Wire', 'isExplicit': 0, 'sub_count': 6339, 'play_count': 53522, 'ch_feed-socials': ['https://twitter.com/andrewklavan', 'https://www.dailywire.com/podcasts/show/another-kingdom'], 'ep_total': 26, 'recent_eps': [['2019-09-27', '00:01:07', 0], ['2018-12-14', '01:17:18', 0], ['2018-12-07', '00:45:44', 1], ['2018-11-30', '00:54:43', 2], ['2018-11-23', '00:29:20', 1], ['2018-11-16', '00:43:32', 1], ['2018-11-09', '01:01:37', 0], ['2018-11-02', '00:50:48', 0], ['2018-10-26', '00:56:04', 0], ['2018-10-19', '00:48:07', 1]], 'hover_text_concat': \"Another Kingdom: The Final Season. Become a Daily Wire Subscriber for early access on October 4th. Available everywhere October 7th. | This is Another Kingdom.  Written by Andrew Klavan, performed by Michael Knowles.Austin Lively finds himself backed into a corner with guards charging to kill him and only his sword and armor to help him survive! | Austin Lively find himself caught once again by Moses and Slick after bullets go whizzing by, and he must implement his plan to escape...This is Another Kingdom.  Written by Andrew Klavan, performed by Michael Knowles. | We return to a wounded Austin Lively in a scuffle with the thugs Moses and Slick. Suddenly, Slick fires a gun...This is Another Kingdom.  Written by Andrew Klavan, performed by Michael Knowles. | Andrew Klavan and Michael Knowles discuss the creation of Another Kingdom and where the story is going to go next in this exclusive interview! | Austin stumbles back into Horror Mansion and realizes he is trapped in a scene from a movie that he must play out in order to escape.This is Another Kingdom.  Written by Andrew Klavan, performed by Michael Knowles. | Austin laments his emotional turmoil as he races to escape the pursuing dragon, yet takes comfort in the words of Queen Elinda, the author of Another Kingdom.This is Another Kingdom.  Written by Andrew Klavan, performed by Michael Knowles. | Austin flees from the evil wizard and takes refuge with a beautiful woman.This is Another Kingdom.  Written by Andrew Klavan, performed by Michael Knowles. | Austin Lively receives a warning and an ominous message from the face in the pool.This is Another Kingdom.  Written by Andrew Klavan, performed by Michael Knowles. | Despite his best efforts, Austin Lively is whisked back to the cave of sacrifice where he must fight a vicious beast that's trying to stop his escape.This is Another Kingdom.  Written by Andrew Klavan, performed by Michael Knowles.\", 'chan_desc': 'Another Kingdom is a fantasy-suspense yarn by bestselling, two-time Edgar Award-winning crime novelist Andrew Klavan — who also happens to host a popular podcast on the Daily Wire. The story follows Austin Lively, a Hollywood wannabe whose career is going nowhere. One day, Austin walks through a door and finds himself transported to a magical land — where, to his shock, he\\'s a suspect in a murder. Before he knows it, he is swept up in palace intrigue, sword fights and sorcery. And to make matters even more complicated, now and then he is carried back to Los Angeles, where he has to find the book — \"Another Kingdom\" — that might explain why all this is happening to him. Unfortunately, a ruthless billionaire also wants the book and is willing to kill anyone who gets in his way — which includes Austin.', 'cover_img_url': 'https://is3-ssl.mzstatic.com/image/thumb/Podcasts113/v4/72/3a/07/723a07da-25c8-6a52-f835-78a790161a98/mza_563186065395563747.jpg/400x400bb.jpg', 'first_release': '2018-10-08'}\n",
      "scraping.......  Bad On Paper\n",
      "Failed scrape for  Bad On Paper  rescraping...\n",
      "scraping.......  Bad On Paper\n",
      "Failed scrape for  Bad On Paper  rescraping...\n",
      "scraping.......  Bad On Paper\n",
      "Failed scrape for  Bad On Paper  rescraping...\n",
      "scraping.......  Bad On Paper\n",
      "Failed scrape for  Bad On Paper  rescraping...\n",
      "scraping.......  Bad On Paper\n",
      "Failed scrape for  Bad On Paper  rescraping...\n"
     ]
    },
    {
     "ename": "KeyError",
     "evalue": "'recent_eps'",
     "output_type": "error",
     "traceback": [
      "\u001b[0;31m---------------------------------------------------------------------------\u001b[0m",
      "\u001b[0;31mKeyError\u001b[0m                                  Traceback (most recent call last)",
      "\u001b[0;32m<ipython-input-4-237d11aa0065>\u001b[0m in \u001b[0;36m<module>\u001b[0;34m\u001b[0m\n\u001b[1;32m      1\u001b[0m \u001b[0;31m# Initiate Scrape of Specific Category\u001b[0m\u001b[0;34m\u001b[0m\u001b[0;34m\u001b[0m\u001b[0;34m\u001b[0m\u001b[0m\n\u001b[1;32m      2\u001b[0m \u001b[0mdriver\u001b[0m \u001b[0;34m=\u001b[0m \u001b[0mwebdriver\u001b[0m\u001b[0;34m.\u001b[0m\u001b[0mChrome\u001b[0m\u001b[0;34m(\u001b[0m\u001b[0mchromedriver\u001b[0m\u001b[0;34m)\u001b[0m\u001b[0;34m\u001b[0m\u001b[0;34m\u001b[0m\u001b[0m\n\u001b[0;32m----> 3\u001b[0;31m \u001b[0mws\u001b[0m\u001b[0;34m.\u001b[0m\u001b[0mscrape_all_pods_in_category\u001b[0m\u001b[0;34m(\u001b[0m\u001b[0mchan_dict\u001b[0m\u001b[0;34m,\u001b[0m \u001b[0;34m'Arts'\u001b[0m\u001b[0;34m,\u001b[0m \u001b[0mdriver\u001b[0m\u001b[0;34m,\u001b[0m \u001b[0mexport\u001b[0m\u001b[0;34m=\u001b[0m\u001b[0;32mFalse\u001b[0m\u001b[0;34m)\u001b[0m\u001b[0;34m\u001b[0m\u001b[0;34m\u001b[0m\u001b[0m\n\u001b[0m",
      "\u001b[0;32m~/Google Drive (thomaskavanagh.dev@gmail.com)/GitHub/regression-podcast-popularity/notebooks/webscraping.py\u001b[0m in \u001b[0;36mscrape_all_pods_in_category\u001b[0;34m(chan_dict, category, dr, export)\u001b[0m\n\u001b[1;32m    397\u001b[0m         \u001b[0mchan_title\u001b[0m \u001b[0;34m=\u001b[0m \u001b[0mfeatures\u001b[0m\u001b[0;34m[\u001b[0m\u001b[0;34m'title'\u001b[0m\u001b[0;34m]\u001b[0m\u001b[0;34m\u001b[0m\u001b[0;34m\u001b[0m\u001b[0m\n\u001b[1;32m    398\u001b[0m \u001b[0;34m\u001b[0m\u001b[0m\n\u001b[0;32m--> 399\u001b[0;31m         \u001b[0mprint\u001b[0m\u001b[0;34m(\u001b[0m\u001b[0mfeatures\u001b[0m\u001b[0;34m[\u001b[0m\u001b[0;34m'recent_eps'\u001b[0m\u001b[0;34m]\u001b[0m\u001b[0;34m,\u001b[0m \u001b[0;34m' has len '\u001b[0m\u001b[0;34m,\u001b[0m \u001b[0mlen\u001b[0m\u001b[0;34m(\u001b[0m\u001b[0mfeatures\u001b[0m\u001b[0;34m[\u001b[0m\u001b[0;34m'recent_eps'\u001b[0m\u001b[0;34m]\u001b[0m\u001b[0;34m)\u001b[0m\u001b[0;34m)\u001b[0m\u001b[0;34m\u001b[0m\u001b[0;34m\u001b[0m\u001b[0m\n\u001b[0m\u001b[1;32m    400\u001b[0m \u001b[0;34m\u001b[0m\u001b[0m\n\u001b[1;32m    401\u001b[0m         \u001b[0;31m# various validations that channel was correctly scraped:\u001b[0m\u001b[0;34m\u001b[0m\u001b[0;34m\u001b[0m\u001b[0;34m\u001b[0m\u001b[0m\n",
      "\u001b[0;31mKeyError\u001b[0m: 'recent_eps'"
     ]
    }
   ],
   "source": [
    "# Initiate Scrape of Specific Category    \n",
    "driver = webdriver.Chrome(chromedriver)\n",
    "ws.scrape_all_pods_in_category(chan_dict, 'Arts', driver, export=False)"
   ]
  },
  {
   "cell_type": "code",
   "execution_count": 6,
   "metadata": {
    "ExecuteTime": {
     "end_time": "2019-10-05T16:50:47.715671Z",
     "start_time": "2019-10-05T16:50:47.705550Z"
    },
    "scrolled": true
   },
   "outputs": [
    {
     "data": {
      "text/plain": [
       "199"
      ]
     },
     "execution_count": 6,
     "metadata": {},
     "output_type": "execute_result"
    }
   ],
   "source": [
    "len(chan_dict['Business'].keys())"
   ]
  },
  {
   "cell_type": "code",
   "execution_count": 2,
   "metadata": {
    "ExecuteTime": {
     "end_time": "2019-10-05T16:50:35.785997Z",
     "start_time": "2019-10-05T16:50:35.779096Z"
    }
   },
   "outputs": [
    {
     "ename": "NameError",
     "evalue": "name 'chan_dict' is not defined",
     "output_type": "error",
     "traceback": [
      "\u001b[0;31m---------------------------------------------------------------------------\u001b[0m",
      "\u001b[0;31mNameError\u001b[0m                                 Traceback (most recent call last)",
      "\u001b[0;32m<ipython-input-2-ce79b8f4368f>\u001b[0m in \u001b[0;36m<module>\u001b[0;34m\u001b[0m\n\u001b[1;32m      1\u001b[0m \u001b[0;31m# total podcasts in business category\u001b[0m\u001b[0;34m\u001b[0m\u001b[0;34m\u001b[0m\u001b[0;34m\u001b[0m\u001b[0m\n\u001b[0;32m----> 2\u001b[0;31m \u001b[0mlen\u001b[0m\u001b[0;34m(\u001b[0m\u001b[0mchan_dict\u001b[0m\u001b[0;34m[\u001b[0m\u001b[0;34m'Business'\u001b[0m\u001b[0;34m]\u001b[0m\u001b[0;34m.\u001b[0m\u001b[0mkeys\u001b[0m\u001b[0;34m(\u001b[0m\u001b[0;34m)\u001b[0m\u001b[0;34m)\u001b[0m\u001b[0;34m\u001b[0m\u001b[0;34m\u001b[0m\u001b[0m\n\u001b[0m",
      "\u001b[0;31mNameError\u001b[0m: name 'chan_dict' is not defined"
     ]
    }
   ],
   "source": [
    "# total podcasts in business category\n",
    "len(chan_dict['Business'].keys())"
   ]
  },
  {
   "cell_type": "code",
   "execution_count": null,
   "metadata": {
    "ExecuteTime": {
     "end_time": "2019-10-03T19:14:30.411720Z",
     "start_time": "2019-10-03T19:14:30.409296Z"
    },
    "scrolled": true
   },
   "outputs": [],
   "source": [
    "import re"
   ]
  },
  {
   "cell_type": "code",
   "execution_count": null,
   "metadata": {
    "ExecuteTime": {
     "end_time": "2019-10-03T19:15:02.601068Z",
     "start_time": "2019-10-03T19:15:02.592086Z"
    }
   },
   "outputs": [],
   "source": [
    "re.sub('[\\(\\)]','','(123)')"
   ]
  },
  {
   "cell_type": "code",
   "execution_count": null,
   "metadata": {
    "ExecuteTime": {
     "end_time": "2019-10-03T19:05:01.849483Z",
     "start_time": "2019-10-03T19:05:01.829644Z"
    }
   },
   "outputs": [],
   "source": [
    "with open('../scraped/channel/podcast_chan_dict-corrected-urls.pickle', 'rb') as file:\n",
    "    chan_dict = pickle.load(file)"
   ]
  },
  {
   "cell_type": "code",
   "execution_count": null,
   "metadata": {
    "ExecuteTime": {
     "end_time": "2019-10-03T18:01:49.398282Z",
     "start_time": "2019-10-03T18:01:49.394766Z"
    },
    "scrolled": true
   },
   "outputs": [],
   "source": [
    "category_keys = list(chan_dict.keys())\n",
    "print('sample of categories: \\n', ' | '.join(category_keys[:20]))"
   ]
  },
  {
   "cell_type": "code",
   "execution_count": null,
   "metadata": {
    "ExecuteTime": {
     "end_time": "2019-10-03T18:00:58.776130Z",
     "start_time": "2019-10-03T18:00:58.771585Z"
    }
   },
   "outputs": [],
   "source": [
    "# calculate total number of podcasts\n",
    "rows = 0\n",
    "\n",
    "for key in category_keys:\n",
    "    rows += len(chan_dict[key].keys())\n",
    "    \n",
    "rows"
   ]
  },
  {
   "cell_type": "code",
   "execution_count": null,
   "metadata": {
    "ExecuteTime": {
     "end_time": "2019-10-03T18:01:00.882020Z",
     "start_time": "2019-10-03T18:01:00.874657Z"
    },
    "scrolled": true
   },
   "outputs": [],
   "source": [
    "# confirm that podcasts are uniquely sorted into a single category\n",
    "\n",
    "podcast_list = []\n",
    "\n",
    "for key in category_keys:\n",
    "    for pod_name in chan_dict[key].keys():\n",
    "        podcast_list += [pod_name]\n",
    "    \n",
    "len(podcast_list)"
   ]
  },
  {
   "cell_type": "markdown",
   "metadata": {},
   "source": [
    "Great, looks like podcasts are uniquely sorted into a single category. Now let's form a sample set from a single category."
   ]
  },
  {
   "cell_type": "code",
   "execution_count": null,
   "metadata": {
    "ExecuteTime": {
     "end_time": "2019-10-03T18:10:40.285314Z",
     "start_time": "2019-10-03T18:10:40.281236Z"
    },
    "scrolled": false
   },
   "outputs": [],
   "source": [
    "test_category = 'Arts'\n",
    "test_category_list = list(chan_dict[test_category].keys())\n",
    "print(f'number of podcasts in {test_category}: ', len(test_category_list))\n",
    "print('sample: ', ' | '.join(test_category_list[:10]))"
   ]
  },
  {
   "cell_type": "code",
   "execution_count": null,
   "metadata": {
    "ExecuteTime": {
     "end_time": "2019-10-03T17:25:36.944098Z",
     "start_time": "2019-10-03T17:25:36.940356Z"
    }
   },
   "outputs": [],
   "source": [
    "category = 'Pets & Animals'\n",
    "\n",
    "# category_str = re.sub('[^A-Za-z0-9]+', '', category)\n",
    "\n",
    "export_path = '../scraped/channel/by_category/' + category + '.csv'\n",
    "\n",
    "with open(export_path, 'w') as file:\n",
    "    file.write('first line, second column')"
   ]
  },
  {
   "cell_type": "code",
   "execution_count": null,
   "metadata": {
    "ExecuteTime": {
     "end_time": "2019-10-03T17:02:10.339083Z",
     "start_time": "2019-10-03T17:02:10.336316Z"
    }
   },
   "outputs": [],
   "source": [
    "import timeit"
   ]
  },
  {
   "cell_type": "code",
   "execution_count": null,
   "metadata": {
    "ExecuteTime": {
     "end_time": "2019-10-03T17:06:39.365988Z",
     "start_time": "2019-10-03T17:03:36.918900Z"
    }
   },
   "outputs": [],
   "source": [
    "driver = webdriver.Chrome(chromedriver)\n",
    "\n",
    "def scrape_sample():\n",
    "    for chan in random.sample(swimming_chans, 10):\n",
    "        chan_url = chan_dict['Swimming'][chan]['chan_url']\n",
    "        features = ws.scrape_channel_page(chan_url, driver, hide=True)\n",
    "#         print(features['title'], features['chan_url'])\n",
    "#         print('first release: ', features['first_release'])\n",
    "\n",
    "scrape_sample()"
   ]
  },
  {
   "cell_type": "code",
   "execution_count": null,
   "metadata": {
    "ExecuteTime": {
     "end_time": "2019-10-03T16:55:57.517716Z",
     "start_time": "2019-10-03T16:55:57.504036Z"
    }
   },
   "outputs": [],
   "source": [
    "size(features)"
   ]
  },
  {
   "cell_type": "code",
   "execution_count": null,
   "metadata": {
    "ExecuteTime": {
     "end_time": "2019-10-03T16:56:10.462818Z",
     "start_time": "2019-10-03T16:56:10.457767Z"
    }
   },
   "outputs": [],
   "source": [
    "features"
   ]
  },
  {
   "cell_type": "code",
   "execution_count": null,
   "metadata": {
    "ExecuteTime": {
     "end_time": "2019-10-03T16:56:42.718981Z",
     "start_time": "2019-10-03T16:56:42.714861Z"
    }
   },
   "outputs": [],
   "source": [
    "sys.getsizeof(features)"
   ]
  },
  {
   "cell_type": "code",
   "execution_count": null,
   "metadata": {
    "ExecuteTime": {
     "end_time": "2019-10-03T19:24:14.551817Z",
     "start_time": "2019-10-03T19:24:14.546902Z"
    }
   },
   "outputs": [],
   "source": [
    "with open('../logs/scrape_log.txt', 'a') as log:\n",
    "    log.write('text')"
   ]
  },
  {
   "cell_type": "code",
   "execution_count": null,
   "metadata": {
    "ExecuteTime": {
     "end_time": "2019-10-03T18:56:38.857093Z",
     "start_time": "2019-10-03T18:56:38.854540Z"
    }
   },
   "outputs": [],
   "source": [
    "import datetime as dt"
   ]
  },
  {
   "cell_type": "code",
   "execution_count": null,
   "metadata": {
    "ExecuteTime": {
     "end_time": "2019-10-03T18:56:51.625719Z",
     "start_time": "2019-10-03T18:56:51.621672Z"
    }
   },
   "outputs": [],
   "source": [
    "str(dt.datetime.now())"
   ]
  },
  {
   "cell_type": "code",
   "execution_count": null,
   "metadata": {
    "ExecuteTime": {
     "end_time": "2019-10-03T19:31:20.967187Z",
     "start_time": "2019-10-03T19:31:20.949300Z"
    }
   },
   "outputs": [],
   "source": [
    "with open('../scraped/channel/podcast_chan_dict-corrected-urls.pickle', 'rb') as file:\n",
    "    url_list = pickle.load(file)\n",
    "    file.close()"
   ]
  },
  {
   "cell_type": "code",
   "execution_count": null,
   "metadata": {
    "ExecuteTime": {
     "end_time": "2019-10-03T19:32:09.098297Z",
     "start_time": "2019-10-03T19:32:09.095445Z"
    }
   },
   "outputs": [],
   "source": [
    "url_list['Arts']['99% Invisible']['chan_url'] = 'https://castbox.fm/channel/id18'"
   ]
  },
  {
   "cell_type": "code",
   "execution_count": null,
   "metadata": {
    "ExecuteTime": {
     "end_time": "2019-10-03T19:32:35.668129Z",
     "start_time": "2019-10-03T19:32:35.652658Z"
    }
   },
   "outputs": [],
   "source": [
    "with open('../scraped/channel/podcast_chan_dict-corrected-urls-v2.pickle', 'wb') as file:\n",
    "    pickle.dump(url_list, file)\n",
    "    file.close()"
   ]
  },
  {
   "cell_type": "code",
   "execution_count": null,
   "metadata": {
    "ExecuteTime": {
     "end_time": "2019-10-03T20:38:18.207933Z",
     "start_time": "2019-10-03T20:38:17.478203Z"
    }
   },
   "outputs": [],
   "source": [
    "import pandas as pd"
   ]
  },
  {
   "cell_type": "code",
   "execution_count": null,
   "metadata": {
    "ExecuteTime": {
     "end_time": "2019-10-03T20:13:53.008485Z",
     "start_time": "2019-10-03T20:13:52.862664Z"
    }
   },
   "outputs": [],
   "source": [
    "with open('../scraped/channel/by_category/Arts.csv', 'r') as file:\n",
    "    scraped = pd.read_csv(file)\n",
    "    \n",
    "    for line in file:\n",
    "        line\n",
    "fil"
   ]
  },
  {
   "cell_type": "code",
   "execution_count": null,
   "metadata": {
    "ExecuteTime": {
     "end_time": "2019-10-03T20:27:51.695598Z",
     "start_time": "2019-10-03T20:27:51.692516Z"
    }
   },
   "outputs": [],
   "source": [
    "d = {'dict': 10}"
   ]
  },
  {
   "cell_type": "code",
   "execution_count": null,
   "metadata": {
    "ExecuteTime": {
     "end_time": "2019-10-03T20:27:53.482812Z",
     "start_time": "2019-10-03T20:27:53.469465Z"
    }
   },
   "outputs": [],
   "source": [
    "str(d)"
   ]
  },
  {
   "cell_type": "code",
   "execution_count": null,
   "metadata": {
    "ExecuteTime": {
     "end_time": "2019-10-03T20:43:04.028742Z",
     "start_time": "2019-10-03T20:43:04.016382Z"
    }
   },
   "outputs": [],
   "source": [
    "with open('../scraped/channel/already_scraped.csv', 'r') as file:\n",
    "        scraped = pd.read_csv(file, names=['chan_title','chan_url','category'])\n",
    "scraped"
   ]
  },
  {
   "cell_type": "code",
   "execution_count": null,
   "metadata": {
    "ExecuteTime": {
     "end_time": "2019-10-03T20:46:03.564220Z",
     "start_time": "2019-10-03T20:46:03.557523Z"
    }
   },
   "outputs": [],
   "source": [
    "len(scraped[scraped.chan_title == 'Fresh Air'])"
   ]
  },
  {
   "cell_type": "code",
   "execution_count": 7,
   "metadata": {
    "ExecuteTime": {
     "end_time": "2019-10-03T21:11:53.019674Z",
     "start_time": "2019-10-03T21:11:53.015077Z"
    }
   },
   "outputs": [],
   "source": [
    "\n",
    "file_name = '../scraped/channel/by_category/test_duplicate_removal.txt'\n",
    "\n",
    "lines_seen = set() # holds lines already seen\n",
    "\n",
    "outfile = open('../scraped/channel/by_category/test_duplicate_removal.txt', \"w\")\n",
    "for line in open(file_name, \"r\"):\n",
    "    if line == '\\n':\n",
    "        outfile.write(line)\n",
    "    elif line not in lines_seen: # not a duplicate\n",
    "        outfile.write(line)\n",
    "        lines_seen.add(line)\n",
    "outfile.close()"
   ]
  },
  {
   "cell_type": "code",
   "execution_count": 3,
   "metadata": {
    "ExecuteTime": {
     "end_time": "2019-10-04T12:48:19.909074Z",
     "start_time": "2019-10-04T12:48:19.900775Z"
    }
   },
   "outputs": [
    {
     "name": "stdout",
     "output_type": "stream",
     "text": [
      "78\n",
      "71\n"
     ]
    }
   ],
   "source": [
    "# Clean up Arts category (used for testing)\n",
    "\n",
    "outfile = open('../scraped/channel/by_category/Arts_cleaned.txt', \"w\")\n",
    "\n",
    "lines_seen = set()\n",
    "old_line_count = 0\n",
    "new_line_count = 0\n",
    "for line in open('../scraped/channel/by_category/Arts.txt', \"r\"):\n",
    "    old_line_count += 1\n",
    "    if line == '\\n':\n",
    "        outfile.write(line)\n",
    "        new_line_count += 1\n",
    "    elif line not in lines_seen: # not a duplicate\n",
    "        outfile.write(line)\n",
    "        lines_seen.add(line)\n",
    "        new_line_count += 1\n",
    "outfile.close()\n",
    "\n",
    "print(old_line_count)\n",
    "print(new_line_count)"
   ]
  },
  {
   "cell_type": "code",
   "execution_count": null,
   "metadata": {},
   "outputs": [],
   "source": []
  },
  {
   "cell_type": "code",
   "execution_count": 5,
   "metadata": {
    "ExecuteTime": {
     "end_time": "2019-10-06T02:48:25.647897Z",
     "start_time": "2019-10-06T02:48:25.636765Z"
    }
   },
   "outputs": [
    {
     "data": {
      "text/plain": [
       "0"
      ]
     },
     "execution_count": 5,
     "metadata": {},
     "output_type": "execute_result"
    }
   ],
   "source": [
    "len({})"
   ]
  },
  {
   "cell_type": "code",
   "execution_count": 7,
   "metadata": {
    "ExecuteTime": {
     "end_time": "2019-10-06T02:48:36.247010Z",
     "start_time": "2019-10-06T02:48:36.243315Z"
    }
   },
   "outputs": [
    {
     "data": {
      "text/plain": [
       "1"
      ]
     },
     "execution_count": 7,
     "metadata": {},
     "output_type": "execute_result"
    }
   ],
   "source": [
    "len({'test':''})"
   ]
  },
  {
   "cell_type": "code",
   "execution_count": 5,
   "metadata": {
    "ExecuteTime": {
     "end_time": "2019-10-06T03:11:17.676820Z",
     "start_time": "2019-10-06T03:11:17.666119Z"
    }
   },
   "outputs": [
    {
     "data": {
      "text/plain": [
       "10"
      ]
     },
     "execution_count": 5,
     "metadata": {},
     "output_type": "execute_result"
    }
   ],
   "source": [
    "len([['2017-08-09', '00:21:33', 9], ['2017-08-07', '00:20:29', 7], ['2017-08-02', '00:22:33', 9], ['2017-07-31', '00:22:18', 5], ['2017-07-26', '00:26:38', 6], ['2017-07-24', '00:17:01', 6], ['2017-07-19', '00:19:21', 7], ['2017-07-17', '00:23:57', 4], ['2017-07-12', '00:15:21', 6], ['2017-07-10', '00:18:20', 7]])"
   ]
  },
  {
   "cell_type": "code",
   "execution_count": null,
   "metadata": {},
   "outputs": [],
   "source": []
  }
 ],
 "metadata": {
  "kernelspec": {
   "display_name": "Python 3",
   "language": "python",
   "name": "python3"
  },
  "language_info": {
   "codemirror_mode": {
    "name": "ipython",
    "version": 3
   },
   "file_extension": ".py",
   "mimetype": "text/x-python",
   "name": "python",
   "nbconvert_exporter": "python",
   "pygments_lexer": "ipython3",
   "version": "3.7.4"
  },
  "toc": {
   "base_numbering": 1,
   "nav_menu": {},
   "number_sections": false,
   "sideBar": true,
   "skip_h1_title": false,
   "title_cell": "Table of Contents",
   "title_sidebar": "Contents",
   "toc_cell": true,
   "toc_position": {},
   "toc_section_display": true,
   "toc_window_display": false
  },
  "varInspector": {
   "cols": {
    "lenName": 16,
    "lenType": 16,
    "lenVar": 40
   },
   "kernels_config": {
    "python": {
     "delete_cmd_postfix": "",
     "delete_cmd_prefix": "del ",
     "library": "var_list.py",
     "varRefreshCmd": "print(var_dic_list())"
    },
    "r": {
     "delete_cmd_postfix": ") ",
     "delete_cmd_prefix": "rm(",
     "library": "var_list.r",
     "varRefreshCmd": "cat(var_dic_list()) "
    }
   },
   "position": {
    "height": "358px",
    "left": "594px",
    "right": "20px",
    "top": "115px",
    "width": "510px"
   },
   "types_to_exclude": [
    "module",
    "function",
    "builtin_function_or_method",
    "instance",
    "_Feature"
   ],
   "window_display": false
  }
 },
 "nbformat": 4,
 "nbformat_minor": 2
}
