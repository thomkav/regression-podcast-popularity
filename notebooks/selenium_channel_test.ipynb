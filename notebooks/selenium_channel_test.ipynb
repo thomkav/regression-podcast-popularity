{
 "cells": [
  {
   "cell_type": "markdown",
   "metadata": {
    "toc": true
   },
   "source": [
    "<h1>Table of Contents<span class=\"tocSkip\"></span></h1>\n",
    "<div class=\"toc\"><ul class=\"toc-item\"></ul></div>"
   ]
  },
  {
   "cell_type": "code",
   "execution_count": 9,
   "metadata": {
    "ExecuteTime": {
     "end_time": "2019-10-02T19:06:44.855131Z",
     "start_time": "2019-10-02T19:06:44.850788Z"
    }
   },
   "outputs": [],
   "source": [
    "from bs4 import BeautifulSoup\n",
    "import requests\n",
    "import time, os\n",
    "\n",
    "# webdriver imports\n",
    "from selenium import webdriver\n",
    "from selenium.webdriver.common.keys import Keys\n",
    "chromedriver = \"/Applications/chromedriver\" # path to the chromedriver executable\n",
    "os.environ[\"webdriver.chrome.driver\"] = chromedriver"
   ]
  },
  {
   "cell_type": "code",
   "execution_count": 37,
   "metadata": {
    "ExecuteTime": {
     "end_time": "2019-10-02T19:20:08.317191Z",
     "start_time": "2019-10-02T19:20:06.270778Z"
    }
   },
   "outputs": [
    {
     "data": {
      "text/plain": [
       "{'height': 800, 'width': 900, 'x': 1450, 'y': -360}"
      ]
     },
     "execution_count": 37,
     "metadata": {},
     "output_type": "execute_result"
    }
   ],
   "source": [
    "# Configure window for multi-monitor automation\n",
    "config_driver = webdriver.Chrome(chromedriver)\n",
    "\n",
    "window_rect = (1450, -500, 900, 800) # x, y, width, height\n",
    "config_driver.set_window_rect(*window_rect)"
   ]
  },
  {
   "cell_type": "code",
   "execution_count": 38,
   "metadata": {
    "ExecuteTime": {
     "end_time": "2019-10-02T19:20:17.918190Z",
     "start_time": "2019-10-02T19:20:17.845512Z"
    }
   },
   "outputs": [],
   "source": [
    "# End driver session after window is configured.\n",
    "config_driver.quit()"
   ]
  },
  {
   "cell_type": "code",
   "execution_count": 39,
   "metadata": {
    "ExecuteTime": {
     "end_time": "2019-10-02T19:36:42.278974Z",
     "start_time": "2019-10-02T19:36:39.617144Z"
    }
   },
   "outputs": [
    {
     "data": {
      "text/plain": [
       "{'height': 800, 'width': 900, 'x': 1450, 'y': -360}"
      ]
     },
     "execution_count": 39,
     "metadata": {},
     "output_type": "execute_result"
    }
   ],
   "source": [
    "test_redir_url = 'https://castbox.fm/channel/id200?country=us'\n",
    "\n",
    "driver = webdriver.Chrome(chromedriver)\n",
    "driver.set_window_rect(*window_rect)\n"
   ]
  },
  {
   "cell_type": "code",
   "execution_count": 40,
   "metadata": {
    "ExecuteTime": {
     "end_time": "2019-10-02T19:37:20.273627Z",
     "start_time": "2019-10-02T19:37:07.775794Z"
    }
   },
   "outputs": [],
   "source": [
    "driver.get(test_redir_url)"
   ]
  },
  {
   "cell_type": "code",
   "execution_count": 45,
   "metadata": {
    "ExecuteTime": {
     "end_time": "2019-10-02T19:40:06.329381Z",
     "start_time": "2019-10-02T19:40:06.314707Z"
    }
   },
   "outputs": [],
   "source": [
    "reverse_btn = driver.find_element_by_class_name('funcBtn-item')"
   ]
  },
  {
   "cell_type": "code",
   "execution_count": 46,
   "metadata": {
    "ExecuteTime": {
     "end_time": "2019-10-02T19:40:22.763478Z",
     "start_time": "2019-10-02T19:40:22.706299Z"
    }
   },
   "outputs": [],
   "source": [
    "reverse_btn.click()"
   ]
  },
  {
   "cell_type": "code",
   "execution_count": 47,
   "metadata": {
    "ExecuteTime": {
     "end_time": "2019-10-02T19:41:43.966264Z",
     "start_time": "2019-10-02T19:41:43.932022Z"
    }
   },
   "outputs": [
    {
     "data": {
      "text/plain": [
       "'2008-12-12'"
      ]
     },
     "execution_count": 47,
     "metadata": {},
     "output_type": "execute_result"
    }
   ],
   "source": [
    "date_span = driver.find_element_by_xpath('//*[@id=\"trackListCon_list\"]/div/section[1]/div[1]/div[2]/p/span[1]')\n",
    "first_pod = date_span.text"
   ]
  },
  {
   "cell_type": "code",
   "execution_count": null,
   "metadata": {},
   "outputs": [],
   "source": [
    "# First, get the soup of the page as is.\n",
    "\n",
    "# soup = BeautifulSoup(driver.page_source, 'html.parser')\n",
    "\n",
    "# Then, before passing soup to the channel processer,\n",
    "# click 'Reverse' on the podcast listing,\n",
    "# and grab \n",
    "\n",
    "# reverse_soup = BeautifulSoup(driver.page_source, 'html.parser')"
   ]
  }
 ],
 "metadata": {
  "kernelspec": {
   "display_name": "Python 3",
   "language": "python",
   "name": "python3"
  },
  "language_info": {
   "codemirror_mode": {
    "name": "ipython",
    "version": 3
   },
   "file_extension": ".py",
   "mimetype": "text/x-python",
   "name": "python",
   "nbconvert_exporter": "python",
   "pygments_lexer": "ipython3",
   "version": "3.7.4"
  },
  "toc": {
   "base_numbering": 1,
   "nav_menu": {},
   "number_sections": false,
   "sideBar": true,
   "skip_h1_title": false,
   "title_cell": "Table of Contents",
   "title_sidebar": "Contents",
   "toc_cell": true,
   "toc_position": {},
   "toc_section_display": true,
   "toc_window_display": false
  },
  "varInspector": {
   "cols": {
    "lenName": 16,
    "lenType": 16,
    "lenVar": 40
   },
   "kernels_config": {
    "python": {
     "delete_cmd_postfix": "",
     "delete_cmd_prefix": "del ",
     "library": "var_list.py",
     "varRefreshCmd": "print(var_dic_list())"
    },
    "r": {
     "delete_cmd_postfix": ") ",
     "delete_cmd_prefix": "rm(",
     "library": "var_list.r",
     "varRefreshCmd": "cat(var_dic_list()) "
    }
   },
   "position": {
    "height": "281px",
    "left": "655px",
    "right": "20px",
    "top": "120px",
    "width": "350px"
   },
   "types_to_exclude": [
    "module",
    "function",
    "builtin_function_or_method",
    "instance",
    "_Feature"
   ],
   "window_display": false
  }
 },
 "nbformat": 4,
 "nbformat_minor": 2
}
