{
 "cells": [
  {
   "cell_type": "markdown",
   "metadata": {
    "toc": true
   },
   "source": [
    "<h1>Table of Contents<span class=\"tocSkip\"></span></h1>\n",
    "<div class=\"toc\"><ul class=\"toc-item\"><li><span><a href=\"#Gather-Follower-&amp;-Statuses-Counts-for-Podcasts-with-Twitter-Accounts\" data-toc-modified-id=\"Gather-Follower-&amp;-Statuses-Counts-for-Podcasts-with-Twitter-Accounts-1\">Gather Follower &amp; Statuses Counts for Podcasts with Twitter Accounts</a></span><ul class=\"toc-item\"><li><span><a href=\"#Goal-is-to-use-these-to-enrich-our-understanding-of-podcast-social-activity.\" data-toc-modified-id=\"Goal-is-to-use-these-to-enrich-our-understanding-of-podcast-social-activity.-1.1\">Goal is to use these to enrich our understanding of podcast social activity.</a></span></li></ul></li></ul></div>"
   ]
  },
  {
   "cell_type": "code",
   "execution_count": 1,
   "metadata": {
    "ExecuteTime": {
     "end_time": "2019-10-08T01:34:14.172004Z",
     "start_time": "2019-10-08T01:34:13.684389Z"
    }
   },
   "outputs": [],
   "source": [
    "import pickle\n",
    "\n",
    "import features\n",
    "\n",
    "import time\n",
    "import re\n",
    "\n",
    "import twitter\n",
    "api = twitter.Api(consumer_key='3ExAhrEEf6c1zhtFzswFJ7cGD',\n",
    "  consumer_secret='tnyOfCRVq4YT6uCo6IVChmQHCX3iRTK1Yg45ZqWqAW2EjUQwKO',\n",
    "  access_token_key='1166032070667202565-9MbVIOwbCC8wnVarMsIE2NkBDwADix',\n",
    "  access_token_secret='OpCglzB7WsTyeEjI7CeNpo1cHTJSYQqKe4ylOrQpSBlSx')"
   ]
  },
  {
   "cell_type": "code",
   "execution_count": 2,
   "metadata": {
    "ExecuteTime": {
     "end_time": "2019-10-08T01:34:14.890302Z",
     "start_time": "2019-10-08T01:34:14.718357Z"
    },
    "scrolled": false
   },
   "outputs": [
    {
     "name": "stdout",
     "output_type": "stream",
     "text": [
      "{\"created_at\": \"Mon Aug 26 16:59:13 +0000 2019\", \"default_profile\": true, \"description\": \"data scientist | meditator | Coloradan in BK/NYC\", \"favourites_count\": 1, \"followers_count\": 4, \"friends_count\": 20, \"id\": 1166032070667202565, \"id_str\": \"1166032070667202565\", \"name\": \"Thomas Kavanagh\", \"profile_background_color\": \"F5F8FA\", \"profile_image_url\": \"http://pbs.twimg.com/profile_images/1166032951932403714/lkQcnMwS_normal.jpg\", \"profile_image_url_https\": \"https://pbs.twimg.com/profile_images/1166032951932403714/lkQcnMwS_normal.jpg\", \"profile_link_color\": \"1DA1F2\", \"profile_sidebar_border_color\": \"C0DEED\", \"profile_sidebar_fill_color\": \"DDEEF6\", \"profile_text_color\": \"333333\", \"profile_use_background_image\": true, \"screen_name\": \"ThomasK26635081\"}\n"
     ]
    }
   ],
   "source": [
    "print(api.VerifyCredentials())"
   ]
  },
  {
   "cell_type": "markdown",
   "metadata": {},
   "source": [
    "## Gather Follower & Statuses Counts for Podcasts with Twitter Accounts\n",
    "\n",
    "### Goal is to use these to enrich our understanding of podcast social activity.\n",
    "\n",
    "Tutorial found here:\n",
    "\n",
    "https://www.alexkras.com/how-to-get-user-feed-with-twitter-api-and-python/"
   ]
  },
  {
   "cell_type": "markdown",
   "metadata": {},
   "source": [
    "We will unload (any) version of the sanitized dataframe, in order to gather a list of channels in order to create a dictionary."
   ]
  },
  {
   "cell_type": "code",
   "execution_count": 3,
   "metadata": {
    "ExecuteTime": {
     "end_time": "2019-10-08T01:34:22.301556Z",
     "start_time": "2019-10-08T01:34:22.125212Z"
    }
   },
   "outputs": [],
   "source": [
    "df_version = 'merged_10-06_23-26.pickle'\n",
    "import_path = '../scraped/merged/' + df_version\n",
    "with open(import_path, 'rb') as file:\n",
    "    raw_df = pickle.load(file)\n",
    "\n",
    "raw_df['twitter'] = raw_df['ch_feed-socials'].apply(lambda row: features.has_domain(row, 'twitter'))"
   ]
  },
  {
   "cell_type": "code",
   "execution_count": 4,
   "metadata": {
    "ExecuteTime": {
     "end_time": "2019-10-08T01:34:27.185109Z",
     "start_time": "2019-10-08T01:34:27.182380Z"
    }
   },
   "outputs": [],
   "source": [
    "t_cols = ['title','chan_url','ch_feed-socials','twitter']"
   ]
  },
  {
   "cell_type": "code",
   "execution_count": 5,
   "metadata": {
    "ExecuteTime": {
     "end_time": "2019-10-08T01:34:27.971359Z",
     "start_time": "2019-10-08T01:34:27.947885Z"
    }
   },
   "outputs": [
    {
     "data": {
      "text/html": [
       "<div>\n",
       "<style scoped>\n",
       "    .dataframe tbody tr th:only-of-type {\n",
       "        vertical-align: middle;\n",
       "    }\n",
       "\n",
       "    .dataframe tbody tr th {\n",
       "        vertical-align: top;\n",
       "    }\n",
       "\n",
       "    .dataframe thead th {\n",
       "        text-align: right;\n",
       "    }\n",
       "</style>\n",
       "<table border=\"1\" class=\"dataframe\">\n",
       "  <thead>\n",
       "    <tr style=\"text-align: right;\">\n",
       "      <th></th>\n",
       "      <th>title</th>\n",
       "      <th>chan_url</th>\n",
       "      <th>ch_feed-socials</th>\n",
       "      <th>twitter</th>\n",
       "    </tr>\n",
       "  </thead>\n",
       "  <tbody>\n",
       "    <tr>\n",
       "      <td>190</td>\n",
       "      <td>Dance Shark Podcast</td>\n",
       "      <td>https://castbox.fm/channel/Dance-Shark-Podcast...</td>\n",
       "      <td>[https://twitter.com/DanceSharkPod, https://ww...</td>\n",
       "      <td>1</td>\n",
       "    </tr>\n",
       "    <tr>\n",
       "      <td>17</td>\n",
       "      <td>The Secret History of the Future</td>\n",
       "      <td>https://castbox.fm/channel/The-Secret-History-...</td>\n",
       "      <td>[https://slate.com]</td>\n",
       "      <td>0</td>\n",
       "    </tr>\n",
       "    <tr>\n",
       "      <td>107</td>\n",
       "      <td>Collegehood Advice - How to succeed and thrive...</td>\n",
       "      <td>https://castbox.fm/channel/Collegehood-Advice-...</td>\n",
       "      <td>[https://collegehoodadvice.com/]</td>\n",
       "      <td>0</td>\n",
       "    </tr>\n",
       "  </tbody>\n",
       "</table>\n",
       "</div>"
      ],
      "text/plain": [
       "                                                 title  \\\n",
       "190                                Dance Shark Podcast   \n",
       "17                    The Secret History of the Future   \n",
       "107  Collegehood Advice - How to succeed and thrive...   \n",
       "\n",
       "                                              chan_url  \\\n",
       "190  https://castbox.fm/channel/Dance-Shark-Podcast...   \n",
       "17   https://castbox.fm/channel/The-Secret-History-...   \n",
       "107  https://castbox.fm/channel/Collegehood-Advice-...   \n",
       "\n",
       "                                       ch_feed-socials  twitter  \n",
       "190  [https://twitter.com/DanceSharkPod, https://ww...        1  \n",
       "17                                 [https://slate.com]        0  \n",
       "107                   [https://collegehoodadvice.com/]        0  "
      ]
     },
     "execution_count": 5,
     "metadata": {},
     "output_type": "execute_result"
    }
   ],
   "source": [
    "raw_df.sample(3)[t_cols]"
   ]
  },
  {
   "cell_type": "code",
   "execution_count": 6,
   "metadata": {
    "ExecuteTime": {
     "end_time": "2019-10-08T01:34:28.841509Z",
     "start_time": "2019-10-08T01:34:28.829185Z"
    },
    "scrolled": false
   },
   "outputs": [
    {
     "data": {
      "text/html": [
       "<div>\n",
       "<style scoped>\n",
       "    .dataframe tbody tr th:only-of-type {\n",
       "        vertical-align: middle;\n",
       "    }\n",
       "\n",
       "    .dataframe tbody tr th {\n",
       "        vertical-align: top;\n",
       "    }\n",
       "\n",
       "    .dataframe thead th {\n",
       "        text-align: right;\n",
       "    }\n",
       "</style>\n",
       "<table border=\"1\" class=\"dataframe\">\n",
       "  <thead>\n",
       "    <tr style=\"text-align: right;\">\n",
       "      <th></th>\n",
       "      <th>title</th>\n",
       "      <th>chan_url</th>\n",
       "      <th>ch_feed-socials</th>\n",
       "      <th>twitter</th>\n",
       "    </tr>\n",
       "  </thead>\n",
       "  <tbody>\n",
       "    <tr>\n",
       "      <td>136</td>\n",
       "      <td>Duncan Trussell Family Hour</td>\n",
       "      <td>https://castbox.fm/channel/Duncan-Trussell-Fam...</td>\n",
       "      <td>[https://twitter.com/duncantrussell, https://w...</td>\n",
       "      <td>1</td>\n",
       "    </tr>\n",
       "    <tr>\n",
       "      <td>25</td>\n",
       "      <td>Your Morning Basket</td>\n",
       "      <td>https://castbox.fm/channel/Your-Morning-Basket...</td>\n",
       "      <td>[https://twitter.com/hspambarnhill, https://pa...</td>\n",
       "      <td>1</td>\n",
       "    </tr>\n",
       "    <tr>\n",
       "      <td>61</td>\n",
       "      <td>TWILA Aftershow</td>\n",
       "      <td>https://castbox.fm/channel/TWILA-Aftershow-id2...</td>\n",
       "      <td>[https://twitter.com/twilatv, https://www.face...</td>\n",
       "      <td>1</td>\n",
       "    </tr>\n",
       "  </tbody>\n",
       "</table>\n",
       "</div>"
      ],
      "text/plain": [
       "                           title  \\\n",
       "136  Duncan Trussell Family Hour   \n",
       "25           Your Morning Basket   \n",
       "61               TWILA Aftershow   \n",
       "\n",
       "                                              chan_url  \\\n",
       "136  https://castbox.fm/channel/Duncan-Trussell-Fam...   \n",
       "25   https://castbox.fm/channel/Your-Morning-Basket...   \n",
       "61   https://castbox.fm/channel/TWILA-Aftershow-id2...   \n",
       "\n",
       "                                       ch_feed-socials  twitter  \n",
       "136  [https://twitter.com/duncantrussell, https://w...        1  \n",
       "25   [https://twitter.com/hspambarnhill, https://pa...        1  \n",
       "61   [https://twitter.com/twilatv, https://www.face...        1  "
      ]
     },
     "execution_count": 6,
     "metadata": {},
     "output_type": "execute_result"
    }
   ],
   "source": [
    "raw_df[raw_df.twitter == 1].sample(3)[t_cols]"
   ]
  },
  {
   "cell_type": "code",
   "execution_count": 7,
   "metadata": {
    "ExecuteTime": {
     "end_time": "2019-10-08T01:34:30.484685Z",
     "start_time": "2019-10-08T01:34:30.474115Z"
    },
    "scrolled": false
   },
   "outputs": [],
   "source": [
    "twitter_chans = raw_df[raw_df.twitter == 1][['title','chan_url','ch_feed-socials']].to_dict(orient='records')"
   ]
  },
  {
   "cell_type": "code",
   "execution_count": 8,
   "metadata": {
    "ExecuteTime": {
     "end_time": "2019-10-08T01:34:31.153577Z",
     "start_time": "2019-10-08T01:34:31.149445Z"
    }
   },
   "outputs": [],
   "source": [
    "def extract_twitter_screen_name(ch_feed_socials):\n",
    "\n",
    "    if len(ch_feed_socials) == 0:\n",
    "        return ''\n",
    "    else:\n",
    "        pattern = '.+(twitter.com/)(?P<screen_name>.+)'\n",
    "        for url in ch_feed_socials:\n",
    "#             print(url)\n",
    "            try:\n",
    "                screen_name = re.match(pattern, url).group('screen_name')\n",
    "                if screen_name:\n",
    "                    return screen_name\n",
    "            except:\n",
    "                oass\n",
    "        return ''"
   ]
  },
  {
   "cell_type": "code",
   "execution_count": 15,
   "metadata": {
    "ExecuteTime": {
     "end_time": "2019-10-08T01:24:05.086004Z",
     "start_time": "2019-10-08T01:24:05.079032Z"
    }
   },
   "outputs": [],
   "source": [
    "with open('../social_metrics/twitter/channel_stats_by_name_oct6_11p_copy.pickle', 'rb') as file:\n",
    "    twitter_dict = pickle.load(file)"
   ]
  },
  {
   "cell_type": "code",
   "execution_count": 16,
   "metadata": {
    "ExecuteTime": {
     "end_time": "2019-10-08T01:24:28.714114Z",
     "start_time": "2019-10-08T01:24:28.710463Z"
    }
   },
   "outputs": [],
   "source": [
    "for chan in twitter_dict.keys():\n",
    "    if twitter_dict[chan]['screen_name']:\n",
    "        continue\n",
    "    else:\n",
    "        twitter_dict[chan]['screen_name'] = extract_twitter_screen_name(twitter_dict[chan]['ch_feed-socials'])"
   ]
  },
  {
   "cell_type": "code",
   "execution_count": 14,
   "metadata": {
    "ExecuteTime": {
     "end_time": "2019-10-08T01:23:58.130061Z",
     "start_time": "2019-10-08T01:23:58.126271Z"
    },
    "scrolled": true
   },
   "outputs": [
    {
     "data": {
      "text/plain": [
       "728"
      ]
     },
     "execution_count": 14,
     "metadata": {},
     "output_type": "execute_result"
    }
   ],
   "source": [
    "len(twitter_dict)"
   ]
  },
  {
   "cell_type": "markdown",
   "metadata": {},
   "source": [
    "Let's create a set of unique twitter handles, as its own dataframe, which we will use as a reference."
   ]
  },
  {
   "cell_type": "code",
   "execution_count": 100,
   "metadata": {
    "ExecuteTime": {
     "end_time": "2019-10-07T01:49:36.034757Z",
     "start_time": "2019-10-07T01:49:36.028541Z"
    }
   },
   "outputs": [],
   "source": [
    "# with open('../social_metrics/twitter/channel_stats_by_name.pickle', 'rb') as file:\n",
    "#     twitter_follower_dict = pickle.load(file)"
   ]
  },
  {
   "cell_type": "code",
   "execution_count": 17,
   "metadata": {
    "ExecuteTime": {
     "end_time": "2019-10-08T01:24:44.458802Z",
     "start_time": "2019-10-08T01:24:44.454853Z"
    }
   },
   "outputs": [],
   "source": [
    "def add_channels_to_twitter_dictionary(channnels, output_dict):\n",
    "    for chan in channnels:\n",
    "        key = chan['title']\n",
    "        try:\n",
    "            output_dict[key].update(chan)\n",
    "        except:\n",
    "            output_dict[key] = chan\n",
    "    return True"
   ]
  },
  {
   "cell_type": "code",
   "execution_count": 25,
   "metadata": {
    "ExecuteTime": {
     "end_time": "2019-10-08T01:25:52.662669Z",
     "start_time": "2019-10-08T01:25:52.658473Z"
    },
    "scrolled": true
   },
   "outputs": [
    {
     "data": {
      "text/plain": [
       "[{'title': 'Dose of Leadership with Richard Rierson | Authentic & Courageous Leadership Development',\n",
       "  'chan_url': 'https://castbox.fm/channel/Dose-of-Leadership-with-Richard-Rierson-|-Authentic-%26-Courageous-Leadership-Development-id2043375',\n",
       "  'ch_feed-socials': ['https://twitter.com/DoseOfLeader',\n",
       "   'https://www.doseofleadership.com']},\n",
       " {'title': 'Read to Lead Podcast',\n",
       "  'chan_url': 'https://castbox.fm/channel/Read-to-Lead-Podcast-id1300385',\n",
       "  'ch_feed-socials': ['https://twitter.com/THEjeffbrown',\n",
       "   'https://readtoleadpodcast.com']},\n",
       " {'title': 'Business Bootcamp',\n",
       "  'chan_url': 'https://castbox.fm/channel/Business-Bootcamp-id8156',\n",
       "  'ch_feed-socials': ['https://twitter.com/thebizpodcast',\n",
       "   'https://www.facebook.com/businessbootcamppodcast',\n",
       "   'https://businessbootcamppodcast.com']},\n",
       " {'title': 'The Speaking Club: Mastering the Art of Public Speaking',\n",
       "  'chan_url': 'https://castbox.fm/channel/The-Speaking-Club%3A-Mastering-the-Art-of-Public-Speaking-id1365451',\n",
       "  'ch_feed-socials': ['https://twitter.com/saraharcher15',\n",
       "   'https://www.facebook.com/SarahArcherSpeak',\n",
       "   'https://www.instagram.com/saraharcher15',\n",
       "   'https://www.saraharcher.co.uk/']},\n",
       " {'title': 'Difficult Happens; Effective Communication for Bosses',\n",
       "  'chan_url': 'https://castbox.fm/channel/Difficult-Happens%3B-Effective-Communication-for-Bosses-id1202321',\n",
       "  'ch_feed-socials': ['https://twitter.com/loveleelara',\n",
       "   'https://www.facebook.com/difficulthappens',\n",
       "   'https://www.instagram.com/difficulthappens',\n",
       "   'https://www.youtube.com/channel/UCnbWvqOxtB3DQHhhooSNMTQ?view_as=subscriber',\n",
       "   'https://difficulthappens.com/podcast-page/']}]"
      ]
     },
     "execution_count": 25,
     "metadata": {},
     "output_type": "execute_result"
    }
   ],
   "source": [
    "twitter_chans[:5]"
   ]
  },
  {
   "cell_type": "code",
   "execution_count": 26,
   "metadata": {
    "ExecuteTime": {
     "end_time": "2019-10-08T01:25:58.538800Z",
     "start_time": "2019-10-08T01:25:58.533805Z"
    }
   },
   "outputs": [
    {
     "data": {
      "text/plain": [
       "True"
      ]
     },
     "execution_count": 26,
     "metadata": {},
     "output_type": "execute_result"
    }
   ],
   "source": [
    "add_channels_to_twitter_dictionary(twitter_chans, twitter_dict)"
   ]
  },
  {
   "cell_type": "code",
   "execution_count": 27,
   "metadata": {
    "ExecuteTime": {
     "end_time": "2019-10-08T01:26:01.461819Z",
     "start_time": "2019-10-08T01:26:01.456455Z"
    }
   },
   "outputs": [
    {
     "data": {
      "text/plain": [
       "[('Small Town Horror',\n",
       "  {'title': 'Small Town Horror',\n",
       "   'chan_url': 'https://castbox.fm/channel/Small-Town-Horror-id1266396',\n",
       "   'ch_feed-socials': ['https://twitter.com/SmallTwnHorror',\n",
       "    'https://www.facebook.com/smalltownhorrorpodcast',\n",
       "    'https://play.acast.com/s/smalltownhorror'],\n",
       "   'screen_name': 'SmallTwnHorror',\n",
       "   'follower_count': 0}),\n",
       " ('I Should Be Writing',\n",
       "  {'title': 'I Should Be Writing',\n",
       "   'chan_url': 'https://castbox.fm/channel/I-Should-Be-Writing-id210',\n",
       "   'ch_feed-socials': ['https://twitter.com/mightymur',\n",
       "    'http://murverse.com/tag/isbw/'],\n",
       "   'screen_name': 'mightymur',\n",
       "   'follower_count': 14970}),\n",
       " ('Book Riot - The Podcast',\n",
       "  {'title': 'Book Riot - The Podcast',\n",
       "   'chan_url': 'https://castbox.fm/channel/Book-Riot-The-Podcast-id1207097',\n",
       "   'ch_feed-socials': ['https://twitter.com/BookRiot',\n",
       "    'https://bookriot.com/listen/shows/thepodcast/'],\n",
       "   'screen_name': 'BookRiot',\n",
       "   'follower_count': 214860}),\n",
       " ('The Disney Story Origins Podcast',\n",
       "  {'title': 'The Disney Story Origins Podcast',\n",
       "   'chan_url': 'https://castbox.fm/channel/The-Disney-Story-Origins-Podcast-id7837',\n",
       "   'ch_feed-socials': ['https://twitter.com/pauljhaleauthor',\n",
       "    'http://www.disneystoryoriginspodcast.com/category/podcast/'],\n",
       "   'screen_name': 'pauljhaleauthor',\n",
       "   'follower_count': 230}),\n",
       " ('Saga',\n",
       "  {'title': 'Saga',\n",
       "   'chan_url': 'https://castbox.fm/channel/Saga-id1415827',\n",
       "   'ch_feed-socials': ['https://twitter.com/PodcastSaga',\n",
       "    'https://www.instagram.com/saga.podcast',\n",
       "    'https://sagapodcast.ir'],\n",
       "   'screen_name': 'PodcastSaga',\n",
       "   'follower_count': 1715})]"
      ]
     },
     "execution_count": 27,
     "metadata": {},
     "output_type": "execute_result"
    }
   ],
   "source": [
    "[(k, twitter_dict[k]) for k in list(twitter_dict.keys())[:5]]"
   ]
  },
  {
   "cell_type": "code",
   "execution_count": 28,
   "metadata": {
    "ExecuteTime": {
     "end_time": "2019-10-08T01:26:04.702934Z",
     "start_time": "2019-10-08T01:26:04.698872Z"
    }
   },
   "outputs": [],
   "source": [
    "def update_screen_names(t_dict):\n",
    "    \n",
    "    chan_list = t_dict.keys()\n",
    "    \n",
    "    for chan in chan_list:\n",
    "        if 'screen_name' in t_dict[chan].keys():\n",
    "            pass\n",
    "        else:\n",
    "            socials = t_dict[chan]['ch_feed-socials']\n",
    "            t_dict[chan]['screen_name'] = extract_twitter_screen_name(socials)\n",
    "    \n",
    "    return True"
   ]
  },
  {
   "cell_type": "code",
   "execution_count": 29,
   "metadata": {
    "ExecuteTime": {
     "end_time": "2019-10-08T01:26:17.032073Z",
     "start_time": "2019-10-08T01:26:17.026847Z"
    },
    "scrolled": true
   },
   "outputs": [
    {
     "data": {
      "text/plain": [
       "True"
      ]
     },
     "execution_count": 29,
     "metadata": {},
     "output_type": "execute_result"
    }
   ],
   "source": [
    "update_screen_names(twitter_dict)"
   ]
  },
  {
   "cell_type": "code",
   "execution_count": 25,
   "metadata": {
    "ExecuteTime": {
     "end_time": "2019-10-07T02:25:42.259971Z",
     "start_time": "2019-10-07T02:25:42.253824Z"
    }
   },
   "outputs": [
    {
     "data": {
      "text/plain": [
       "[('Small Town Horror',\n",
       "  {'title': 'Small Town Horror',\n",
       "   'chan_url': 'https://castbox.fm/channel/Small-Town-Horror-id1266396',\n",
       "   'ch_feed-socials': ['https://twitter.com/SmallTwnHorror',\n",
       "    'https://www.facebook.com/smalltownhorrorpodcast',\n",
       "    'https://play.acast.com/s/smalltownhorror'],\n",
       "   'screen_name': 'SmallTwnHorror'}),\n",
       " ('I Should Be Writing',\n",
       "  {'title': 'I Should Be Writing',\n",
       "   'chan_url': 'https://castbox.fm/channel/I-Should-Be-Writing-id210',\n",
       "   'ch_feed-socials': ['https://twitter.com/mightymur',\n",
       "    'http://murverse.com/tag/isbw/'],\n",
       "   'screen_name': 'mightymur'}),\n",
       " ('Book Riot - The Podcast',\n",
       "  {'title': 'Book Riot - The Podcast',\n",
       "   'chan_url': 'https://castbox.fm/channel/Book-Riot-The-Podcast-id1207097',\n",
       "   'ch_feed-socials': ['https://twitter.com/BookRiot',\n",
       "    'https://bookriot.com/listen/shows/thepodcast/'],\n",
       "   'screen_name': 'BookRiot'}),\n",
       " ('The Disney Story Origins Podcast',\n",
       "  {'title': 'The Disney Story Origins Podcast',\n",
       "   'chan_url': 'https://castbox.fm/channel/The-Disney-Story-Origins-Podcast-id7837',\n",
       "   'ch_feed-socials': ['https://twitter.com/pauljhaleauthor',\n",
       "    'http://www.disneystoryoriginspodcast.com/category/podcast/'],\n",
       "   'screen_name': 'pauljhaleauthor'}),\n",
       " ('Saga',\n",
       "  {'title': 'Saga',\n",
       "   'chan_url': 'https://castbox.fm/channel/Saga-id1415827',\n",
       "   'ch_feed-socials': ['https://twitter.com/PodcastSaga',\n",
       "    'https://www.instagram.com/saga.podcast',\n",
       "    'https://sagapodcast.ir'],\n",
       "   'screen_name': 'PodcastSaga'})]"
      ]
     },
     "execution_count": 25,
     "metadata": {},
     "output_type": "execute_result"
    }
   ],
   "source": [
    "[(k, twitter_dict[k]) for k in list(twitter_dict.keys())[:5]]"
   ]
  },
  {
   "cell_type": "code",
   "execution_count": 30,
   "metadata": {
    "ExecuteTime": {
     "end_time": "2019-10-08T01:26:26.078907Z",
     "start_time": "2019-10-08T01:26:26.072640Z"
    }
   },
   "outputs": [],
   "source": [
    "def get_follower_counts(t_dict, api_calls=1):\n",
    "    \n",
    "    chan_list = t_dict.keys()\n",
    "    \n",
    "    for chan in chan_list:\n",
    "        \n",
    "#         time.sleep(3)\n",
    "\n",
    "        if api_calls < 1:\n",
    "            return 'local API limit reached'\n",
    "        if 'screen_name' in t_dict[chan].keys():\n",
    "            sn = t_dict[chan]['screen_name']\n",
    "#             print(f'about to scan {chan} with sn {sn}')\n",
    "            if 'follower_count' in t_dict[chan].keys():\n",
    "#                 print('already calculated follower count for ',chan)\n",
    "                continue\n",
    "            else:\n",
    "                try:\n",
    "                    user = api.GetUser(screen_name=sn)\n",
    "                    follower_count = user.followers_count\n",
    "\n",
    "                    print(f'user {sn} has {follower_count} followers')\n",
    "                    t_dict[chan]['follower_count'] = follower_count\n",
    "\n",
    "                    api_calls = api_calls - 1\n",
    "\n",
    "                except:\n",
    "                    t_dict[chan]['follower_count'] = 0\n",
    "                    print(f'failed to pull follower count for {chan}')\n",
    "                    continue\n",
    "        else:\n",
    "            continue"
   ]
  },
  {
   "cell_type": "code",
   "execution_count": 31,
   "metadata": {
    "ExecuteTime": {
     "end_time": "2019-10-08T01:27:01.233830Z",
     "start_time": "2019-10-08T01:26:36.265280Z"
    },
    "scrolled": true
   },
   "outputs": [
    {
     "name": "stdout",
     "output_type": "stream",
     "text": [
      "user DoseOfLeader has 2003 followers\n",
      "user THEjeffbrown has 4886 followers\n",
      "user thebizpodcast has 276 followers\n",
      "user saraharcher15 has 1204 followers\n",
      "user loveleelara has 44 followers\n",
      "user TanveerNaseer has 26443 followers\n",
      "user dollrstodonuts has 1142 followers\n",
      "user badass_agile has 653 followers\n",
      "failed to pull follower count for Real Estate Investing For Cash Flow Hosted by Kevin Bupp.\n",
      "user PayBalances has 4979 followers\n",
      "user cannainsider has 5108 followers\n",
      "user SocialRookie has 231 followers\n",
      "user RBIPodcast has 5245 followers\n",
      "user ricedelman has 16609 followers\n",
      "user ClaytonMorris has 103572 followers\n",
      "user thebtcpodcast has 9438 followers\n",
      "user lisaabramowicz1 has 70694 followers\n",
      "user theRealKiyosaki has 1260436 followers\n",
      "user andrewhorowitz has 11297 followers\n",
      "user whatbitcoindid has 5608 followers\n",
      "user EpicREInvesting has 5249 followers\n",
      "user realvision has 63422 followers\n",
      "user acast has 9106 followers\n",
      "user Flip2Freedom has 24126 followers\n",
      "user InPennyStock has 3758 followers\n",
      "user MTIPodcast has 520 followers\n",
      "user ft has 3703988 followers\n",
      "user eventualmillion has 45247 followers\n",
      "user SavvyInvestorPM has 5085 followers\n",
      "user fxforextrade has 6053 followers\n",
      "user PowerTradingRd has 2108 followers\n",
      "user Covel has 24467 followers\n",
      "user andyhillmkm has 3993 followers\n",
      "user FrankCurzio has 6585 followers\n",
      "user nerdwallet has 59136 followers\n",
      "user HisandHerMoney has 7388 followers\n",
      "user jpmorgan has 480053 followers\n",
      "user FTMDaily has 4162 followers\n",
      "user TomFrankly has 40478 followers\n",
      "user dana_leighton has 73 followers\n",
      "user BAMRadioNetwork has 38315 followers\n",
      "user quickdirtytips has 11927 followers\n",
      "user IEW has 4389 followers\n",
      "user DocCIzadlo has 65 followers\n",
      "user hspambarnhill has 1769 followers\n",
      "user TalksWTeachers has 13092 followers\n",
      "user Econ_Rockstar has 2399 followers\n",
      "user coolcatteacher has 162975 followers\n",
      "user RWPogge has 300 followers\n",
      "user TrialLawyerM has 44 followers\n",
      "user understoodorg has 38522 followers\n",
      "user twilatv has 1238 followers\n",
      "user MissionShunya has 74 followers\n",
      "user sowt has 4472 followers\n",
      "user SocImpactAdv has 182 followers\n",
      "user Mrjimflorentine has 174814 followers\n",
      "user traecrowder has 97131 followers\n",
      "user Lehrerkind has 8064 followers\n",
      "user theRandomBush has 1239 followers\n",
      "user pendantweb has 2260 followers\n",
      "user kylerjohnson21 has 2521 followers\n",
      "user CarlottaBeautox has 275 followers\n",
      "user Podium has 68 followers\n",
      "user maguselgar has 309 followers\n",
      "user Coventrypod has 518 followers\n",
      "user InfinitiesG has 0 followers\n",
      "user flippingthetbl has 202 followers\n",
      "user RMisadventures has 588 followers\n",
      "user _overcast has 1547 followers\n",
      "user WenigOriginell has 1 followers\n",
      "user NightValeRadio has 360660 followers\n",
      "user NosleepPodcast has 30881 followers\n",
      "user ItsRamiMalek has 677508 followers\n",
      "user WonderyMedia has 13183 followers\n",
      "user limetownstories has 13006 followers\n",
      "user WereAlive has 11531 followers\n",
      "user 1865podcast has 728 followers\n",
      "user creepypod has 6652 followers\n",
      "user brightpodcast has 15113 followers\n",
      "user HomecomingShow has 3534 followers\n",
      "user TheTruthFiction has 9490 followers\n",
      "user AlicePodcast has 11214 followers\n",
      "user KingFallsAM has 7846 followers\n",
      "user WhiteVault has 3595 followers\n",
      "user Wolf359Radio has 9375 followers\n",
      "user acast has 9106 followers\n",
      "user withinthewires has 6673 followers\n",
      "failed to pull follower count for LifeAfter/The Message\n",
      "user earthbreakpod has 173 followers\n",
      "user LeviathanChrons has 2320 followers\n",
      "user Gimletmedia has 79895 followers\n",
      "user WonderyMedia has 13183 followers\n",
      "user BlackwoodPod has 305 followers\n",
      "user Archive81 has 6263 followers\n",
      "user Gimletmedia has 79895 followers\n",
      "failed to pull follower count for Terms\n",
      "user B_J_Harrison has 73 followers\n",
      "user dwmpresents has 717 followers\n",
      "user Be_Busta has 20861 followers\n",
      "user PodcastDarkroom has 144 followers\n",
      "user clarkesworld has 29217 followers\n",
      "user FantasticGeeks has 6116 followers\n",
      "user firesidemystery has 739 followers\n",
      "user biglooppodcast has 2837 followers\n",
      "user MaxFunHQ has 28667 followers\n",
      "user arsPARADOXICA has 5705 followers\n",
      "user WSFairytales has 1021 followers\n",
      "user OrbitingHuman has 3101 followers\n",
      "user girlinspacepod has 8143 followers\n",
      "user OvercoatsWooden has 6300 followers\n",
      "user thedarktome has 556 followers\n",
      "user scottsigler has 24507 followers\n",
      "user BronzevilleShow has 1858 followers\n",
      "user angelofvine has 973 followers\n",
      "user eos_10 has 3841 followers\n",
      "user alex_segura has 22069 followers\n",
      "user bridge_podcast has 2966 followers\n",
      "user VictoriasLift has 1731 followers\n",
      "user UncannyCounty has 2882 followers\n",
      "user monsterPr0n has 1374 followers\n",
      "user StoriesFablesGT has 556 followers\n",
      "user radiorango has 503 followers\n",
      "user pendantweb has 2260 followers\n",
      "user serialboxpub has 3779 followers\n",
      "user pendantweb has 2260 followers\n",
      "user pendantweb has 2260 followers\n",
      "user pendantweb has 2260 followers\n",
      "user pendantweb has 2260 followers\n",
      "user ElGranApagon has 7556 followers\n",
      "user PodManifest has 330 followers\n",
      "user meadventum has 108 followers\n",
      "user DirectivePod has 683 followers\n",
      "user hpotterpodcast has 103 followers\n",
      "user pendantweb has 2260 followers\n",
      "user aTablestory has 2037 followers\n",
      "user ContinuumForce has 232 followers\n",
      "user tfhspodcast has 5 followers\n",
      "user pendantweb has 2260 followers\n",
      "user pendantweb has 2260 followers\n",
      "user rereadingwolfe has 127 followers\n",
      "user creepypodstah has 2 followers\n",
      "user pendantweb has 2260 followers\n",
      "user MariahAvix has 1277 followers\n",
      "user verbatimfoley has 2146 followers\n",
      "user fatalneutrino has 70 followers\n",
      "user PickTheBrain has 31254 followers\n",
      "failed to pull follower count for Narcissist Apocalypse\n",
      "user Mike_Dillard has 47627 followers\n",
      "user shrinkrapradio has 1453 followers\n",
      "user jessemogle has 2889 followers\n",
      "user damonahoffman has 16090 followers\n",
      "user Robyn_Openshaw has 5341 followers\n",
      "user BruceVH has 548506 followers\n",
      "user ouichangemavie has 1177 followers\n",
      "user anger_podcast has 247 followers\n",
      "user Code3Podcast has 131 followers\n",
      "user Entrepreneur has 3464597 followers\n",
      "user simonsinek has 568078 followers\n",
      "user IamJoelBrown has 101377 followers\n",
      "user dcpofficial has 287 followers\n",
      "user GregFitzShow has 89933 followers\n",
      "user ARIYNBF has 11959 followers\n",
      "user WhatsUpFoolPod has 2038 followers\n",
      "user TheSDRShow has 6632 followers\n",
      "user dopequeenpheebs has 84495 followers\n",
      "user sextalkpodcast has 4775 followers\n",
      "user NikkiLimo has 39822 followers\n",
      "failed to pull follower count for Bunny Ears\n",
      "user OffMenuOfficial has 37297 followers\n",
      "user high_mightypod has 154 followers\n",
      "user wegotthistweets has 2744 followers\n",
      "user casioscut has 778 followers\n",
      "user AlliandJen has 1631 followers\n",
      "user Tully has 49497 followers\n",
      "user lobodenpodcast has 13 followers\n",
      "user GaryAndElliot has 226 followers\n",
      "user thebudpod has 2375 followers\n",
      "user t1podcast has 561 followers\n",
      "user kidflixpod has 114 followers\n",
      "user bodysnatcherspc has 1308 followers\n",
      "user Gafiltha has 388 followers\n",
      "user coordinatepod has 12 followers\n",
      "failed to pull follower count for Positive JuJu ~Premier Jujutsu Kaisen~\n",
      "user Rodzrd has 100 followers\n",
      "user CARandDRIVER has 1045719 followers\n",
      "user motormedics has 5 followers\n",
      "user CRcars has 25813 followers\n",
      "user 51333 has 16 followers\n",
      "user pendantweb has 2260 followers\n",
      "user VampiresofWC has 255 followers\n",
      "user letsbelegendpod has 340 followers\n",
      "user dreamlandaudio has 57 followers\n",
      "user MakeBelieveFM has 144 followers\n",
      "user iwnjatrpodcast has 269 followers\n",
      "user VTTSofficial has 1891 followers\n",
      "user improv4humans has 7069 followers\n",
      "user scottalanturner has 5476 followers\n",
      "user DanielDennis has 21669 followers\n",
      "user womenlikeuspod has 469 followers\n",
      "user 20sidedstories has 555 followers\n",
      "user hyperbrolepod has 1103 followers\n",
      "user SketchComPod has 4201 followers\n",
      "user radiofelbedahe has 133 followers\n",
      "user TriviaGeeksLive has 991 followers\n",
      "failed to pull follower count for Balbaro Que Podcast\n",
      "user om708 has 37 followers\n",
      "user thehalohaloshow has 670 followers\n",
      "user _overcast has 1547 followers\n",
      "user Headline_Heroes has 459 followers\n",
      "user DanKodyPodcast has 7128 followers\n",
      "user DanceSharkPod has 1 followers\n",
      "user HenryLuvsBiz has 779 followers\n",
      "user russellbrunson has 33329 followers\n",
      "user VictorAntonio has 14882 followers\n",
      "user Jason_Stapleton has 20283 followers\n",
      "user SilentSalesMach has 5 followers\n",
      "user EmprendeLibros has 6170 followers\n",
      "user bizandbiceps has 2235 followers\n",
      "user SamCrowley has 7169 followers\n",
      "user OLDPodcast has 5198 followers\n",
      "user nobodytoldmepod has 535 followers\n"
     ]
    },
    {
     "name": "stdout",
     "output_type": "stream",
     "text": [
      "user DonaldCKelly has 4073 followers\n",
      "user dreamsindrive has 2303 followers\n",
      "user TheDovBaron has 15018 followers\n",
      "user Thrive_15 has 7287 followers\n",
      "user RyanMoran has 6604 followers\n",
      "user NewManPodcast has 1247 followers\n",
      "user RevRealEstate_ has 556 followers\n",
      "user techmoneytalks has 532 followers\n",
      "user manujagg has 1715 followers\n",
      "user BNI_official_pg has 24037 followers\n",
      "user DigitalMktr has 46470 followers\n",
      "user scottvoelker has 2012 followers\n",
      "user magazine has 721 followers\n",
      "user rickmulready has 5757 followers\n",
      "user TheGrowthShow has 1099 followers\n",
      "user mywifequit has 6167 followers\n",
      "user CoachingKrista has 104 followers\n",
      "user nscalice has 19433 followers\n",
      "user ResumoCast has 1378 followers\n",
      "user FurboPodcast has 290 followers\n",
      "user joanboluda has 10862 followers\n",
      "user nealschaffer has 221873 followers\n",
      "user BrandonGaille has 24956 followers\n",
      "user CriticalRole has 328483 followers\n",
      "user cartalk has 45690 followers\n",
      "user chmurph has 38789 followers\n",
      "user giantbomb has 215152 followers\n",
      "user glasscannonpod has 7890 followers\n",
      "user GameOverGreggy has 1293639 followers\n",
      "user Guntalk has 52356 followers\n",
      "user HowStuffWorks has 138120 followers\n",
      "user TheSmokingTire has 53487 followers\n",
      "user commandcast has 43832 followers\n",
      "user BestJakeYoung has 13514 followers\n",
      "user FunhausTeam has 272826 followers\n",
      "user DnDPodcast has 13420 followers\n",
      "user Marshall_LR has 47181 followers\n",
      "user KindaFunnyVids has 141889 followers\n",
      "user DaemZero has 86174 followers\n",
      "user NerdPokerPod has 5823 followers\n",
      "user PodcastUnlocked has 5928 followers\n",
      "user giantbeastcast has 567 followers\n",
      "user MTGGoldfish has 61025 followers\n",
      "user waypointradio has 0 followers\n",
      "user maro254 has 97614 followers\n",
      "user EverydayDriver has 2380 followers\n",
      "user NVCpodcast has 11710 followers\n",
      "user gameinformer has 2379849 followers\n",
      "user Charalanahzard has 293026 followers\n",
      "user ReawakeBrillian has 2722 followers\n",
      "user retronauts has 15291 followers\n",
      "user CarCastShow has 8562 followers\n",
      "user DCP_Live has 23981 followers\n",
      "user PatTheNESpunk has 44464 followers\n",
      "user 2BFOfficial has 67388 followers\n",
      "user whatsgood_games has 25028 followers\n",
      "user NintendoAmerica has 10154728 followers\n",
      "user FireteamChat has 8336 followers\n",
      "user thedicetower has 51678 followers\n",
      "user Wizards_DnD has 252132 followers\n",
      "user beersmith has 25112 followers\n",
      "user Friends_Table has 11963 followers\n",
      "user instanceshow has 23992 followers\n",
      "user woodtalkshow has 2863 followers\n",
      "user GameOverGreggy has 1293639 followers\n",
      "user Wizards_DnD has 252132 followers\n",
      "user ShutUpShow has 35575 followers\n",
      "user GoodJobBrain has 8297 followers\n",
      "user pokemonpodcast has 24356 followers\n",
      "user NewPlayerPod has 1354 followers\n",
      "user TableTopChamps has 1649 followers\n",
      "user thesecretcabal has 11811 followers\n",
      "user moneypit has 28760 followers\n",
      "user PA_Megacorp has 50442 followers\n",
      "user SneakPodcast has 5013 followers\n",
      "user worldofwarcast has 843 followers\n",
      "user EasyAllies has 28976 followers\n",
      "user MajorSpoilers has 8345 followers\n",
      "failed to pull follower count for Small Farm Nation\n",
      "user Podquisition has 808 followers\n",
      "user vartian has 3726 followers\n",
      "user spaceandreason has 722 followers\n",
      "user GiUpdates has 17259 followers\n",
      "user TACpodcast has 9419 followers\n",
      "user gardenerd1 has 5087 followers\n",
      "user DGhostStories has 3956 followers\n",
      "user Kotaku has 2111806 followers\n",
      "user DuckfeedTV has 1917 followers\n",
      "user evanandkatelyn has 7698 followers\n",
      "user TXHGamingHub has 289 followers\n",
      "user brewingnetwork has 46114 followers\n",
      "user hspambarnhill has 1769 followers\n",
      "user prepsurvive has 6717 followers\n",
      "user mrnesi has 6663 followers\n",
      "user quickdirtytips has 11927 followers\n",
      "user devchattv has 964 followers\n",
      "user fixitpodcast has 2014 followers\n",
      "user betterpod has 806 followers\n",
      "user savingsangel has 14437 followers\n",
      "user nacac has 38107 followers\n",
      "user podcastinsights has 648 followers\n",
      "user RandyEllefson has 22425 followers\n",
      "user TWiT has 83273 followers\n",
      "user KeshYuval has 577 followers\n",
      "user TWiT has 83273 followers\n"
     ]
    }
   ],
   "source": [
    "get_follower_counts(twitter_dict, api_calls=4000)"
   ]
  },
  {
   "cell_type": "code",
   "execution_count": 36,
   "metadata": {
    "ExecuteTime": {
     "end_time": "2019-10-08T01:29:29.418839Z",
     "start_time": "2019-10-08T01:29:29.414670Z"
    },
    "scrolled": true
   },
   "outputs": [
    {
     "data": {
      "text/plain": [
       "['Ghost Stories, a Destiny Podcast',\n",
       " 'Kotaku Splitscreen',\n",
       " 'Bonfireside Chat - A Dark Souls and Bloodborne Podcast',\n",
       " 'Evan and Katelyn Podcast',\n",
       " 'The Gaming Hub: Your Home for Xbox, PlayStation, and Nintendo News and Opinions!',\n",
       " 'The Brewing Network Presents | The Session',\n",
       " 'The Homeschool Solutions Show with Pam Barnhill',\n",
       " 'The Survivalist Prepper Podcast',\n",
       " 'House of #EdTech',\n",
       " \"Tech Talker's Quick and Dirty Tips to Navigate the Digital World\",\n",
       " 'All JavaScript Podcasts by Devchat.tv',\n",
       " 'Fix It Home Improvement',\n",
       " 'Better Podcasting',\n",
       " 'The SavingsAngel Show',\n",
       " 'College Admissions Decoded',\n",
       " 'Podcasting Simplified',\n",
       " 'The Art of World Building: Creating Breakout Fantasy and Science Fiction Worlds In Stories and Gaming',\n",
       " 'Ask The Tech Guy (Video HD)',\n",
       " 'WRITERS IN TECH',\n",
       " 'Ask The Tech Guy (MP3)']"
      ]
     },
     "execution_count": 36,
     "metadata": {},
     "output_type": "execute_result"
    }
   ],
   "source": [
    "list(twitter_dict.keys())[-20:]"
   ]
  },
  {
   "cell_type": "code",
   "execution_count": 35,
   "metadata": {
    "ExecuteTime": {
     "end_time": "2019-10-08T01:27:55.529118Z",
     "start_time": "2019-10-08T01:27:55.518429Z"
    }
   },
   "outputs": [],
   "source": [
    "with open('../social_metrics/twitter/channel_stats_by_name_oct7_9p.pickle', 'wb') as file:\n",
    "    pickle.dump(twitter_dict, file)"
   ]
  },
  {
   "cell_type": "code",
   "execution_count": null,
   "metadata": {},
   "outputs": [],
   "source": [
    "twitter_dict[]"
   ]
  }
 ],
 "metadata": {
  "kernelspec": {
   "display_name": "Python 3",
   "language": "python",
   "name": "python3"
  },
  "language_info": {
   "codemirror_mode": {
    "name": "ipython",
    "version": 3
   },
   "file_extension": ".py",
   "mimetype": "text/x-python",
   "name": "python",
   "nbconvert_exporter": "python",
   "pygments_lexer": "ipython3",
   "version": "3.7.4"
  },
  "toc": {
   "base_numbering": 1,
   "nav_menu": {},
   "number_sections": false,
   "sideBar": true,
   "skip_h1_title": false,
   "title_cell": "Table of Contents",
   "title_sidebar": "Contents",
   "toc_cell": true,
   "toc_position": {},
   "toc_section_display": true,
   "toc_window_display": false
  },
  "varInspector": {
   "cols": {
    "lenName": 16,
    "lenType": 16,
    "lenVar": 40
   },
   "kernels_config": {
    "python": {
     "delete_cmd_postfix": "",
     "delete_cmd_prefix": "del ",
     "library": "var_list.py",
     "varRefreshCmd": "print(var_dic_list())"
    },
    "r": {
     "delete_cmd_postfix": ") ",
     "delete_cmd_prefix": "rm(",
     "library": "var_list.r",
     "varRefreshCmd": "cat(var_dic_list()) "
    }
   },
   "types_to_exclude": [
    "module",
    "function",
    "builtin_function_or_method",
    "instance",
    "_Feature"
   ],
   "window_display": false
  }
 },
 "nbformat": 4,
 "nbformat_minor": 2
}
