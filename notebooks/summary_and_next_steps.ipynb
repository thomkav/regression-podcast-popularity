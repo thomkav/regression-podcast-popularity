{
 "cells": [
  {
   "cell_type": "markdown",
   "metadata": {
    "toc": true
   },
   "source": [
    "<h1>Table of Contents<span class=\"tocSkip\"></span></h1>\n",
    "<div class=\"toc\"><ul class=\"toc-item\"><li><span><a href=\"#Linear-Regression,-oct-7,-n=3979\" data-toc-modified-id=\"Linear-Regression,-oct-7,-n=3979-1\">Linear Regression, oct 7, n=3979</a></span></li><li><span><a href=\"#Linear-Regression,-n=\" data-toc-modified-id=\"Linear-Regression,-n=-2\">Linear Regression, n=</a></span></li><li><span><a href=\"#Next-steps-after-conversation-with-Vinny.\" data-toc-modified-id=\"Next-steps-after-conversation-with-Vinny.-3\">Next steps after conversation with Vinny.</a></span></li><li><span><a href=\"#If-time,-experiment-with-text-based-features\" data-toc-modified-id=\"If-time,-experiment-with-text-based-features-4\">If time, experiment with text-based features</a></span></li></ul></div>"
   ]
  },
  {
   "cell_type": "markdown",
   "metadata": {},
   "source": [
    "The Role of this notebook is to log model performance as feature development continues."
   ]
  },
  {
   "cell_type": "markdown",
   "metadata": {},
   "source": [
    "# Linear Regression, oct 7, n=3979\n",
    "\n",
    "first attempt. no cross validation.\n",
    "\n",
    "using the following features:\n",
    "\n",
    "`['isExplicit', 'ep_total',\n",
    "'recent_ep_spacing', 'lifetime_ep_freq', 'avg_ep_len', 'chan_age',\n",
    "'twitter', 'facebook', 'youtube', 'instagram', 'twitter_followers',\n",
    "'chan_desc_len', 'avg_ep_desc_len']\n",
    "`\n",
    "\n",
    "And targeting the following variable:\n",
    "`play_count`\n",
    "\n",
    "I returned the following R2 values on the validation set:\n",
    "\n",
    "Linear Regression R^2: 0.210\n",
    "\n",
    "Ridge Regression R^2: 0.126"
   ]
  },
  {
   "cell_type": "markdown",
   "metadata": {},
   "source": [
    "Coefficients:\n",
    "\n",
    "Linear:\n",
    "\n",
    "`('isExplicit', 53571.92905572213)\n",
    "('ep_total', 272.62548141261584)\n",
    "('recent_ep_spacing', -142.8022797997745)\n",
    "('lifetime_ep_freq', 534.3628850585626)\n",
    "('avg_ep_len', 9203.831502619305)\n",
    "('chan_age', -4.3987354276371144)\n",
    "('twitter', 109097.5429490956)\n",
    "('facebook', 284535.6579429611)\n",
    "('youtube', 543015.3478299641)\n",
    "('instagram', 413424.3494500465)\n",
    "('twitter_followers', 0.06628983987857087)\n",
    "('chan_desc_len', -24.78834710866105)\n",
    "('avg_ep_desc_len', -10.262315429072903)`\n",
    "\n",
    "Ridge\n",
    "\n",
    "`('isExplicit', 6675.033448693853)\n",
    "('ep_total', 16739.469719169807)\n",
    "('recent_ep_spacing', -2619.6930704603024)\n",
    "('lifetime_ep_freq', 819.2159885431349)\n",
    "('avg_ep_len', 1999.693907582763)\n",
    "('chan_age', 6767.906997524298)\n",
    "('twitter', 30366.384413835087)\n",
    "('facebook', 36337.06231306007)\n",
    "('youtube', 34273.01957933915)\n",
    "('instagram', 31961.714172125543)\n",
    "('twitter_followers', 16583.695226768174)\n",
    "('chan_desc_len', -2461.9019320864486)\n",
    "('avg_ep_desc_len', -3650.7218873724364)`"
   ]
  },
  {
   "cell_type": "markdown",
   "metadata": {},
   "source": [
    "# Linear Regression, n=\n",
    "\n"
   ]
  },
  {
   "cell_type": "markdown",
   "metadata": {},
   "source": [
    "<hr>\n",
    "\n",
    "# Next steps after conversation with Vinny.\n",
    "\n",
    "- Create a \"Total Socials\" count\n",
    "\n",
    "- Create a \"Estimate total content\" feature\n",
    "\n",
    "- Use a polynomial regression to form interaction terms between categorical features and twitter followers by doing a polynomial regression.\n",
    "\n",
    "- Use LassoCV to eliminate less valuable signal features."
   ]
  },
  {
   "cell_type": "markdown",
   "metadata": {},
   "source": [
    "# If time, experiment with text-based features"
   ]
  },
  {
   "cell_type": "code",
   "execution_count": null,
   "metadata": {},
   "outputs": [],
   "source": []
  }
 ],
 "metadata": {
  "kernelspec": {
   "display_name": "Python 3",
   "language": "python",
   "name": "python3"
  },
  "language_info": {
   "codemirror_mode": {
    "name": "ipython",
    "version": 3
   },
   "file_extension": ".py",
   "mimetype": "text/x-python",
   "name": "python",
   "nbconvert_exporter": "python",
   "pygments_lexer": "ipython3",
   "version": "3.7.4"
  },
  "toc": {
   "base_numbering": 1,
   "nav_menu": {},
   "number_sections": false,
   "sideBar": true,
   "skip_h1_title": false,
   "title_cell": "Table of Contents",
   "title_sidebar": "Contents",
   "toc_cell": true,
   "toc_position": {},
   "toc_section_display": true,
   "toc_window_display": true
  },
  "varInspector": {
   "cols": {
    "lenName": 16,
    "lenType": 16,
    "lenVar": 40
   },
   "kernels_config": {
    "python": {
     "delete_cmd_postfix": "",
     "delete_cmd_prefix": "del ",
     "library": "var_list.py",
     "varRefreshCmd": "print(var_dic_list())"
    },
    "r": {
     "delete_cmd_postfix": ") ",
     "delete_cmd_prefix": "rm(",
     "library": "var_list.r",
     "varRefreshCmd": "cat(var_dic_list()) "
    }
   },
   "types_to_exclude": [
    "module",
    "function",
    "builtin_function_or_method",
    "instance",
    "_Feature"
   ],
   "window_display": false
  }
 },
 "nbformat": 4,
 "nbformat_minor": 2
}
