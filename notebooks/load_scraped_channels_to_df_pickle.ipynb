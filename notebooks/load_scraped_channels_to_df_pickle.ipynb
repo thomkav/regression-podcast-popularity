{
 "cells": [
  {
   "cell_type": "markdown",
   "metadata": {
    "toc": true
   },
   "source": [
    "<h1>Table of Contents<span class=\"tocSkip\"></span></h1>\n",
    "<div class=\"toc\"><ul class=\"toc-item\"></ul></div>"
   ]
  },
  {
   "cell_type": "code",
   "execution_count": 15,
   "metadata": {
    "ExecuteTime": {
     "end_time": "2019-10-04T17:56:56.050943Z",
     "start_time": "2019-10-04T17:56:56.047920Z"
    }
   },
   "outputs": [],
   "source": [
    "import ast\n",
    "import pandas as pd\n",
    "import pickle"
   ]
  },
  {
   "cell_type": "code",
   "execution_count": 16,
   "metadata": {
    "ExecuteTime": {
     "end_time": "2019-10-04T17:56:56.575125Z",
     "start_time": "2019-10-04T17:56:56.562020Z"
    }
   },
   "outputs": [
    {
     "name": "stdout",
     "output_type": "stream",
     "text": [
      "104\n",
      "97\n"
     ]
    }
   ],
   "source": [
    "# Clean up Arts category (used for testing)\n",
    "\n",
    "outfile = open('../scraped/channel/by_category/Arts_cleaned.txt', \"w\")\n",
    "\n",
    "lines_seen = set()\n",
    "old_line_count = 0\n",
    "new_line_count = 0\n",
    "for line in open('../scraped/channel/by_category/Arts.txt', \"r\"):\n",
    "    old_line_count += 1\n",
    "    if line == '\\n':\n",
    "        outfile.write(line)\n",
    "        new_line_count += 1\n",
    "    elif line not in lines_seen: # not a duplicate\n",
    "        outfile.write(line)\n",
    "        lines_seen.add(line)\n",
    "        new_line_count += 1\n",
    "outfile.close()\n",
    "\n",
    "print(old_line_count)\n",
    "print(new_line_count)"
   ]
  },
  {
   "cell_type": "code",
   "execution_count": 17,
   "metadata": {
    "ExecuteTime": {
     "end_time": "2019-10-04T17:57:00.945957Z",
     "start_time": "2019-10-04T17:57:00.917005Z"
    },
    "scrolled": true
   },
   "outputs": [],
   "source": [
    "arts_txt = 'Arts_cleaned.txt'\n",
    "def category_scrape_to_df_pickle(filename):\n",
    "    \n",
    "    cat_dict = {}\n",
    "    \n",
    "    filename = '../scraped/channel/by_category/' + filename\n",
    "    with open(filename, 'r') as file:\n",
    "        for line in file:\n",
    "            try:\n",
    "                pod_dict = ast.literal_eval(line)\n",
    "                chan_name = [k for k in pod_dict.keys()][0]\n",
    "                cat_dict[chan_name] = pod_dict[chan_name]\n",
    "            except:\n",
    "                continue\n",
    "                \n",
    "    df = pd.DataFrame.from_dict(cat_dict, orient='index')\n",
    "    df = df.reset_index().drop(labels='index',axis=1)\n",
    "    return df\n",
    "\n",
    "df = category_scrape_to_df_pickle(arts_txt)"
   ]
  },
  {
   "cell_type": "code",
   "execution_count": 18,
   "metadata": {
    "ExecuteTime": {
     "end_time": "2019-10-04T17:57:03.287064Z",
     "start_time": "2019-10-04T17:57:03.280676Z"
    },
    "scrolled": true
   },
   "outputs": [],
   "source": [
    "with open('../scraped/channel/by_category/Arts.pickle', 'wb') as file:\n",
    "    pickle.dump(df, file)"
   ]
  },
  {
   "cell_type": "code",
   "execution_count": null,
   "metadata": {},
   "outputs": [],
   "source": []
  }
 ],
 "metadata": {
  "kernelspec": {
   "display_name": "Python 3",
   "language": "python",
   "name": "python3"
  },
  "language_info": {
   "codemirror_mode": {
    "name": "ipython",
    "version": 3
   },
   "file_extension": ".py",
   "mimetype": "text/x-python",
   "name": "python",
   "nbconvert_exporter": "python",
   "pygments_lexer": "ipython3",
   "version": "3.7.4"
  },
  "toc": {
   "base_numbering": 1,
   "nav_menu": {},
   "number_sections": false,
   "sideBar": true,
   "skip_h1_title": false,
   "title_cell": "Table of Contents",
   "title_sidebar": "Contents",
   "toc_cell": true,
   "toc_position": {
    "height": "calc(100% - 180px)",
    "left": "10px",
    "top": "150px",
    "width": "253.797px"
   },
   "toc_section_display": true,
   "toc_window_display": true
  },
  "varInspector": {
   "cols": {
    "lenName": 16,
    "lenType": 16,
    "lenVar": 40
   },
   "kernels_config": {
    "python": {
     "delete_cmd_postfix": "",
     "delete_cmd_prefix": "del ",
     "library": "var_list.py",
     "varRefreshCmd": "print(var_dic_list())"
    },
    "r": {
     "delete_cmd_postfix": ") ",
     "delete_cmd_prefix": "rm(",
     "library": "var_list.r",
     "varRefreshCmd": "cat(var_dic_list()) "
    }
   },
   "types_to_exclude": [
    "module",
    "function",
    "builtin_function_or_method",
    "instance",
    "_Feature"
   ],
   "window_display": false
  }
 },
 "nbformat": 4,
 "nbformat_minor": 2
}
