{
 "cells": [
  {
   "cell_type": "markdown",
   "metadata": {
    "toc": true
   },
   "source": [
    "<h1>Table of Contents<span class=\"tocSkip\"></span></h1>\n",
    "<div class=\"toc\"><ul class=\"toc-item\"></ul></div>"
   ]
  },
  {
   "cell_type": "code",
   "execution_count": 5,
   "metadata": {
    "ExecuteTime": {
     "end_time": "2019-10-02T21:15:42.149309Z",
     "start_time": "2019-10-02T21:15:42.146631Z"
    }
   },
   "outputs": [],
   "source": [
    "import requests\n",
    "from bs4 import BeautifulSoup\n",
    "import time"
   ]
  },
  {
   "cell_type": "code",
   "execution_count": 3,
   "metadata": {
    "ExecuteTime": {
     "end_time": "2019-10-02T21:13:30.151911Z",
     "start_time": "2019-10-02T21:13:30.143595Z"
    }
   },
   "outputs": [
    {
     "data": {
      "text/plain": [
       "['https://castbox.fm/categories/10000?country=us',\n",
       " 'https://castbox.fm/categories/10001?country=us',\n",
       " 'https://castbox.fm/categories/10002?country=us',\n",
       " 'https://castbox.fm/categories/10003?country=us',\n",
       " 'https://castbox.fm/categories/10004?country=us',\n",
       " 'https://castbox.fm/categories/10005?country=us',\n",
       " 'https://castbox.fm/categories/10006?country=us',\n",
       " 'https://castbox.fm/categories/10007?country=us',\n",
       " 'https://castbox.fm/categories/10008?country=us',\n",
       " 'https://castbox.fm/categories/10009?country=us']"
      ]
     },
     "execution_count": 3,
     "metadata": {},
     "output_type": "execute_result"
    }
   ],
   "source": [
    "# create list of possible category URLs\n",
    "def get_category_candidates():\n",
    "    \n",
    "    cat_candidates = []\n",
    "    \n",
    "    for i in range(10000, 10251, 1):\n",
    "        url = 'https://castbox.fm/categories/' + str(i) + '?country=us'\n",
    "        cat_candidates += [url]\n",
    "        \n",
    "    return cat_candidates\n",
    "\n",
    "candidates = get_category_candidates()\n",
    "candidates[:10]"
   ]
  },
  {
   "cell_type": "code",
   "execution_count": 8,
   "metadata": {
    "ExecuteTime": {
     "end_time": "2019-10-02T21:52:59.760767Z",
     "start_time": "2019-10-02T21:47:28.098513Z"
    },
    "scrolled": true
   },
   "outputs": [
    {
     "name": "stdout",
     "output_type": "stream",
     "text": [
      "https://castbox.fm/categories/10001?country=us\n",
      "https://castbox.fm/categories/10002?country=us\n",
      "https://castbox.fm/categories/10003?country=us\n",
      "https://castbox.fm/categories/10004?country=us\n",
      "https://castbox.fm/categories/10005?country=us\n",
      "https://castbox.fm/categories/10006?country=us\n",
      "https://castbox.fm/categories/10007?country=us\n",
      "https://castbox.fm/categories/10008?country=us\n",
      "https://castbox.fm/categories/10009?country=us\n",
      "https://castbox.fm/categories/10010?country=us\n",
      "https://castbox.fm/categories/10011?country=us\n",
      "https://castbox.fm/categories/10012?country=us\n",
      "https://castbox.fm/categories/10013?country=us\n",
      "https://castbox.fm/categories/10014?country=us\n",
      "https://castbox.fm/categories/10015?country=us\n",
      "https://castbox.fm/categories/10016?country=us\n",
      "https://castbox.fm/categories/10021?country=us\n",
      "https://castbox.fm/categories/10022?country=us\n",
      "https://castbox.fm/categories/10023?country=us\n",
      "https://castbox.fm/categories/10024?country=us\n",
      "https://castbox.fm/categories/10025?country=us\n",
      "https://castbox.fm/categories/10026?country=us\n",
      "https://castbox.fm/categories/10027?country=us\n",
      "https://castbox.fm/categories/10028?country=us\n",
      "https://castbox.fm/categories/10029?country=us\n",
      "https://castbox.fm/categories/10030?country=us\n",
      "https://castbox.fm/categories/10031?country=us\n",
      "https://castbox.fm/categories/10032?country=us\n",
      "https://castbox.fm/categories/10033?country=us\n",
      "https://castbox.fm/categories/10034?country=us\n",
      "https://castbox.fm/categories/10035?country=us\n",
      "https://castbox.fm/categories/10036?country=us\n",
      "https://castbox.fm/categories/10037?country=us\n",
      "https://castbox.fm/categories/10038?country=us\n",
      "https://castbox.fm/categories/10039?country=us\n",
      "https://castbox.fm/categories/10040?country=us\n",
      "https://castbox.fm/categories/10041?country=us\n",
      "https://castbox.fm/categories/10042?country=us\n",
      "https://castbox.fm/categories/10043?country=us\n",
      "https://castbox.fm/categories/10044?country=us\n",
      "https://castbox.fm/categories/10045?country=us\n",
      "https://castbox.fm/categories/10046?country=us\n",
      "https://castbox.fm/categories/10047?country=us\n",
      "https://castbox.fm/categories/10048?country=us\n",
      "https://castbox.fm/categories/10049?country=us\n",
      "https://castbox.fm/categories/10050?country=us\n",
      "https://castbox.fm/categories/10051?country=us\n",
      "https://castbox.fm/categories/10052?country=us\n",
      "https://castbox.fm/categories/10053?country=us\n",
      "https://castbox.fm/categories/10054?country=us\n",
      "https://castbox.fm/categories/10055?country=us\n",
      "https://castbox.fm/categories/10056?country=us\n",
      "https://castbox.fm/categories/10057?country=us\n",
      "https://castbox.fm/categories/10058?country=us\n",
      "https://castbox.fm/categories/10059?country=us\n",
      "https://castbox.fm/categories/10060?country=us\n",
      "https://castbox.fm/categories/10061?country=us\n",
      "https://castbox.fm/categories/10062?country=us\n",
      "https://castbox.fm/categories/10063?country=us\n",
      "https://castbox.fm/categories/10064?country=us\n",
      "https://castbox.fm/categories/10065?country=us\n",
      "https://castbox.fm/categories/10066?country=us\n",
      "https://castbox.fm/categories/10067?country=us\n",
      "https://castbox.fm/categories/10068?country=us\n",
      "https://castbox.fm/categories/10069?country=us\n",
      "https://castbox.fm/categories/10070?country=us\n",
      "https://castbox.fm/categories/10071?country=us\n",
      "https://castbox.fm/categories/10072?country=us\n",
      "https://castbox.fm/categories/10073?country=us\n",
      "https://castbox.fm/categories/10074?country=us\n",
      "https://castbox.fm/categories/10075?country=us\n",
      "https://castbox.fm/categories/10076?country=us\n",
      "https://castbox.fm/categories/10077?country=us\n",
      "https://castbox.fm/categories/10078?country=us\n",
      "https://castbox.fm/categories/10079?country=us\n",
      "https://castbox.fm/categories/10080?country=us\n",
      "https://castbox.fm/categories/10081?country=us\n",
      "https://castbox.fm/categories/10082?country=us\n",
      "https://castbox.fm/categories/10083?country=us\n",
      "https://castbox.fm/categories/10084?country=us\n",
      "https://castbox.fm/categories/10085?country=us\n",
      "https://castbox.fm/categories/10086?country=us\n",
      "https://castbox.fm/categories/10087?country=us\n",
      "https://castbox.fm/categories/10088?country=us\n",
      "https://castbox.fm/categories/10089?country=us\n",
      "https://castbox.fm/categories/10090?country=us\n",
      "https://castbox.fm/categories/10091?country=us\n",
      "https://castbox.fm/categories/10092?country=us\n",
      "https://castbox.fm/categories/10093?country=us\n",
      "https://castbox.fm/categories/10094?country=us\n",
      "https://castbox.fm/categories/10095?country=us\n",
      "https://castbox.fm/categories/10096?country=us\n",
      "https://castbox.fm/categories/10097?country=us\n",
      "https://castbox.fm/categories/10098?country=us\n",
      "https://castbox.fm/categories/10099?country=us\n",
      "https://castbox.fm/categories/10100?country=us\n",
      "https://castbox.fm/categories/10101?country=us\n",
      "https://castbox.fm/categories/10102?country=us\n",
      "https://castbox.fm/categories/10103?country=us\n",
      "https://castbox.fm/categories/10104?country=us\n",
      "https://castbox.fm/categories/10105?country=us\n",
      "https://castbox.fm/categories/10106?country=us\n",
      "https://castbox.fm/categories/10107?country=us\n",
      "https://castbox.fm/categories/10108?country=us\n",
      "https://castbox.fm/categories/10109?country=us\n",
      "https://castbox.fm/categories/10110?country=us\n",
      "https://castbox.fm/categories/10111?country=us\n",
      "https://castbox.fm/categories/10112?country=us\n",
      "https://castbox.fm/categories/10113?country=us\n",
      "https://castbox.fm/categories/10114?country=us\n",
      "https://castbox.fm/categories/10115?country=us\n",
      "https://castbox.fm/categories/10116?country=us\n",
      "https://castbox.fm/categories/10117?country=us\n",
      "https://castbox.fm/categories/10118?country=us\n",
      "https://castbox.fm/categories/10119?country=us\n",
      "https://castbox.fm/categories/10120?country=us\n",
      "https://castbox.fm/categories/10121?country=us\n",
      "https://castbox.fm/categories/10122?country=us\n",
      "https://castbox.fm/categories/10123?country=us\n",
      "https://castbox.fm/categories/10124?country=us\n",
      "https://castbox.fm/categories/10125?country=us\n",
      "https://castbox.fm/categories/10126?country=us\n",
      "https://castbox.fm/categories/10127?country=us\n",
      "https://castbox.fm/categories/10128?country=us\n",
      "https://castbox.fm/categories/10129?country=us\n",
      "https://castbox.fm/categories/10130?country=us\n"
     ]
    }
   ],
   "source": [
    "def filter_valid_categories(candidates):\n",
    "    valid_cats = []\n",
    "    for url in candidates:\n",
    "        \n",
    "        soup = BeautifulSoup(requests.get(url).text)\n",
    "        \n",
    "        category_name = soup.find(class_='guru-breadcrumb-item active').text\n",
    "        \n",
    "        if category_name != 'Top Shows':\n",
    "            valid_cats += [url]\n",
    "        \n",
    "        time.sleep(0.2)\n",
    "        \n",
    "    return valid_cats\n",
    "\n",
    "valid_cats = filter_valid_categories(candidates)\n",
    "for cat in valid_cats:\n",
    "    print(cat)"
   ]
  },
  {
   "cell_type": "code",
   "execution_count": 10,
   "metadata": {
    "ExecuteTime": {
     "end_time": "2019-10-02T21:53:09.825378Z",
     "start_time": "2019-10-02T21:53:09.822353Z"
    }
   },
   "outputs": [],
   "source": [
    "import pickle"
   ]
  },
  {
   "cell_type": "code",
   "execution_count": 21,
   "metadata": {
    "ExecuteTime": {
     "end_time": "2019-10-02T21:54:06.455737Z",
     "start_time": "2019-10-02T21:54:06.452343Z"
    }
   },
   "outputs": [],
   "source": [
    "with open('../scraped/category/valid_category_url_list.pickle', 'wb') as file:\n",
    "    pickle.dump(valid_cats, file)\n",
    "file.close()"
   ]
  },
  {
   "cell_type": "code",
   "execution_count": 22,
   "metadata": {
    "ExecuteTime": {
     "end_time": "2019-10-02T21:54:06.762137Z",
     "start_time": "2019-10-02T21:54:06.756768Z"
    }
   },
   "outputs": [
    {
     "data": {
      "text/plain": [
       "['https://castbox.fm/categories/10001?country=us',\n",
       " 'https://castbox.fm/categories/10002?country=us',\n",
       " 'https://castbox.fm/categories/10003?country=us',\n",
       " 'https://castbox.fm/categories/10004?country=us',\n",
       " 'https://castbox.fm/categories/10005?country=us',\n",
       " 'https://castbox.fm/categories/10006?country=us',\n",
       " 'https://castbox.fm/categories/10007?country=us',\n",
       " 'https://castbox.fm/categories/10008?country=us',\n",
       " 'https://castbox.fm/categories/10009?country=us',\n",
       " 'https://castbox.fm/categories/10010?country=us',\n",
       " 'https://castbox.fm/categories/10011?country=us',\n",
       " 'https://castbox.fm/categories/10012?country=us',\n",
       " 'https://castbox.fm/categories/10013?country=us',\n",
       " 'https://castbox.fm/categories/10014?country=us',\n",
       " 'https://castbox.fm/categories/10015?country=us',\n",
       " 'https://castbox.fm/categories/10016?country=us',\n",
       " 'https://castbox.fm/categories/10021?country=us',\n",
       " 'https://castbox.fm/categories/10022?country=us',\n",
       " 'https://castbox.fm/categories/10023?country=us',\n",
       " 'https://castbox.fm/categories/10024?country=us',\n",
       " 'https://castbox.fm/categories/10025?country=us',\n",
       " 'https://castbox.fm/categories/10026?country=us',\n",
       " 'https://castbox.fm/categories/10027?country=us',\n",
       " 'https://castbox.fm/categories/10028?country=us',\n",
       " 'https://castbox.fm/categories/10029?country=us',\n",
       " 'https://castbox.fm/categories/10030?country=us',\n",
       " 'https://castbox.fm/categories/10031?country=us',\n",
       " 'https://castbox.fm/categories/10032?country=us',\n",
       " 'https://castbox.fm/categories/10033?country=us',\n",
       " 'https://castbox.fm/categories/10034?country=us',\n",
       " 'https://castbox.fm/categories/10035?country=us',\n",
       " 'https://castbox.fm/categories/10036?country=us',\n",
       " 'https://castbox.fm/categories/10037?country=us',\n",
       " 'https://castbox.fm/categories/10038?country=us',\n",
       " 'https://castbox.fm/categories/10039?country=us',\n",
       " 'https://castbox.fm/categories/10040?country=us',\n",
       " 'https://castbox.fm/categories/10041?country=us',\n",
       " 'https://castbox.fm/categories/10042?country=us',\n",
       " 'https://castbox.fm/categories/10043?country=us',\n",
       " 'https://castbox.fm/categories/10044?country=us',\n",
       " 'https://castbox.fm/categories/10045?country=us',\n",
       " 'https://castbox.fm/categories/10046?country=us',\n",
       " 'https://castbox.fm/categories/10047?country=us',\n",
       " 'https://castbox.fm/categories/10048?country=us',\n",
       " 'https://castbox.fm/categories/10049?country=us',\n",
       " 'https://castbox.fm/categories/10050?country=us',\n",
       " 'https://castbox.fm/categories/10051?country=us',\n",
       " 'https://castbox.fm/categories/10052?country=us',\n",
       " 'https://castbox.fm/categories/10053?country=us',\n",
       " 'https://castbox.fm/categories/10054?country=us',\n",
       " 'https://castbox.fm/categories/10055?country=us',\n",
       " 'https://castbox.fm/categories/10056?country=us',\n",
       " 'https://castbox.fm/categories/10057?country=us',\n",
       " 'https://castbox.fm/categories/10058?country=us',\n",
       " 'https://castbox.fm/categories/10059?country=us',\n",
       " 'https://castbox.fm/categories/10060?country=us',\n",
       " 'https://castbox.fm/categories/10061?country=us',\n",
       " 'https://castbox.fm/categories/10062?country=us',\n",
       " 'https://castbox.fm/categories/10063?country=us',\n",
       " 'https://castbox.fm/categories/10064?country=us',\n",
       " 'https://castbox.fm/categories/10065?country=us',\n",
       " 'https://castbox.fm/categories/10066?country=us',\n",
       " 'https://castbox.fm/categories/10067?country=us',\n",
       " 'https://castbox.fm/categories/10068?country=us',\n",
       " 'https://castbox.fm/categories/10069?country=us',\n",
       " 'https://castbox.fm/categories/10070?country=us',\n",
       " 'https://castbox.fm/categories/10071?country=us',\n",
       " 'https://castbox.fm/categories/10072?country=us',\n",
       " 'https://castbox.fm/categories/10073?country=us',\n",
       " 'https://castbox.fm/categories/10074?country=us',\n",
       " 'https://castbox.fm/categories/10075?country=us',\n",
       " 'https://castbox.fm/categories/10076?country=us',\n",
       " 'https://castbox.fm/categories/10077?country=us',\n",
       " 'https://castbox.fm/categories/10078?country=us',\n",
       " 'https://castbox.fm/categories/10079?country=us',\n",
       " 'https://castbox.fm/categories/10080?country=us',\n",
       " 'https://castbox.fm/categories/10081?country=us',\n",
       " 'https://castbox.fm/categories/10082?country=us',\n",
       " 'https://castbox.fm/categories/10083?country=us',\n",
       " 'https://castbox.fm/categories/10084?country=us',\n",
       " 'https://castbox.fm/categories/10085?country=us',\n",
       " 'https://castbox.fm/categories/10086?country=us',\n",
       " 'https://castbox.fm/categories/10087?country=us',\n",
       " 'https://castbox.fm/categories/10088?country=us',\n",
       " 'https://castbox.fm/categories/10089?country=us',\n",
       " 'https://castbox.fm/categories/10090?country=us',\n",
       " 'https://castbox.fm/categories/10091?country=us',\n",
       " 'https://castbox.fm/categories/10092?country=us',\n",
       " 'https://castbox.fm/categories/10093?country=us',\n",
       " 'https://castbox.fm/categories/10094?country=us',\n",
       " 'https://castbox.fm/categories/10095?country=us',\n",
       " 'https://castbox.fm/categories/10096?country=us',\n",
       " 'https://castbox.fm/categories/10097?country=us',\n",
       " 'https://castbox.fm/categories/10098?country=us',\n",
       " 'https://castbox.fm/categories/10099?country=us',\n",
       " 'https://castbox.fm/categories/10100?country=us',\n",
       " 'https://castbox.fm/categories/10101?country=us',\n",
       " 'https://castbox.fm/categories/10102?country=us',\n",
       " 'https://castbox.fm/categories/10103?country=us',\n",
       " 'https://castbox.fm/categories/10104?country=us',\n",
       " 'https://castbox.fm/categories/10105?country=us',\n",
       " 'https://castbox.fm/categories/10106?country=us',\n",
       " 'https://castbox.fm/categories/10107?country=us',\n",
       " 'https://castbox.fm/categories/10108?country=us',\n",
       " 'https://castbox.fm/categories/10109?country=us',\n",
       " 'https://castbox.fm/categories/10110?country=us',\n",
       " 'https://castbox.fm/categories/10111?country=us',\n",
       " 'https://castbox.fm/categories/10112?country=us',\n",
       " 'https://castbox.fm/categories/10113?country=us',\n",
       " 'https://castbox.fm/categories/10114?country=us',\n",
       " 'https://castbox.fm/categories/10115?country=us',\n",
       " 'https://castbox.fm/categories/10116?country=us',\n",
       " 'https://castbox.fm/categories/10117?country=us',\n",
       " 'https://castbox.fm/categories/10118?country=us',\n",
       " 'https://castbox.fm/categories/10119?country=us',\n",
       " 'https://castbox.fm/categories/10120?country=us',\n",
       " 'https://castbox.fm/categories/10121?country=us',\n",
       " 'https://castbox.fm/categories/10122?country=us',\n",
       " 'https://castbox.fm/categories/10123?country=us',\n",
       " 'https://castbox.fm/categories/10124?country=us',\n",
       " 'https://castbox.fm/categories/10125?country=us',\n",
       " 'https://castbox.fm/categories/10126?country=us',\n",
       " 'https://castbox.fm/categories/10127?country=us',\n",
       " 'https://castbox.fm/categories/10128?country=us',\n",
       " 'https://castbox.fm/categories/10129?country=us',\n",
       " 'https://castbox.fm/categories/10130?country=us']"
      ]
     },
     "execution_count": 22,
     "metadata": {},
     "output_type": "execute_result"
    }
   ],
   "source": [
    "with open('../scraped/category/valid_category_url_list.pickle', 'rb') as file:\n",
    "    categories = pickle.load(file)\n",
    "\n",
    "categories"
   ]
  },
  {
   "cell_type": "code",
   "execution_count": null,
   "metadata": {},
   "outputs": [],
   "source": []
  }
 ],
 "metadata": {
  "kernelspec": {
   "display_name": "Python 3",
   "language": "python",
   "name": "python3"
  },
  "language_info": {
   "codemirror_mode": {
    "name": "ipython",
    "version": 3
   },
   "file_extension": ".py",
   "mimetype": "text/x-python",
   "name": "python",
   "nbconvert_exporter": "python",
   "pygments_lexer": "ipython3",
   "version": "3.7.4"
  },
  "toc": {
   "base_numbering": 1,
   "nav_menu": {},
   "number_sections": false,
   "sideBar": true,
   "skip_h1_title": false,
   "title_cell": "Table of Contents",
   "title_sidebar": "Contents",
   "toc_cell": true,
   "toc_position": {},
   "toc_section_display": true,
   "toc_window_display": true
  },
  "varInspector": {
   "cols": {
    "lenName": 16,
    "lenType": 16,
    "lenVar": 40
   },
   "kernels_config": {
    "python": {
     "delete_cmd_postfix": "",
     "delete_cmd_prefix": "del ",
     "library": "var_list.py",
     "varRefreshCmd": "print(var_dic_list())"
    },
    "r": {
     "delete_cmd_postfix": ") ",
     "delete_cmd_prefix": "rm(",
     "library": "var_list.r",
     "varRefreshCmd": "cat(var_dic_list()) "
    }
   },
   "types_to_exclude": [
    "module",
    "function",
    "builtin_function_or_method",
    "instance",
    "_Feature"
   ],
   "window_display": false
  }
 },
 "nbformat": 4,
 "nbformat_minor": 2
}
